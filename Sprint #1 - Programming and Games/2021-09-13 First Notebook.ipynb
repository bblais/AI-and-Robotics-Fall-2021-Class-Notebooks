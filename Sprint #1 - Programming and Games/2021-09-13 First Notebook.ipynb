{
 "cells": [
  {
   "cell_type": "code",
   "execution_count": 2,
   "id": "353c17cf-25d9-444c-a93b-2b80e68c03d7",
   "metadata": {},
   "outputs": [
    {
     "data": {
      "text/plain": [
       "10"
      ]
     },
     "execution_count": 2,
     "metadata": {},
     "output_type": "execute_result"
    }
   ],
   "source": [
    "5+5"
   ]
  },
  {
   "cell_type": "markdown",
   "id": "08e453f5-7386-4fac-b9eb-920ec4036728",
   "metadata": {},
   "source": [
    "this is markdown, for notes.  https://www.markdownguide.org/basic-syntax\n",
    "\n",
    "# heading\n",
    "\n",
    "## subheading\n",
    "\n",
    "- a\n",
    "- bulleted\n",
    "- list\n",
    "\n",
    "some **bold** and *italic*"
   ]
  },
  {
   "cell_type": "markdown",
   "id": "832997ba-a4f9-4ba0-9bb7-167e908072b8",
   "metadata": {},
   "source": [
    "# Variables"
   ]
  },
  {
   "cell_type": "code",
   "execution_count": 5,
   "id": "097712fe-c335-49e2-af20-2695bbd0dac8",
   "metadata": {},
   "outputs": [],
   "source": [
    "a=5\n",
    "bob=678.5"
   ]
  },
  {
   "cell_type": "code",
   "execution_count": 6,
   "id": "f3b42090-bde0-447b-8262-bd81b6fa8ca9",
   "metadata": {},
   "outputs": [
    {
     "data": {
      "text/plain": [
       "678.5"
      ]
     },
     "execution_count": 6,
     "metadata": {},
     "output_type": "execute_result"
    }
   ],
   "source": [
    "bob"
   ]
  },
  {
   "cell_type": "code",
   "execution_count": 7,
   "id": "9a373bb6-609c-44dd-aeef-b7ff6977bb2e",
   "metadata": {},
   "outputs": [
    {
     "ename": "NameError",
     "evalue": "name 'Bob' is not defined",
     "output_type": "error",
     "traceback": [
      "\u001b[0;31m---------------------------------------------------------------------------\u001b[0m",
      "\u001b[0;31mNameError\u001b[0m                                 Traceback (most recent call last)",
      "\u001b[0;32m<ipython-input-7-a4380269bf9d>\u001b[0m in \u001b[0;36m<module>\u001b[0;34m\u001b[0m\n\u001b[0;32m----> 1\u001b[0;31m \u001b[0mBob\u001b[0m\u001b[0;34m\u001b[0m\u001b[0;34m\u001b[0m\u001b[0m\n\u001b[0m",
      "\u001b[0;31mNameError\u001b[0m: name 'Bob' is not defined"
     ]
    }
   ],
   "source": [
    "Bob"
   ]
  },
  {
   "cell_type": "code",
   "execution_count": 4,
   "id": "70643783-b863-4378-b0ac-c0d67bb65310",
   "metadata": {},
   "outputs": [
    {
     "data": {
      "text/plain": [
       "3392.5"
      ]
     },
     "execution_count": 4,
     "metadata": {},
     "output_type": "execute_result"
    }
   ],
   "source": [
    "a*bob"
   ]
  },
  {
   "cell_type": "code",
   "execution_count": 4,
   "id": "0571772c-b122-473a-88b1-ddc8019144b3",
   "metadata": {},
   "outputs": [],
   "source": [
    "checker_board=5"
   ]
  },
  {
   "cell_type": "code",
   "execution_count": 5,
   "id": "c7c3ac1b-5264-4c8f-8be3-3a8ff225331c",
   "metadata": {},
   "outputs": [
    {
     "data": {
      "text/plain": [
       "5"
      ]
     },
     "execution_count": 5,
     "metadata": {},
     "output_type": "execute_result"
    }
   ],
   "source": [
    "a"
   ]
  },
  {
   "cell_type": "code",
   "execution_count": 6,
   "id": "786b6eb7-fbbc-48a7-be63-1dc54c5acb4e",
   "metadata": {},
   "outputs": [],
   "source": [
    "a=a+2"
   ]
  },
  {
   "cell_type": "code",
   "execution_count": 8,
   "id": "36d8f89d-c1e2-4cb8-9afa-2769efa58333",
   "metadata": {},
   "outputs": [
    {
     "data": {
      "text/plain": [
       "7"
      ]
     },
     "execution_count": 8,
     "metadata": {},
     "output_type": "execute_result"
    }
   ],
   "source": [
    "a"
   ]
  },
  {
   "cell_type": "code",
   "execution_count": 9,
   "id": "363bf61d-38c2-496e-a540-13632a3b1913",
   "metadata": {},
   "outputs": [
    {
     "ename": "NameError",
     "evalue": "name 'sin' is not defined",
     "output_type": "error",
     "traceback": [
      "\u001b[0;31m---------------------------------------------------------------------------\u001b[0m",
      "\u001b[0;31mNameError\u001b[0m                                 Traceback (most recent call last)",
      "\u001b[0;32m<ipython-input-9-d1dd6e003e86>\u001b[0m in \u001b[0;36m<module>\u001b[0;34m\u001b[0m\n\u001b[0;32m----> 1\u001b[0;31m \u001b[0msin\u001b[0m\u001b[0;34m(\u001b[0m\u001b[0;36m30\u001b[0m\u001b[0;34m)\u001b[0m\u001b[0;34m\u001b[0m\u001b[0;34m\u001b[0m\u001b[0m\n\u001b[0m",
      "\u001b[0;31mNameError\u001b[0m: name 'sin' is not defined"
     ]
    }
   ],
   "source": [
    "sin(30)"
   ]
  },
  {
   "cell_type": "code",
   "execution_count": 13,
   "id": "a5b56f45-b195-40d4-b796-643df7415f1a",
   "metadata": {},
   "outputs": [],
   "source": [
    "from math import sin,radians"
   ]
  },
  {
   "cell_type": "code",
   "execution_count": 14,
   "id": "650d1384-407a-4123-9d71-6dafdfd371e5",
   "metadata": {},
   "outputs": [
    {
     "data": {
      "text/plain": [
       "0.8939966636005579"
      ]
     },
     "execution_count": 14,
     "metadata": {},
     "output_type": "execute_result"
    }
   ],
   "source": [
    "sin(90)"
   ]
  },
  {
   "cell_type": "code",
   "execution_count": 15,
   "id": "177e0cf8-3900-4c0a-8138-ab5a316e57d5",
   "metadata": {},
   "outputs": [
    {
     "data": {
      "text/plain": [
       "1.0"
      ]
     },
     "execution_count": 15,
     "metadata": {},
     "output_type": "execute_result"
    }
   ],
   "source": [
    "sin(3.141592653589793235/2)"
   ]
  },
  {
   "cell_type": "code",
   "execution_count": 16,
   "id": "d2d728f0-5629-459d-9c7a-b3f38223610e",
   "metadata": {},
   "outputs": [
    {
     "data": {
      "text/plain": [
       "1.0"
      ]
     },
     "execution_count": 16,
     "metadata": {},
     "output_type": "execute_result"
    }
   ],
   "source": [
    "sin(radians(90))"
   ]
  },
  {
   "cell_type": "code",
   "execution_count": 17,
   "id": "1578ae63-c282-4e25-89d1-3ebce72d8e14",
   "metadata": {},
   "outputs": [],
   "source": [
    "from math import *"
   ]
  },
  {
   "cell_type": "code",
   "execution_count": 18,
   "id": "71fc33cc-ed81-403f-b069-f72fb118736c",
   "metadata": {},
   "outputs": [
    {
     "data": {
      "text/plain": [
       "6.123233995736766e-17"
      ]
     },
     "execution_count": 18,
     "metadata": {},
     "output_type": "execute_result"
    }
   ],
   "source": [
    "cos(radians(90))"
   ]
  },
  {
   "cell_type": "code",
   "execution_count": 19,
   "id": "7efff606-6039-433d-8f40-4cdf3a1eb3ba",
   "metadata": {},
   "outputs": [],
   "source": [
    "def sin(x):\n",
    "    return 5"
   ]
  },
  {
   "cell_type": "code",
   "execution_count": 20,
   "id": "7418a9af-ed4f-46ed-a655-58f159a920c3",
   "metadata": {},
   "outputs": [
    {
     "data": {
      "text/plain": [
       "5"
      ]
     },
     "execution_count": 20,
     "metadata": {},
     "output_type": "execute_result"
    }
   ],
   "source": [
    "sin(radians(90))"
   ]
  },
  {
   "cell_type": "code",
   "execution_count": null,
   "id": "d7fdb475-85de-45cd-a7c2-3d3bf0dc0b29",
   "metadata": {},
   "outputs": [],
   "source": []
  },
  {
   "cell_type": "code",
   "execution_count": null,
   "id": "46c0df1a-786b-47dd-87ac-5b4987b46594",
   "metadata": {},
   "outputs": [],
   "source": []
  },
  {
   "cell_type": "code",
   "execution_count": null,
   "id": "9f65afc0-f71f-40f2-a16e-a37eff8be147",
   "metadata": {},
   "outputs": [],
   "source": []
  },
  {
   "cell_type": "code",
   "execution_count": 21,
   "id": "f9e92c41-4e8d-413c-9618-76814434a11a",
   "metadata": {},
   "outputs": [],
   "source": [
    "x=87\n",
    "y=32\n",
    "\n",
    "\n",
    "\n",
    "a=656"
   ]
  },
  {
   "cell_type": "code",
   "execution_count": 22,
   "id": "db55b722-d177-4664-86b9-df2d466fcf4b",
   "metadata": {},
   "outputs": [],
   "source": [
    "import math"
   ]
  },
  {
   "cell_type": "code",
   "execution_count": 23,
   "id": "dd7f81ea-4904-4501-9ae9-a387b9c2d146",
   "metadata": {},
   "outputs": [
    {
     "data": {
      "text/plain": [
       "'/Users/bblais/opt/anaconda3/envs/py3/lib/python3.8/lib-dynload/math.cpython-38-darwin.so'"
      ]
     },
     "execution_count": 23,
     "metadata": {},
     "output_type": "execute_result"
    }
   ],
   "source": [
    "math.__file__"
   ]
  },
  {
   "cell_type": "code",
   "execution_count": 24,
   "id": "b1075c55-ec0b-4573-b3b7-ec6ce4df467a",
   "metadata": {},
   "outputs": [
    {
     "data": {
      "text/plain": [
       "\u001b[0;31mType:\u001b[0m        module\n",
       "\u001b[0;31mString form:\u001b[0m <module 'math' from '/Users/bblais/opt/anaconda3/envs/py3/lib/python3.8/lib-dynload/math.cpython-38-darwin.so'>\n",
       "\u001b[0;31mFile:\u001b[0m        ~/opt/anaconda3/envs/py3/lib/python3.8/lib-dynload/math.cpython-38-darwin.so\n",
       "\u001b[0;31mDocstring:\u001b[0m  \n",
       "This module provides access to the mathematical functions\n",
       "defined by the C standard.\n"
      ]
     },
     "metadata": {},
     "output_type": "display_data"
    }
   ],
   "source": [
    "math?"
   ]
  },
  {
   "cell_type": "code",
   "execution_count": 25,
   "id": "7b41604e-78b6-4a45-8455-fef8c6093364",
   "metadata": {},
   "outputs": [
    {
     "data": {
      "text/plain": [
       "\u001b[0;31mSignature:\u001b[0m \u001b[0msin\u001b[0m\u001b[0;34m(\u001b[0m\u001b[0mx\u001b[0m\u001b[0;34m,\u001b[0m \u001b[0;34m/\u001b[0m\u001b[0;34m)\u001b[0m\u001b[0;34m\u001b[0m\u001b[0;34m\u001b[0m\u001b[0m\n",
       "\u001b[0;31mDocstring:\u001b[0m Return the sine of x (measured in radians).\n",
       "\u001b[0;31mType:\u001b[0m      builtin_function_or_method\n"
      ]
     },
     "metadata": {},
     "output_type": "display_data"
    }
   ],
   "source": [
    "sin?"
   ]
  },
  {
   "cell_type": "markdown",
   "id": "ee7a13d8-4658-4465-92d0-c554f1b0481e",
   "metadata": {},
   "source": [
    "# Loops"
   ]
  },
  {
   "cell_type": "code",
   "execution_count": 8,
   "id": "2b170b4d-9d9d-4a53-8b95-9c536bd59ff0",
   "metadata": {},
   "outputs": [
    {
     "name": "stdout",
     "output_type": "stream",
     "text": [
      "here\n",
      "0\n",
      "here\n",
      "1\n",
      "here\n",
      "2\n",
      "here\n",
      "3\n",
      "here\n",
      "4\n"
     ]
    }
   ],
   "source": [
    "for bob in range(5):\n",
    "    print(\"here\")\n",
    "    print(bob)"
   ]
  },
  {
   "cell_type": "code",
   "execution_count": 9,
   "id": "2f02534c-fe88-4a8a-88d7-12a56e9b4135",
   "metadata": {},
   "outputs": [
    {
     "name": "stdout",
     "output_type": "stream",
     "text": [
      "this is outside of the loop\n",
      "here in the loop\n",
      "0\n",
      "here in the loop\n",
      "1\n",
      "here in the loop\n",
      "2\n",
      "here in the loop\n",
      "3\n",
      "here in the loop\n",
      "4\n",
      "this is outside of the loop again\n"
     ]
    }
   ],
   "source": [
    "print('this is outside of the loop')\n",
    "for bob in range(5):\n",
    "    print(\"here in the loop\")\n",
    "    print(bob)\n",
    "    \n",
    "print(\"this is outside of the loop again\")"
   ]
  },
  {
   "cell_type": "code",
   "execution_count": 10,
   "id": "0b5fcf27-8ef6-4331-9292-fbe348957e4e",
   "metadata": {},
   "outputs": [
    {
     "name": "stdout",
     "output_type": "stream",
     "text": [
      "another\n",
      "another\n",
      "another\n",
      "this is outside of the loop\n",
      "here in the loop\n",
      "0\n",
      "here in the loop\n",
      "1\n",
      "here in the loop\n",
      "2\n",
      "here in the loop\n",
      "3\n",
      "here in the loop\n",
      "4\n",
      "this is outside of the loop again\n"
     ]
    }
   ],
   "source": [
    "for j in range(3):\n",
    "    print(\"another\")\n",
    "    \n",
    "print('this is outside of the loop')\n",
    "for bob in range(5):\n",
    "    print(\"here in the loop\")\n",
    "    print(bob)\n",
    "    \n",
    "print(\"this is outside of the loop again\")    "
   ]
  },
  {
   "cell_type": "code",
   "execution_count": 11,
   "id": "65aba352-51a4-403a-9ae7-d03f715de85a",
   "metadata": {},
   "outputs": [
    {
     "name": "stdout",
     "output_type": "stream",
     "text": [
      "another\n",
      "this is outside of the loop\n",
      "here in the loop\n",
      "0\n",
      "here in the loop\n",
      "1\n",
      "here in the loop\n",
      "2\n",
      "here in the loop\n",
      "3\n",
      "here in the loop\n",
      "4\n",
      "this is outside of the loop again\n",
      "another\n",
      "this is outside of the loop\n",
      "here in the loop\n",
      "0\n",
      "here in the loop\n",
      "1\n",
      "here in the loop\n",
      "2\n",
      "here in the loop\n",
      "3\n",
      "here in the loop\n",
      "4\n",
      "this is outside of the loop again\n",
      "another\n",
      "this is outside of the loop\n",
      "here in the loop\n",
      "0\n",
      "here in the loop\n",
      "1\n",
      "here in the loop\n",
      "2\n",
      "here in the loop\n",
      "3\n",
      "here in the loop\n",
      "4\n",
      "this is outside of the loop again\n"
     ]
    }
   ],
   "source": [
    "for j in range(3):\n",
    "    print(\"another\")\n",
    "    \n",
    "    print('this is outside of the loop')\n",
    "    for bob in range(5):\n",
    "        print(\"here in the loop\")\n",
    "        print(bob)\n",
    "\n",
    "    print(\"this is outside of the loop again\")    "
   ]
  },
  {
   "cell_type": "code",
   "execution_count": 12,
   "id": "c523bb69-b505-4e4a-98cb-d749840d36a9",
   "metadata": {},
   "outputs": [
    {
     "name": "stdout",
     "output_type": "stream",
     "text": [
      "another\n",
      "this is outside of the loop\n",
      "another\n",
      "this is outside of the loop\n",
      "another\n",
      "this is outside of the loop\n",
      "here in the loop\n",
      "0\n",
      "here in the loop\n",
      "1\n",
      "here in the loop\n",
      "2\n",
      "here in the loop\n",
      "3\n",
      "here in the loop\n",
      "4\n",
      "this is outside of the loop again\n"
     ]
    }
   ],
   "source": [
    "for j in range(3):\n",
    "    print(\"another\")\n",
    "    \n",
    "    print('this is outside of the loop')\n",
    "for bob in range(5):\n",
    "    print(\"here in the loop\")\n",
    "    print(bob)\n",
    "    \n",
    "print(\"this is outside of the loop again\")    "
   ]
  },
  {
   "cell_type": "code",
   "execution_count": null,
   "id": "e1946e23-459d-449f-a1f9-d9e80c462553",
   "metadata": {},
   "outputs": [],
   "source": []
  }
 ],
 "metadata": {
  "kernelspec": {
   "display_name": "Python 3",
   "language": "python",
   "name": "python3"
  },
  "language_info": {
   "codemirror_mode": {
    "name": "ipython",
    "version": 3
   },
   "file_extension": ".py",
   "mimetype": "text/x-python",
   "name": "python",
   "nbconvert_exporter": "python",
   "pygments_lexer": "ipython3",
   "version": "3.8.10"
  }
 },
 "nbformat": 4,
 "nbformat_minor": 5
}
