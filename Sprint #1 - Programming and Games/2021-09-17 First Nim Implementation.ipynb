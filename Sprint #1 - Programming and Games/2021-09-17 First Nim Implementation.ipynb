{
 "cells": [
  {
   "cell_type": "code",
   "execution_count": 1,
   "id": "5af02a94-a286-4f07-a2c3-7c131f19c8d1",
   "metadata": {},
   "outputs": [
    {
     "name": "stdout",
     "output_type": "stream",
     "text": [
      "Version:  0.2.27\n"
     ]
    }
   ],
   "source": [
    "from Game import *"
   ]
  },
  {
   "cell_type": "markdown",
   "id": "69c1507c-a2e5-4bb4-abcd-0ac0b336d3ec",
   "metadata": {},
   "source": [
    "def initial_state(): \n",
    "\"\"\" returns  - The initial state of the game\"\"\"\n",
    "\n",
    "def valid_moves(state,player):\n",
    "\"\"\"returns  - a list of the valid moves for the state and player\"\"\"\n",
    "\n",
    "def show_state(state):\n",
    "\"\"\"prints or shows the current state\"\"\"\n",
    "\n",
    "def update_state(state,player,move):\n",
    "\"\"\"returns  - the new state after the move for the player\"\"\"\n",
    "\n",
    "def win_status(state,player):\n",
    "\"\"\"    returns  - 'win'  if the state is a winning state for the player, \n",
    "           'lose' if the state is a losing state for the player,\n",
    "           'stalemate' for a stalemate\n",
    "           None otherwise\n",
    "\"\"\"\n",
    "\n",
    "\n",
    "- Nim game\n",
    "    1. start with 21 sticks\n",
    "    2. each player can take 1, 2, or 3 sticks (no more or fewer)\n",
    "    3. whomever **takes the last stick loses**"
   ]
  },
  {
   "cell_type": "code",
   "execution_count": 2,
   "id": "e86da641-7a34-48ff-9091-3cc64fd39931",
   "metadata": {},
   "outputs": [],
   "source": [
    "def initial_state():\n",
    "    return 21"
   ]
  },
  {
   "cell_type": "code",
   "execution_count": 3,
   "id": "d7fd8ce3-787e-4490-b7d8-3b0916857e33",
   "metadata": {},
   "outputs": [
    {
     "data": {
      "text/plain": [
       "21"
      ]
     },
     "execution_count": 3,
     "metadata": {},
     "output_type": "execute_result"
    }
   ],
   "source": [
    "initial_state()"
   ]
  },
  {
   "cell_type": "code",
   "execution_count": 4,
   "id": "2340c9c7-6396-483b-aafa-bc91eb47ce30",
   "metadata": {},
   "outputs": [],
   "source": [
    "def show_state(state):\n",
    "    print(state)"
   ]
  },
  {
   "cell_type": "code",
   "execution_count": 5,
   "id": "a39b9c72-6ec4-477b-b8bb-e264fc97b085",
   "metadata": {},
   "outputs": [
    {
     "name": "stdout",
     "output_type": "stream",
     "text": [
      "21\n"
     ]
    }
   ],
   "source": [
    "state=initial_state()\n",
    "show_state(state)"
   ]
  },
  {
   "cell_type": "code",
   "execution_count": 6,
   "id": "2002fa89-9589-4678-85e5-7f9d43906006",
   "metadata": {},
   "outputs": [],
   "source": [
    "def valid_moves(state,player):\n",
    "    if state==2:\n",
    "        return [1,2]\n",
    "    elif state==1:\n",
    "        return [1]\n",
    "    else:\n",
    "        return [1,2,3]"
   ]
  },
  {
   "cell_type": "code",
   "execution_count": 7,
   "id": "1cff5b90-0fc0-41c0-bc9b-7861f9247780",
   "metadata": {},
   "outputs": [
    {
     "data": {
      "text/plain": [
       "[1, 2, 3]"
      ]
     },
     "execution_count": 7,
     "metadata": {},
     "output_type": "execute_result"
    }
   ],
   "source": [
    "valid_moves(21,1)"
   ]
  },
  {
   "cell_type": "code",
   "execution_count": 8,
   "id": "34086fdf-25cb-4fe0-8b72-013ea08881f1",
   "metadata": {},
   "outputs": [
    {
     "data": {
      "text/plain": [
       "[1, 2]"
      ]
     },
     "execution_count": 8,
     "metadata": {},
     "output_type": "execute_result"
    }
   ],
   "source": [
    "valid_moves(2,1)"
   ]
  },
  {
   "cell_type": "code",
   "execution_count": 10,
   "id": "f474e270-4877-4875-bb90-0269cff32c08",
   "metadata": {},
   "outputs": [],
   "source": [
    "def update_state(state,player,move):\n",
    "    new_state=state-move\n",
    "    return new_state"
   ]
  },
  {
   "cell_type": "code",
   "execution_count": 14,
   "id": "3205b4d1-9986-4220-af9e-b0d41864e202",
   "metadata": {},
   "outputs": [],
   "source": [
    "def win_status(state,player):\n",
    "    # the state is *after* the move for the player\n",
    "    if state==1:\n",
    "        return \"win\"\n",
    "    \n",
    "    if state==0:\n",
    "        return \"lose\"\n",
    "    \n",
    "    return None # mid-game"
   ]
  },
  {
   "cell_type": "code",
   "execution_count": null,
   "id": "4da8eb97-0a78-460b-913e-cbade39933b9",
   "metadata": {},
   "outputs": [],
   "source": []
  },
  {
   "cell_type": "code",
   "execution_count": 15,
   "id": "0a69880a-dea6-41a8-9b30-63916993b47c",
   "metadata": {},
   "outputs": [],
   "source": [
    "def human_move(state,player):\n",
    "    \n",
    "\n",
    "    \n",
    "    move=int(input(\"how many sticks to take (1,2, or 3?\"))\n",
    "    \n",
    "\n",
    "    return move\n",
    "    "
   ]
  },
  {
   "cell_type": "code",
   "execution_count": 16,
   "id": "fdd1268f-142d-4864-b1a3-067cce32cbc5",
   "metadata": {},
   "outputs": [],
   "source": [
    "human_agent=Agent(human_move)"
   ]
  },
  {
   "cell_type": "code",
   "execution_count": 18,
   "id": "b3114cdd-6a69-47d0-9df5-c3752ed84b27",
   "metadata": {},
   "outputs": [],
   "source": [
    "def random_move(state,player):\n",
    "    \n",
    "    move=random.choice(valid_moves(state,player))\n",
    "    return move\n",
    "\n",
    "\n",
    "random_agent=Agent(random_move)"
   ]
  },
  {
   "cell_type": "code",
   "execution_count": 17,
   "id": "8db3a66a-39f1-4af9-a8a7-bd212c31f549",
   "metadata": {},
   "outputs": [
    {
     "name": "stdout",
     "output_type": "stream",
     "text": [
      "====\n",
      "Game  1\n",
      "21\n"
     ]
    },
    {
     "name": "stdin",
     "output_type": "stream",
     "text": [
      "how many sticks to take (1,2, or 3? 2\n"
     ]
    },
    {
     "name": "stdout",
     "output_type": "stream",
     "text": [
      "Player 1 moves 2\n",
      "19\n"
     ]
    },
    {
     "name": "stdin",
     "output_type": "stream",
     "text": [
      "how many sticks to take (1,2, or 3? 1\n"
     ]
    },
    {
     "name": "stdout",
     "output_type": "stream",
     "text": [
      "Player 2 moves 1\n",
      "18\n"
     ]
    },
    {
     "name": "stdin",
     "output_type": "stream",
     "text": [
      "how many sticks to take (1,2, or 3? 3\n"
     ]
    },
    {
     "name": "stdout",
     "output_type": "stream",
     "text": [
      "Player 1 moves 3\n",
      "15\n"
     ]
    },
    {
     "name": "stdin",
     "output_type": "stream",
     "text": [
      "how many sticks to take (1,2, or 3? 2\n"
     ]
    },
    {
     "name": "stdout",
     "output_type": "stream",
     "text": [
      "Player 2 moves 2\n",
      "13\n"
     ]
    },
    {
     "name": "stdin",
     "output_type": "stream",
     "text": [
      "how many sticks to take (1,2, or 3? 2\n"
     ]
    },
    {
     "name": "stdout",
     "output_type": "stream",
     "text": [
      "Player 1 moves 2\n",
      "11\n"
     ]
    },
    {
     "name": "stdin",
     "output_type": "stream",
     "text": [
      "how many sticks to take (1,2, or 3? 3\n"
     ]
    },
    {
     "name": "stdout",
     "output_type": "stream",
     "text": [
      "Player 2 moves 3\n",
      "8\n"
     ]
    },
    {
     "name": "stdin",
     "output_type": "stream",
     "text": [
      "how many sticks to take (1,2, or 3? 2\n"
     ]
    },
    {
     "name": "stdout",
     "output_type": "stream",
     "text": [
      "Player 1 moves 2\n",
      "6\n"
     ]
    },
    {
     "name": "stdin",
     "output_type": "stream",
     "text": [
      "how many sticks to take (1,2, or 3? 3\n"
     ]
    },
    {
     "name": "stdout",
     "output_type": "stream",
     "text": [
      "Player 2 moves 3\n",
      "3\n"
     ]
    },
    {
     "name": "stdin",
     "output_type": "stream",
     "text": [
      "how many sticks to take (1,2, or 3? 2\n"
     ]
    },
    {
     "name": "stdout",
     "output_type": "stream",
     "text": [
      "Player 1 moves 2\n",
      "3\n",
      "Player  1 won.\n"
     ]
    },
    {
     "data": {
      "text/plain": [
       "[1]"
      ]
     },
     "execution_count": 17,
     "metadata": {},
     "output_type": "execute_result"
    }
   ],
   "source": [
    "g=Game()\n",
    "g.run(human_agent,human_agent)"
   ]
  },
  {
   "cell_type": "code",
   "execution_count": 19,
   "id": "7ef5d222-8732-40c2-bb35-d532eaead844",
   "metadata": {},
   "outputs": [
    {
     "name": "stdout",
     "output_type": "stream",
     "text": [
      "====\n",
      "Game  1\n",
      "21\n",
      "Player 1 moves 1\n",
      "20\n",
      "Player 2 moves 1\n",
      "19\n",
      "Player 1 moves 1\n",
      "18\n",
      "Player 2 moves 1\n",
      "17\n",
      "Player 1 moves 2\n",
      "15\n",
      "Player 2 moves 2\n",
      "13\n",
      "Player 1 moves 1\n",
      "12\n",
      "Player 2 moves 3\n",
      "9\n",
      "Player 1 moves 2\n",
      "7\n",
      "Player 2 moves 3\n",
      "4\n",
      "Player 1 moves 2\n",
      "2\n",
      "Player 2 moves 1\n",
      "2\n",
      "Player  2 won.\n"
     ]
    },
    {
     "data": {
      "text/plain": [
       "[2]"
      ]
     },
     "execution_count": 19,
     "metadata": {},
     "output_type": "execute_result"
    }
   ],
   "source": [
    "g=Game()\n",
    "g.run(random_agent,random_agent)"
   ]
  },
  {
   "cell_type": "code",
   "execution_count": null,
   "id": "8b6f54f3-5e20-4273-a0b6-30871fb7ef02",
   "metadata": {},
   "outputs": [],
   "source": []
  }
 ],
 "metadata": {
  "kernelspec": {
   "display_name": "Python 3",
   "language": "python",
   "name": "python3"
  },
  "language_info": {
   "codemirror_mode": {
    "name": "ipython",
    "version": 3
   },
   "file_extension": ".py",
   "mimetype": "text/x-python",
   "name": "python",
   "nbconvert_exporter": "python",
   "pygments_lexer": "ipython3",
   "version": "3.8.10"
  }
 },
 "nbformat": 4,
 "nbformat_minor": 5
}
