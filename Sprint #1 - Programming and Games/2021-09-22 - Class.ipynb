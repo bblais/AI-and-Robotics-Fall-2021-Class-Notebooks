{
 "cells": [
  {
   "cell_type": "code",
   "execution_count": 1,
   "id": "4a1e9658-bd7a-4d53-b57a-94d949556a6a",
   "metadata": {},
   "outputs": [
    {
     "name": "stdout",
     "output_type": "stream",
     "text": [
      "Version:  0.2.27\n"
     ]
    }
   ],
   "source": [
    "from Game import *"
   ]
  },
  {
   "cell_type": "code",
   "execution_count": 2,
   "id": "eb7e80e2-da1a-40dc-a5ce-32fb3fde4c8f",
   "metadata": {},
   "outputs": [],
   "source": [
    "state=Board(4,4)"
   ]
  },
  {
   "cell_type": "code",
   "execution_count": 4,
   "id": "db993ea9-d44f-49a3-af98-c04ba21076f1",
   "metadata": {},
   "outputs": [
    {
     "name": "stdout",
     "output_type": "stream",
     "text": [
      " 0  1  2  3 \n",
      " 4  5  6  7 \n",
      " 8  9 10 11 \n",
      "12 13 14 15 \n",
      "\n"
     ]
    }
   ],
   "source": [
    "state.show_locations()"
   ]
  },
  {
   "cell_type": "code",
   "execution_count": null,
   "id": "77a01f59-d3fc-460d-a4e9-b1a1a04511c7",
   "metadata": {},
   "outputs": [],
   "source": [
    "def valid_moves(state,player):\n",
    "    # possible moves are [0,1,2,3]\n",
    "    \n",
    "    # only if state[move]==0\n",
    "    \n",
    "    moves=[]\n",
    "    \n",
    "    if state[0]==0:\n",
    "        moves.append(0)\n",
    "        \n",
    "    return moves"
   ]
  }
 ],
 "metadata": {
  "kernelspec": {
   "display_name": "Python 3",
   "language": "python",
   "name": "python3"
  },
  "language_info": {
   "codemirror_mode": {
    "name": "ipython",
    "version": 3
   },
   "file_extension": ".py",
   "mimetype": "text/x-python",
   "name": "python",
   "nbconvert_exporter": "python",
   "pygments_lexer": "ipython3",
   "version": "3.8.10"
  }
 },
 "nbformat": 4,
 "nbformat_minor": 5
}
