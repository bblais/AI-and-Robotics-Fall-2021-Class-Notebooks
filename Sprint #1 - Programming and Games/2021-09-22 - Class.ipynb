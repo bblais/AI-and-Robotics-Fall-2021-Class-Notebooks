{
 "cells": [
  {
   "cell_type": "code",
   "execution_count": 1,
   "id": "4a1e9658-bd7a-4d53-b57a-94d949556a6a",
   "metadata": {},
   "outputs": [
    {
     "name": "stdout",
     "output_type": "stream",
     "text": [
      "Version:  0.2.27\n"
     ]
    }
   ],
   "source": [
    "from Game import *"
   ]
  },
  {
   "cell_type": "code",
   "execution_count": 2,
   "id": "eb7e80e2-da1a-40dc-a5ce-32fb3fde4c8f",
   "metadata": {},
   "outputs": [],
   "source": [
    "state=Board(4,4)"
   ]
  },
  {
   "cell_type": "code",
   "execution_count": 3,
   "id": "db993ea9-d44f-49a3-af98-c04ba21076f1",
   "metadata": {},
   "outputs": [
    {
     "name": "stdout",
     "output_type": "stream",
     "text": [
      " 0  1  2  3 \n",
      " 4  5  6  7 \n",
      " 8  9 10 11 \n",
      "12 13 14 15 \n",
      "\n"
     ]
    }
   ],
   "source": [
    "state.show_locations()"
   ]
  },
  {
   "cell_type": "code",
   "execution_count": 4,
   "id": "77a01f59-d3fc-460d-a4e9-b1a1a04511c7",
   "metadata": {},
   "outputs": [],
   "source": [
    "def valid_moves(state,player):\n",
    "    # possible moves are [0,1,2,3]\n",
    "    \n",
    "    # only if state[move]==0\n",
    "    \n",
    "    moves=[]\n",
    "    \n",
    "    if state[0]==0:\n",
    "        moves.append(0)\n",
    "        \n",
    "    return moves"
   ]
  },
  {
   "cell_type": "code",
   "execution_count": 7,
   "id": "bd2a21ab-1573-4ac7-baa3-47b0687924f4",
   "metadata": {},
   "outputs": [],
   "source": [
    "diagonals=[]\n",
    "for r in range(3):\n",
    "    for c in range(4):\n",
    "        start=state.index_from_rc(r,c)\n",
    "        end=state.index_from_rc(r+1,c)\n",
    "        diagonals.append([start,end])"
   ]
  },
  {
   "cell_type": "code",
   "execution_count": 8,
   "id": "4d0c5164-c15c-4573-a033-99bf3d6db587",
   "metadata": {},
   "outputs": [
    {
     "data": {
      "text/plain": [
       "[[0, 4],\n",
       " [1, 5],\n",
       " [2, 6],\n",
       " [3, 7],\n",
       " [4, 8],\n",
       " [5, 9],\n",
       " [6, 10],\n",
       " [7, 11],\n",
       " [8, 12],\n",
       " [9, 13],\n",
       " [10, 14],\n",
       " [11, 15]]"
      ]
     },
     "execution_count": 8,
     "metadata": {},
     "output_type": "execute_result"
    }
   ],
   "source": [
    "diagonals"
   ]
  },
  {
   "cell_type": "code",
   "execution_count": 10,
   "id": "838bddff-cba0-4772-ba2a-2af427ae7176",
   "metadata": {},
   "outputs": [],
   "source": [
    "diagonals=[]\n",
    "for r in range(4):\n",
    "    for c in range(4):\n",
    "        try:\n",
    "            start=state.index_from_rc(r,c)\n",
    "            end=state.index_from_rc(r+1,c)\n",
    "        except IndexError:\n",
    "            continue\n",
    "            \n",
    "        diagonals.append([start,end])"
   ]
  },
  {
   "cell_type": "code",
   "execution_count": null,
   "id": "e2bf281d-a4d6-4048-8147-4a60a0950d59",
   "metadata": {},
   "outputs": [],
   "source": []
  }
 ],
 "metadata": {
  "kernelspec": {
   "display_name": "Python 3",
   "language": "python",
   "name": "python3"
  },
  "language_info": {
   "codemirror_mode": {
    "name": "ipython",
    "version": 3
   },
   "file_extension": ".py",
   "mimetype": "text/x-python",
   "name": "python",
   "nbconvert_exporter": "python",
   "pygments_lexer": "ipython3",
   "version": "3.8.10"
  }
 },
 "nbformat": 4,
 "nbformat_minor": 5
}
