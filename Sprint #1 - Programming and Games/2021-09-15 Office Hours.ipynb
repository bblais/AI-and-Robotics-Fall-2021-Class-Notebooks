{
 "cells": [
  {
   "cell_type": "code",
   "execution_count": 1,
   "id": "9369273b-b54e-4458-b448-f1629ba36d07",
   "metadata": {},
   "outputs": [],
   "source": [
    "def bob():\n",
    "    print(\"Bob\")\n",
    "    \n",
    "def sally():\n",
    "    print(\"Sally\")\n"
   ]
  },
  {
   "cell_type": "code",
   "execution_count": 2,
   "id": "c5f826fb-de62-4f90-add4-dfc7319b4597",
   "metadata": {},
   "outputs": [],
   "source": [
    "def do_something(name):\n",
    "    if name=='bob':\n",
    "        bob()\n",
    "    elif name==\"sally\":\n",
    "        sally()\n",
    "    else:\n",
    "        print(\"Bad.\")"
   ]
  },
  {
   "cell_type": "code",
   "execution_count": 3,
   "id": "f87e9a90-38df-4abf-a188-1ae26e9836b1",
   "metadata": {},
   "outputs": [
    {
     "name": "stdout",
     "output_type": "stream",
     "text": [
      "Bob\n"
     ]
    }
   ],
   "source": [
    "do_something(\"bob\")"
   ]
  },
  {
   "cell_type": "code",
   "execution_count": null,
   "id": "685a99e9-e353-40eb-a98b-769cbbb8b5f1",
   "metadata": {},
   "outputs": [],
   "source": []
  }
 ],
 "metadata": {
  "kernelspec": {
   "display_name": "Python 3",
   "language": "python",
   "name": "python3"
  },
  "language_info": {
   "codemirror_mode": {
    "name": "ipython",
    "version": 3
   },
   "file_extension": ".py",
   "mimetype": "text/x-python",
   "name": "python",
   "nbconvert_exporter": "python",
   "pygments_lexer": "ipython3",
   "version": "3.8.10"
  }
 },
 "nbformat": 4,
 "nbformat_minor": 5
}
