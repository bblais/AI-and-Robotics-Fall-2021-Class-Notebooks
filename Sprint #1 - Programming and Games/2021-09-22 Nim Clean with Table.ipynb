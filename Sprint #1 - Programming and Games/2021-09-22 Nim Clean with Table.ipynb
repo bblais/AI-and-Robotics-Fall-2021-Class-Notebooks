{
 "cells": [
  {
   "cell_type": "code",
   "execution_count": 1,
   "id": "ad4b0ce2-746e-47f3-88bd-bb5c3d33ddcd",
   "metadata": {},
   "outputs": [
    {
     "name": "stdout",
     "output_type": "stream",
     "text": [
      "Version:  0.2.27\n"
     ]
    }
   ],
   "source": [
    "from Game import *"
   ]
  },
  {
   "cell_type": "markdown",
   "id": "d23bcbd9-2ffa-42ac-8584-47e3d2d29d0a",
   "metadata": {},
   "source": [
    "## Game functions"
   ]
  },
  {
   "cell_type": "code",
   "execution_count": 30,
   "id": "15420972-b911-4f92-9727-3791e0021b28",
   "metadata": {},
   "outputs": [],
   "source": [
    "def initial_state(N=21):\n",
    "    return N\n",
    "\n",
    "def show_state(state):\n",
    "    print(\"There are \",state,\"sticks\")\n",
    "    \n",
    "def valid_moves(state,player):\n",
    "    if state==2:\n",
    "        return [1,2]\n",
    "    elif state==1:\n",
    "        return [1]\n",
    "    else:\n",
    "        return [1,2,3]\n",
    "    \n",
    "def update_state(state,player,move):\n",
    "    new_state=state-move\n",
    "    return new_state\n",
    "\n",
    "def win_status(state,player):\n",
    "    # the state is *after* the move for the player\n",
    "    if state==1:\n",
    "        return \"win\"\n",
    "    \n",
    "    if state==0:\n",
    "        return \"lose\"\n",
    "    \n",
    "    return None # mid-game"
   ]
  },
  {
   "cell_type": "markdown",
   "id": "2b73f5f6-e774-4bde-94f3-db57480a8de9",
   "metadata": {},
   "source": [
    "## Agent Functions"
   ]
  },
  {
   "cell_type": "code",
   "execution_count": 31,
   "id": "9fc2bb6e-04ec-49b8-b665-cc6c7a0d8cf8",
   "metadata": {},
   "outputs": [],
   "source": [
    "def human_move(state,player):\n",
    "    move=int(input(\"how many sticks to take (1,2, or 3?\"))\n",
    "    return move\n",
    "human_agent=Agent(human_move)    "
   ]
  },
  {
   "cell_type": "code",
   "execution_count": 32,
   "id": "84dda3ca-ea87-440f-a9fa-bbb5ead27e06",
   "metadata": {},
   "outputs": [],
   "source": [
    "def random_move(state,player):\n",
    "    \n",
    "    move=random.choice(valid_moves(state,player))\n",
    "    return move\n",
    "\n",
    "\n",
    "random_agent=Agent(random_move)"
   ]
  },
  {
   "cell_type": "code",
   "execution_count": 33,
   "id": "380a496d-27b6-4115-b5ad-6d23e097d99d",
   "metadata": {},
   "outputs": [],
   "source": [
    "def make_nim_table():\n",
    "    T=Table()\n",
    "    \n",
    "    for state in range(1,25):\n",
    "        T[state]=Table()\n",
    "    \n",
    "        actions=valid_moves(state,1)\n",
    "        \n",
    "        for action in actions:\n",
    "            T[state][action]=-1 # lose most of the time\n",
    "            \n",
    "    T[2][1]=1   # 2 sticks, taking one, leads to a win  \n",
    "    T[4][3]=1   # 4 sticks, taking 3, leads to a win  \n",
    "    #etc.....\n",
    "    \n",
    "    \n",
    "    return T"
   ]
  },
  {
   "cell_type": "code",
   "execution_count": 34,
   "id": "723c0c7a-1c8a-4a5d-adb5-5223cd41cd3f",
   "metadata": {},
   "outputs": [
    {
     "data": {
      "text/plain": [
       "{1: {1: -1},\n",
       " 2: {1: 1, 2: -1},\n",
       " 3: {1: -1, 2: -1, 3: -1},\n",
       " 4: {1: -1, 2: -1, 3: 1},\n",
       " 5: {1: -1, 2: -1, 3: -1},\n",
       " 6: {1: -1, 2: -1, 3: -1},\n",
       " 7: {1: -1, 2: -1, 3: -1},\n",
       " 8: {1: -1, 2: -1, 3: -1},\n",
       " 9: {1: -1, 2: -1, 3: -1},\n",
       " 10: {1: -1, 2: -1, 3: -1},\n",
       " 11: {1: -1, 2: -1, 3: -1},\n",
       " 12: {1: -1, 2: -1, 3: -1},\n",
       " 13: {1: -1, 2: -1, 3: -1},\n",
       " 14: {1: -1, 2: -1, 3: -1},\n",
       " 15: {1: -1, 2: -1, 3: -1},\n",
       " 16: {1: -1, 2: -1, 3: -1},\n",
       " 17: {1: -1, 2: -1, 3: -1},\n",
       " 18: {1: -1, 2: -1, 3: -1},\n",
       " 19: {1: -1, 2: -1, 3: -1},\n",
       " 20: {1: -1, 2: -1, 3: -1},\n",
       " 21: {1: -1, 2: -1, 3: -1},\n",
       " 22: {1: -1, 2: -1, 3: -1},\n",
       " 23: {1: -1, 2: -1, 3: -1},\n",
       " 24: {1: -1, 2: -1, 3: -1}}"
      ]
     },
     "execution_count": 34,
     "metadata": {},
     "output_type": "execute_result"
    }
   ],
   "source": [
    "make_nim_table()"
   ]
  },
  {
   "cell_type": "code",
   "execution_count": 35,
   "id": "a4f255f7-ab5d-4ea7-ab9b-ef2cb5f22f8c",
   "metadata": {},
   "outputs": [],
   "source": [
    "def table_move(state,player):\n",
    "    T=make_nim_table()\n",
    "    move=top_choice(T[state])\n",
    "    return move\n",
    "\n",
    "table_agent=Agent(table_move)"
   ]
  },
  {
   "cell_type": "markdown",
   "id": "f887d351-f175-4af5-9b22-5687792cb8d6",
   "metadata": {},
   "source": [
    "## Running the Game"
   ]
  },
  {
   "cell_type": "code",
   "execution_count": 36,
   "id": "b2316296-c292-4118-849f-9b9817f9cd8e",
   "metadata": {},
   "outputs": [
    {
     "name": "stdout",
     "output_type": "stream",
     "text": [
      "====\n",
      "Game  1\n",
      "There are  21 sticks\n",
      "Player 1 moves 1\n",
      "There are  20 sticks\n",
      "Player 2 moves 2\n",
      "There are  18 sticks\n",
      "Player 1 moves 1\n",
      "There are  17 sticks\n",
      "Player 2 moves 3\n",
      "There are  14 sticks\n",
      "Player 1 moves 2\n",
      "There are  12 sticks\n",
      "Player 2 moves 3\n",
      "There are  9 sticks\n",
      "Player 1 moves 3\n",
      "There are  6 sticks\n",
      "Player 2 moves 1\n",
      "There are  5 sticks\n",
      "Player 1 moves 1\n",
      "There are  4 sticks\n",
      "Player 2 moves 3\n",
      "There are  4 sticks\n",
      "Player  2 won.\n"
     ]
    },
    {
     "data": {
      "text/plain": [
       "[2]"
      ]
     },
     "execution_count": 36,
     "metadata": {},
     "output_type": "execute_result"
    }
   ],
   "source": [
    "g=Game(N=21)\n",
    "g.run(random_agent,table_agent)"
   ]
  },
  {
   "cell_type": "code",
   "execution_count": null,
   "id": "fb669d6f-7045-4bf4-a213-5dc8918f42a3",
   "metadata": {},
   "outputs": [],
   "source": []
  }
 ],
 "metadata": {
  "kernelspec": {
   "display_name": "Python 3",
   "language": "python",
   "name": "python3"
  },
  "language_info": {
   "codemirror_mode": {
    "name": "ipython",
    "version": 3
   },
   "file_extension": ".py",
   "mimetype": "text/x-python",
   "name": "python",
   "nbconvert_exporter": "python",
   "pygments_lexer": "ipython3",
   "version": "3.8.10"
  }
 },
 "nbformat": 4,
 "nbformat_minor": 5
}
