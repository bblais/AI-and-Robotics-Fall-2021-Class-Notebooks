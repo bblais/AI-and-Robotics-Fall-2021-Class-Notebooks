{
 "cells": [
  {
   "cell_type": "code",
   "execution_count": 1,
   "id": "446f3479-088d-4154-acb7-ea6e511dfe17",
   "metadata": {},
   "outputs": [
    {
     "name": "stdout",
     "output_type": "stream",
     "text": [
      "Version:  0.2.27\n"
     ]
    }
   ],
   "source": [
    "from Game import *"
   ]
  },
  {
   "cell_type": "code",
   "execution_count": 41,
   "id": "906d265f-cff8-4147-9731-0415ef5a18a7",
   "metadata": {},
   "outputs": [],
   "source": [
    "def initial_state():\n",
    "    state=Board(3,3)\n",
    "    return state"
   ]
  },
  {
   "cell_type": "code",
   "execution_count": 42,
   "id": "64ea958f-ea29-4443-945d-501806f41abc",
   "metadata": {},
   "outputs": [
    {
     "data": {
      "text/plain": [
       " .  .  . \n",
       " .  .  . \n",
       " .  .  . "
      ]
     },
     "execution_count": 42,
     "metadata": {},
     "output_type": "execute_result"
    }
   ],
   "source": [
    "initial_state()"
   ]
  },
  {
   "cell_type": "markdown",
   "id": "7c28b4a3-3cea-4482-8fed-a1938b556a0b",
   "metadata": {},
   "source": [
    "## diversion about Boards"
   ]
  },
  {
   "cell_type": "code",
   "execution_count": 4,
   "id": "d3c59be5-9f80-4e6d-8979-4f2f64c85298",
   "metadata": {},
   "outputs": [],
   "source": [
    "state=Board(5,3)"
   ]
  },
  {
   "cell_type": "code",
   "execution_count": 5,
   "id": "8618ecb6-3dbd-43b4-8a1f-07b46ec421ab",
   "metadata": {},
   "outputs": [
    {
     "data": {
      "text/plain": [
       " 0  0  0 \n",
       " 0  0  0 \n",
       " 0  0  0 \n",
       " 0  0  0 \n",
       " 0  0  0 "
      ]
     },
     "execution_count": 5,
     "metadata": {},
     "output_type": "execute_result"
    }
   ],
   "source": [
    "state"
   ]
  },
  {
   "cell_type": "code",
   "execution_count": 6,
   "id": "7f481637-7c91-422a-b220-545643599c78",
   "metadata": {},
   "outputs": [],
   "source": [
    "state[1]=5"
   ]
  },
  {
   "cell_type": "code",
   "execution_count": 7,
   "id": "56510f01-47c0-4d90-a9b7-fb89d35494ff",
   "metadata": {},
   "outputs": [
    {
     "data": {
      "text/plain": [
       " 0  5  0 \n",
       " 0  0  0 \n",
       " 0  0  0 \n",
       " 0  0  0 \n",
       " 0  0  0 "
      ]
     },
     "execution_count": 7,
     "metadata": {},
     "output_type": "execute_result"
    }
   ],
   "source": [
    "state"
   ]
  },
  {
   "cell_type": "code",
   "execution_count": 8,
   "id": "765a7a2d-2fb8-4813-b38d-caacb2abfc19",
   "metadata": {},
   "outputs": [
    {
     "name": "stdout",
     "output_type": "stream",
     "text": [
      " 0  1  2 \n",
      " 3  4  5 \n",
      " 6  7  8 \n",
      " 9 10 11 \n",
      "12 13 14 \n",
      "\n"
     ]
    }
   ],
   "source": [
    "state.show_locations()"
   ]
  },
  {
   "cell_type": "code",
   "execution_count": 9,
   "id": "c01454a1-3fc9-4f93-b66c-f42a703f133b",
   "metadata": {},
   "outputs": [],
   "source": [
    "state[1,2]=11"
   ]
  },
  {
   "cell_type": "code",
   "execution_count": 10,
   "id": "51176eec-f9f8-453d-a807-e04879f360e2",
   "metadata": {},
   "outputs": [
    {
     "data": {
      "text/plain": [
       " 0  5  0 \n",
       " 0  0 11 \n",
       " 0  0  0 \n",
       " 0  0  0 \n",
       " 0  0  0 "
      ]
     },
     "execution_count": 10,
     "metadata": {},
     "output_type": "execute_result"
    }
   ],
   "source": [
    "state"
   ]
  },
  {
   "cell_type": "code",
   "execution_count": 11,
   "id": "99cd407f-d56e-4397-a05b-313191776563",
   "metadata": {},
   "outputs": [
    {
     "data": {
      "text/plain": [
       "5"
      ]
     },
     "execution_count": 11,
     "metadata": {},
     "output_type": "execute_result"
    }
   ],
   "source": [
    "state[0,1]"
   ]
  },
  {
   "cell_type": "markdown",
   "id": "6daee03e-b489-4b3b-a678-e7064e9883ff",
   "metadata": {},
   "source": [
    "## back to TTT"
   ]
  },
  {
   "cell_type": "code",
   "execution_count": 43,
   "id": "e836be29-1e6c-43ce-b22a-59b61015f128",
   "metadata": {},
   "outputs": [],
   "source": [
    "def show_state(state):\n",
    "    print(state)"
   ]
  },
  {
   "cell_type": "code",
   "execution_count": 44,
   "id": "a5970d44-60ce-4e5a-b281-9c7b707fac5e",
   "metadata": {},
   "outputs": [
    {
     "name": "stdout",
     "output_type": "stream",
     "text": [
      " .  .  . \n",
      " .  .  . \n",
      " .  .  . \n",
      "\n"
     ]
    }
   ],
   "source": [
    "state=initial_state()\n",
    "show_state(state)"
   ]
  },
  {
   "cell_type": "code",
   "execution_count": 14,
   "id": "5169d8c4-9aee-4273-948f-bd0896c52ef0",
   "metadata": {},
   "outputs": [],
   "source": [
    "def valid_moves(state,player):\n",
    "    # run through all the spots\n",
    "    # if it is empty, then append that\n",
    "    # location to the possible moves\n",
    "    \n",
    "    moves=[]\n",
    "    for location in range(9):\n",
    "        if state[location]==0:\n",
    "            moves.append(location)\n",
    "            \n",
    "    return moves"
   ]
  },
  {
   "cell_type": "code",
   "execution_count": 15,
   "id": "61445a71-272b-4cf6-8c4e-3bffcf574584",
   "metadata": {},
   "outputs": [
    {
     "data": {
      "text/plain": [
       "[0, 1, 2, 3, 4, 5, 6, 7, 8]"
      ]
     },
     "execution_count": 15,
     "metadata": {},
     "output_type": "execute_result"
    }
   ],
   "source": [
    "state=Board(3,3)\n",
    "valid_moves(state,1)"
   ]
  },
  {
   "cell_type": "code",
   "execution_count": 45,
   "id": "42fd04a6-3df4-40f1-a266-dbbc3a6ce523",
   "metadata": {},
   "outputs": [
    {
     "data": {
      "text/plain": [
       " .  .  X \n",
       " .  .  O \n",
       " .  .  . "
      ]
     },
     "execution_count": 45,
     "metadata": {},
     "output_type": "execute_result"
    }
   ],
   "source": [
    "state[2]=1\n",
    "state[5]=2\n",
    "state"
   ]
  },
  {
   "cell_type": "code",
   "execution_count": 17,
   "id": "b6667233-69cc-43db-9b5f-244a1399dd61",
   "metadata": {},
   "outputs": [
    {
     "data": {
      "text/plain": [
       "[0, 1, 3, 4, 6, 7, 8]"
      ]
     },
     "execution_count": 17,
     "metadata": {},
     "output_type": "execute_result"
    }
   ],
   "source": [
    "valid_moves(state,1)"
   ]
  },
  {
   "cell_type": "code",
   "execution_count": 18,
   "id": "1a2e0bc4-0e9f-4304-a054-ce89e940a745",
   "metadata": {},
   "outputs": [],
   "source": [
    "def update_state(state,player,move):\n",
    "    new_state=state\n",
    "    \n",
    "    new_state[move]=player\n",
    "    return new_state    \n",
    "    "
   ]
  },
  {
   "cell_type": "code",
   "execution_count": 19,
   "id": "d6358bcd-5450-4e69-a99f-3d0d4ce83313",
   "metadata": {},
   "outputs": [
    {
     "data": {
      "text/plain": [
       " 0  0  0 \n",
       " 0  0  0 \n",
       " 0  0  0 "
      ]
     },
     "execution_count": 19,
     "metadata": {},
     "output_type": "execute_result"
    }
   ],
   "source": [
    "state=initial_state()\n",
    "state"
   ]
  },
  {
   "cell_type": "code",
   "execution_count": 20,
   "id": "95736f02-6df1-4e2d-8c95-d46eb7a1ee80",
   "metadata": {},
   "outputs": [
    {
     "data": {
      "text/plain": [
       " 0  0  0 \n",
       " 0  0  1 \n",
       " 0  0  0 "
      ]
     },
     "execution_count": 20,
     "metadata": {},
     "output_type": "execute_result"
    }
   ],
   "source": [
    "update_state(state,1,5)"
   ]
  },
  {
   "cell_type": "code",
   "execution_count": 21,
   "id": "40ff6d29-ac88-4f8e-af96-d1d40f98ba52",
   "metadata": {},
   "outputs": [
    {
     "name": "stdout",
     "output_type": "stream",
     "text": [
      " 0  1  2 \n",
      " 3  4  5 \n",
      " 6  7  8 \n",
      "\n"
     ]
    }
   ],
   "source": [
    "state.show_locations()"
   ]
  },
  {
   "cell_type": "code",
   "execution_count": 22,
   "id": "d557e3d6-f429-4993-8076-46904fad6e9f",
   "metadata": {},
   "outputs": [],
   "source": [
    "state=Board(3,3)\n",
    "state[5]=1\n",
    "state[2]=2\n",
    "state[4]=1"
   ]
  },
  {
   "cell_type": "code",
   "execution_count": 23,
   "id": "c6357535-e13a-4074-9058-04cdb06c039b",
   "metadata": {},
   "outputs": [
    {
     "data": {
      "text/plain": [
       " 0  0  2 \n",
       " 0  1  1 \n",
       " 0  0  0 "
      ]
     },
     "execution_count": 23,
     "metadata": {},
     "output_type": "execute_result"
    }
   ],
   "source": [
    "state"
   ]
  },
  {
   "cell_type": "code",
   "execution_count": 24,
   "id": "c4490ed6-077e-4724-81db-eb652af85618",
   "metadata": {},
   "outputs": [
    {
     "data": {
      "text/plain": [
       "[0, 1, 3, 6, 7, 8]"
      ]
     },
     "execution_count": 24,
     "metadata": {},
     "output_type": "execute_result"
    }
   ],
   "source": [
    "valid_moves(state,2)"
   ]
  },
  {
   "cell_type": "code",
   "execution_count": 25,
   "id": "b297c1bc-f2d9-4967-baf4-5c2897ee8a61",
   "metadata": {},
   "outputs": [
    {
     "data": {
      "text/plain": [
       " 0  0  2 \n",
       " 0  1  1 \n",
       " 2  0  0 "
      ]
     },
     "execution_count": 25,
     "metadata": {},
     "output_type": "execute_result"
    }
   ],
   "source": [
    "update_state(state,2,6)"
   ]
  },
  {
   "cell_type": "code",
   "execution_count": 28,
   "id": "b924bbec-099a-434b-bd9f-e5b25927fd3c",
   "metadata": {},
   "outputs": [],
   "source": [
    "def win_status(state,player):\n",
    "    # the state is *after* the move for the player\n",
    "\n",
    "    #  0  1  2 \n",
    "    #  3  4  5 \n",
    "    #  6  7  8   \n",
    "    \n",
    "    # rows\n",
    "    if state[0]==player and state[1]==player and state[2]==player:\n",
    "        return \"win\"\n",
    "    if state[3]==player and state[4]==player and state[5]==player:\n",
    "        return \"win\"\n",
    "    if state[6]==player and state[7]==player and state[8]==player:\n",
    "        return \"win\"\n",
    "    \n",
    "    # columns\n",
    "    if state[0]==player and state[3]==player and state[6]==player:\n",
    "        return \"win\"\n",
    "    if state[1]==player and state[4]==player and state[7]==player:\n",
    "        return \"win\"\n",
    "    if state[2]==player and state[5]==player and state[8]==player:\n",
    "        return \"win\"\n",
    "    \n",
    "    # diagonals\n",
    "    if state[0]==player and state[4]==player and state[8]==player:\n",
    "        return \"win\"\n",
    "    if state[2]==player and state[4]==player and state[6]==player:\n",
    "        return \"win\"\n",
    "    \n",
    "    \n",
    "    if player==1:\n",
    "        other_player=2\n",
    "    else:\n",
    "        other_player=1\n",
    "        \n",
    "    # hack, unreadable, but works.  other_player=3-player\n",
    "    \n",
    "    \n",
    "    if not valid_moves(state,other_player):\n",
    "        return \"stalemate\"\n",
    "    \n",
    "    \n",
    "    \n",
    "    "
   ]
  },
  {
   "cell_type": "code",
   "execution_count": 27,
   "id": "2b49ce06-fc3a-4889-9f36-a127832443eb",
   "metadata": {},
   "outputs": [
    {
     "data": {
      "text/plain": [
       "1"
      ]
     },
     "execution_count": 27,
     "metadata": {},
     "output_type": "execute_result"
    }
   ],
   "source": [
    "player=2\n",
    "\n",
    "if player==1:\n",
    "    other_player=2\n",
    "else:\n",
    "    other_player=1\n",
    "\n",
    "other_player"
   ]
  },
  {
   "cell_type": "code",
   "execution_count": 37,
   "id": "7446316f-4fb6-4675-a05c-3d8aeeffb272",
   "metadata": {},
   "outputs": [],
   "source": [
    "def human_move(state,player):\n",
    "    \n",
    "    state.show_locations()\n",
    "    print(\"Player\",player)\n",
    "    move=int(input(\"which square to move?\"))\n",
    "    \n",
    "    \n",
    "    return move\n",
    "    "
   ]
  },
  {
   "cell_type": "code",
   "execution_count": 33,
   "id": "a85f06af-7c3a-4b4a-bdec-c3eb85c81325",
   "metadata": {},
   "outputs": [
    {
     "name": "stdout",
     "output_type": "stream",
     "text": [
      " 0  1  2 \n",
      " 3  4  5 \n",
      " 6  7  8 \n",
      "\n"
     ]
    },
    {
     "name": "stdin",
     "output_type": "stream",
     "text": [
      "which square to move? 4\n"
     ]
    },
    {
     "data": {
      "text/plain": [
       "4"
      ]
     },
     "execution_count": 33,
     "metadata": {},
     "output_type": "execute_result"
    }
   ],
   "source": [
    "state=initial_state()\n",
    "human_move(state,1)"
   ]
  },
  {
   "cell_type": "code",
   "execution_count": 38,
   "id": "4dd84791-87d2-4565-8fa2-9d6165794f2b",
   "metadata": {},
   "outputs": [],
   "source": [
    "human_agent=Agent(human_move)"
   ]
  },
  {
   "cell_type": "code",
   "execution_count": 40,
   "id": "36a849c4-45ca-4df8-b256-8c85e46fccd4",
   "metadata": {},
   "outputs": [],
   "source": [
    "def random_move(state,player):\n",
    "    \n",
    "    move=random.choice(valid_moves(state,player))\n",
    "    return move\n",
    "\n",
    "\n",
    "random_agent=Agent(random_move)"
   ]
  },
  {
   "cell_type": "code",
   "execution_count": null,
   "id": "d592aa66-5e82-45fa-9085-3ec0638ea4c6",
   "metadata": {},
   "outputs": [],
   "source": []
  },
  {
   "cell_type": "code",
   "execution_count": null,
   "id": "713fcbbe-3bb5-4f99-a22e-9cab5e955a24",
   "metadata": {},
   "outputs": [],
   "source": []
  },
  {
   "cell_type": "code",
   "execution_count": 39,
   "id": "cd520cbc-4976-417a-b573-bea9329ebaae",
   "metadata": {},
   "outputs": [
    {
     "name": "stdout",
     "output_type": "stream",
     "text": [
      "====\n",
      "Game  1\n",
      " 0  0  0 \n",
      " 0  0  0 \n",
      " 0  0  0 \n",
      "\n",
      " 0  1  2 \n",
      " 3  4  5 \n",
      " 6  7  8 \n",
      "\n",
      "Player 1\n"
     ]
    },
    {
     "name": "stdin",
     "output_type": "stream",
     "text": [
      "which square to move? 4\n"
     ]
    },
    {
     "name": "stdout",
     "output_type": "stream",
     "text": [
      "Player 1 moves 4\n",
      " 0  0  0 \n",
      " 0  1  0 \n",
      " 0  0  0 \n",
      "\n",
      " 0  1  2 \n",
      " 3  4  5 \n",
      " 6  7  8 \n",
      "\n",
      "Player 2\n"
     ]
    },
    {
     "name": "stdin",
     "output_type": "stream",
     "text": [
      "which square to move? 0\n"
     ]
    },
    {
     "name": "stdout",
     "output_type": "stream",
     "text": [
      "Player 2 moves 0\n",
      " 2  0  0 \n",
      " 0  1  0 \n",
      " 0  0  0 \n",
      "\n",
      " 0  1  2 \n",
      " 3  4  5 \n",
      " 6  7  8 \n",
      "\n",
      "Player 1\n"
     ]
    },
    {
     "name": "stdin",
     "output_type": "stream",
     "text": [
      "which square to move? 5\n"
     ]
    },
    {
     "name": "stdout",
     "output_type": "stream",
     "text": [
      "Player 1 moves 5\n",
      " 2  0  0 \n",
      " 0  1  1 \n",
      " 0  0  0 \n",
      "\n",
      " 0  1  2 \n",
      " 3  4  5 \n",
      " 6  7  8 \n",
      "\n",
      "Player 2\n"
     ]
    },
    {
     "name": "stdin",
     "output_type": "stream",
     "text": [
      "which square to move? 8\n"
     ]
    },
    {
     "name": "stdout",
     "output_type": "stream",
     "text": [
      "Player 2 moves 8\n",
      " 2  0  0 \n",
      " 0  1  1 \n",
      " 0  0  2 \n",
      "\n",
      " 0  1  2 \n",
      " 3  4  5 \n",
      " 6  7  8 \n",
      "\n",
      "Player 1\n"
     ]
    },
    {
     "name": "stdin",
     "output_type": "stream",
     "text": [
      "which square to move? 3\n"
     ]
    },
    {
     "name": "stdout",
     "output_type": "stream",
     "text": [
      "Player 1 moves 3\n",
      " 2  0  0 \n",
      " 0  1  1 \n",
      " 0  0  2 \n",
      "\n",
      "Player  1 won.\n"
     ]
    },
    {
     "data": {
      "text/plain": [
       "[1]"
      ]
     },
     "execution_count": 39,
     "metadata": {},
     "output_type": "execute_result"
    }
   ],
   "source": [
    "g=Game()\n",
    "g.run(human_agent,human_agent)"
   ]
  },
  {
   "cell_type": "code",
   "execution_count": null,
   "id": "0f47b080-a180-4678-93cf-dea9ebda1ebb",
   "metadata": {},
   "outputs": [],
   "source": []
  }
 ],
 "metadata": {
  "kernelspec": {
   "display_name": "Python 3",
   "language": "python",
   "name": "python3"
  },
  "language_info": {
   "codemirror_mode": {
    "name": "ipython",
    "version": 3
   },
   "file_extension": ".py",
   "mimetype": "text/x-python",
   "name": "python",
   "nbconvert_exporter": "python",
   "pygments_lexer": "ipython3",
   "version": "3.8.10"
  }
 },
 "nbformat": 4,
 "nbformat_minor": 5
}
