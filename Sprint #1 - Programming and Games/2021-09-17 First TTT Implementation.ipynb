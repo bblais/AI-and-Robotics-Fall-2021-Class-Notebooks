{
 "cells": [
  {
   "cell_type": "code",
   "execution_count": 1,
   "id": "446f3479-088d-4154-acb7-ea6e511dfe17",
   "metadata": {},
   "outputs": [
    {
     "name": "stdout",
     "output_type": "stream",
     "text": [
      "Version:  0.2.27\n"
     ]
    }
   ],
   "source": [
    "from Game import *"
   ]
  },
  {
   "cell_type": "code",
   "execution_count": 2,
   "id": "906d265f-cff8-4147-9731-0415ef5a18a7",
   "metadata": {},
   "outputs": [],
   "source": [
    "def initial_state():\n",
    "    return Board(3,3)"
   ]
  },
  {
   "cell_type": "code",
   "execution_count": 3,
   "id": "64ea958f-ea29-4443-945d-501806f41abc",
   "metadata": {},
   "outputs": [
    {
     "data": {
      "text/plain": [
       " 0  0  0 \n",
       " 0  0  0 \n",
       " 0  0  0 "
      ]
     },
     "execution_count": 3,
     "metadata": {},
     "output_type": "execute_result"
    }
   ],
   "source": [
    "initial_state()"
   ]
  },
  {
   "cell_type": "markdown",
   "id": "7c28b4a3-3cea-4482-8fed-a1938b556a0b",
   "metadata": {},
   "source": [
    "## diversion about Boards"
   ]
  },
  {
   "cell_type": "code",
   "execution_count": 20,
   "id": "d3c59be5-9f80-4e6d-8979-4f2f64c85298",
   "metadata": {},
   "outputs": [],
   "source": [
    "state=Board(5,3)"
   ]
  },
  {
   "cell_type": "code",
   "execution_count": 21,
   "id": "8618ecb6-3dbd-43b4-8a1f-07b46ec421ab",
   "metadata": {},
   "outputs": [
    {
     "data": {
      "text/plain": [
       " 0  0  0 \n",
       " 0  0  0 \n",
       " 0  0  0 \n",
       " 0  0  0 \n",
       " 0  0  0 "
      ]
     },
     "execution_count": 21,
     "metadata": {},
     "output_type": "execute_result"
    }
   ],
   "source": [
    "state"
   ]
  },
  {
   "cell_type": "code",
   "execution_count": 22,
   "id": "7f481637-7c91-422a-b220-545643599c78",
   "metadata": {},
   "outputs": [],
   "source": [
    "state[1]=5"
   ]
  },
  {
   "cell_type": "code",
   "execution_count": 23,
   "id": "56510f01-47c0-4d90-a9b7-fb89d35494ff",
   "metadata": {},
   "outputs": [
    {
     "data": {
      "text/plain": [
       " 0  5  0 \n",
       " 0  0  0 \n",
       " 0  0  0 \n",
       " 0  0  0 \n",
       " 0  0  0 "
      ]
     },
     "execution_count": 23,
     "metadata": {},
     "output_type": "execute_result"
    }
   ],
   "source": [
    "state"
   ]
  },
  {
   "cell_type": "code",
   "execution_count": 24,
   "id": "765a7a2d-2fb8-4813-b38d-caacb2abfc19",
   "metadata": {},
   "outputs": [
    {
     "name": "stdout",
     "output_type": "stream",
     "text": [
      " 0  1  2 \n",
      " 3  4  5 \n",
      " 6  7  8 \n",
      " 9 10 11 \n",
      "12 13 14 \n",
      "\n"
     ]
    }
   ],
   "source": [
    "state.show_locations()"
   ]
  },
  {
   "cell_type": "code",
   "execution_count": 25,
   "id": "c01454a1-3fc9-4f93-b66c-f42a703f133b",
   "metadata": {},
   "outputs": [],
   "source": [
    "state[1,2]=11"
   ]
  },
  {
   "cell_type": "code",
   "execution_count": 26,
   "id": "51176eec-f9f8-453d-a807-e04879f360e2",
   "metadata": {},
   "outputs": [
    {
     "data": {
      "text/plain": [
       " 0  5  0 \n",
       " 0  0 11 \n",
       " 0  0  0 \n",
       " 0  0  0 \n",
       " 0  0  0 "
      ]
     },
     "execution_count": 26,
     "metadata": {},
     "output_type": "execute_result"
    }
   ],
   "source": [
    "state"
   ]
  },
  {
   "cell_type": "code",
   "execution_count": 27,
   "id": "99cd407f-d56e-4397-a05b-313191776563",
   "metadata": {},
   "outputs": [
    {
     "data": {
      "text/plain": [
       "5"
      ]
     },
     "execution_count": 27,
     "metadata": {},
     "output_type": "execute_result"
    }
   ],
   "source": [
    "state[0,1]"
   ]
  },
  {
   "cell_type": "markdown",
   "id": "6daee03e-b489-4b3b-a678-e7064e9883ff",
   "metadata": {},
   "source": [
    "## back to TTT"
   ]
  },
  {
   "cell_type": "code",
   "execution_count": 28,
   "id": "e836be29-1e6c-43ce-b22a-59b61015f128",
   "metadata": {},
   "outputs": [],
   "source": [
    "def show_state(state):\n",
    "    print(state)"
   ]
  },
  {
   "cell_type": "code",
   "execution_count": 29,
   "id": "a5970d44-60ce-4e5a-b281-9c7b707fac5e",
   "metadata": {},
   "outputs": [
    {
     "name": "stdout",
     "output_type": "stream",
     "text": [
      " 0  0  0 \n",
      " 0  0  0 \n",
      " 0  0  0 \n",
      "\n"
     ]
    }
   ],
   "source": [
    "state=initial_state()\n",
    "show_state(state)"
   ]
  },
  {
   "cell_type": "code",
   "execution_count": 30,
   "id": "5169d8c4-9aee-4273-948f-bd0896c52ef0",
   "metadata": {},
   "outputs": [],
   "source": [
    "def valid_moves(state,player):\n",
    "    # run through all the spots\n",
    "    # if it is empty, then append that\n",
    "    # location to the possible moves\n",
    "    \n",
    "    moves=[]\n",
    "    for location in range(9):\n",
    "        if state[location]==0:\n",
    "            moves.append(location)\n",
    "            \n",
    "    return moves"
   ]
  },
  {
   "cell_type": "code",
   "execution_count": 31,
   "id": "61445a71-272b-4cf6-8c4e-3bffcf574584",
   "metadata": {},
   "outputs": [
    {
     "data": {
      "text/plain": [
       "[0, 1, 2, 3, 4, 5, 6, 7, 8]"
      ]
     },
     "execution_count": 31,
     "metadata": {},
     "output_type": "execute_result"
    }
   ],
   "source": [
    "state=Board(3,3)\n",
    "valid_moves(state,1)"
   ]
  },
  {
   "cell_type": "code",
   "execution_count": 32,
   "id": "42fd04a6-3df4-40f1-a266-dbbc3a6ce523",
   "metadata": {},
   "outputs": [
    {
     "data": {
      "text/plain": [
       " 0  0  1 \n",
       " 0  0  2 \n",
       " 0  0  0 "
      ]
     },
     "execution_count": 32,
     "metadata": {},
     "output_type": "execute_result"
    }
   ],
   "source": [
    "state[2]=1\n",
    "state[5]=2\n",
    "state"
   ]
  },
  {
   "cell_type": "code",
   "execution_count": 33,
   "id": "b6667233-69cc-43db-9b5f-244a1399dd61",
   "metadata": {},
   "outputs": [
    {
     "data": {
      "text/plain": [
       "[0, 1, 3, 4, 6, 7, 8]"
      ]
     },
     "execution_count": 33,
     "metadata": {},
     "output_type": "execute_result"
    }
   ],
   "source": [
    "valid_moves(state,1)"
   ]
  },
  {
   "cell_type": "code",
   "execution_count": 34,
   "id": "1a2e0bc4-0e9f-4304-a054-ce89e940a745",
   "metadata": {},
   "outputs": [],
   "source": [
    "def update_state(state,player,move):\n",
    "    new_state=state\n",
    "    \n",
    "    new_state[move]=player\n",
    "    return new_state    \n",
    "    "
   ]
  },
  {
   "cell_type": "code",
   "execution_count": null,
   "id": "d6358bcd-5450-4e69-a99f-3d0d4ce83313",
   "metadata": {},
   "outputs": [],
   "source": []
  }
 ],
 "metadata": {
  "kernelspec": {
   "display_name": "Python 3",
   "language": "python",
   "name": "python3"
  },
  "language_info": {
   "codemirror_mode": {
    "name": "ipython",
    "version": 3
   },
   "file_extension": ".py",
   "mimetype": "text/x-python",
   "name": "python",
   "nbconvert_exporter": "python",
   "pygments_lexer": "ipython3",
   "version": "3.8.10"
  }
 },
 "nbformat": 4,
 "nbformat_minor": 5
}
