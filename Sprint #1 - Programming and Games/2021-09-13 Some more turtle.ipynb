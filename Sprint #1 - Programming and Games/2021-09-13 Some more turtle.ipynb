{
 "cells": [
  {
   "cell_type": "code",
   "execution_count": 1,
   "id": "d6069adf-4faa-4b89-9a0c-61251a16e82a",
   "metadata": {},
   "outputs": [
    {
     "name": "stdout",
     "output_type": "stream",
     "text": [
      "Populating the interactive namespace from numpy and matplotlib\n"
     ]
    }
   ],
   "source": [
    "%pylab inline"
   ]
  },
  {
   "cell_type": "code",
   "execution_count": 2,
   "id": "75f6b71e-58bf-477b-810a-09c8ed012a52",
   "metadata": {},
   "outputs": [],
   "source": [
    "from mplturtle import *"
   ]
  },
  {
   "cell_type": "code",
   "execution_count": 3,
   "id": "c4e9ef67-ef11-4862-8722-3d6a66d1a1ff",
   "metadata": {},
   "outputs": [],
   "source": [
    "def draw_square(size):\n",
    "    for i in range(4):\n",
    "        forward(size)\n",
    "        right(90)\n",
    "    \n",
    "def move_over(size):\n",
    "    penup()\n",
    "    forward(size)  # move over\n",
    "    pendown()"
   ]
  },
  {
   "cell_type": "code",
   "execution_count": 4,
   "id": "a9d0d75e-191f-4aeb-a700-a1592bb52240",
   "metadata": {},
   "outputs": [
    {
     "data": {
      "image/png": "[encoded data removed]",
      "text/plain": [
       "<Figure size 360x360 with 1 Axes>"
      ]
     },
     "metadata": {
      "needs_background": "light"
     },
     "output_type": "display_data"
    }
   ],
   "source": [
    "reset(figsize=(5,5))  # for the class notebooks, including figsize\n",
    "\n",
    "draw_square(80)\n",
    "\n",
    "move_over(200)\n",
    "\n",
    "draw_square(30)\n",
    "\n"
   ]
  },
  {
   "cell_type": "code",
   "execution_count": 6,
   "id": "112db322-8341-4cdd-8646-10b13adbed17",
   "metadata": {},
   "outputs": [
    {
     "data": {
      "image/png": "[encoded data removed]",
      "text/plain": [
       "<Figure size 360x360 with 1 Axes>"
      ]
     },
     "metadata": {
      "needs_background": "light"
     },
     "output_type": "display_data"
    }
   ],
   "source": [
    "animate()"
   ]
  },
  {
   "cell_type": "code",
   "execution_count": 9,
   "id": "a743fa65-645d-4a93-b452-ebebdfd3ad05",
   "metadata": {},
   "outputs": [
    {
     "name": "stdout",
     "output_type": "stream",
     "text": [
      "here\n",
      "0\n",
      "here\n",
      "1\n",
      "here\n",
      "2\n",
      "here\n",
      "3\n",
      "here\n",
      "4\n"
     ]
    }
   ],
   "source": [
    "for i in range(5):\n",
    "    print(\"here\")\n",
    "    print(i)"
   ]
  },
  {
   "cell_type": "code",
   "execution_count": 10,
   "id": "72bbed19-cfa9-40ee-917a-b5576b1f56ed",
   "metadata": {},
   "outputs": [
    {
     "name": "stdout",
     "output_type": "stream",
     "text": [
      "here\n",
      "0\n",
      "here\n",
      "1\n",
      "here\n",
      "2\n",
      "here\n",
      "3\n",
      "here\n",
      "4\n"
     ]
    }
   ],
   "source": [
    "for bob in range(5):\n",
    "    print(\"here\")\n",
    "    print(bob)"
   ]
  },
  {
   "cell_type": "code",
   "execution_count": null,
   "id": "3f07eddc-2f65-446e-b6c5-2b394af04915",
   "metadata": {},
   "outputs": [],
   "source": []
  }
 ],
 "metadata": {
  "kernelspec": {
   "display_name": "Python 3",
   "language": "python",
   "name": "python3"
  },
  "language_info": {
   "codemirror_mode": {
    "name": "ipython",
    "version": 3
   },
   "file_extension": ".py",
   "mimetype": "text/x-python",
   "name": "python",
   "nbconvert_exporter": "python",
   "pygments_lexer": "ipython3",
   "version": "3.8.10"
  }
 },
 "nbformat": 4,
 "nbformat_minor": 5
}
