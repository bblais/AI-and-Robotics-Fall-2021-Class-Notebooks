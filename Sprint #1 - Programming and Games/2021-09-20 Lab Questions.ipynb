{
 "cells": [
  {
   "cell_type": "code",
   "execution_count": 1,
   "id": "5b923339-0527-4b98-a768-567a4cd5afbc",
   "metadata": {},
   "outputs": [
    {
     "name": "stdout",
     "output_type": "stream",
     "text": [
      "Version:  0.2.27\n"
     ]
    }
   ],
   "source": [
    "from Game import *"
   ]
  },
  {
   "cell_type": "code",
   "execution_count": 2,
   "id": "33217003-a55a-4505-a1d0-73296ac673f4",
   "metadata": {},
   "outputs": [],
   "source": [
    "def initial_state():\n",
    "    state=Board(3,3)  # empty\n",
    "    \n",
    "    # set up some initial pieces\n",
    "    state[0]=1\n",
    "    state[1]=1\n",
    "    state[3]=2\n",
    "    \n",
    "    \n",
    "    return state\n",
    "    "
   ]
  },
  {
   "cell_type": "code",
   "execution_count": 12,
   "id": "b6b641d5-2b91-454b-9869-958a236535ee",
   "metadata": {},
   "outputs": [],
   "source": [
    "def initial_state():\n",
    "    state=Board(3,3)  # empty\n",
    "    \n",
    "    for i in range(9):\n",
    "        state[i]=1\n",
    "    \n",
    "    return state\n",
    "    "
   ]
  },
  {
   "cell_type": "code",
   "execution_count": 13,
   "id": "a5c2fc2a-04f5-418d-af72-7b34c45b7dfa",
   "metadata": {},
   "outputs": [
    {
     "data": {
      "text/plain": [
       " 1  1  1 \n",
       " 1  1  1 \n",
       " 1  1  1 "
      ]
     },
     "execution_count": 13,
     "metadata": {},
     "output_type": "execute_result"
    }
   ],
   "source": [
    "initial_state()"
   ]
  },
  {
   "cell_type": "code",
   "execution_count": 34,
   "id": "7eb22f28-ef73-403f-b6b8-aafd1e82f56a",
   "metadata": {},
   "outputs": [],
   "source": [
    "def initial_state():\n",
    "    state=Board(3,3)  # empty\n",
    "\n",
    "    for i in range(9):\n",
    "        state[i]=random.choice([0,1,2])\n",
    "    \n",
    "    \n",
    "    return state\n",
    "    "
   ]
  },
  {
   "cell_type": "code",
   "execution_count": 35,
   "id": "f8273c0d-7ddb-4cd0-b973-7f656f5f11f4",
   "metadata": {},
   "outputs": [
    {
     "data": {
      "text/plain": [
       " 2  2  1 \n",
       " 0  2  0 \n",
       " 1  0  0 "
      ]
     },
     "execution_count": 35,
     "metadata": {},
     "output_type": "execute_result"
    }
   ],
   "source": [
    "state=initial_state()\n",
    "state"
   ]
  },
  {
   "cell_type": "code",
   "execution_count": 16,
   "id": "e630d769-758a-4bcf-ab33-bc52cdc343f7",
   "metadata": {},
   "outputs": [],
   "source": [
    "def find_all_pieces(state,player):\n",
    "    locations=[]\n",
    "    for location in range(9):\n",
    "        if state[location]==player:\n",
    "            locations.append(location)    \n",
    "            \n",
    "    return locations"
   ]
  },
  {
   "cell_type": "code",
   "execution_count": 36,
   "id": "69e50704-00bc-416e-b5a1-a5251adf5fdb",
   "metadata": {},
   "outputs": [
    {
     "data": {
      "text/plain": [
       "[2, 6]"
      ]
     },
     "execution_count": 36,
     "metadata": {},
     "output_type": "execute_result"
    }
   ],
   "source": [
    "find_all_pieces(state,1)"
   ]
  },
  {
   "cell_type": "code",
   "execution_count": 37,
   "id": "73d0b260-7ae6-4486-8f75-13e09f62a761",
   "metadata": {},
   "outputs": [
    {
     "data": {
      "text/plain": [
       "[0, 1, 4]"
      ]
     },
     "execution_count": 37,
     "metadata": {},
     "output_type": "execute_result"
    }
   ],
   "source": [
    "find_all_pieces(state,2)"
   ]
  },
  {
   "cell_type": "code",
   "execution_count": 38,
   "id": "411e1243-b3b6-43ee-86c2-7b1d93dc1ef8",
   "metadata": {},
   "outputs": [
    {
     "data": {
      "text/plain": [
       "[]"
      ]
     },
     "execution_count": 38,
     "metadata": {},
     "output_type": "execute_result"
    }
   ],
   "source": [
    "find_all_pieces(state,3)"
   ]
  },
  {
   "cell_type": "code",
   "execution_count": null,
   "id": "1d4648a7-665e-46e9-aa1c-f8822af440e6",
   "metadata": {},
   "outputs": [],
   "source": [
    "if not find_all_pieces(state,player):\n",
    "    return \"win\""
   ]
  },
  {
   "cell_type": "code",
   "execution_count": null,
   "id": "2aaf99a0-9482-4816-9805-c69c18b029d6",
   "metadata": {},
   "outputs": [],
   "source": []
  },
  {
   "cell_type": "code",
   "execution_count": null,
   "id": "c9a65c43-d031-4778-b989-27a662056a70",
   "metadata": {},
   "outputs": [],
   "source": []
  },
  {
   "cell_type": "code",
   "execution_count": 9,
   "id": "cac8a6a6-cbf0-4a47-9829-b8d1f7787886",
   "metadata": {},
   "outputs": [],
   "source": [
    "def update_state(state,player,move):\n",
    "    # a move is a start and end location\n",
    "    \n",
    "    start,end=move\n",
    "    new_state=state\n",
    "    \n",
    "    # ttt\n",
    "    #new_state[move]=player\n",
    "    \n",
    "    new_state[start]=0\n",
    "    new_state[end]=player\n",
    "    \n",
    "    \n",
    "    \n",
    "    return new_state\n",
    "    \n",
    "    "
   ]
  },
  {
   "cell_type": "code",
   "execution_count": 5,
   "id": "c433a800-d2ca-4321-a197-1e4888dacc75",
   "metadata": {},
   "outputs": [
    {
     "data": {
      "text/plain": [
       "0"
      ]
     },
     "execution_count": 5,
     "metadata": {},
     "output_type": "execute_result"
    }
   ],
   "source": [
    "move=[0,2]\n",
    "start,end=move\n",
    "start"
   ]
  },
  {
   "cell_type": "code",
   "execution_count": 6,
   "id": "1d7a5d62-1e8f-4493-89cd-6b6b3826dfbd",
   "metadata": {},
   "outputs": [
    {
     "data": {
      "text/plain": [
       "2"
      ]
     },
     "execution_count": 6,
     "metadata": {},
     "output_type": "execute_result"
    }
   ],
   "source": [
    "end"
   ]
  },
  {
   "cell_type": "code",
   "execution_count": 19,
   "id": "544d8f3d-0840-4014-a4ad-55af9743fb14",
   "metadata": {},
   "outputs": [
    {
     "name": "stdout",
     "output_type": "stream",
     "text": [
      " 0  1  2 \n",
      " 3  4  5 \n",
      " 6  7  8 \n",
      " 9 10 11 \n",
      "12 13 14 \n",
      "\n"
     ]
    }
   ],
   "source": [
    "state=Board(5,3)\n",
    "state.show_locations()"
   ]
  },
  {
   "cell_type": "code",
   "execution_count": 20,
   "id": "7dc17a27-76c3-4d82-8986-978092849b70",
   "metadata": {},
   "outputs": [
    {
     "data": {
      "text/plain": [
       "(3, 1)"
      ]
     },
     "execution_count": 20,
     "metadata": {},
     "output_type": "execute_result"
    }
   ],
   "source": [
    "state.rc_from_index(10)"
   ]
  },
  {
   "cell_type": "code",
   "execution_count": 21,
   "id": "8ac3226b-f0a7-4b0a-9c80-f5f02df51fc2",
   "metadata": {},
   "outputs": [
    {
     "data": {
      "text/plain": [
       "10"
      ]
     },
     "execution_count": 21,
     "metadata": {},
     "output_type": "execute_result"
    }
   ],
   "source": [
    "state.index_from_rc(3,1)"
   ]
  },
  {
   "cell_type": "code",
   "execution_count": null,
   "id": "246d4647-e5c2-4090-b71f-f0dc799ba7f5",
   "metadata": {},
   "outputs": [],
   "source": [
    "start,end = 1,2\n",
    "\n",
    "for start,end in [ \n",
    "    [1,2], [3,4], [5,10], [2,-1]\n",
    "                ]:\n",
    "\n",
    "    if end>=0:\n",
    "        if state[start]==player and state[end]==0:\n",
    "            moves.append( [start,end] )\n",
    "    else:\n",
    "        if state[start]==player:\n",
    "            moves.append( [start,end] )\n",
    "        "
   ]
  },
  {
   "cell_type": "code",
   "execution_count": null,
   "id": "7b058129-56bd-4a42-a4d7-0f2f59301f35",
   "metadata": {},
   "outputs": [],
   "source": [
    "start,end = 1,2\n",
    "moves=[]\n",
    "for start,end in [ \n",
    "    [1,2], [3,4], [5,10], \n",
    "                ]:\n",
    "\n",
    "    if state[start]==player and state[end]==0:\n",
    "        moves.append( [start,end] )\n",
    "        "
   ]
  },
  {
   "cell_type": "code",
   "execution_count": 22,
   "id": "700f08ea-ba4f-45a9-a0a7-b6b6afa6e0e9",
   "metadata": {},
   "outputs": [],
   "source": [
    "moves=[]"
   ]
  },
  {
   "cell_type": "code",
   "execution_count": 25,
   "id": "3a21c791-9d03-4b38-bda0-5bac2c7d1617",
   "metadata": {},
   "outputs": [
    {
     "data": {
      "text/plain": [
       "[[1, 2]]"
      ]
     },
     "execution_count": 25,
     "metadata": {},
     "output_type": "execute_result"
    }
   ],
   "source": [
    "moves"
   ]
  },
  {
   "cell_type": "code",
   "execution_count": 29,
   "id": "6ea5b74f-e9a7-43f4-bcea-2ad8585d024b",
   "metadata": {},
   "outputs": [
    {
     "data": {
      "text/plain": [
       "[[1, 2], [4, 6], [5, 2], 'bob', [2, 3, 4]]"
      ]
     },
     "execution_count": 29,
     "metadata": {},
     "output_type": "execute_result"
    }
   ],
   "source": [
    "moves.append([2,3,4])\n",
    "moves"
   ]
  },
  {
   "cell_type": "code",
   "execution_count": null,
   "id": "56559e0f-c333-480a-b685-5f0b45480ae1",
   "metadata": {},
   "outputs": [],
   "source": [
    "def valid_moves(state,player):\n",
    "    moves=[]\n",
    "    \n",
    "    if player==1:\n",
    "        \n",
    "        pass\n",
    "    \n",
    "    else:\n",
    "        \n",
    "        pass\n",
    "    \n",
    "    return moves\n",
    "    "
   ]
  },
  {
   "cell_type": "code",
   "execution_count": null,
   "id": "93de98a5-071b-47ee-9a79-22d92c167922",
   "metadata": {},
   "outputs": [],
   "source": []
  },
  {
   "cell_type": "code",
   "execution_count": null,
   "id": "5a412e79-3bf5-4708-b744-6fc74e1e3e3b",
   "metadata": {},
   "outputs": [],
   "source": []
  },
  {
   "cell_type": "code",
   "execution_count": null,
   "id": "d73facfc-53da-489f-9a6e-0f9495b6a7e5",
   "metadata": {},
   "outputs": [],
   "source": []
  },
  {
   "cell_type": "code",
   "execution_count": 8,
   "id": "928fa7b0-5701-4b1a-8644-ba692ad31798",
   "metadata": {},
   "outputs": [
    {
     "data": {
      "text/plain": [
       " 0  0  0 \n",
       " 1  0  0 \n",
       " 0  1  0 \n",
       " 0  2  0 \n",
       " 0  0  0 "
      ]
     },
     "execution_count": 8,
     "metadata": {},
     "output_type": "execute_result"
    }
   ],
   "source": [
    "state[3]=state[7]=1\n",
    "state[10]=2\n",
    "state"
   ]
  },
  {
   "cell_type": "code",
   "execution_count": 10,
   "id": "ac159663-c166-4f40-acf1-c17cb6c066e3",
   "metadata": {},
   "outputs": [
    {
     "data": {
      "text/plain": [
       " 0  0  0 \n",
       " 0  1  0 \n",
       " 0  1  0 \n",
       " 0  2  0 \n",
       " 0  0  0 "
      ]
     },
     "execution_count": 10,
     "metadata": {},
     "output_type": "execute_result"
    }
   ],
   "source": [
    "update_state(state,1,[3,4])"
   ]
  },
  {
   "cell_type": "code",
   "execution_count": 11,
   "id": "fa5f60d6-795e-491f-8b02-1ef226bf93c0",
   "metadata": {},
   "outputs": [
    {
     "data": {
      "text/plain": [
       " 0  0  0 \n",
       " 0  0  0 \n",
       " 0  1  0 \n",
       " 0  2  0 \n",
       " 0  0  0 "
      ]
     },
     "execution_count": 11,
     "metadata": {},
     "output_type": "execute_result"
    }
   ],
   "source": [
    "update_state(state,1,[4,7])"
   ]
  },
  {
   "cell_type": "code",
   "execution_count": null,
   "id": "e9bbd282-aca2-4cbf-837e-68fa508e4495",
   "metadata": {},
   "outputs": [],
   "source": []
  }
 ],
 "metadata": {
  "kernelspec": {
   "display_name": "Python 3",
   "language": "python",
   "name": "python3"
  },
  "language_info": {
   "codemirror_mode": {
    "name": "ipython",
    "version": 3
   },
   "file_extension": ".py",
   "mimetype": "text/x-python",
   "name": "python",
   "nbconvert_exporter": "python",
   "pygments_lexer": "ipython3",
   "version": "3.8.10"
  }
 },
 "nbformat": 4,
 "nbformat_minor": 5
}
