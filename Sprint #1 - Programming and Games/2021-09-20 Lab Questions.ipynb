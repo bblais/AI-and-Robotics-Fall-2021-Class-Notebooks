{
 "cells": [
  {
   "cell_type": "code",
   "execution_count": 1,
   "id": "5b923339-0527-4b98-a768-567a4cd5afbc",
   "metadata": {},
   "outputs": [
    {
     "name": "stdout",
     "output_type": "stream",
     "text": [
      "Version:  0.2.27\n"
     ]
    }
   ],
   "source": [
    "from Game import *"
   ]
  },
  {
   "cell_type": "code",
   "execution_count": 2,
   "id": "33217003-a55a-4505-a1d0-73296ac673f4",
   "metadata": {},
   "outputs": [],
   "source": [
    "def initial_state():\n",
    "    state=Board(3,3)  # empty\n",
    "    \n",
    "    # set up some initial pieces\n",
    "    state[0]=1\n",
    "    state[1]=1\n",
    "    state[3]=2\n",
    "    \n",
    "    \n",
    "    return state\n",
    "    "
   ]
  },
  {
   "cell_type": "code",
   "execution_count": 12,
   "id": "b6b641d5-2b91-454b-9869-958a236535ee",
   "metadata": {},
   "outputs": [],
   "source": [
    "def initial_state():\n",
    "    state=Board(3,3)  # empty\n",
    "    \n",
    "    for i in range(9):\n",
    "        state[i]=1\n",
    "    \n",
    "    return state\n",
    "    "
   ]
  },
  {
   "cell_type": "code",
   "execution_count": 13,
   "id": "a5c2fc2a-04f5-418d-af72-7b34c45b7dfa",
   "metadata": {},
   "outputs": [
    {
     "data": {
      "text/plain": [
       " 1  1  1 \n",
       " 1  1  1 \n",
       " 1  1  1 "
      ]
     },
     "execution_count": 13,
     "metadata": {},
     "output_type": "execute_result"
    }
   ],
   "source": [
    "initial_state()"
   ]
  },
  {
   "cell_type": "code",
   "execution_count": 14,
   "id": "7eb22f28-ef73-403f-b6b8-aafd1e82f56a",
   "metadata": {},
   "outputs": [],
   "source": [
    "def initial_state():\n",
    "    state=Board(3,3)  # empty\n",
    "\n",
    "    for i in range(9):\n",
    "        state[i]=random.choice([0,1,2])\n",
    "    \n",
    "    \n",
    "    return state\n",
    "    "
   ]
  },
  {
   "cell_type": "code",
   "execution_count": 15,
   "id": "f8273c0d-7ddb-4cd0-b973-7f656f5f11f4",
   "metadata": {},
   "outputs": [
    {
     "data": {
      "text/plain": [
       " 0  0  2 \n",
       " 1  2  2 \n",
       " 2  0  0 "
      ]
     },
     "execution_count": 15,
     "metadata": {},
     "output_type": "execute_result"
    }
   ],
   "source": [
    "state=initial_state()\n",
    "state"
   ]
  },
  {
   "cell_type": "code",
   "execution_count": 16,
   "id": "e630d769-758a-4bcf-ab33-bc52cdc343f7",
   "metadata": {},
   "outputs": [],
   "source": [
    "def find_all_pieces(state,player):\n",
    "    locations=[]\n",
    "    for location in range(9):\n",
    "        if state[location]==player:\n",
    "            locations.append(location)    \n",
    "            \n",
    "    return locations"
   ]
  },
  {
   "cell_type": "code",
   "execution_count": 17,
   "id": "69e50704-00bc-416e-b5a1-a5251adf5fdb",
   "metadata": {},
   "outputs": [
    {
     "data": {
      "text/plain": [
       "[3]"
      ]
     },
     "execution_count": 17,
     "metadata": {},
     "output_type": "execute_result"
    }
   ],
   "source": [
    "find_all_pieces(state,1)"
   ]
  },
  {
   "cell_type": "code",
   "execution_count": 18,
   "id": "73d0b260-7ae6-4486-8f75-13e09f62a761",
   "metadata": {},
   "outputs": [
    {
     "data": {
      "text/plain": [
       "[2, 4, 5, 6]"
      ]
     },
     "execution_count": 18,
     "metadata": {},
     "output_type": "execute_result"
    }
   ],
   "source": [
    "find_all_pieces(state,2)"
   ]
  },
  {
   "cell_type": "code",
   "execution_count": null,
   "id": "411e1243-b3b6-43ee-86c2-7b1d93dc1ef8",
   "metadata": {},
   "outputs": [],
   "source": []
  },
  {
   "cell_type": "code",
   "execution_count": 9,
   "id": "cac8a6a6-cbf0-4a47-9829-b8d1f7787886",
   "metadata": {},
   "outputs": [],
   "source": [
    "def update_state(state,player,move):\n",
    "    # a move is a start and end location\n",
    "    \n",
    "    start,end=move\n",
    "    new_state=state\n",
    "    \n",
    "    # ttt\n",
    "    #new_state[move]=player\n",
    "    \n",
    "    new_state[start]=0\n",
    "    new_state[end]=player\n",
    "    \n",
    "    \n",
    "    \n",
    "    return new_state\n",
    "    \n",
    "    "
   ]
  },
  {
   "cell_type": "code",
   "execution_count": 5,
   "id": "c433a800-d2ca-4321-a197-1e4888dacc75",
   "metadata": {},
   "outputs": [
    {
     "data": {
      "text/plain": [
       "0"
      ]
     },
     "execution_count": 5,
     "metadata": {},
     "output_type": "execute_result"
    }
   ],
   "source": [
    "move=[0,2]\n",
    "start,end=move\n",
    "start"
   ]
  },
  {
   "cell_type": "code",
   "execution_count": 6,
   "id": "1d7a5d62-1e8f-4493-89cd-6b6b3826dfbd",
   "metadata": {},
   "outputs": [
    {
     "data": {
      "text/plain": [
       "2"
      ]
     },
     "execution_count": 6,
     "metadata": {},
     "output_type": "execute_result"
    }
   ],
   "source": [
    "end"
   ]
  },
  {
   "cell_type": "code",
   "execution_count": 7,
   "id": "544d8f3d-0840-4014-a4ad-55af9743fb14",
   "metadata": {},
   "outputs": [
    {
     "name": "stdout",
     "output_type": "stream",
     "text": [
      " 0  1  2 \n",
      " 3  4  5 \n",
      " 6  7  8 \n",
      " 9 10 11 \n",
      "12 13 14 \n",
      "\n"
     ]
    }
   ],
   "source": [
    "state=Board(5,3)\n",
    "state.show_locations()"
   ]
  },
  {
   "cell_type": "code",
   "execution_count": 8,
   "id": "928fa7b0-5701-4b1a-8644-ba692ad31798",
   "metadata": {},
   "outputs": [
    {
     "data": {
      "text/plain": [
       " 0  0  0 \n",
       " 1  0  0 \n",
       " 0  1  0 \n",
       " 0  2  0 \n",
       " 0  0  0 "
      ]
     },
     "execution_count": 8,
     "metadata": {},
     "output_type": "execute_result"
    }
   ],
   "source": [
    "state[3]=state[7]=1\n",
    "state[10]=2\n",
    "state"
   ]
  },
  {
   "cell_type": "code",
   "execution_count": 10,
   "id": "ac159663-c166-4f40-acf1-c17cb6c066e3",
   "metadata": {},
   "outputs": [
    {
     "data": {
      "text/plain": [
       " 0  0  0 \n",
       " 0  1  0 \n",
       " 0  1  0 \n",
       " 0  2  0 \n",
       " 0  0  0 "
      ]
     },
     "execution_count": 10,
     "metadata": {},
     "output_type": "execute_result"
    }
   ],
   "source": [
    "update_state(state,1,[3,4])"
   ]
  },
  {
   "cell_type": "code",
   "execution_count": 11,
   "id": "fa5f60d6-795e-491f-8b02-1ef226bf93c0",
   "metadata": {},
   "outputs": [
    {
     "data": {
      "text/plain": [
       " 0  0  0 \n",
       " 0  0  0 \n",
       " 0  1  0 \n",
       " 0  2  0 \n",
       " 0  0  0 "
      ]
     },
     "execution_count": 11,
     "metadata": {},
     "output_type": "execute_result"
    }
   ],
   "source": [
    "update_state(state,1,[4,7])"
   ]
  },
  {
   "cell_type": "code",
   "execution_count": null,
   "id": "e9bbd282-aca2-4cbf-837e-68fa508e4495",
   "metadata": {},
   "outputs": [],
   "source": []
  }
 ],
 "metadata": {
  "kernelspec": {
   "display_name": "Python 3",
   "language": "python",
   "name": "python3"
  },
  "language_info": {
   "codemirror_mode": {
    "name": "ipython",
    "version": 3
   },
   "file_extension": ".py",
   "mimetype": "text/x-python",
   "name": "python",
   "nbconvert_exporter": "python",
   "pygments_lexer": "ipython3",
   "version": "3.8.10"
  }
 },
 "nbformat": 4,
 "nbformat_minor": 5
}
