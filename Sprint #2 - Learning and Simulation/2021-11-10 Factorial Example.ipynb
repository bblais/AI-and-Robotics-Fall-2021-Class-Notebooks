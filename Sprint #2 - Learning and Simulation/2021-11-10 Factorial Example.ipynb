{
 "cells": [
  {
   "cell_type": "code",
   "execution_count": 5,
   "id": "a32c16b0-1a77-4dc4-92de-7c0485d79655",
   "metadata": {},
   "outputs": [],
   "source": [
    "def factorial(N):\n",
    "    if N==0:\n",
    "        return 1\n",
    "    \n",
    "    print(f\"{N} x factorial({N-1})\")\n",
    "    return N*factorial(N-1)"
   ]
  },
  {
   "cell_type": "code",
   "execution_count": 6,
   "id": "027c299f-a953-4355-be65-66287dc1c6ba",
   "metadata": {},
   "outputs": [
    {
     "name": "stdout",
     "output_type": "stream",
     "text": [
      "5 x factorial(4)\n",
      "4 x factorial(3)\n",
      "3 x factorial(2)\n",
      "2 x factorial(1)\n",
      "1 x factorial(0)\n"
     ]
    },
    {
     "data": {
      "text/plain": [
       "120"
      ]
     },
     "execution_count": 6,
     "metadata": {},
     "output_type": "execute_result"
    }
   ],
   "source": [
    "factorial(5)"
   ]
  },
  {
   "cell_type": "code",
   "execution_count": null,
   "id": "b8d7c439-9c77-4d73-b912-974ad6537899",
   "metadata": {},
   "outputs": [],
   "source": []
  }
 ],
 "metadata": {
  "kernelspec": {
   "display_name": "Python 3",
   "language": "python",
   "name": "python3"
  },
  "language_info": {
   "codemirror_mode": {
    "name": "ipython",
    "version": 3
   },
   "file_extension": ".py",
   "mimetype": "text/x-python",
   "name": "python",
   "nbconvert_exporter": "python",
   "pygments_lexer": "ipython3",
   "version": "3.8.10"
  }
 },
 "nbformat": 4,
 "nbformat_minor": 5
}
