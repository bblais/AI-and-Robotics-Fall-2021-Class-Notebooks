{
 "cells": [
  {
   "cell_type": "code",
   "execution_count": 1,
   "id": "74b9cac8-8110-4d84-a18a-ab765b5573cc",
   "metadata": {},
   "outputs": [
    {
     "name": "stdout",
     "output_type": "stream",
     "text": [
      "Version:  0.2.28\n"
     ]
    }
   ],
   "source": [
    "import Game"
   ]
  },
  {
   "cell_type": "code",
   "execution_count": 2,
   "id": "367642a7-9d1d-45a3-99c7-c1fbe29a6c90",
   "metadata": {},
   "outputs": [
    {
     "data": {
      "text/plain": [
       "'/Users/bblais/opt/anaconda3/envs/py3/lib/python3.8/site-packages/Game/__init__.py'"
      ]
     },
     "execution_count": 2,
     "metadata": {},
     "output_type": "execute_result"
    }
   ],
   "source": [
    "Game.__file__"
   ]
  },
  {
   "cell_type": "code",
   "execution_count": 3,
   "id": "ad4b0ce2-746e-47f3-88bd-bb5c3d33ddcd",
   "metadata": {},
   "outputs": [],
   "source": [
    "from Game import *"
   ]
  },
  {
   "cell_type": "code",
   "execution_count": 4,
   "id": "90d315de-d356-4277-bfcd-b3c953d044e4",
   "metadata": {},
   "outputs": [
    {
     "name": "stdout",
     "output_type": "stream",
     "text": [
      "The Zen of Python, by Tim Peters\n",
      "\n",
      "Beautiful is better than ugly.\n",
      "Explicit is better than implicit.\n",
      "Simple is better than complex.\n",
      "Complex is better than complicated.\n",
      "Flat is better than nested.\n",
      "Sparse is better than dense.\n",
      "Readability counts.\n",
      "Special cases aren't special enough to break the rules.\n",
      "Although practicality beats purity.\n",
      "Errors should never pass silently.\n",
      "Unless explicitly silenced.\n",
      "In the face of ambiguity, refuse the temptation to guess.\n",
      "There should be one-- and preferably only one --obvious way to do it.\n",
      "Although that way may not be obvious at first unless you're Dutch.\n",
      "Now is better than never.\n",
      "Although never is often better than *right* now.\n",
      "If the implementation is hard to explain, it's a bad idea.\n",
      "If the implementation is easy to explain, it may be a good idea.\n",
      "Namespaces are one honking great idea -- let's do more of those!\n"
     ]
    }
   ],
   "source": [
    "import this"
   ]
  },
  {
   "cell_type": "markdown",
   "id": "d23bcbd9-2ffa-42ac-8584-47e3d2d29d0a",
   "metadata": {},
   "source": [
    "## Game functions"
   ]
  },
  {
   "cell_type": "code",
   "execution_count": 5,
   "id": "15420972-b911-4f92-9727-3791e0021b28",
   "metadata": {},
   "outputs": [],
   "source": [
    "def initial_state(N=21):\n",
    "    return N\n",
    "\n",
    "def show_state(state):\n",
    "    print(\"There are \",state,\"sticks\")\n",
    "    \n",
    "def valid_moves(state,player):\n",
    "    if state==2:\n",
    "        return [1,2]\n",
    "    elif state==1:\n",
    "        return [1]\n",
    "    else:\n",
    "        return [1,2,3]\n",
    "    \n",
    "def update_state(state,player,move):\n",
    "    new_state=state-move\n",
    "    return new_state\n",
    "\n",
    "def win_status(state,player):\n",
    "    # the state is *after* the move for the player\n",
    "    if state==1:\n",
    "        return \"win\"\n",
    "    \n",
    "    if state==0:\n",
    "        return \"lose\"\n",
    "    \n",
    "    return None # mid-game"
   ]
  },
  {
   "cell_type": "markdown",
   "id": "2b73f5f6-e774-4bde-94f3-db57480a8de9",
   "metadata": {},
   "source": [
    "## Agent Functions"
   ]
  },
  {
   "cell_type": "code",
   "execution_count": 6,
   "id": "9fc2bb6e-04ec-49b8-b665-cc6c7a0d8cf8",
   "metadata": {},
   "outputs": [],
   "source": [
    "def human_move(state,player):\n",
    "    move=int(input(\"how many sticks to take (1,2, or 3?\"))\n",
    "    return move\n",
    "human_agent=Agent(human_move)    "
   ]
  },
  {
   "cell_type": "code",
   "execution_count": 7,
   "id": "84dda3ca-ea87-440f-a9fa-bbb5ead27e06",
   "metadata": {},
   "outputs": [],
   "source": [
    "def random_move(state,player):\n",
    "    \n",
    "    move=random.choice(valid_moves(state,player))\n",
    "    return move\n",
    "\n",
    "\n",
    "random_agent=Agent(random_move)"
   ]
  },
  {
   "cell_type": "code",
   "execution_count": 8,
   "id": "74454473-403a-4597-ada4-edd245cb5526",
   "metadata": {},
   "outputs": [],
   "source": [
    "from Game.minimax import *\n",
    "def minimax_move(state,player):\n",
    "\n",
    "    values,moves=minimax_values(state,player,display=True)\n",
    "    return top_choice(moves,values)\n",
    "\n",
    "\n",
    "minimax_agent=Agent(minimax_move)"
   ]
  },
  {
   "cell_type": "code",
   "execution_count": 9,
   "id": "34c31a36-7457-467d-86ed-d67eb3e2cafc",
   "metadata": {},
   "outputs": [
    {
     "name": "stdout",
     "output_type": "stream",
     "text": [
      "  Choice Time: 8.296966552734375e-05 seconds \n"
     ]
    },
    {
     "data": {
      "text/plain": [
       "([-1, -1, -1], [3, 2, 1])"
      ]
     },
     "execution_count": 9,
     "metadata": {},
     "output_type": "execute_result"
    }
   ],
   "source": [
    "minimax_values(5,1)"
   ]
  },
  {
   "cell_type": "code",
   "execution_count": 10,
   "id": "387e2644-9d84-477b-8837-45220f39d4bb",
   "metadata": {},
   "outputs": [
    {
     "name": "stdout",
     "output_type": "stream",
     "text": [
      "  Choice Time: 0.0001499652862548828 seconds \n"
     ]
    },
    {
     "data": {
      "text/plain": [
       "([1, -1, -1], [1, 3, 2])"
      ]
     },
     "execution_count": 10,
     "metadata": {},
     "output_type": "execute_result"
    }
   ],
   "source": [
    "minimax_values(6,1)"
   ]
  },
  {
   "cell_type": "code",
   "execution_count": 11,
   "id": "d31fc6db-a886-4ea2-b8a4-d10331433f18",
   "metadata": {},
   "outputs": [
    {
     "name": "stdout",
     "output_type": "stream",
     "text": [
      "  Choice Time: 16.2446768283844 seconds \n"
     ]
    },
    {
     "data": {
      "text/plain": [
       "([1, -1, -1], [2, 3, 1])"
      ]
     },
     "execution_count": 11,
     "metadata": {},
     "output_type": "execute_result"
    }
   ],
   "source": [
    "minimax_values(31,1)"
   ]
  },
  {
   "cell_type": "markdown",
   "id": "f887d351-f175-4af5-9b22-5687792cb8d6",
   "metadata": {},
   "source": [
    "## Running the Game"
   ]
  },
  {
   "cell_type": "code",
   "execution_count": 12,
   "id": "b2316296-c292-4118-849f-9b9817f9cd8e",
   "metadata": {},
   "outputs": [
    {
     "name": "stdout",
     "output_type": "stream",
     "text": [
      "====\n",
      "Game  1\n",
      "There are  21 sticks\n",
      "Player 1 moves 2\n",
      "There are  19 sticks\n",
      "  Choice Time: 0.05959606170654297 seconds \n",
      "Player 2 moves 2\n",
      "There are  17 sticks\n",
      "Player 1 moves 3\n",
      "There are  14 sticks\n",
      "  Choice Time: 0.00609278678894043 seconds \n",
      "Player 2 moves 1\n",
      "There are  13 sticks\n",
      "Player 1 moves 1\n",
      "There are  12 sticks\n",
      "  Choice Time: 0.0022618770599365234 seconds \n",
      "Player 2 moves 3\n",
      "There are  9 sticks\n",
      "Player 1 moves 2\n",
      "There are  7 sticks\n",
      "  Choice Time: 0.00019598007202148438 seconds \n",
      "Player 2 moves 2\n",
      "There are  5 sticks\n",
      "Player 1 moves 3\n",
      "There are  2 sticks\n",
      "  Choice Time: 1.1205673217773438e-05 seconds \n",
      "Player 2 moves 1\n",
      "There are  2 sticks\n",
      "Player  2 won.\n"
     ]
    },
    {
     "data": {
      "text/plain": [
       "[2]"
      ]
     },
     "execution_count": 12,
     "metadata": {},
     "output_type": "execute_result"
    }
   ],
   "source": [
    "g=Game(N=21)\n",
    "g.run(random_agent,minimax_agent)"
   ]
  },
  {
   "cell_type": "markdown",
   "id": "d6a2eab3-59b5-4d72-89fa-d1d4b85296bc",
   "metadata": {},
   "source": [
    "## what happens if the game is too long?"
   ]
  },
  {
   "cell_type": "code",
   "execution_count": 13,
   "id": "cfebfbac-4e4f-408e-b39b-ffeb7bd47d9e",
   "metadata": {},
   "outputs": [
    {
     "name": "stdout",
     "output_type": "stream",
     "text": [
      "====\n",
      "Game  1\n",
      "There are  31 sticks\n",
      "Player 1 moves 2\n",
      "There are  29 sticks\n",
      "  Choice Time: 6.203862190246582 seconds \n",
      "Player 2 moves 3\n",
      "There are  26 sticks\n",
      "Player 1 moves 1\n",
      "There are  25 sticks\n",
      "  Choice Time: 0.9319758415222168 seconds \n",
      "Player 2 moves 3\n",
      "There are  22 sticks\n",
      "Player 1 moves 1\n",
      "There are  21 sticks\n",
      "  Choice Time: 0.14856600761413574 seconds \n",
      "Player 2 moves 3\n",
      "There are  18 sticks\n",
      "Player 1 moves 3\n",
      "There are  15 sticks\n",
      "  Choice Time: 0.007844209671020508 seconds \n",
      "Player 2 moves 2\n",
      "There are  13 sticks\n",
      "Player 1 moves 3\n",
      "There are  10 sticks\n",
      "  Choice Time: 0.0006511211395263672 seconds \n",
      "Player 2 moves 1\n",
      "There are  9 sticks\n",
      "Player 1 moves 1\n",
      "There are  8 sticks\n",
      "  Choice Time: 0.00022029876708984375 seconds \n",
      "Player 2 moves 3\n",
      "There are  5 sticks\n",
      "Player 1 moves 2\n",
      "There are  3 sticks\n",
      "  Choice Time: 1.6927719116210938e-05 seconds \n",
      "Player 2 moves 2\n",
      "There are  3 sticks\n",
      "Player  2 won.\n"
     ]
    },
    {
     "data": {
      "text/plain": [
       "[2]"
      ]
     },
     "execution_count": 13,
     "metadata": {},
     "output_type": "execute_result"
    }
   ],
   "source": [
    "g=Game(N=31)\n",
    "g.run(random_agent,minimax_agent)"
   ]
  },
  {
   "cell_type": "code",
   "execution_count": null,
   "id": "271189ea-1453-440d-886d-e63db927e593",
   "metadata": {},
   "outputs": [],
   "source": []
  },
  {
   "cell_type": "code",
   "execution_count": 17,
   "id": "2b9286e2-e096-49f6-affd-64f59c53f16c",
   "metadata": {},
   "outputs": [
    {
     "name": "stdout",
     "output_type": "stream",
     "text": [
      "====\n",
      "Game  1\n",
      "There are  31 sticks\n",
      "Player 1 moves 3\n",
      "There are  28 sticks\n",
      "  Choice Time: 0.009703874588012695 seconds \n",
      "Player 2 moves 2\n",
      "There are  26 sticks\n",
      "Player 1 moves 1\n",
      "There are  25 sticks\n",
      "  Choice Time: 0.0008249282836914062 seconds \n",
      "Player 2 moves 3\n",
      "There are  22 sticks\n",
      "Player 1 moves 1\n",
      "There are  21 sticks\n",
      "  Choice Time: 0.0008172988891601562 seconds \n",
      "Player 2 moves 1\n",
      "There are  20 sticks\n",
      "Player 1 moves 2\n",
      "There are  18 sticks\n",
      "  Choice Time: 0.0008132457733154297 seconds \n",
      "Player 2 moves 3\n",
      "There are  15 sticks\n",
      "Player 1 moves 2\n",
      "There are  13 sticks\n",
      "  Choice Time: 0.0008220672607421875 seconds \n",
      "Player 2 moves 3\n",
      "There are  10 sticks\n",
      "Player 1 moves 3\n",
      "There are  7 sticks\n",
      "  Choice Time: 0.0002110004425048828 seconds \n",
      "Player 2 moves 2\n",
      "There are  5 sticks\n",
      "Player 1 moves 1\n",
      "There are  4 sticks\n",
      "  Choice Time: 4.1961669921875e-05 seconds \n",
      "Player 2 moves 3\n",
      "There are  4 sticks\n",
      "Player  2 won.\n"
     ]
    },
    {
     "data": {
      "text/plain": [
       "[2]"
      ]
     },
     "execution_count": 17,
     "metadata": {},
     "output_type": "execute_result"
    }
   ],
   "source": [
    "g=Game(N=31)\n",
    "g.run(random_agent,minimax_agent)"
   ]
  },
  {
   "cell_type": "code",
   "execution_count": null,
   "id": "ed86b23e-50c1-4eef-9b1f-80a7e196d435",
   "metadata": {},
   "outputs": [],
   "source": []
  }
 ],
 "metadata": {
  "kernelspec": {
   "display_name": "Python 3",
   "language": "python",
   "name": "python3"
  },
  "language_info": {
   "codemirror_mode": {
    "name": "ipython",
    "version": 3
   },
   "file_extension": ".py",
   "mimetype": "text/x-python",
   "name": "python",
   "nbconvert_exporter": "python",
   "pygments_lexer": "ipython3",
   "version": "3.8.10"
  }
 },
 "nbformat": 4,
 "nbformat_minor": 5
}
