{
 "cells": [
  {
   "cell_type": "code",
   "execution_count": 1,
   "id": "4bc64bcb-305c-4c44-b08f-c944d850cba3",
   "metadata": {},
   "outputs": [
    {
     "name": "stdout",
     "output_type": "stream",
     "text": [
      "Version:  0.2.32\n"
     ]
    }
   ],
   "source": [
    "from Game import *"
   ]
  },
  {
   "cell_type": "markdown",
   "id": "31a91638-a355-4271-aba0-0481d3149241",
   "metadata": {},
   "source": [
    "## Game functions"
   ]
  },
  {
   "cell_type": "code",
   "execution_count": 2,
   "id": "dfe723de-f606-4fd9-ac7f-3ade68887a36",
   "metadata": {},
   "outputs": [],
   "source": [
    "def initial_state():\n",
    "    state=Board(3,3)\n",
    "    state.pieces=[\".\",\"X\",\"O\"]\n",
    "    return state\n",
    "\n",
    "def show_state(state):\n",
    "    print(state)\n",
    "    \n",
    "def valid_moves(state,player):\n",
    "    # run through all the spots\n",
    "    # if it is empty, then append that\n",
    "    # location to the possible moves\n",
    "    \n",
    "    moves=[]\n",
    "    for location in range(9):\n",
    "        if state[location]==0:\n",
    "            moves.append(location)\n",
    "            \n",
    "    return moves  \n",
    "\n",
    "def update_state(state,player,move):\n",
    "    new_state=state\n",
    "    \n",
    "    new_state[move]=player\n",
    "    return new_state    \n",
    "    \n",
    "def win_status(state,player):\n",
    "    # the state is *after* the move for the player\n",
    "\n",
    "    #  0  1  2 \n",
    "    #  3  4  5 \n",
    "    #  6  7  8   \n",
    "    \n",
    "    for start,middle,end in [\n",
    "        [0,1,2],[3,4,5],[6,7,8],\n",
    "        [0,3,6],[1,4,7],[2,5,8],\n",
    "        [0,4,8],[2,4,6],\n",
    "                ]:\n",
    "        \n",
    "        if state[start]==player and state[middle]==player and state[end]==player:\n",
    "            return \"win\"\n",
    "        \n",
    "    if player==1:\n",
    "        other_player=2\n",
    "    else:\n",
    "        other_player=1\n",
    "    \n",
    "    if not valid_moves(state,other_player):\n",
    "        return \"stalemate\"\n",
    "    \n",
    "    \n",
    "    \n",
    "    \n"
   ]
  },
  {
   "cell_type": "markdown",
   "id": "e6f63639-96ee-48ec-b503-c58a8e54586d",
   "metadata": {},
   "source": [
    "## Agent Functions"
   ]
  },
  {
   "cell_type": "code",
   "execution_count": 3,
   "id": "035befec-dccd-4a43-ae09-99172d1e22f8",
   "metadata": {},
   "outputs": [],
   "source": [
    "def human_move(state,player):\n",
    "    \n",
    "    state.show_locations()\n",
    "    print(\"Player\",player)\n",
    "    move=int(input(\"which square to move?\"))\n",
    "    return move\n",
    "\n",
    "human_agent=Agent(human_move)     "
   ]
  },
  {
   "cell_type": "code",
   "execution_count": 4,
   "id": "efa3f2fc-0c8b-4544-8b11-b6075c0d457c",
   "metadata": {},
   "outputs": [],
   "source": [
    "def random_move(state,player):\n",
    "    \n",
    "    move=random.choice(valid_moves(state,player))\n",
    "    return move\n",
    "\n",
    "\n",
    "random_agent=Agent(random_move)"
   ]
  },
  {
   "cell_type": "code",
   "execution_count": 5,
   "id": "4ce89642-0da6-4f14-9edf-a7a7648991f7",
   "metadata": {},
   "outputs": [],
   "source": [
    "from Game.minimax import *\n",
    "def minimax_move(state,player):\n",
    "\n",
    "    values,moves=minimax_values(state,player,display=True)\n",
    "    return top_choice(moves,values)\n",
    "\n",
    "\n",
    "minimax_agent=Agent(minimax_move)"
   ]
  },
  {
   "cell_type": "code",
   "execution_count": 7,
   "id": "b905a7be-458d-4632-a6d2-7f04159f7db9",
   "metadata": {},
   "outputs": [
    {
     "name": "stdout",
     "output_type": "stream",
     "text": [
      "  Choice Time: 2.136528730392456 seconds \n"
     ]
    },
    {
     "data": {
      "text/plain": [
       "([0, 0, 0, 0, 0, 0, 0, 0, 0], [8, 7, 6, 5, 4, 3, 2, 1, 0])"
      ]
     },
     "execution_count": 7,
     "metadata": {},
     "output_type": "execute_result"
    }
   ],
   "source": [
    "player=1\n",
    "state=initial_state()\n",
    "minimax_values(state,player,display=True)"
   ]
  },
  {
   "cell_type": "code",
   "execution_count": 8,
   "id": "57a60366-cf37-44da-a20c-5f8e5749e736",
   "metadata": {},
   "outputs": [
    {
     "name": "stdout",
     "output_type": "stream",
     "text": [
      "  Choice Time: 2.1416032314300537 seconds \n",
      "  Choice Time: 0.11216592788696289 seconds \n",
      "  Choice Time: 0.005842924118041992 seconds \n",
      "  Choice Time: 0.0003819465637207031 seconds \n",
      "  Choice Time: 5.793571472167969e-05 seconds \n"
     ]
    },
    {
     "data": {
      "text/plain": [
       "[1]"
      ]
     },
     "execution_count": 8,
     "metadata": {},
     "output_type": "execute_result"
    }
   ],
   "source": [
    "g=Game()\n",
    "g.display=False\n",
    "g.run(minimax_agent,random_agent)"
   ]
  },
  {
   "cell_type": "code",
   "execution_count": 1,
   "id": "0a50cd98-2541-460a-ad07-33faf6fec4ac",
   "metadata": {},
   "outputs": [
    {
     "name": "stdout",
     "output_type": "stream",
     "text": [
      "Populating the interactive namespace from numpy and matplotlib\n"
     ]
    }
   ],
   "source": [
    "%pylab inline"
   ]
  },
  {
   "cell_type": "code",
   "execution_count": 2,
   "id": "8fb1dd94-8ce8-40e0-9493-89ca29a980ea",
   "metadata": {},
   "outputs": [],
   "source": [
    "T=[2.14,.112,.0058,.00038,5.89e-5]"
   ]
  },
  {
   "cell_type": "code",
   "execution_count": 3,
   "id": "1bef3a8d-b88b-45db-be00-a1a4d7e15a6f",
   "metadata": {},
   "outputs": [
    {
     "data": {
      "text/plain": [
       "[<matplotlib.lines.Line2D at 0x10edd1130>]"
      ]
     },
     "execution_count": 3,
     "metadata": {},
     "output_type": "execute_result"
    },
    {
     "data": {
      "image/png": "[encoded data removed]",
      "text/plain": [
       "<Figure size 432x288 with 1 Axes>"
      ]
     },
     "metadata": {
      "needs_background": "light"
     },
     "output_type": "display_data"
    }
   ],
   "source": [
    "plot(T,'-o')"
   ]
  },
  {
   "cell_type": "code",
   "execution_count": 4,
   "id": "59cc0fb7-cc92-4058-8579-678171df3e5f",
   "metadata": {},
   "outputs": [
    {
     "data": {
      "text/plain": [
       "[<matplotlib.lines.Line2D at 0x10eec6fa0>]"
      ]
     },
     "execution_count": 4,
     "metadata": {},
     "output_type": "execute_result"
    },
    {
     "data": {
      "image/png": "[encoded data removed]",
      "text/plain": [
       "<Figure size 432x288 with 1 Axes>"
      ]
     },
     "metadata": {
      "needs_background": "light"
     },
     "output_type": "display_data"
    }
   ],
   "source": [
    "plot(log10(T),'-o')"
   ]
  },
  {
   "cell_type": "markdown",
   "id": "4002e695-d909-466d-aa66-ce0dd90f727e",
   "metadata": {},
   "source": [
    "the log plot has a slope of about -1.  A little closer is,"
   ]
  },
  {
   "cell_type": "code",
   "execution_count": 5,
   "id": "17ff2ebe-d54d-4d87-80bb-75cab0299fa3",
   "metadata": {},
   "outputs": [],
   "source": [
    "rise = log10(T)[3]-log10(T)[0]\n",
    "run = 3. # number of moves"
   ]
  },
  {
   "cell_type": "code",
   "execution_count": 7,
   "id": "14aba9dd-cad1-4b67-a418-48be4a6e784d",
   "metadata": {},
   "outputs": [
    {
     "data": {
      "text/plain": [
       "-1.2502100589107936"
      ]
     },
     "execution_count": 7,
     "metadata": {},
     "output_type": "execute_result"
    }
   ],
   "source": [
    "slope=rise/run\n",
    "slope"
   ]
  },
  {
   "cell_type": "code",
   "execution_count": 9,
   "id": "b989a616-5a0a-4095-806a-27b1404c76a7",
   "metadata": {},
   "outputs": [
    {
     "data": {
      "text/plain": [
       "0.33041377334919086"
      ]
     },
     "execution_count": 9,
     "metadata": {},
     "output_type": "execute_result"
    }
   ],
   "source": [
    "intercept=log10(T)[0]\n",
    "intercept"
   ]
  },
  {
   "cell_type": "code",
   "execution_count": 10,
   "id": "0c08d3e0-1c84-4d5e-a48b-2c493bdb51a8",
   "metadata": {},
   "outputs": [
    {
     "data": {
      "text/plain": [
       "2.137962089502232"
      ]
     },
     "execution_count": 10,
     "metadata": {},
     "output_type": "execute_result"
    }
   ],
   "source": [
    "10**.33"
   ]
  },
  {
   "cell_type": "markdown",
   "id": "43776fad-6342-47fc-9c16-86d1bc545531",
   "metadata": {},
   "source": [
    "so the equation for the time would be,\n",
    "\n",
    "$$\n",
    "T=10^{\\rm intercept} \\cdot 10^{-|slope|\\cdot {\\rm move}}= 2.14\\times 10^{-1.25 \\cdot {\\rm move}}\n",
    "$$\n"
   ]
  },
  {
   "cell_type": "markdown",
   "id": "b6fe5ff7-dbb3-454c-93e4-c84239a374dd",
   "metadata": {},
   "source": [
    "Some other data from Chomp"
   ]
  },
  {
   "cell_type": "code",
   "execution_count": 11,
   "id": "17a06e98-de9d-4012-b82a-0b4e5c4362a2",
   "metadata": {},
   "outputs": [],
   "source": [
    "n=[4,6,8,12,16,20]\n",
    "T=[.001,.03,.13,1.87,5.29,4*60+35]"
   ]
  },
  {
   "cell_type": "code",
   "execution_count": 12,
   "id": "0021052f-7582-4b6c-b9de-81d606b12717",
   "metadata": {},
   "outputs": [
    {
     "data": {
      "text/plain": [
       "[<matplotlib.lines.Line2D at 0x10ef40790>]"
      ]
     },
     "execution_count": 12,
     "metadata": {},
     "output_type": "execute_result"
    },
    {
     "data": {
      "image/png": "[encoded data removed]",
      "text/plain": [
       "<Figure size 432x288 with 1 Axes>"
      ]
     },
     "metadata": {
      "needs_background": "light"
     },
     "output_type": "display_data"
    }
   ],
   "source": [
    "plot(n,T,'-o')"
   ]
  },
  {
   "cell_type": "code",
   "execution_count": 13,
   "id": "0acf3027-8588-4b6f-a301-5e70d780e8f4",
   "metadata": {},
   "outputs": [
    {
     "data": {
      "text/plain": [
       "[<matplotlib.lines.Line2D at 0x10efa7a30>]"
      ]
     },
     "execution_count": 13,
     "metadata": {},
     "output_type": "execute_result"
    },
    {
     "data": {
      "image/png": "[encoded data removed]",
      "text/plain": [
       "<Figure size 432x288 with 1 Axes>"
      ]
     },
     "metadata": {
      "needs_background": "light"
     },
     "output_type": "display_data"
    }
   ],
   "source": [
    "plot(n,log10(T),'-o')"
   ]
  },
  {
   "cell_type": "code",
   "execution_count": 17,
   "id": "bc1ae142-34e2-4071-8c00-940cc6f6df99",
   "metadata": {},
   "outputs": [
    {
     "data": {
      "text/plain": [
       "(0.30060883095087354, -3.6357480438881993)"
      ]
     },
     "execution_count": 17,
     "metadata": {},
     "output_type": "execute_result"
    }
   ],
   "source": [
    "slope,intercept=polyfit(n,log10(T),1)\n",
    "slope,intercept"
   ]
  },
  {
   "cell_type": "code",
   "execution_count": 18,
   "id": "34daebc4-f1a1-4ce3-8adc-bb817ad6eb37",
   "metadata": {},
   "outputs": [
    {
     "data": {
      "text/plain": [
       "2.5879652002496296e+20"
      ]
     },
     "execution_count": 18,
     "metadata": {},
     "output_type": "execute_result"
    }
   ],
   "source": [
    "size=80\n",
    "10**intercept * 10**(slope*size)"
   ]
  },
  {
   "cell_type": "code",
   "execution_count": 19,
   "id": "c7f9012d-b883-4391-9dbf-b496537d67e4",
   "metadata": {},
   "outputs": [
    {
     "data": {
      "text/plain": [
       "8200766852516.127"
      ]
     },
     "execution_count": 19,
     "metadata": {},
     "output_type": "execute_result"
    }
   ],
   "source": [
    "10**intercept * 10**(slope*size)/60/60/24/365.25"
   ]
  },
  {
   "cell_type": "code",
   "execution_count": null,
   "id": "35a26155-da85-4797-a3df-a48a5895e04b",
   "metadata": {},
   "outputs": [],
   "source": []
  }
 ],
 "metadata": {
  "kernelspec": {
   "display_name": "Python 3",
   "language": "python",
   "name": "python3"
  },
  "language_info": {
   "codemirror_mode": {
    "name": "ipython",
    "version": 3
   },
   "file_extension": ".py",
   "mimetype": "text/x-python",
   "name": "python",
   "nbconvert_exporter": "python",
   "pygments_lexer": "ipython3",
   "version": "3.8.10"
  }
 },
 "nbformat": 4,
 "nbformat_minor": 5
}
