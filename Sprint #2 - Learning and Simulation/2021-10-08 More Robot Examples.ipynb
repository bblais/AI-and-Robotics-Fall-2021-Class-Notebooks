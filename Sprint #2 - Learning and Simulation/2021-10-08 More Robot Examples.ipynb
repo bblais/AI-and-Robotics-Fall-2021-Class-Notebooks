{
 "cells": [
  {
   "cell_type": "code",
   "execution_count": 1,
   "id": "3a828735-01a0-4d79-b5a3-2b4a4aacb4b4",
   "metadata": {},
   "outputs": [
    {
     "name": "stdout",
     "output_type": "stream",
     "text": [
      "Populating the interactive namespace from numpy and matplotlib\n"
     ]
    }
   ],
   "source": [
    "%pylab inline"
   ]
  },
  {
   "cell_type": "code",
   "execution_count": 2,
   "id": "8264c1e4-c7e5-422c-8f82-a81ada4f60f6",
   "metadata": {},
   "outputs": [
    {
     "name": "stdout",
     "output_type": "stream",
     "text": [
      "Version:  0.0.30\n"
     ]
    }
   ],
   "source": [
    "from RobotSim373 import *"
   ]
  },
  {
   "cell_type": "code",
   "execution_count": 33,
   "id": "64defa6d-bee4-467c-86e6-65c26901cb8e",
   "metadata": {},
   "outputs": [],
   "source": [
    "def build(robot):\n",
    "    Disk(robot,x=3,y=5,radius=1,name='bob')\n",
    "    "
   ]
  },
  {
   "cell_type": "code",
   "execution_count": 34,
   "id": "43f5fb63-6907-4ec3-8b36-82c1fa173357",
   "metadata": {},
   "outputs": [],
   "source": [
    "def act(t,robot):\n",
    "    distance=robot['bob'].read_distance()\n",
    "    \n",
    "    if distance<5:\n",
    "        robot['bob'].τ=1\n",
    "        robot['bob'].F=-10\n",
    "    else:\n",
    "        robot['bob'].F=10\n",
    "        robot['bob'].τ=0\n",
    "        "
   ]
  },
  {
   "cell_type": "code",
   "execution_count": 35,
   "id": "11973c64-2008-476b-933e-cb4bcd335814",
   "metadata": {},
   "outputs": [],
   "source": [
    "# def act(t,robot):\n",
    "#     distance=robot['bob'].read_distance()\n",
    "    \n",
    "#     if distance<2:\n",
    "#         robot['bob'].τ=0\n",
    "#         robot['bob'].F=0\n",
    "#     else:\n",
    "#         robot['bob'].F=10\n",
    "#         robot['bob'].τ=0\n",
    "        "
   ]
  },
  {
   "cell_type": "code",
   "execution_count": 37,
   "id": "a6683537-0d2e-4977-8d7e-d6ea9c8df7ac",
   "metadata": {},
   "outputs": [
    {
     "data": {
      "image/png": "[encoded data removed]",
      "text/plain": [
       "<Figure size 432x432 with 1 Axes>"
      ]
     },
     "metadata": {
      "needs_background": "light"
     },
     "output_type": "display_data"
    }
   ],
   "source": [
    "env=FrictionEnvironment(24,24)\n",
    "robot=Robot(env)\n",
    "build(robot)\n",
    "\n",
    "Box(env,x=10,y=10,width=5,height=1)\n",
    "Box(env,x=10,y=16,width=1,height=5)\n",
    "Box(env,x=20,y=5,width=2,height=2)\n",
    "\n",
    "\n",
    "run_sim(env,act,\n",
    "        figure_width=6,\n",
    "        total_time=80,  # seconds\n",
    "        dt_display=1,  # make this larger for a faster display\n",
    "       )"
   ]
  },
  {
   "cell_type": "code",
   "execution_count": 49,
   "id": "fe0a8d3d-78c8-405d-8107-8724fbba6a03",
   "metadata": {},
   "outputs": [],
   "source": [
    "def build(robot):\n",
    "    bob=Disk(robot,x=3,y=5,radius=.5,name='bob')\n",
    "    sally=Disk(robot,x=3,y=3.8,radius=.5,name='sally')\n",
    "    \n",
    "    connect(bob,sally,'weld')\n",
    "    "
   ]
  },
  {
   "cell_type": "code",
   "execution_count": 52,
   "id": "d8804e13-0c0f-411f-bb48-a76f09d254e5",
   "metadata": {},
   "outputs": [],
   "source": [
    "def act(t,robot):\n",
    "    distance1=robot['bob'].read_distance()\n",
    "    distance2=robot['sally'].read_distance()\n",
    "    \n",
    "    if distance1<5 or distance2<5:\n",
    "        robot['bob'].τ=1\n",
    "        robot['bob'].F=-10\n",
    "        robot['sally'].τ=1\n",
    "        robot['sally'].F=-10\n",
    "    else:\n",
    "        robot['bob'].F=10\n",
    "        robot['bob'].τ=0\n",
    "        robot['sally'].τ=0\n",
    "        robot['sally'].F=10\n",
    "        "
   ]
  },
  {
   "cell_type": "code",
   "execution_count": 53,
   "id": "4867a147-3802-4ec5-9bcd-7d81beda6848",
   "metadata": {},
   "outputs": [
    {
     "data": {
      "image/png": "[encoded data removed]",
      "text/plain": [
       "<Figure size 432x432 with 1 Axes>"
      ]
     },
     "metadata": {
      "needs_background": "light"
     },
     "output_type": "display_data"
    }
   ],
   "source": [
    "env=FrictionEnvironment(24,24)\n",
    "robot=Robot(env)\n",
    "build(robot)\n",
    "\n",
    "Box(env,x=10,y=10,width=5,height=1)\n",
    "Box(env,x=10,y=16,width=1,height=5)\n",
    "Box(env,x=20,y=5,width=2,height=2)\n",
    "\n",
    "\n",
    "run_sim(env,act,\n",
    "        figure_width=6,\n",
    "        total_time=80,  # seconds\n",
    "        dt_display=.1,  # make this larger for a faster display\n",
    "       )"
   ]
  },
  {
   "cell_type": "code",
   "execution_count": 57,
   "id": "78c3f98a-ea40-4391-85dd-f71a54eb4c14",
   "metadata": {},
   "outputs": [],
   "source": [
    "def build(robot):\n",
    "    \n",
    "    r_center=0.5\n",
    "    r_sensor=0.3\n",
    "    \n",
    "    center=Disk(robot,x=3,y=5,radius=r_center,name='center')\n",
    "    right=Disk(robot,x=3+r_center+r_sensor+0.02,y=5,radius=r_sensor,name='right')\n",
    "    left=Disk(robot,x=3-r_center-r_sensor-0.02,y=5,radius=r_sensor,angle=180,name='left')\n",
    "    \n",
    "    \n",
    "    connect(center,right,'weld')\n",
    "    connect(center,left,'weld')\n",
    "    "
   ]
  },
  {
   "cell_type": "code",
   "execution_count": 58,
   "id": "3934f34c-e6a2-4c53-a34a-a3d0ac650340",
   "metadata": {},
   "outputs": [],
   "source": [
    "def act(t,robot):\n",
    "    distance_right=robot['right'].read_distance()\n",
    "    distance_left=robot['left'].read_distance()\n",
    "    \n",
    "    if distance_right<5 or distance_left<5:\n",
    "        robot['center'].τ=1\n",
    "        robot['center'].F=-10\n",
    "    else:\n",
    "        robot['center'].τ=0\n",
    "        robot['center'].F=10\n",
    "        "
   ]
  },
  {
   "cell_type": "code",
   "execution_count": 59,
   "id": "e5e7b622-5da6-41e6-9602-7b8340ade321",
   "metadata": {},
   "outputs": [
    {
     "data": {
      "image/png": "[encoded data removed]",
      "text/plain": [
       "<Figure size 432x432 with 1 Axes>"
      ]
     },
     "metadata": {
      "needs_background": "light"
     },
     "output_type": "display_data"
    }
   ],
   "source": [
    "env=FrictionEnvironment(24,24)\n",
    "robot=Robot(env)\n",
    "build(robot)\n",
    "\n",
    "Box(env,x=10,y=10,width=5,height=1)\n",
    "Box(env,x=10,y=16,width=1,height=5)\n",
    "Box(env,x=20,y=5,width=2,height=2)\n",
    "\n",
    "\n",
    "run_sim(env,act,\n",
    "        figure_width=6,\n",
    "        total_time=80,  # seconds\n",
    "        dt_display=.1,  # make this larger for a faster display\n",
    "       )"
   ]
  },
  {
   "cell_type": "code",
   "execution_count": null,
   "id": "5615c7f7-6e38-4f73-afec-c9ede9297aa7",
   "metadata": {},
   "outputs": [],
   "source": []
  }
 ],
 "metadata": {
  "kernelspec": {
   "display_name": "Python 3",
   "language": "python",
   "name": "python3"
  },
  "language_info": {
   "codemirror_mode": {
    "name": "ipython",
    "version": 3
   },
   "file_extension": ".py",
   "mimetype": "text/x-python",
   "name": "python",
   "nbconvert_exporter": "python",
   "pygments_lexer": "ipython3",
   "version": "3.8.10"
  }
 },
 "nbformat": 4,
 "nbformat_minor": 5
}
