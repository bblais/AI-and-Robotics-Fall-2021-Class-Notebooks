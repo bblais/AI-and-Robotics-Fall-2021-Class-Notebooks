{
 "cells": [
  {
   "cell_type": "code",
   "execution_count": 1,
   "id": "90d315de-d356-4277-bfcd-b3c953d044e4",
   "metadata": {},
   "outputs": [
    {
     "name": "stdout",
     "output_type": "stream",
     "text": [
      "Version:  0.2.30\n"
     ]
    }
   ],
   "source": [
    "from Game import *"
   ]
  },
  {
   "cell_type": "markdown",
   "id": "d23bcbd9-2ffa-42ac-8584-47e3d2d29d0a",
   "metadata": {},
   "source": [
    "## Game functions"
   ]
  },
  {
   "cell_type": "code",
   "execution_count": 2,
   "id": "15420972-b911-4f92-9727-3791e0021b28",
   "metadata": {},
   "outputs": [],
   "source": [
    "def initial_state():\n",
    "    state=Board(3,3)\n",
    "    state.pieces=[\".\",\"X\",\"O\"]\n",
    "    return state\n",
    "\n",
    "def show_state(state):\n",
    "    print(state)\n",
    "    \n",
    "def valid_moves(state,player):\n",
    "    # run through all the spots\n",
    "    # if it is empty, then append that\n",
    "    # location to the possible moves\n",
    "    \n",
    "    moves=[]\n",
    "    for location in range(9):\n",
    "        if state[location]==0:\n",
    "            moves.append(location)\n",
    "            \n",
    "    return moves  \n",
    "\n",
    "def update_state(state,player,move):\n",
    "    new_state=state\n",
    "    \n",
    "    new_state[move]=player\n",
    "    return new_state    \n",
    "    \n",
    "def win_status(state,player):\n",
    "    # the state is *after* the move for the player\n",
    "\n",
    "    #  0  1  2 \n",
    "    #  3  4  5 \n",
    "    #  6  7  8   \n",
    "    \n",
    "    for start,middle,end in [\n",
    "        [0,1,2],[3,4,5],[6,7,8],\n",
    "        [0,3,6],[1,4,7],[2,5,8],\n",
    "        [0,4,8],[2,4,6],\n",
    "                ]:\n",
    "        \n",
    "        if state[start]==player and state[middle]==player and state[end]==player:\n",
    "            return \"win\"\n",
    "        \n",
    "    if player==1:\n",
    "        other_player=2\n",
    "    else:\n",
    "        other_player=1\n",
    "    \n",
    "    if not valid_moves(state,other_player):\n",
    "        return \"stalemate\"\n",
    "    "
   ]
  },
  {
   "cell_type": "markdown",
   "id": "2b73f5f6-e774-4bde-94f3-db57480a8de9",
   "metadata": {},
   "source": [
    "## Agent Functions"
   ]
  },
  {
   "cell_type": "code",
   "execution_count": 3,
   "id": "9fc2bb6e-04ec-49b8-b665-cc6c7a0d8cf8",
   "metadata": {},
   "outputs": [],
   "source": [
    "def human_move(state,player):\n",
    "    \n",
    "    state.show_locations()\n",
    "    print(\"Player\",player)\n",
    "    move=int(input(\"which square to move?\"))\n",
    "    return move\n",
    "\n",
    "human_agent=Agent(human_move)     "
   ]
  },
  {
   "cell_type": "code",
   "execution_count": 4,
   "id": "84dda3ca-ea87-440f-a9fa-bbb5ead27e06",
   "metadata": {},
   "outputs": [],
   "source": [
    "def random_move(state,player):\n",
    "    \n",
    "    move=random.choice(valid_moves(state,player))\n",
    "    return move\n",
    "\n",
    "\n",
    "random_agent=Agent(random_move)"
   ]
  },
  {
   "cell_type": "code",
   "execution_count": 5,
   "id": "74454473-403a-4597-ada4-edd245cb5526",
   "metadata": {},
   "outputs": [],
   "source": [
    "from Game.minimax import *\n",
    "def minimax_move(state,player):\n",
    "\n",
    "    values,moves=minimax_values(state,player,display=True)\n",
    "    return top_choice(moves,values)\n",
    "\n",
    "\n",
    "minimax_agent=Agent(minimax_move)"
   ]
  },
  {
   "cell_type": "markdown",
   "id": "e3f47303-f2ca-45e2-973f-e4254478ac98",
   "metadata": {},
   "source": [
    "## Skittles Agent"
   ]
  },
  {
   "cell_type": "code",
   "execution_count": 6,
   "id": "213ef3b2-ca15-4ba0-ae39-13b63adaab19",
   "metadata": {},
   "outputs": [],
   "source": [
    "def skittles_move(state,player,info):\n",
    "    T=info.T\n",
    "    last_state=info.last_state\n",
    "    last_action=info.last_action\n",
    "    learning=info.learning\n",
    "    \n",
    "    if state not in T:\n",
    "        actions=valid_moves(state,player)\n",
    "        T[state]=Table()\n",
    "        for action in actions:\n",
    "            T[state][action]=2  # initial number of skittles\n",
    "    \n",
    "    move=weighted_choice(T[state])\n",
    "    \n",
    "    if move is None:  \n",
    "        \n",
    "        # learn\n",
    "        if learning:\n",
    "            if last_state:\n",
    "                T[last_state][last_action]-=1 # take away a skittle\n",
    "                if T[last_state][last_action]<0:\n",
    "                    T[last_state][last_action]=0\n",
    "    \n",
    "        return random_move(state,player)\n",
    "    else:\n",
    "        return move"
   ]
  },
  {
   "cell_type": "code",
   "execution_count": 7,
   "id": "4fb63acf-7843-447e-8ba1-2d97f3d22690",
   "metadata": {},
   "outputs": [],
   "source": [
    "def skittles_after(status,player,info):\n",
    "    # not return anything but...\n",
    "    # will adjust the skittles table if lost the game\n",
    "    T=info.T\n",
    "    last_state=info.last_state\n",
    "    last_action=info.last_action\n",
    "    learning=info.learning\n",
    "    \n",
    "    if learning:\n",
    "        if status=='lose':  # only learn when you lose\n",
    "            T[last_state][last_action]-=1 # take away a skittle\n",
    "            if T[last_state][last_action]<0:\n",
    "                T[last_state][last_action]=0"
   ]
  },
  {
   "cell_type": "code",
   "execution_count": 8,
   "id": "c7c67522-fbd6-4eb9-beca-71b88561edec",
   "metadata": {},
   "outputs": [],
   "source": [
    "skittles1_agent=Agent(skittles_move)\n",
    "skittles1_agent.post=skittles_after\n",
    "skittles1_agent.T=Table()  # makes an empty table\n",
    "skittles1_agent.learning=True\n",
    "\n",
    "skittles2_agent=Agent(skittles_move)\n",
    "skittles2_agent.post=skittles_after\n",
    "skittles2_agent.T=Table()  # makes an empty table\n",
    "skittles2_agent.learning=True"
   ]
  },
  {
   "cell_type": "markdown",
   "id": "f887d351-f175-4af5-9b22-5687792cb8d6",
   "metadata": {},
   "source": [
    "## Running the Game"
   ]
  },
  {
   "cell_type": "code",
   "execution_count": 9,
   "id": "cb34a25e-f5a0-4015-8663-d95a1ea6bc0b",
   "metadata": {},
   "outputs": [
    {
     "name": "stdout",
     "output_type": "stream",
     "text": [
      "====\n",
      "Game  1\n",
      " .  .  . \n",
      " .  .  . \n",
      " .  .  . \n",
      "\n",
      "Player 1 moves 6\n",
      " .  .  . \n",
      " .  .  . \n",
      " X  .  . \n",
      "\n",
      "Player 2 moves 1\n",
      " .  O  . \n",
      " .  .  . \n",
      " X  .  . \n",
      "\n",
      "Player 1 moves 3\n",
      " .  O  . \n",
      " X  .  . \n",
      " X  .  . \n",
      "\n",
      "Player 2 moves 0\n",
      " O  O  . \n",
      " X  .  . \n",
      " X  .  . \n",
      "\n",
      "Player 1 moves 4\n",
      " O  O  . \n",
      " X  X  . \n",
      " X  .  . \n",
      "\n",
      "Player 2 moves 7\n",
      " O  O  . \n",
      " X  X  . \n",
      " X  O  . \n",
      "\n",
      "Player 1 moves 5\n",
      " O  O  . \n",
      " X  X  X \n",
      " X  O  . \n",
      "\n",
      "Player  1 won.\n"
     ]
    },
    {
     "data": {
      "text/plain": [
       "[1]"
      ]
     },
     "execution_count": 9,
     "metadata": {},
     "output_type": "execute_result"
    }
   ],
   "source": [
    "g=Game()\n",
    "g.run(skittles1_agent,skittles2_agent)"
   ]
  },
  {
   "cell_type": "code",
   "execution_count": 10,
   "id": "dc9030ab-05fc-496e-8861-57b1676a7f9e",
   "metadata": {},
   "outputs": [
    {
     "name": "stdout",
     "output_type": "stream",
     "text": [
      "CPU times: user 3min 53s, sys: 991 ms, total: 3min 54s\n",
      "Wall time: 8min 28s\n"
     ]
    }
   ],
   "source": [
    "%%time \n",
    "N_train=500\n",
    "N_test=100\n",
    "iteration_count=0\n",
    "\n",
    "skittles1_agent.T=Table()  # makes an empty table\n",
    "skittles2_agent.T=Table()  # makes an empty table\n",
    "\n",
    "percentage_won_player1=[]\n",
    "percentage_won_player2=[]\n",
    "percentage_tie=[]\n",
    "number_of_iterations=[]\n",
    "\n",
    "for i in range(200):\n",
    "\n",
    "    skittles1_agent.learning=True\n",
    "    skittles2_agent.learning=True\n",
    "    g=Game(number_of_games=N_train)\n",
    "    g.display=False\n",
    "    result=g.run(skittles1_agent,skittles2_agent)\n",
    "\n",
    "\n",
    "    # turn learning off to test\n",
    "    skittles1_agent.learning=False\n",
    "    skittles2_agent.learning=False\n",
    "    g=Game(number_of_games=N_test)\n",
    "    g.display=False\n",
    "    result=g.run(skittles1_agent,skittles2_agent)\n",
    "    iteration_count+=N_train\n",
    "\n",
    "    percentage_won_player1.append(result.count(1)/N_test*100)\n",
    "    percentage_won_player2.append(result.count(2)/N_test*100)\n",
    "    percentage_tie.append(result.count(0)/N_test*100)\n",
    "    number_of_iterations.append(iteration_count)\n",
    "\n",
    "    \n",
    "SaveTable(skittles1_agent.T,\"TTT skittles1 table.json\")     \n",
    "SaveTable(skittles2_agent.T,\"TTT skittles2 table.json\")     "
   ]
  },
  {
   "cell_type": "code",
   "execution_count": null,
   "id": "62a8372c-672d-480c-b7a4-ba9666d776e2",
   "metadata": {},
   "outputs": [],
   "source": []
  },
  {
   "cell_type": "code",
   "execution_count": 11,
   "id": "c30ff841-85b5-4509-b801-636310ff7eea",
   "metadata": {},
   "outputs": [],
   "source": [
    "%matplotlib inline\n",
    "from pylab import plot,xlabel,ylabel,legend,figure"
   ]
  },
  {
   "cell_type": "code",
   "execution_count": 12,
   "id": "45cca6cb-a469-4260-9a54-3339ecd368ed",
   "metadata": {},
   "outputs": [
    {
     "data": {
      "text/plain": [
       "Text(0, 0.5, 'Percentage Won')"
      ]
     },
     "execution_count": 12,
     "metadata": {},
     "output_type": "execute_result"
    },
    {
     "data": {
      "image/png": "[encoded data removed]",
      "text/plain": [
       "<Figure size 864x720 with 1 Axes>"
      ]
     },
     "metadata": {
      "needs_background": "light"
     },
     "output_type": "display_data"
    }
   ],
   "source": [
    "figure(figsize=(12,10))\n",
    "plot(number_of_iterations,percentage_won_player1,'-o',label='Player 1')\n",
    "plot(number_of_iterations,percentage_won_player2,'-x',label='Player 2')\n",
    "plot(number_of_iterations,percentage_tie,'-s',label='Tie')\n",
    "legend()\n",
    "xlabel('Number of Games')\n",
    "ylabel('Percentage Won')"
   ]
  },
  {
   "cell_type": "markdown",
   "id": "0e3df1e1-cb38-4b1e-ab58-131e1ab7ab8c",
   "metadata": {},
   "source": [
    "## Loading a game"
   ]
  },
  {
   "cell_type": "code",
   "execution_count": 13,
   "id": "907dfd35-24c3-43db-b557-7f2c9759262d",
   "metadata": {},
   "outputs": [],
   "source": [
    "skittles1_agent=Agent(skittles_move)\n",
    "skittles1_agent.post=skittles_after\n",
    "skittles1_agent.T=LoadTable(\"TTT skittles1 table.json\")  # makes an empty table\n",
    "skittles1_agent.learning=True\n",
    "\n",
    "skittles2_agent=Agent(skittles_move)\n",
    "skittles2_agent.post=skittles_after\n",
    "skittles2_agent.T=LoadTable(\"TTT skittles2 table.json\")  # makes an empty table\n",
    "skittles2_agent.learning=True"
   ]
  },
  {
   "cell_type": "code",
   "execution_count": 14,
   "id": "d721d802-3a39-4924-b87c-5e35e2ba8294",
   "metadata": {},
   "outputs": [
    {
     "name": "stdout",
     "output_type": "stream",
     "text": [
      "====\n",
      "Game  1\n",
      " .  .  . \n",
      " .  .  . \n",
      " .  .  . \n",
      "\n",
      "Player 1 moves 6\n",
      " .  .  . \n",
      " .  .  . \n",
      " X  .  . \n",
      "\n",
      "Player 2 moves 4\n",
      " .  .  . \n",
      " .  O  . \n",
      " X  .  . \n",
      "\n",
      "Player 1 moves 8\n",
      " .  .  . \n",
      " .  O  . \n",
      " X  .  X \n",
      "\n",
      "Player 2 moves 7\n",
      " .  .  . \n",
      " .  O  . \n",
      " X  O  X \n",
      "\n",
      "Player 1 moves 1\n",
      " .  X  . \n",
      " .  O  . \n",
      " X  O  X \n",
      "\n",
      "Player 2 moves 5\n",
      " .  X  . \n",
      " .  O  O \n",
      " X  O  X \n",
      "\n",
      "Player 1 moves 3\n",
      " .  X  . \n",
      " X  O  O \n",
      " X  O  X \n",
      "\n",
      "Player 2 moves 0\n",
      " O  X  . \n",
      " X  O  O \n",
      " X  O  X \n",
      "\n",
      "Player 1 moves 2\n",
      " O  X  X \n",
      " X  O  O \n",
      " X  O  X \n",
      "\n",
      "Neither player won:  stalemate\n"
     ]
    },
    {
     "data": {
      "text/plain": [
       "[0]"
      ]
     },
     "execution_count": 14,
     "metadata": {},
     "output_type": "execute_result"
    }
   ],
   "source": [
    "g=Game()\n",
    "g.run(skittles1_agent,skittles2_agent)"
   ]
  }
 ],
 "metadata": {
  "kernelspec": {
   "display_name": "Python 3",
   "language": "python",
   "name": "python3"
  },
  "language_info": {
   "codemirror_mode": {
    "name": "ipython",
    "version": 3
   },
   "file_extension": ".py",
   "mimetype": "text/x-python",
   "name": "python",
   "nbconvert_exporter": "python",
   "pygments_lexer": "ipython3",
   "version": "3.8.10"
  }
 },
 "nbformat": 4,
 "nbformat_minor": 5
}
