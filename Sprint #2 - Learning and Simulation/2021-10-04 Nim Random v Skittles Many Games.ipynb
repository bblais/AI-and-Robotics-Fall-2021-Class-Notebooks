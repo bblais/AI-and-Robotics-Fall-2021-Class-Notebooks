{
 "cells": [
  {
   "cell_type": "code",
   "execution_count": 1,
   "id": "90d315de-d356-4277-bfcd-b3c953d044e4",
   "metadata": {},
   "outputs": [
    {
     "name": "stdout",
     "output_type": "stream",
     "text": [
      "Version:  0.2.30\n"
     ]
    }
   ],
   "source": [
    "from Game import *"
   ]
  },
  {
   "cell_type": "markdown",
   "id": "d23bcbd9-2ffa-42ac-8584-47e3d2d29d0a",
   "metadata": {},
   "source": [
    "## Game functions"
   ]
  },
  {
   "cell_type": "code",
   "execution_count": 2,
   "id": "15420972-b911-4f92-9727-3791e0021b28",
   "metadata": {},
   "outputs": [],
   "source": [
    "def initial_state(N=21):\n",
    "    return N\n",
    "\n",
    "def show_state(state):\n",
    "    print(\"There are \",state,\"sticks\")\n",
    "    \n",
    "def valid_moves(state,player):\n",
    "    if state==2:\n",
    "        return [1,2]\n",
    "    elif state==1:\n",
    "        return [1]\n",
    "    else:\n",
    "        return [1,2,3]\n",
    "    \n",
    "def update_state(state,player,move):\n",
    "    new_state=state-move\n",
    "    return new_state\n",
    "\n",
    "def win_status(state,player):\n",
    "    # the state is *after* the move for the player\n",
    "    if state==1:\n",
    "        return \"win\"\n",
    "    \n",
    "    if state==0:\n",
    "        return \"lose\"\n",
    "    \n",
    "    return None # mid-game"
   ]
  },
  {
   "cell_type": "markdown",
   "id": "2b73f5f6-e774-4bde-94f3-db57480a8de9",
   "metadata": {},
   "source": [
    "## Agent Functions"
   ]
  },
  {
   "cell_type": "code",
   "execution_count": 3,
   "id": "9fc2bb6e-04ec-49b8-b665-cc6c7a0d8cf8",
   "metadata": {},
   "outputs": [],
   "source": [
    "def human_move(state,player):\n",
    "    move=int(input(\"how many sticks to take (1,2, or 3?\"))\n",
    "    return move\n",
    "human_agent=Agent(human_move)    "
   ]
  },
  {
   "cell_type": "code",
   "execution_count": 4,
   "id": "84dda3ca-ea87-440f-a9fa-bbb5ead27e06",
   "metadata": {},
   "outputs": [],
   "source": [
    "def random_move(state,player):\n",
    "    \n",
    "    move=random.choice(valid_moves(state,player))\n",
    "    return move\n",
    "\n",
    "\n",
    "random_agent=Agent(random_move)"
   ]
  },
  {
   "cell_type": "code",
   "execution_count": 5,
   "id": "74454473-403a-4597-ada4-edd245cb5526",
   "metadata": {},
   "outputs": [],
   "source": [
    "from Game.minimax import *\n",
    "def minimax_move(state,player):\n",
    "\n",
    "    values,moves=minimax_values(state,player,display=True)\n",
    "    return top_choice(moves,values)\n",
    "\n",
    "\n",
    "minimax_agent=Agent(minimax_move)"
   ]
  },
  {
   "cell_type": "markdown",
   "id": "e3f47303-f2ca-45e2-973f-e4254478ac98",
   "metadata": {},
   "source": [
    "## Skittles Agent"
   ]
  },
  {
   "cell_type": "code",
   "execution_count": 6,
   "id": "213ef3b2-ca15-4ba0-ae39-13b63adaab19",
   "metadata": {},
   "outputs": [],
   "source": [
    "def skittles_move(state,player,info):\n",
    "    T=info.T\n",
    "    last_state=info.last_state\n",
    "    last_action=info.last_action\n",
    "    learning=info.learning\n",
    "    \n",
    "    if state not in T:\n",
    "        actions=valid_moves(state,player)\n",
    "        T[state]=Table()\n",
    "        for action in actions:\n",
    "            T[state][action]=2  # initial number of skittles\n",
    "    \n",
    "    move=weighted_choice(T[state])\n",
    "    \n",
    "    if move is None:  \n",
    "        \n",
    "        # learn\n",
    "        if learning:\n",
    "            if last_state:\n",
    "                T[last_state][last_action]-=1 # take away a skittle\n",
    "                if T[last_state][last_action]<0:\n",
    "                    T[last_state][last_action]=0\n",
    "    \n",
    "        return random_move(state,player)\n",
    "    else:\n",
    "        return move"
   ]
  },
  {
   "cell_type": "code",
   "execution_count": 7,
   "id": "4fb63acf-7843-447e-8ba1-2d97f3d22690",
   "metadata": {},
   "outputs": [],
   "source": [
    "def skittles_after(status,player,info):\n",
    "    # not return anything but...\n",
    "    # will adjust the skittles table if lost the game\n",
    "    T=info.T\n",
    "    last_state=info.last_state\n",
    "    last_action=info.last_action\n",
    "    learning=info.learning\n",
    "    \n",
    "    if learning:\n",
    "        if status=='lose':  # only learn when you lose\n",
    "            T[last_state][last_action]-=1 # take away a skittle\n",
    "            if T[last_state][last_action]<0:\n",
    "                T[last_state][last_action]=0"
   ]
  },
  {
   "cell_type": "code",
   "execution_count": 8,
   "id": "c7c67522-fbd6-4eb9-beca-71b88561edec",
   "metadata": {},
   "outputs": [],
   "source": [
    "skittles_agent=Agent(skittles_move)\n",
    "skittles_agent.post=skittles_after\n",
    "skittles_agent.T=Table()  # makes an empty table\n",
    "skittles_agent.learning=True"
   ]
  },
  {
   "cell_type": "code",
   "execution_count": null,
   "id": "7c009483-a5e4-422e-b7ab-05f4f8f69be0",
   "metadata": {},
   "outputs": [],
   "source": []
  },
  {
   "cell_type": "code",
   "execution_count": null,
   "id": "b3b34bb3-c1c6-488e-a15f-a794bf72f1f5",
   "metadata": {},
   "outputs": [],
   "source": []
  },
  {
   "cell_type": "code",
   "execution_count": null,
   "id": "05270935-cf16-4044-86c9-67210e80dacc",
   "metadata": {},
   "outputs": [],
   "source": []
  },
  {
   "cell_type": "code",
   "execution_count": null,
   "id": "22a4d157-95fc-4b3c-8fe5-7428dd610bdf",
   "metadata": {},
   "outputs": [],
   "source": []
  },
  {
   "cell_type": "code",
   "execution_count": null,
   "id": "20bba54c-6313-41cb-93cd-415cfc745d78",
   "metadata": {},
   "outputs": [],
   "source": []
  },
  {
   "cell_type": "markdown",
   "id": "f887d351-f175-4af5-9b22-5687792cb8d6",
   "metadata": {},
   "source": [
    "## Running the Game"
   ]
  },
  {
   "cell_type": "code",
   "execution_count": 9,
   "id": "b2316296-c292-4118-849f-9b9817f9cd8e",
   "metadata": {},
   "outputs": [
    {
     "name": "stdout",
     "output_type": "stream",
     "text": [
      "====\n",
      "Game  1\n",
      "There are  21 sticks\n",
      "Player 1 moves 2\n",
      "There are  19 sticks\n",
      "Player 2 moves 2\n",
      "There are  17 sticks\n",
      "Player 1 moves 2\n",
      "There are  15 sticks\n",
      "Player 2 moves 1\n",
      "There are  14 sticks\n",
      "Player 1 moves 3\n",
      "There are  11 sticks\n",
      "Player 2 moves 2\n",
      "There are  9 sticks\n",
      "Player 1 moves 1\n",
      "There are  8 sticks\n",
      "Player 2 moves 2\n",
      "There are  6 sticks\n",
      "Player 1 moves 2\n",
      "There are  4 sticks\n",
      "Player 2 moves 2\n",
      "There are  2 sticks\n",
      "Player 1 moves 2\n",
      "There are  0 sticks\n",
      "Player  2 won.\n"
     ]
    },
    {
     "data": {
      "text/plain": [
       "[2]"
      ]
     },
     "execution_count": 9,
     "metadata": {},
     "output_type": "execute_result"
    }
   ],
   "source": [
    "g=Game()\n",
    "g.run(random_agent,skittles_agent)"
   ]
  },
  {
   "cell_type": "code",
   "execution_count": 10,
   "id": "0893a945-309e-4671-a420-3981b5682815",
   "metadata": {},
   "outputs": [
    {
     "data": {
      "text/plain": [
       "[2, 2, 1, 2, 1, 1, 1, 2, 2, 2, 2, 2, 1, 2, 2, 2, 2, 2, 2, 2]"
      ]
     },
     "execution_count": 10,
     "metadata": {},
     "output_type": "execute_result"
    }
   ],
   "source": [
    "skittles_agent.learning=True\n",
    "g=Game(number_of_games=20)\n",
    "g.display=False\n",
    "results=g.run(random_agent,skittles_agent)\n",
    "results"
   ]
  },
  {
   "cell_type": "code",
   "execution_count": 12,
   "id": "334eb1fc-0ab1-4e4d-b5cd-0617e4512362",
   "metadata": {},
   "outputs": [
    {
     "data": {
      "text/plain": [
       "(5, 15)"
      ]
     },
     "execution_count": 12,
     "metadata": {},
     "output_type": "execute_result"
    }
   ],
   "source": [
    "results.count(1),results.count(2)"
   ]
  },
  {
   "cell_type": "code",
   "execution_count": null,
   "id": "4a8379b4-d9d9-4cb9-9ce4-f7cb70b34930",
   "metadata": {},
   "outputs": [],
   "source": []
  },
  {
   "cell_type": "code",
   "execution_count": 29,
   "id": "4562bd01-46d6-4cdf-8199-7a53a5bf1532",
   "metadata": {},
   "outputs": [],
   "source": [
    "N_train=5\n",
    "N_test=100\n",
    "\n",
    "percentage_player1_wins=[]\n",
    "percentage_player2_wins=[]\n",
    "percentage_ties=[]\n",
    "total_number_of_games=[]\n",
    "\n",
    "skittles_agent.T=Table()  # makes an empty table\n",
    "\n",
    "\n",
    "current_game_number=0\n",
    "\n",
    "for i in range(100):\n",
    "    \n",
    "    skittles_agent.learning=True\n",
    "    g=Game(number_of_games=N_train)\n",
    "    g.display=False\n",
    "    g.run(random_agent,skittles_agent)\n",
    "\n",
    "    current_game_number+=N_train\n",
    "    \n",
    "    \n",
    "    skittles_agent.learning=False\n",
    "    g=Game(number_of_games=N_test)\n",
    "    g.display=False\n",
    "    results=g.run(random_agent,skittles_agent)\n",
    "    \n",
    "    percentage_player1_wins.append(results.count(1))\n",
    "    percentage_player2_wins.append(results.count(2))\n",
    "    percentage_ties.append(results.count(0)) \n",
    "    total_number_of_games.append(current_game_number)"
   ]
  },
  {
   "cell_type": "code",
   "execution_count": 30,
   "id": "5d1f4198-43aa-469d-9fe2-0b1b08ae6ec5",
   "metadata": {},
   "outputs": [],
   "source": [
    "%matplotlib inline\n",
    "from matplotlib.pylab import figure,plot,legend,xlabel,ylabel"
   ]
  },
  {
   "cell_type": "code",
   "execution_count": 31,
   "id": "dc9030ab-05fc-496e-8861-57b1676a7f9e",
   "metadata": {},
   "outputs": [
    {
     "data": {
      "text/plain": [
       "<matplotlib.legend.Legend at 0x1a5c28af0>"
      ]
     },
     "execution_count": 31,
     "metadata": {},
     "output_type": "execute_result"
    },
    {
     "data": {
      "image/png": "[encoded data removed]",
      "text/plain": [
       "<Figure size 576x432 with 1 Axes>"
      ]
     },
     "metadata": {
      "needs_background": "light"
     },
     "output_type": "display_data"
    }
   ],
   "source": [
    "figure(figsize=(8,6))\n",
    "plot(total_number_of_games,percentage_player1_wins,'-o',label=\"Player 1 Wins\")\n",
    "plot(total_number_of_games,percentage_player2_wins,'-x',label=\"Player 2 Wins\")\n",
    "plot(total_number_of_games,percentage_ties,'-s',label=\"Ties\")\n",
    "xlabel('Number of Games')\n",
    "ylabel('Percentage')\n",
    "legend()"
   ]
  },
  {
   "cell_type": "code",
   "execution_count": 22,
   "id": "10e78263-184e-4900-abb5-33fdf39ca6ef",
   "metadata": {},
   "outputs": [
    {
     "data": {
      "text/plain": [
       "{19: {1: 1, 2: 2, 3: 0},\n",
       " 15: {1: 0, 2: 2, 3: 0},\n",
       " 11: {1: 0, 2: 2, 3: 0},\n",
       " 8: {1: 0, 2: 0, 3: 2},\n",
       " 4: {1: 0, 2: 0, 3: 2},\n",
       " 18: {1: 2, 2: 0, 3: 0},\n",
       " 13: {1: 0, 2: 0, 3: 0},\n",
       " 10: {1: 2, 2: 0, 3: 0},\n",
       " 5: {1: 0, 2: 0, 3: 0},\n",
       " 2: {1: 2, 2: 0},\n",
       " 20: {1: 0, 2: 0, 3: 2},\n",
       " 12: {1: 0, 2: 0, 3: 2},\n",
       " 14: {1: 2, 2: 0, 3: 0},\n",
       " 9: {1: 0, 2: 0, 3: 0},\n",
       " 16: {1: 0, 2: 0, 3: 2},\n",
       " 3: {1: 0, 2: 2, 3: 0},\n",
       " 7: {1: 0, 2: 2, 3: 0},\n",
       " 17: {1: 0, 2: 0, 3: 0},\n",
       " 6: {1: 2, 2: 0, 3: 0}}"
      ]
     },
     "execution_count": 22,
     "metadata": {},
     "output_type": "execute_result"
    }
   ],
   "source": [
    "skittles_agent.T"
   ]
  },
  {
   "cell_type": "code",
   "execution_count": 23,
   "id": "a2e173ff-0d5b-4e54-a462-1170889a8141",
   "metadata": {},
   "outputs": [],
   "source": [
    "SaveTable(skittles_agent.T,\"nim table.json\")"
   ]
  },
  {
   "cell_type": "code",
   "execution_count": 25,
   "id": "a4a818a1-4768-4954-96f8-7dbec63d9568",
   "metadata": {},
   "outputs": [
    {
     "name": "stdout",
     "output_type": "stream",
     "text": [
      "  Choice Time: 0.10306596755981445 seconds \n",
      "  Choice Time: 0.014777183532714844 seconds \n",
      "  Choice Time: 0.0020089149475097656 seconds \n",
      "  Choice Time: 0.0001659393310546875 seconds \n",
      "  Choice Time: 2.8848648071289062e-05 seconds \n",
      "  Choice Time: 0.08846735954284668 seconds \n",
      "  Choice Time: 0.008394002914428711 seconds \n",
      "  Choice Time: 0.0006887912750244141 seconds \n",
      "  Choice Time: 0.00013518333435058594 seconds \n",
      "  Choice Time: 8.821487426757812e-06 seconds \n",
      "  Choice Time: 0.08741307258605957 seconds \n",
      "  Choice Time: 0.013084888458251953 seconds \n",
      "  Choice Time: 0.000698089599609375 seconds \n",
      "  Choice Time: 0.0002758502960205078 seconds \n",
      "  Choice Time: 2.9087066650390625e-05 seconds \n",
      "  Choice Time: 0.09011483192443848 seconds \n",
      "  Choice Time: 0.01459503173828125 seconds \n",
      "  Choice Time: 0.0019021034240722656 seconds \n",
      "  Choice Time: 8.296966552734375e-05 seconds \n",
      "  Choice Time: 1.5974044799804688e-05 seconds \n",
      "  Choice Time: 0.08879399299621582 seconds \n",
      "  Choice Time: 0.00857400894165039 seconds \n",
      "  Choice Time: 0.001699209213256836 seconds \n",
      "  Choice Time: 0.0002319812774658203 seconds \n",
      "  Choice Time: 2.5033950805664062e-05 seconds \n",
      "  Choice Time: 0.09452605247497559 seconds \n",
      "  Choice Time: 0.009025096893310547 seconds \n",
      "  Choice Time: 0.0011029243469238281 seconds \n",
      "  Choice Time: 8.296966552734375e-05 seconds \n",
      "  Choice Time: 2.002716064453125e-05 seconds \n",
      "  Choice Time: 0.09531402587890625 seconds \n",
      "  Choice Time: 0.007668256759643555 seconds \n",
      "  Choice Time: 0.0010771751403808594 seconds \n",
      "  Choice Time: 0.00015497207641601562 seconds \n",
      "  Choice Time: 1.8835067749023438e-05 seconds \n",
      "  Choice Time: 0.08865022659301758 seconds \n",
      "  Choice Time: 0.005171060562133789 seconds \n",
      "  Choice Time: 0.00144195556640625 seconds \n",
      "  Choice Time: 0.00012803077697753906 seconds \n",
      "  Choice Time: 8.821487426757812e-06 seconds \n",
      "  Choice Time: 0.09718489646911621 seconds \n",
      "  Choice Time: 0.013581991195678711 seconds \n",
      "  Choice Time: 0.0020711421966552734 seconds \n",
      "  Choice Time: 0.00013709068298339844 seconds \n",
      "  Choice Time: 2.6702880859375e-05 seconds \n",
      "  Choice Time: 0.09029412269592285 seconds \n",
      "  Choice Time: 0.006163120269775391 seconds \n",
      "  Choice Time: 0.001961946487426758 seconds \n",
      "  Choice Time: 0.0001373291015625 seconds \n",
      "  Choice Time: 2.6941299438476562e-05 seconds \n",
      "  Choice Time: 0.09153223037719727 seconds \n",
      "  Choice Time: 0.013239860534667969 seconds \n",
      "  Choice Time: 0.0018527507781982422 seconds \n",
      "  Choice Time: 0.0002357959747314453 seconds \n",
      "  Choice Time: 9.059906005859375e-06 seconds \n",
      "  Choice Time: 0.08504128456115723 seconds \n",
      "  Choice Time: 0.008508920669555664 seconds \n",
      "  Choice Time: 0.0017540454864501953 seconds \n",
      "  Choice Time: 0.00013685226440429688 seconds \n",
      "  Choice Time: 1.5974044799804688e-05 seconds \n",
      "  Choice Time: 0.08861732482910156 seconds \n",
      "  Choice Time: 0.005755901336669922 seconds \n",
      "  Choice Time: 0.0006608963012695312 seconds \n",
      "  Choice Time: 0.00012803077697753906 seconds \n",
      "  Choice Time: 1.5020370483398438e-05 seconds \n",
      "  Choice Time: 0.09787607192993164 seconds \n",
      "  Choice Time: 0.008128881454467773 seconds \n",
      "  Choice Time: 0.0011980533599853516 seconds \n",
      "  Choice Time: 0.00023698806762695312 seconds \n",
      "  Choice Time: 1.5974044799804688e-05 seconds \n",
      "  Choice Time: 0.09196805953979492 seconds \n",
      "  Choice Time: 0.008165836334228516 seconds \n",
      "  Choice Time: 0.0013298988342285156 seconds \n",
      "  Choice Time: 0.00019216537475585938 seconds \n",
      "  Choice Time: 1.0013580322265625e-05 seconds \n",
      "  Choice Time: 0.09243226051330566 seconds \n",
      "  Choice Time: 0.006495952606201172 seconds \n",
      "  Choice Time: 0.0023488998413085938 seconds \n",
      "  Choice Time: 0.0002200603485107422 seconds \n",
      "  Choice Time: 2.6226043701171875e-05 seconds \n",
      "  Choice Time: 0.08631491661071777 seconds \n",
      "  Choice Time: 0.013790369033813477 seconds \n",
      "  Choice Time: 0.0010581016540527344 seconds \n",
      "  Choice Time: 0.00013208389282226562 seconds \n",
      "  Choice Time: 9.059906005859375e-06 seconds \n",
      "  Choice Time: 0.0911257266998291 seconds \n",
      "  Choice Time: 0.012743949890136719 seconds \n",
      "  Choice Time: 0.0010879039764404297 seconds \n",
      "  Choice Time: 0.0001380443572998047 seconds \n",
      "  Choice Time: 2.09808349609375e-05 seconds \n",
      "  Choice Time: 0.10019302368164062 seconds \n",
      "  Choice Time: 0.009424209594726562 seconds \n",
      "  Choice Time: 0.0007321834564208984 seconds \n",
      "  Choice Time: 0.0002460479736328125 seconds \n",
      "  Choice Time: 1.1205673217773438e-05 seconds \n",
      "  Choice Time: 0.09291505813598633 seconds \n",
      "  Choice Time: 0.013525962829589844 seconds \n",
      "  Choice Time: 0.0019261837005615234 seconds \n",
      "  Choice Time: 0.00014519691467285156 seconds \n",
      "  Choice Time: 1.6927719116210938e-05 seconds \n"
     ]
    },
    {
     "data": {
      "text/plain": [
       "[1, 1, 1, 1, 1, 1, 1, 1, 1, 1, 1, 1, 1, 1, 1, 1, 1, 1, 1, 1]"
      ]
     },
     "execution_count": 25,
     "metadata": {},
     "output_type": "execute_result"
    }
   ],
   "source": [
    "skittles_agent.learning=True\n",
    "g=Game(number_of_games=20,N=20)\n",
    "g.display=False\n",
    "results=g.run(minimax_agent,skittles_agent)\n",
    "results"
   ]
  },
  {
   "cell_type": "code",
   "execution_count": null,
   "id": "74f0b53c-d62b-41a4-b532-43c08eff884c",
   "metadata": {},
   "outputs": [],
   "source": []
  }
 ],
 "metadata": {
  "kernelspec": {
   "display_name": "Python 3",
   "language": "python",
   "name": "python3"
  },
  "language_info": {
   "codemirror_mode": {
    "name": "ipython",
    "version": 3
   },
   "file_extension": ".py",
   "mimetype": "text/x-python",
   "name": "python",
   "nbconvert_exporter": "python",
   "pygments_lexer": "ipython3",
   "version": "3.8.10"
  }
 },
 "nbformat": 4,
 "nbformat_minor": 5
}
