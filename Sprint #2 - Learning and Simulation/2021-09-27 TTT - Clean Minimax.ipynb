{
 "cells": [
  {
   "cell_type": "code",
   "execution_count": 1,
   "id": "4bc64bcb-305c-4c44-b08f-c944d850cba3",
   "metadata": {},
   "outputs": [
    {
     "name": "stdout",
     "output_type": "stream",
     "text": [
      "Version:  0.2.28\n"
     ]
    }
   ],
   "source": [
    "from Game import *"
   ]
  },
  {
   "cell_type": "markdown",
   "id": "31a91638-a355-4271-aba0-0481d3149241",
   "metadata": {},
   "source": [
    "## Game functions"
   ]
  },
  {
   "cell_type": "code",
   "execution_count": 2,
   "id": "dfe723de-f606-4fd9-ac7f-3ade68887a36",
   "metadata": {},
   "outputs": [],
   "source": [
    "def initial_state():\n",
    "    state=Board(3,3)\n",
    "    state.pieces=[\".\",\"X\",\"O\"]\n",
    "    return state\n",
    "\n",
    "def show_state(state):\n",
    "    print(state)\n",
    "    \n",
    "def valid_moves(state,player):\n",
    "    # run through all the spots\n",
    "    # if it is empty, then append that\n",
    "    # location to the possible moves\n",
    "    \n",
    "    moves=[]\n",
    "    for location in range(9):\n",
    "        if state[location]==0:\n",
    "            moves.append(location)\n",
    "            \n",
    "    return moves  \n",
    "\n",
    "def update_state(state,player,move):\n",
    "    new_state=state\n",
    "    \n",
    "    new_state[move]=player\n",
    "    return new_state    \n",
    "    \n",
    "def win_status(state,player):\n",
    "    # the state is *after* the move for the player\n",
    "\n",
    "    #  0  1  2 \n",
    "    #  3  4  5 \n",
    "    #  6  7  8   \n",
    "    \n",
    "    for start,middle,end in [\n",
    "        [0,1,2],[3,4,5],[6,7,8],\n",
    "        [0,3,6],[1,4,7],[2,5,8],\n",
    "        [0,4,8],[2,4,6],\n",
    "                ]:\n",
    "        \n",
    "        if state[start]==player and state[middle]==player and state[end]==player:\n",
    "            return \"win\"\n",
    "        \n",
    "    if player==1:\n",
    "        other_player=2\n",
    "    else:\n",
    "        other_player=1\n",
    "    \n",
    "    if not valid_moves(state,other_player):\n",
    "        return \"stalemate\"\n",
    "    \n",
    "    \n",
    "    \n",
    "    \n"
   ]
  },
  {
   "cell_type": "markdown",
   "id": "e6f63639-96ee-48ec-b503-c58a8e54586d",
   "metadata": {},
   "source": [
    "## Agent Functions"
   ]
  },
  {
   "cell_type": "code",
   "execution_count": 3,
   "id": "035befec-dccd-4a43-ae09-99172d1e22f8",
   "metadata": {},
   "outputs": [],
   "source": [
    "def human_move(state,player):\n",
    "    \n",
    "    state.show_locations()\n",
    "    print(\"Player\",player)\n",
    "    move=int(input(\"which square to move?\"))\n",
    "    return move\n",
    "\n",
    "human_agent=Agent(human_move)     "
   ]
  },
  {
   "cell_type": "code",
   "execution_count": 11,
   "id": "efa3f2fc-0c8b-4544-8b11-b6075c0d457c",
   "metadata": {},
   "outputs": [],
   "source": [
    "def random_move(state,player):\n",
    "    \n",
    "    move=random.choice(valid_moves(state,player))\n",
    "    return move\n",
    "\n",
    "\n",
    "random_agent=Agent(random_move)"
   ]
  },
  {
   "cell_type": "code",
   "execution_count": 12,
   "id": "4ce89642-0da6-4f14-9edf-a7a7648991f7",
   "metadata": {},
   "outputs": [],
   "source": [
    "from Game.minimax import *\n",
    "def minimax_move(state,player):\n",
    "\n",
    "    values,moves=minimax_values(state,player,display=True)\n",
    "    return top_choice(moves,values)\n",
    "\n",
    "\n",
    "minimax_agent=Agent(minimax_move)"
   ]
  },
  {
   "cell_type": "code",
   "execution_count": 6,
   "id": "0dd56cc5-360b-4c29-859f-8e2f8ee15d7c",
   "metadata": {},
   "outputs": [
    {
     "name": "stdout",
     "output_type": "stream",
     "text": [
      " 0  1  2 \n",
      " 3  4  5 \n",
      " 6  7  8 \n",
      "\n"
     ]
    }
   ],
   "source": [
    "state=Board(3,3)\n",
    "state.show_locations()"
   ]
  },
  {
   "cell_type": "code",
   "execution_count": 7,
   "id": "15e4dd3e-6ea4-4242-9920-5bc72a857385",
   "metadata": {},
   "outputs": [
    {
     "data": {
      "text/plain": [
       " 2  0  1 \n",
       " 1  0  0 \n",
       " 1  2  2 "
      ]
     },
     "execution_count": 7,
     "metadata": {},
     "output_type": "execute_result"
    }
   ],
   "source": [
    "state[2]=1\n",
    "state[3]=1\n",
    "state[6]=1\n",
    "\n",
    "state[0]=2\n",
    "state[7]=2\n",
    "state[8]=2\n",
    "state"
   ]
  },
  {
   "cell_type": "code",
   "execution_count": 9,
   "id": "bb5eefa8-92c0-42ed-a5a1-76172a76198e",
   "metadata": {},
   "outputs": [
    {
     "name": "stdout",
     "output_type": "stream",
     "text": [
      " 0  1  2 \n",
      " 3  4  5 \n",
      " 6  7  8 \n",
      "\n"
     ]
    }
   ],
   "source": [
    "state.show_locations()"
   ]
  },
  {
   "cell_type": "code",
   "execution_count": 8,
   "id": "b905a7be-458d-4632-a6d2-7f04159f7db9",
   "metadata": {},
   "outputs": [
    {
     "name": "stdout",
     "output_type": "stream",
     "text": [
      "  Choice Time: 0.0008790493011474609 seconds \n"
     ]
    },
    {
     "data": {
      "text/plain": [
       "([1, -1, -1], [4, 5, 1])"
      ]
     },
     "execution_count": 8,
     "metadata": {},
     "output_type": "execute_result"
    }
   ],
   "source": [
    "player=1\n",
    "minimax_values(state,player,display=True)"
   ]
  },
  {
   "cell_type": "markdown",
   "id": "c1d4f4a6-aa74-4ee3-8b10-1b32d9f84b6d",
   "metadata": {},
   "source": [
    "## Running the Game"
   ]
  },
  {
   "cell_type": "code",
   "execution_count": 15,
   "id": "76042d05-a5ab-49d2-9a58-cce578a5fb4b",
   "metadata": {},
   "outputs": [
    {
     "name": "stdout",
     "output_type": "stream",
     "text": [
      "====\n",
      "Game  1\n",
      " .  .  . \n",
      " .  .  . \n",
      " .  .  . \n",
      "\n",
      "Player 1 moves 2\n",
      " .  .  X \n",
      " .  .  . \n",
      " .  .  . \n",
      "\n",
      "  Choice Time: 0.4001948833465576 seconds \n",
      "Player 2 moves 4\n",
      " .  .  X \n",
      " .  O  . \n",
      " .  .  . \n",
      "\n",
      "Player 1 moves 7\n",
      " .  .  X \n",
      " .  O  . \n",
      " .  X  . \n",
      "\n",
      "  Choice Time: 0.05281782150268555 seconds \n",
      "Player 2 moves 3\n",
      " .  .  X \n",
      " O  O  . \n",
      " .  X  . \n",
      "\n",
      "Player 1 moves 1\n",
      " .  X  X \n",
      " O  O  . \n",
      " .  X  . \n",
      "\n",
      "  Choice Time: 0.0013461112976074219 seconds \n",
      "Player 2 moves 0\n",
      " O  X  X \n",
      " O  O  . \n",
      " .  X  . \n",
      "\n",
      "Player 1 moves 6\n",
      " O  X  X \n",
      " O  O  . \n",
      " X  X  . \n",
      "\n",
      "  Choice Time: 0.0001327991485595703 seconds \n",
      "Player 2 moves 5\n",
      " O  X  X \n",
      " O  O  . \n",
      " X  X  . \n",
      "\n",
      "Player  2 won.\n"
     ]
    },
    {
     "data": {
      "text/plain": [
       "[2]"
      ]
     },
     "execution_count": 15,
     "metadata": {},
     "output_type": "execute_result"
    }
   ],
   "source": [
    "g=Game()\n",
    "g.run(random_agent,minimax_agent)"
   ]
  },
  {
   "cell_type": "code",
   "execution_count": 16,
   "id": "dc138a89-a74d-4df4-b8cd-ef3bc1b5450e",
   "metadata": {},
   "outputs": [
    {
     "name": "stdout",
     "output_type": "stream",
     "text": [
      "====\n",
      "Game  1\n",
      " .  .  . \n",
      " .  .  . \n",
      " .  .  . \n",
      "\n",
      "  Choice Time: 2.3878958225250244 seconds \n",
      "Player 1 moves 6\n",
      " .  .  . \n",
      " .  .  . \n",
      " X  .  . \n",
      "\n",
      "Player 2 moves 3\n",
      " .  .  . \n",
      " O  .  . \n",
      " X  .  . \n",
      "\n",
      "  Choice Time: 0.1851649284362793 seconds \n",
      "Player 1 moves 4\n",
      " .  .  . \n",
      " O  X  . \n",
      " X  .  . \n",
      "\n",
      "Player 2 moves 0\n",
      " O  .  . \n",
      " O  X  . \n",
      " X  .  . \n",
      "\n",
      "  Choice Time: 0.005692958831787109 seconds \n",
      "Player 1 moves 1\n",
      " O  X  . \n",
      " O  X  . \n",
      " X  .  . \n",
      "\n",
      "Player 2 moves 5\n",
      " O  X  . \n",
      " O  X  O \n",
      " X  .  . \n",
      "\n",
      "  Choice Time: 0.0003688335418701172 seconds \n",
      "Player 1 moves 8\n",
      " O  X  . \n",
      " O  X  O \n",
      " X  .  X \n",
      "\n",
      "Player 2 moves 7\n",
      " O  X  . \n",
      " O  X  O \n",
      " X  O  X \n",
      "\n",
      "  Choice Time: 9.703636169433594e-05 seconds \n",
      "Player 1 moves 2\n",
      " O  X  . \n",
      " O  X  O \n",
      " X  O  X \n",
      "\n",
      "Player  1 won.\n"
     ]
    },
    {
     "data": {
      "text/plain": [
       "[1]"
      ]
     },
     "execution_count": 16,
     "metadata": {},
     "output_type": "execute_result"
    }
   ],
   "source": [
    "g=Game()\n",
    "g.run(minimax_agent,random_agent)"
   ]
  },
  {
   "cell_type": "code",
   "execution_count": null,
   "id": "57a60366-cf37-44da-a20c-5f8e5749e736",
   "metadata": {},
   "outputs": [],
   "source": []
  }
 ],
 "metadata": {
  "kernelspec": {
   "display_name": "Python 3",
   "language": "python",
   "name": "python3"
  },
  "language_info": {
   "codemirror_mode": {
    "name": "ipython",
    "version": 3
   },
   "file_extension": ".py",
   "mimetype": "text/x-python",
   "name": "python",
   "nbconvert_exporter": "python",
   "pygments_lexer": "ipython3",
   "version": "3.8.10"
  }
 },
 "nbformat": 4,
 "nbformat_minor": 5
}
