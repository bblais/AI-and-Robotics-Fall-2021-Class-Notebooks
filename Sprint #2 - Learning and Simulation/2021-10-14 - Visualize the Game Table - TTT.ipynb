{
 "cells": [
  {
   "cell_type": "code",
   "execution_count": 1,
   "id": "7f5d86df-1308-4048-a6fd-1b3c7cdf8720",
   "metadata": {},
   "outputs": [
    {
     "name": "stdout",
     "output_type": "stream",
     "text": [
      "Version:  0.2.32\n"
     ]
    }
   ],
   "source": [
    "from Game import *"
   ]
  },
  {
   "cell_type": "code",
   "execution_count": 2,
   "id": "73e2f031-6953-4947-ab50-2d8addf2b153",
   "metadata": {},
   "outputs": [],
   "source": [
    "def initial_state():\n",
    "    state=Board(3,3)\n",
    "    state.pieces=[\".\",\"X\",\"O\"]\n",
    "    return state\n",
    "\n",
    "def show_state(state):\n",
    "    print(state)\n",
    "    \n",
    "def valid_moves(state,player):\n",
    "    # run through all the spots\n",
    "    # if it is empty, then append that\n",
    "    # location to the possible moves\n",
    "    \n",
    "    moves=[]\n",
    "    for location in range(9):\n",
    "        if state[location]==0:\n",
    "            moves.append(location)\n",
    "            \n",
    "    return moves  \n",
    "\n",
    "def update_state(state,player,move):\n",
    "    new_state=state\n",
    "    \n",
    "    new_state[move]=player\n",
    "    return new_state    \n",
    "    \n",
    "def win_status(state,player):\n",
    "    # the state is *after* the move for the player\n",
    "\n",
    "    #  0  1  2 \n",
    "    #  3  4  5 \n",
    "    #  6  7  8   \n",
    "    \n",
    "    for start,middle,end in [\n",
    "        [0,1,2],[3,4,5],[6,7,8],\n",
    "        [0,3,6],[1,4,7],[2,5,8],\n",
    "        [0,4,8],[2,4,6],\n",
    "                ]:\n",
    "        \n",
    "        if state[start]==player and state[middle]==player and state[end]==player:\n",
    "            return \"win\"\n",
    "        \n",
    "    if player==1:\n",
    "        other_player=2\n",
    "    else:\n",
    "        other_player=1\n",
    "    \n",
    "    if not valid_moves(state,other_player):\n",
    "        return \"stalemate\"\n",
    "    \n",
    "    \n",
    "    \n",
    "    \n"
   ]
  },
  {
   "cell_type": "code",
   "execution_count": 63,
   "id": "c063b493-60a4-423e-9e89-8bd45dbd11e9",
   "metadata": {},
   "outputs": [],
   "source": [
    "try:\n",
    "    import openpyxl\n",
    "except ModuleNotFoundError:\n",
    "    !pip install openpyxl"
   ]
  },
  {
   "cell_type": "code",
   "execution_count": 64,
   "id": "6596a9d4-48c0-43c8-b2fc-1c69eebc835f",
   "metadata": {},
   "outputs": [],
   "source": [
    "from openpyxl import Workbook\n",
    "from openpyxl.styles import Font,Alignment,Color,PatternFill,Border,Side\n"
   ]
  },
  {
   "cell_type": "code",
   "execution_count": 73,
   "id": "a554b3db-4b1b-4d05-9823-52ea8b560a52",
   "metadata": {},
   "outputs": [],
   "source": [
    "def format_cell(cell,color):\n",
    "    \n",
    "    cell.alignment=Alignment(horizontal='center',wrapText=True)\n",
    "    cell.fill=PatternFill(patternType='solid',fgColor=color)  \n",
    "    \n",
    "    cell.border=Border(left=Side(border_style='thick',\n",
    "                           color='FF000000'),\n",
    "                 right=Side(border_style='thin',\n",
    "                            color='FF000000'),\n",
    "                 top=Side(border_style='thin',\n",
    "                          color='FF000000'),\n",
    "                 bottom=Side(border_style='thin',\n",
    "                             color='FF000000'),)\n",
    "\n",
    "def save_table(T,filename):\n",
    "    wb=Workbook()\n",
    "    ws=wb.active\n",
    "\n",
    "    cell=ws.cell(column=1,row=1,value=\"State\")\n",
    "    cell.font=Font(bold=True)\n",
    "    cell.alignment=Alignment(horizontal='center')\n",
    "\n",
    "    cell=ws.cell(column=2,row=1,value=\"Action\")\n",
    "    cell.font=Font(bold=True)\n",
    "    cell.alignment=Alignment(horizontal='center')\n",
    "\n",
    "    cell=ws.cell(column=3,row=1,value=\"Value\")\n",
    "    cell.font=Font(bold=True)\n",
    "    cell.alignment=Alignment(horizontal='center')\n",
    "\n",
    "    # color codes from https://www.w3schools.com/colors/colors_picker.asp\n",
    "    colors=['#99ccff','#ffff99']  # cycle through these colors per state.  \n",
    "    color_count=0\n",
    "\n",
    "    row=2\n",
    "    for state_as_list in T:\n",
    "        state=initial_state()\n",
    "        state.board=state_as_list\n",
    "        state_str=str(state).strip()\n",
    "\n",
    "        color=colors[color_count].replace('#','')\n",
    "        color_count+=1\n",
    "        if color_count>=len(colors):\n",
    "            color_count=0\n",
    "\n",
    "        print(state_str)\n",
    "        for a,action in enumerate(T[state]):\n",
    "            value=T[state][action]\n",
    "            print(\"\\t\",action,\"\\t\",value)\n",
    "\n",
    "            for col,val in zip([1,2,3],[state_str,str(action),value]):\n",
    "                cell=ws.cell(column=col,row=row,value=val)\n",
    "                format_cell(cell,color)\n",
    "\n",
    "            row+=1\n",
    "        print(\"=\"*30)\n",
    "\n",
    "    wb.save(filename)    "
   ]
  },
  {
   "cell_type": "code",
   "execution_count": null,
   "id": "ed1c6194-e8f3-448d-8439-7d209068dd70",
   "metadata": {},
   "outputs": [],
   "source": []
  },
  {
   "cell_type": "markdown",
   "id": "9f910052-732f-44fd-b718-3b976591d82e",
   "metadata": {},
   "source": [
    "Make some end-game states"
   ]
  },
  {
   "cell_type": "code",
   "execution_count": 74,
   "id": "bbcdb932-4e02-4699-a5e5-7ae3033fb232",
   "metadata": {},
   "outputs": [
    {
     "name": "stdout",
     "output_type": "stream",
     "text": [
      " X  .  O \n",
      " X  .  O \n",
      " .  .  . \n",
      "\n",
      " X  O  O \n",
      " X  .  O \n",
      " .  .  X \n",
      "\n",
      " X  O  O \n",
      " X  O  O \n",
      " .  X  X \n",
      "\n"
     ]
    }
   ],
   "source": [
    "states=[]\n",
    "\n",
    "state=Board(3,3)\n",
    "state.pieces=[\".\",\"X\",\"O\"]  # symbols for empty, player 1, and player 2\n",
    "state.board=[1,0,2,1,0,2,0,0,0]\n",
    "print(state)\n",
    "states.append(state)\n",
    "\n",
    "state=Board(3,3)\n",
    "state.pieces=[\".\",\"X\",\"O\"]  # symbols for empty, player 1, and player 2\n",
    "state.board=[1,2,2,1,0,2,0,0,1]\n",
    "print(state)\n",
    "states.append(state)\n",
    "\n",
    "state=Board(3,3)\n",
    "state.pieces=[\".\",\"X\",\"O\"]  # symbols for empty, player 1, and player 2\n",
    "state.board=[1,2,2,1,2,2,0,1,1]\n",
    "print(state)\n",
    "states.append(state)\n"
   ]
  },
  {
   "cell_type": "markdown",
   "id": "23a5feb2-6232-494d-8108-75ec5920ebed",
   "metadata": {},
   "source": [
    "make the table"
   ]
  },
  {
   "cell_type": "code",
   "execution_count": 75,
   "id": "744af729-0ac7-41af-946f-a025b7a58245",
   "metadata": {},
   "outputs": [],
   "source": [
    "T=Table()\n",
    "player=1\n",
    "\n",
    "for state in states:\n",
    "    if state not in T:\n",
    "        actions=valid_moves(state,player)\n",
    "        T[state]=Table()\n",
    "        for action in actions:\n",
    "            T[state][action]=2  # initial number of skittles\n"
   ]
  },
  {
   "cell_type": "code",
   "execution_count": 76,
   "id": "5cc4c087-8634-444f-a9a0-c35f805cda2d",
   "metadata": {},
   "outputs": [
    {
     "data": {
      "text/plain": [
       "{(1, 0, 2, 1, 0, 2, 0, 0, 0): {1: 2, 4: 2, 6: 2, 7: 2, 8: 2},\n",
       " (1, 2, 2, 1, 0, 2, 0, 0, 1): {4: 2, 6: 2, 7: 2},\n",
       " (1, 2, 2, 1, 2, 2, 0, 1, 1): {6: 2}}"
      ]
     },
     "execution_count": 76,
     "metadata": {},
     "output_type": "execute_result"
    }
   ],
   "source": [
    "T"
   ]
  },
  {
   "cell_type": "markdown",
   "id": "b72392fa-0657-4034-adb5-c3484ca09c48",
   "metadata": {},
   "source": [
    "Write the excel file"
   ]
  },
  {
   "cell_type": "code",
   "execution_count": 77,
   "id": "38e8a3fb-9c6e-4839-a2a3-2775e0588f5b",
   "metadata": {},
   "outputs": [
    {
     "name": "stdout",
     "output_type": "stream",
     "text": [
      "X  .  O \n",
      " X  .  O \n",
      " .  .  .\n",
      "\t 1 \t 2\n",
      "\t 4 \t 2\n",
      "\t 6 \t 2\n",
      "\t 7 \t 2\n",
      "\t 8 \t 2\n",
      "==============================\n",
      "X  O  O \n",
      " X  .  O \n",
      " .  .  X\n",
      "\t 4 \t 2\n",
      "\t 6 \t 2\n",
      "\t 7 \t 2\n",
      "==============================\n",
      "X  O  O \n",
      " X  O  O \n",
      " .  X  X\n",
      "\t 6 \t 2\n",
      "==============================\n"
     ]
    }
   ],
   "source": [
    "save_table(T,'State Action Value Table.xlsx')"
   ]
  },
  {
   "cell_type": "markdown",
   "id": "f482d92a-0639-4bac-9e6c-0175d7742d85",
   "metadata": {},
   "source": [
    "or load from a file"
   ]
  },
  {
   "cell_type": "code",
   "execution_count": 78,
   "id": "38c6b9ff-efe2-4020-8501-01285c64327f",
   "metadata": {},
   "outputs": [],
   "source": [
    "T=LoadTable(\"skittles TTT endgame32.json\")"
   ]
  },
  {
   "cell_type": "code",
   "execution_count": 79,
   "id": "16ff590d-4d82-415f-ad94-672e3f26ad39",
   "metadata": {},
   "outputs": [
    {
     "data": {
      "text/plain": [
       "{(1, 0, 2, 1, 0, 2, 0, 0, 1): {1: 2, 4: 1, 6: 1, 7: 2},\n",
       " (1, 0, 2, 1, 0, 2, 0, 1, 0): {1: 2, 4: 0, 6: 2, 8: 2},\n",
       " (1, 0, 2, 1, 0, 2, 2, 1, 1): {1: 1, 4: 2},\n",
       " (1, 0, 2, 1, 1, 2, 0, 0, 0): {1: 0, 6: 1, 7: 0, 8: 2},\n",
       " (1, 0, 2, 1, 2, 2, 0, 1, 1): {1: 1, 6: 2},\n",
       " (1, 1, 2, 1, 0, 2, 0, 0, 0): {4: 2, 6: 2, 7: 2, 8: 2},\n",
       " (1, 1, 2, 1, 0, 2, 0, 2, 1): {4: 1, 6: 1},\n",
       " (1, 1, 2, 1, 0, 2, 2, 0, 1): {4: 2, 7: 1},\n",
       " (1, 1, 2, 1, 1, 2, 2, 0, 0): {7: 2, 8: 2},\n",
       " (1, 1, 2, 1, 2, 2, 0, 0, 1): {6: 2, 7: 2}}"
      ]
     },
     "execution_count": 79,
     "metadata": {},
     "output_type": "execute_result"
    }
   ],
   "source": [
    "T"
   ]
  },
  {
   "cell_type": "code",
   "execution_count": 80,
   "id": "a6aa2b8f-92d0-4964-8037-cbd8e0cf8383",
   "metadata": {},
   "outputs": [
    {
     "name": "stdout",
     "output_type": "stream",
     "text": [
      "X  .  O \n",
      " X  .  O \n",
      " .  .  X\n",
      "\t 1 \t 2\n",
      "\t 4 \t 1\n",
      "\t 6 \t 1\n",
      "\t 7 \t 2\n",
      "==============================\n",
      "X  .  O \n",
      " X  .  O \n",
      " .  X  .\n",
      "\t 1 \t 2\n",
      "\t 4 \t 0\n",
      "\t 6 \t 2\n",
      "\t 8 \t 2\n",
      "==============================\n",
      "X  .  O \n",
      " X  .  O \n",
      " O  X  X\n",
      "\t 1 \t 1\n",
      "\t 4 \t 2\n",
      "==============================\n",
      "X  .  O \n",
      " X  X  O \n",
      " .  .  .\n",
      "\t 1 \t 0\n",
      "\t 6 \t 1\n",
      "\t 7 \t 0\n",
      "\t 8 \t 2\n",
      "==============================\n",
      "X  .  O \n",
      " X  O  O \n",
      " .  X  X\n",
      "\t 1 \t 1\n",
      "\t 6 \t 2\n",
      "==============================\n",
      "X  X  O \n",
      " X  .  O \n",
      " .  .  .\n",
      "\t 4 \t 2\n",
      "\t 6 \t 2\n",
      "\t 7 \t 2\n",
      "\t 8 \t 2\n",
      "==============================\n",
      "X  X  O \n",
      " X  .  O \n",
      " .  O  X\n",
      "\t 4 \t 1\n",
      "\t 6 \t 1\n",
      "==============================\n",
      "X  X  O \n",
      " X  .  O \n",
      " O  .  X\n",
      "\t 4 \t 2\n",
      "\t 7 \t 1\n",
      "==============================\n",
      "X  X  O \n",
      " X  X  O \n",
      " O  .  .\n",
      "\t 7 \t 2\n",
      "\t 8 \t 2\n",
      "==============================\n",
      "X  X  O \n",
      " X  O  O \n",
      " .  .  X\n",
      "\t 6 \t 2\n",
      "\t 7 \t 2\n",
      "==============================\n"
     ]
    }
   ],
   "source": [
    "save_table(T,'State Action Value Table from skittles TTT endgame32.xlsx')"
   ]
  },
  {
   "cell_type": "code",
   "execution_count": null,
   "id": "bd86865f-c80f-44d6-b84c-5ff5b26d92e7",
   "metadata": {},
   "outputs": [],
   "source": []
  }
 ],
 "metadata": {
  "kernelspec": {
   "display_name": "Python 3",
   "language": "python",
   "name": "python3"
  },
  "language_info": {
   "codemirror_mode": {
    "name": "ipython",
    "version": 3
   },
   "file_extension": ".py",
   "mimetype": "text/x-python",
   "name": "python",
   "nbconvert_exporter": "python",
   "pygments_lexer": "ipython3",
   "version": "3.8.10"
  }
 },
 "nbformat": 4,
 "nbformat_minor": 5
}
