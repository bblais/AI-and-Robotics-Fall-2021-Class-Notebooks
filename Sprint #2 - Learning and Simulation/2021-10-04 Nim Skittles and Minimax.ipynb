{
 "cells": [
  {
   "cell_type": "code",
   "execution_count": 1,
   "id": "90d315de-d356-4277-bfcd-b3c953d044e4",
   "metadata": {},
   "outputs": [
    {
     "name": "stdout",
     "output_type": "stream",
     "text": [
      "Version:  0.2.29\n"
     ]
    }
   ],
   "source": [
    "from Game import *"
   ]
  },
  {
   "cell_type": "markdown",
   "id": "d23bcbd9-2ffa-42ac-8584-47e3d2d29d0a",
   "metadata": {},
   "source": [
    "## Game functions"
   ]
  },
  {
   "cell_type": "code",
   "execution_count": 2,
   "id": "15420972-b911-4f92-9727-3791e0021b28",
   "metadata": {},
   "outputs": [],
   "source": [
    "def initial_state(N=21):\n",
    "    return N\n",
    "\n",
    "def show_state(state):\n",
    "    print(\"There are \",state,\"sticks\")\n",
    "    \n",
    "def valid_moves(state,player):\n",
    "    if state==2:\n",
    "        return [1,2]\n",
    "    elif state==1:\n",
    "        return [1]\n",
    "    else:\n",
    "        return [1,2,3]\n",
    "    \n",
    "def update_state(state,player,move):\n",
    "    new_state=state-move\n",
    "    return new_state\n",
    "\n",
    "def win_status(state,player):\n",
    "    # the state is *after* the move for the player\n",
    "    if state==1:\n",
    "        return \"win\"\n",
    "    \n",
    "    if state==0:\n",
    "        return \"lose\"\n",
    "    \n",
    "    return None # mid-game"
   ]
  },
  {
   "cell_type": "markdown",
   "id": "2b73f5f6-e774-4bde-94f3-db57480a8de9",
   "metadata": {},
   "source": [
    "## Agent Functions"
   ]
  },
  {
   "cell_type": "code",
   "execution_count": 3,
   "id": "9fc2bb6e-04ec-49b8-b665-cc6c7a0d8cf8",
   "metadata": {},
   "outputs": [],
   "source": [
    "def human_move(state,player):\n",
    "    move=int(input(\"how many sticks to take (1,2, or 3?\"))\n",
    "    return move\n",
    "human_agent=Agent(human_move)    "
   ]
  },
  {
   "cell_type": "code",
   "execution_count": 4,
   "id": "84dda3ca-ea87-440f-a9fa-bbb5ead27e06",
   "metadata": {},
   "outputs": [],
   "source": [
    "def random_move(state,player):\n",
    "    \n",
    "    move=random.choice(valid_moves(state,player))\n",
    "    return move\n",
    "\n",
    "\n",
    "random_agent=Agent(random_move)"
   ]
  },
  {
   "cell_type": "code",
   "execution_count": 5,
   "id": "74454473-403a-4597-ada4-edd245cb5526",
   "metadata": {},
   "outputs": [],
   "source": [
    "from Game.minimax import *\n",
    "def minimax_move(state,player):\n",
    "\n",
    "    values,moves=minimax_values(state,player,display=True)\n",
    "    return top_choice(moves,values)\n",
    "\n",
    "\n",
    "minimax_agent=Agent(minimax_move)"
   ]
  },
  {
   "cell_type": "markdown",
   "id": "e3f47303-f2ca-45e2-973f-e4254478ac98",
   "metadata": {},
   "source": [
    "## Skittles Agent"
   ]
  },
  {
   "cell_type": "code",
   "execution_count": 13,
   "id": "213ef3b2-ca15-4ba0-ae39-13b63adaab19",
   "metadata": {},
   "outputs": [],
   "source": [
    "def skittles_move(state,player,info):\n",
    "    T=info.T\n",
    "    last_state=info.last_state\n",
    "    last_action=info.last_action\n",
    "    \n",
    "    if state not in T:\n",
    "        actions=valid_moves(state,player)\n",
    "        T[state]=Table()\n",
    "        for action in actions:\n",
    "            T[state][action]=2  # initial number of skittles\n",
    "    \n",
    "    \n",
    "    move=weighted_choice(T[state])\n",
    "    \n",
    "    if move is None:  \n",
    "        \n",
    "        # learn\n",
    "        if last_state:\n",
    "            T[last_state][last_action]-=1 # take away a skittle\n",
    "            if T[last_state][last_action]<0:\n",
    "                T[last_state][last_action]=0\n",
    "    \n",
    "        return random_move(state,player)\n",
    "    else:\n",
    "        return move"
   ]
  },
  {
   "cell_type": "code",
   "execution_count": 14,
   "id": "4fb63acf-7843-447e-8ba1-2d97f3d22690",
   "metadata": {},
   "outputs": [],
   "source": [
    "def skittles_after(status,player,info):\n",
    "    # not return anything but...\n",
    "    # will adjust the skittles table if lost the game\n",
    "    T=info.T\n",
    "    last_state=info.last_state\n",
    "    last_action=info.last_action\n",
    "\n",
    "    if status=='lose':  # only learn when you lose\n",
    "        T[last_state][last_action]-=1 # take away a skittle\n",
    "        if T[last_state][last_action]<0:\n",
    "            T[last_state][last_action]=0\n"
   ]
  },
  {
   "cell_type": "code",
   "execution_count": 15,
   "id": "430ca544-588d-4145-b350-2d4e31593f93",
   "metadata": {},
   "outputs": [],
   "source": [
    "a=5"
   ]
  },
  {
   "cell_type": "code",
   "execution_count": 16,
   "id": "9c01c24b-c14f-41ec-a01e-293ca634c66b",
   "metadata": {},
   "outputs": [
    {
     "name": "stdout",
     "output_type": "stream",
     "text": [
      "4\n"
     ]
    }
   ],
   "source": [
    "a=a-1\n",
    "print(a)"
   ]
  },
  {
   "cell_type": "code",
   "execution_count": 17,
   "id": "9ae92148-4265-458a-8f75-5f3b4976732e",
   "metadata": {},
   "outputs": [
    {
     "name": "stdout",
     "output_type": "stream",
     "text": [
      "3\n"
     ]
    }
   ],
   "source": [
    "a-=1\n",
    "print(a)"
   ]
  },
  {
   "cell_type": "code",
   "execution_count": 18,
   "id": "c7c67522-fbd6-4eb9-beca-71b88561edec",
   "metadata": {},
   "outputs": [],
   "source": [
    "skittles_agent=Agent(skittles_move)\n",
    "skittles_agent.post=skittles_after\n",
    "skittles_agent.T=Table()  # makes an empty table"
   ]
  },
  {
   "cell_type": "code",
   "execution_count": null,
   "id": "7c009483-a5e4-422e-b7ab-05f4f8f69be0",
   "metadata": {},
   "outputs": [],
   "source": []
  },
  {
   "cell_type": "code",
   "execution_count": null,
   "id": "b3b34bb3-c1c6-488e-a15f-a794bf72f1f5",
   "metadata": {},
   "outputs": [],
   "source": []
  },
  {
   "cell_type": "code",
   "execution_count": null,
   "id": "05270935-cf16-4044-86c9-67210e80dacc",
   "metadata": {},
   "outputs": [],
   "source": []
  },
  {
   "cell_type": "code",
   "execution_count": null,
   "id": "22a4d157-95fc-4b3c-8fe5-7428dd610bdf",
   "metadata": {},
   "outputs": [],
   "source": []
  },
  {
   "cell_type": "code",
   "execution_count": null,
   "id": "20bba54c-6313-41cb-93cd-415cfc745d78",
   "metadata": {},
   "outputs": [],
   "source": []
  },
  {
   "cell_type": "markdown",
   "id": "f887d351-f175-4af5-9b22-5687792cb8d6",
   "metadata": {},
   "source": [
    "## Running the Game"
   ]
  },
  {
   "cell_type": "code",
   "execution_count": 23,
   "id": "b2316296-c292-4118-849f-9b9817f9cd8e",
   "metadata": {},
   "outputs": [
    {
     "name": "stdout",
     "output_type": "stream",
     "text": [
      "====\n",
      "Game  1\n",
      "There are  21 sticks\n",
      "Player 1 moves 1\n",
      "There are  20 sticks\n",
      "Player 2 moves 1\n",
      "There are  19 sticks\n",
      "Player 1 moves 3\n",
      "There are  16 sticks\n",
      "Player 2 moves 1\n",
      "There are  15 sticks\n",
      "Player 1 moves 2\n",
      "There are  13 sticks\n",
      "Player 2 moves 2\n",
      "There are  11 sticks\n",
      "Player 1 moves 2\n",
      "There are  9 sticks\n",
      "Player 2 moves 2\n",
      "There are  7 sticks\n",
      "Player 1 moves 3\n",
      "There are  4 sticks\n",
      "Player 2 moves 1\n",
      "There are  3 sticks\n",
      "Player 1 moves 1\n",
      "There are  2 sticks\n",
      "Player 2 moves 2\n",
      "There are  0 sticks\n",
      "Player  1 won.\n"
     ]
    },
    {
     "data": {
      "text/plain": [
       "[1]"
      ]
     },
     "execution_count": 23,
     "metadata": {},
     "output_type": "execute_result"
    }
   ],
   "source": [
    "g=Game()\n",
    "g.run(random_agent,skittles_agent)"
   ]
  },
  {
   "cell_type": "code",
   "execution_count": 24,
   "id": "3bd934cf-a1c4-4775-bd1f-2cfdffa4c642",
   "metadata": {},
   "outputs": [
    {
     "data": {
      "text/plain": [
       "{19: {1: 2, 2: 2, 3: 2},\n",
       " 15: {1: 2, 2: 2, 3: 2},\n",
       " 12: {1: 2, 2: 2, 3: 2},\n",
       " 7: {1: 2, 2: 2, 3: 1},\n",
       " 17: {1: 2, 2: 2, 3: 2},\n",
       " 2: {1: 2, 2: 1},\n",
       " 20: {1: 2, 2: 2, 3: 2},\n",
       " 16: {1: 2, 2: 2, 3: 2},\n",
       " 13: {1: 2, 2: 2, 3: 2},\n",
       " 9: {1: 2, 2: 2, 3: 2},\n",
       " 4: {1: 2, 2: 2, 3: 2}}"
      ]
     },
     "execution_count": 24,
     "metadata": {},
     "output_type": "execute_result"
    }
   ],
   "source": [
    "skittles_agent.T"
   ]
  },
  {
   "cell_type": "code",
   "execution_count": 30,
   "id": "4562bd01-46d6-4cdf-8199-7a53a5bf1532",
   "metadata": {},
   "outputs": [
    {
     "data": {
      "text/plain": [
       "[2, 2, 2, 2, 2, 2, 2, 2, 2, 2, 2, 2, 2, 2, 2, 2, 2, 2, 2, 2]"
      ]
     },
     "execution_count": 30,
     "metadata": {},
     "output_type": "execute_result"
    }
   ],
   "source": [
    "g=Game(number_of_games=20)\n",
    "g.display=False\n",
    "g.run(random_agent,skittles_agent)"
   ]
  },
  {
   "cell_type": "code",
   "execution_count": 31,
   "id": "5d1f4198-43aa-469d-9fe2-0b1b08ae6ec5",
   "metadata": {},
   "outputs": [
    {
     "data": {
      "text/plain": [
       "{19: {1: 2, 2: 2, 3: 2},\n",
       " 15: {1: 2, 2: 2, 3: 2},\n",
       " 12: {1: 2, 2: 2, 3: 2},\n",
       " 7: {1: 2, 2: 2, 3: 0},\n",
       " 17: {1: 2, 2: 2, 3: 2},\n",
       " 2: {1: 2, 2: 0},\n",
       " 20: {1: 2, 2: 2, 3: 2},\n",
       " 16: {1: 2, 2: 2, 3: 2},\n",
       " 13: {1: 2, 2: 2, 3: 2},\n",
       " 9: {1: 2, 2: 2, 3: 2},\n",
       " 4: {1: 0, 2: 0, 3: 2},\n",
       " 10: {1: 2, 2: 2, 3: 2},\n",
       " 5: {1: 2, 2: 1, 3: 1},\n",
       " 11: {1: 2, 2: 2, 3: 2},\n",
       " 14: {1: 2, 2: 2, 3: 2},\n",
       " 8: {1: 2, 2: 2, 3: 2},\n",
       " 3: {1: 0, 2: 2, 3: 0},\n",
       " 18: {1: 2, 2: 2, 3: 2},\n",
       " 6: {1: 2, 2: 1, 3: 0}}"
      ]
     },
     "execution_count": 31,
     "metadata": {},
     "output_type": "execute_result"
    }
   ],
   "source": [
    "skittles_agent.T"
   ]
  },
  {
   "cell_type": "code",
   "execution_count": null,
   "id": "dc9030ab-05fc-496e-8861-57b1676a7f9e",
   "metadata": {},
   "outputs": [],
   "source": []
  }
 ],
 "metadata": {
  "kernelspec": {
   "display_name": "Python 3",
   "language": "python",
   "name": "python3"
  },
  "language_info": {
   "codemirror_mode": {
    "name": "ipython",
    "version": 3
   },
   "file_extension": ".py",
   "mimetype": "text/x-python",
   "name": "python",
   "nbconvert_exporter": "python",
   "pygments_lexer": "ipython3",
   "version": "3.8.10"
  }
 },
 "nbformat": 4,
 "nbformat_minor": 5
}
