{
 "cells": [
  {
   "cell_type": "code",
   "execution_count": 1,
   "id": "44a4818a-5c98-4432-8526-f8e56b4418cd",
   "metadata": {},
   "outputs": [
    {
     "name": "stdout",
     "output_type": "stream",
     "text": [
      "Version:  0.2.28\n"
     ]
    }
   ],
   "source": [
    "from Game import *"
   ]
  },
  {
   "cell_type": "code",
   "execution_count": 5,
   "id": "02290daa-319a-4ab6-b508-f214affb52ec",
   "metadata": {},
   "outputs": [],
   "source": [
    "def find_all_pieces(state,player):\n",
    "    locations=[]\n",
    "    for i in range(len(state)):\n",
    "        if state[i]==player:\n",
    "            locations.append(i)\n",
    "    return locations"
   ]
  },
  {
   "cell_type": "code",
   "execution_count": 3,
   "id": "3389d1d1-1bf2-402b-8cb2-b0f0406614ea",
   "metadata": {},
   "outputs": [
    {
     "data": {
      "text/plain": [
       "12"
      ]
     },
     "execution_count": 3,
     "metadata": {},
     "output_type": "execute_result"
    }
   ],
   "source": [
    "state=Board(3,4)\n",
    "state[0]=1\n",
    "state[1]=1\n",
    "state[3]=2\n",
    "len(state)"
   ]
  },
  {
   "cell_type": "code",
   "execution_count": 4,
   "id": "0e92142a-7730-43e8-aa3c-be808f60b4de",
   "metadata": {},
   "outputs": [
    {
     "data": {
      "text/plain": [
       " 1  1  0  2 \n",
       " 0  0  0  0 \n",
       " 0  0  0  0 "
      ]
     },
     "execution_count": 4,
     "metadata": {},
     "output_type": "execute_result"
    }
   ],
   "source": [
    "state"
   ]
  },
  {
   "cell_type": "code",
   "execution_count": 6,
   "id": "47a36fb5-9359-4db5-9e6a-421bd070bf38",
   "metadata": {},
   "outputs": [],
   "source": [
    "def heuristic(state,player):\n",
    "    \n",
    "    # return a value between -1 and 1 (not inclusive)\n",
    "    # which is approximate value of the state\n",
    "    # positive = good for player\n",
    "    # negative = bad for player\n",
    "    \n",
    "    if player==1:\n",
    "        other_player=2\n",
    "    else:\n",
    "        other_player=1\n",
    "        \n",
    "    N_player=len(find_all_pieces(state,player))\n",
    "    N_other_player=len(find_all_pieces(state,other_player))\n",
    "    \n",
    "    value=(N_player-N_other_player)/(N_player+N_other_player)\n",
    "    return value"
   ]
  },
  {
   "cell_type": "code",
   "execution_count": 7,
   "id": "62f77294-99e1-402d-a704-f0dfed4c670f",
   "metadata": {},
   "outputs": [
    {
     "data": {
      "text/plain": [
       "0.3333333333333333"
      ]
     },
     "execution_count": 7,
     "metadata": {},
     "output_type": "execute_result"
    }
   ],
   "source": [
    "heuristic(state,1)"
   ]
  },
  {
   "cell_type": "code",
   "execution_count": null,
   "id": "983da460-4399-4548-9ef1-c78324ba0850",
   "metadata": {},
   "outputs": [],
   "source": []
  }
 ],
 "metadata": {
  "kernelspec": {
   "display_name": "Python 3",
   "language": "python",
   "name": "python3"
  },
  "language_info": {
   "codemirror_mode": {
    "name": "ipython",
    "version": 3
   },
   "file_extension": ".py",
   "mimetype": "text/x-python",
   "name": "python",
   "nbconvert_exporter": "python",
   "pygments_lexer": "ipython3",
   "version": "3.8.10"
  }
 },
 "nbformat": 4,
 "nbformat_minor": 5
}
