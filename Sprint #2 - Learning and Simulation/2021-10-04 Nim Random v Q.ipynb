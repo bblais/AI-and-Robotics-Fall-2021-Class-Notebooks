{
 "cells": [
  {
   "cell_type": "code",
   "execution_count": 7,
   "id": "90d315de-d356-4277-bfcd-b3c953d044e4",
   "metadata": {},
   "outputs": [
    {
     "name": "stdout",
     "output_type": "stream",
     "text": [
      "Version:  0.2.32\n"
     ]
    }
   ],
   "source": [
    "from Game import *"
   ]
  },
  {
   "cell_type": "markdown",
   "id": "d23bcbd9-2ffa-42ac-8584-47e3d2d29d0a",
   "metadata": {},
   "source": [
    "## Game functions"
   ]
  },
  {
   "cell_type": "code",
   "execution_count": 8,
   "id": "15420972-b911-4f92-9727-3791e0021b28",
   "metadata": {},
   "outputs": [],
   "source": [
    "def initial_state(N=21):\n",
    "    return N\n",
    "\n",
    "def show_state(state):\n",
    "    print(\"There are \",state,\"sticks\")\n",
    "    \n",
    "def valid_moves(state,player):\n",
    "    if state==2:\n",
    "        return [1,2]\n",
    "    elif state==1:\n",
    "        return [1]\n",
    "    else:\n",
    "        return [1,2,3]\n",
    "    \n",
    "def update_state(state,player,move):\n",
    "    new_state=state-move\n",
    "    return new_state\n",
    "\n",
    "def win_status(state,player):\n",
    "    # the state is *after* the move for the player\n",
    "    if state==1:\n",
    "        return \"win\"\n",
    "    \n",
    "    if state==0:\n",
    "        return \"lose\"\n",
    "    \n",
    "    return None # mid-game"
   ]
  },
  {
   "cell_type": "markdown",
   "id": "2b73f5f6-e774-4bde-94f3-db57480a8de9",
   "metadata": {},
   "source": [
    "## Agent Functions"
   ]
  },
  {
   "cell_type": "code",
   "execution_count": 9,
   "id": "9fc2bb6e-04ec-49b8-b665-cc6c7a0d8cf8",
   "metadata": {},
   "outputs": [],
   "source": [
    "def human_move(state,player):\n",
    "    move=int(input(\"how many sticks to take (1,2, or 3?\"))\n",
    "    return move\n",
    "human_agent=Agent(human_move)    "
   ]
  },
  {
   "cell_type": "code",
   "execution_count": 10,
   "id": "84dda3ca-ea87-440f-a9fa-bbb5ead27e06",
   "metadata": {},
   "outputs": [],
   "source": [
    "def random_move(state,player):\n",
    "    \n",
    "    move=random.choice(valid_moves(state,player))\n",
    "    return move\n",
    "\n",
    "\n",
    "random_agent=Agent(random_move)"
   ]
  },
  {
   "cell_type": "code",
   "execution_count": 11,
   "id": "74454473-403a-4597-ada4-edd245cb5526",
   "metadata": {},
   "outputs": [],
   "source": [
    "from Game.minimax import *\n",
    "def minimax_move(state,player):\n",
    "\n",
    "    values,moves=minimax_values(state,player,display=True)\n",
    "    return top_choice(moves,values)\n",
    "\n",
    "\n",
    "minimax_agent=Agent(minimax_move)"
   ]
  },
  {
   "cell_type": "markdown",
   "id": "e3f47303-f2ca-45e2-973f-e4254478ac98",
   "metadata": {},
   "source": [
    "## Skittles Agent"
   ]
  },
  {
   "cell_type": "code",
   "execution_count": 12,
   "id": "213ef3b2-ca15-4ba0-ae39-13b63adaab19",
   "metadata": {},
   "outputs": [],
   "source": [
    "def skittles_move(state,player,info):\n",
    "    T=info.T\n",
    "    last_state=info.last_state\n",
    "    last_action=info.last_action\n",
    "    learning=info.learning\n",
    "    \n",
    "    if state not in T:\n",
    "        actions=valid_moves(state,player)\n",
    "        T[state]=Table()\n",
    "        for action in actions:\n",
    "            T[state][action]=2  # initial number of skittles\n",
    "    \n",
    "    move=weighted_choice(T[state])\n",
    "    \n",
    "    if move is None:  \n",
    "        \n",
    "        # learn\n",
    "        if learning:\n",
    "            if last_state:\n",
    "                T[last_state][last_action]-=1 # take away a skittle\n",
    "                if T[last_state][last_action]<0:\n",
    "                    T[last_state][last_action]=0\n",
    "    \n",
    "        return random_move(state,player)\n",
    "    else:\n",
    "        return move"
   ]
  },
  {
   "cell_type": "code",
   "execution_count": 13,
   "id": "4fb63acf-7843-447e-8ba1-2d97f3d22690",
   "metadata": {},
   "outputs": [],
   "source": [
    "def skittles_after(status,player,info):\n",
    "    # not return anything but...\n",
    "    # will adjust the skittles table if lost the game\n",
    "    T=info.T\n",
    "    last_state=info.last_state\n",
    "    last_action=info.last_action\n",
    "    learning=info.learning\n",
    "    \n",
    "    if learning:\n",
    "        if status=='lose':  # only learn when you lose\n",
    "            T[last_state][last_action]-=1 # take away a skittle\n",
    "            if T[last_state][last_action]<0:\n",
    "                T[last_state][last_action]=0"
   ]
  },
  {
   "cell_type": "code",
   "execution_count": 14,
   "id": "c7c67522-fbd6-4eb9-beca-71b88561edec",
   "metadata": {},
   "outputs": [],
   "source": [
    "skittles_agent=Agent(skittles_move)\n",
    "skittles_agent.post=skittles_after\n",
    "skittles_agent.T=Table()  # makes an empty table\n",
    "skittles_agent.learning=True"
   ]
  },
  {
   "cell_type": "markdown",
   "id": "0308f234-ce99-4179-a403-bf1656048c77",
   "metadata": {},
   "source": [
    "## Q Agent"
   ]
  },
  {
   "cell_type": "code",
   "execution_count": 15,
   "id": "b3b34bb3-c1c6-488e-a15f-a794bf72f1f5",
   "metadata": {},
   "outputs": [],
   "source": [
    "def Q_move(state,player,info):\n",
    "    Q=info.Q\n",
    "    last_state=info.last_state\n",
    "    last_action=info.last_action\n",
    "    learning=info.learning\n",
    "    \n",
    "    α=info.α  # learning rate\n",
    "    ϵ=info.ϵ  # how often to take a random move\n",
    "    γ=info.γ  # memory constant -- how quickly does the table update back in time (earlier in the game)\n",
    "    \n",
    "    # \\alpha <hit tab>    α\n",
    "    # \\epsilon <hit tab>  ϵ\n",
    "    # \\gamma <hit tab>    γ\n",
    "    \n",
    "    if state not in Q:\n",
    "        actions=valid_moves(state,player)\n",
    "        Q[state]=Table()\n",
    "        for action in actions:\n",
    "            Q[state][action]=0  # initial value of table\n",
    "    \n",
    "    \n",
    "    if random.random()<ϵ:  # take a random move occasionally to explore the environment\n",
    "        move=random_move(state,player)\n",
    "    else:\n",
    "        move=top_choice(Q[state])\n",
    "    \n",
    "    if not last_action is None:  # not the first move\n",
    "        reward=0\n",
    "        \n",
    "        # learn\n",
    "        if learning:\n",
    "            Q[last_state][last_action]+=α*(reward +\n",
    "                        γ*max([Q[state][a] for a in Q[state]]) - Q[last_state][last_action])\n",
    "    \n",
    "    return move"
   ]
  },
  {
   "cell_type": "code",
   "execution_count": 16,
   "id": "05270935-cf16-4044-86c9-67210e80dacc",
   "metadata": {},
   "outputs": [],
   "source": [
    "def Q_after(status,player,info):\n",
    "    Q=info.Q\n",
    "    last_state=info.last_state\n",
    "    last_action=info.last_action\n",
    "    learning=info.learning\n",
    "    \n",
    "    α=info.α  # learning rate\n",
    "    ϵ=info.ϵ  # how often to take a random move\n",
    "    γ=info.γ  # memory constant -- how quickly does the table update back in time (earlier in the game)\n",
    "    \n",
    "    # \\alpha <hit tab>    α\n",
    "    # \\epsilon <hit tab>  ϵ\n",
    "    # \\gamma <hit tab>    γ\n",
    "\n",
    "    if status=='lose':\n",
    "        reward=-1\n",
    "    elif status=='win':\n",
    "        reward=1\n",
    "    elif status=='stalemate':\n",
    "        reward=.5 # value stalemate a little closer to a win\n",
    "    else:\n",
    "        reward=0\n",
    "    \n",
    "    \n",
    "    if learning:\n",
    "        Q[last_state][last_action]+=α*(reward - Q[last_state][last_action])\n",
    "        \n"
   ]
  },
  {
   "cell_type": "code",
   "execution_count": 22,
   "id": "22a4d157-95fc-4b3c-8fe5-7428dd610bdf",
   "metadata": {},
   "outputs": [],
   "source": [
    "Q1_agent=Agent(Q_move)\n",
    "Q1_agent.post=Q_after\n",
    "Q1_agent.Q=Table()  # makes an empty table\n",
    "Q1_agent.learning=True\n",
    "\n",
    "Q1_agent.α=0.3  # learning rate\n",
    "Q1_agent.ϵ=0.1  # how often to take a random move\n",
    "Q1_agent.γ=0.9  # memory constant -- how quickly does the table update back in time (earlier in the game)"
   ]
  },
  {
   "cell_type": "code",
   "execution_count": 23,
   "id": "20bba54c-6313-41cb-93cd-415cfc745d78",
   "metadata": {},
   "outputs": [],
   "source": [
    "Q2_agent=Agent(Q_move)\n",
    "Q2_agent.post=Q_after\n",
    "Q2_agent.Q=Table()  # makes an empty table\n",
    "Q2_agent.learning=True\n",
    "\n",
    "Q2_agent.α=0.3  # learning rate\n",
    "Q2_agent.ϵ=0.1  # how often to take a random move\n",
    "Q2_agent.γ=0.9  # memory constant -- how quickly does the table update back in time (earlier in the game)"
   ]
  },
  {
   "cell_type": "markdown",
   "id": "f887d351-f175-4af5-9b22-5687792cb8d6",
   "metadata": {},
   "source": [
    "## Running the Game"
   ]
  },
  {
   "cell_type": "code",
   "execution_count": 24,
   "id": "b2316296-c292-4118-849f-9b9817f9cd8e",
   "metadata": {},
   "outputs": [
    {
     "name": "stdout",
     "output_type": "stream",
     "text": [
      "====\n",
      "Game  1\n",
      "There are  21 sticks\n",
      "Player 1 moves 2\n",
      "There are  19 sticks\n",
      "Player 2 moves 1\n",
      "There are  18 sticks\n",
      "Player 1 moves 1\n",
      "There are  17 sticks\n",
      "Player 2 moves 1\n",
      "There are  16 sticks\n",
      "Player 1 moves 3\n",
      "There are  13 sticks\n",
      "Player 2 moves 1\n",
      "There are  12 sticks\n",
      "Player 1 moves 3\n",
      "There are  9 sticks\n",
      "Player 2 moves 1\n",
      "There are  8 sticks\n",
      "Player 1 moves 2\n",
      "There are  6 sticks\n",
      "Player 2 moves 1\n",
      "There are  5 sticks\n",
      "Player 1 moves 3\n",
      "There are  2 sticks\n",
      "Player 2 moves 2\n",
      "There are  0 sticks\n",
      "Player  1 won.\n"
     ]
    },
    {
     "data": {
      "text/plain": [
       "[1]"
      ]
     },
     "execution_count": 24,
     "metadata": {},
     "output_type": "execute_result"
    }
   ],
   "source": [
    "g=Game()\n",
    "g.run(Q1_agent,Q2_agent)"
   ]
  },
  {
   "cell_type": "code",
   "execution_count": null,
   "id": "4a8379b4-d9d9-4cb9-9ce4-f7cb70b34930",
   "metadata": {},
   "outputs": [],
   "source": []
  },
  {
   "cell_type": "code",
   "execution_count": 25,
   "id": "4562bd01-46d6-4cdf-8199-7a53a5bf1532",
   "metadata": {},
   "outputs": [],
   "source": [
    "N_train=5\n",
    "N_test=100\n",
    "\n",
    "percentage_player1_wins=[]\n",
    "percentage_player2_wins=[]\n",
    "percentage_ties=[]\n",
    "total_number_of_games=[]\n",
    "\n",
    "Q1_agent.Q=Table()  # makes an empty table\n",
    "Q2_agent.Q=Table()  # makes an empty table\n",
    "\n",
    "\n",
    "current_game_number=0\n",
    "\n",
    "for i in range(100):\n",
    "    \n",
    "    Q1_agent.learning=Q2_agent.learning=True\n",
    "    g=Game(number_of_games=N_train)\n",
    "    g.display=False\n",
    "    g.run(Q1_agent,Q2_agent)\n",
    "\n",
    "    current_game_number+=N_train\n",
    "    \n",
    "    \n",
    "    Q1_agent.learning=Q2_agent.learning=False\n",
    "    g=Game(number_of_games=N_test)\n",
    "    g.display=False\n",
    "    results=g.run(random_agent,Q2_agent)\n",
    "    \n",
    "    percentage_player1_wins.append(results.count(1))\n",
    "    percentage_player2_wins.append(results.count(2))\n",
    "    percentage_ties.append(results.count(0)) \n",
    "    total_number_of_games.append(current_game_number)"
   ]
  },
  {
   "cell_type": "code",
   "execution_count": 26,
   "id": "5d1f4198-43aa-469d-9fe2-0b1b08ae6ec5",
   "metadata": {},
   "outputs": [],
   "source": [
    "%matplotlib inline\n",
    "from matplotlib.pylab import figure,plot,legend,xlabel,ylabel"
   ]
  },
  {
   "cell_type": "code",
   "execution_count": 27,
   "id": "dc9030ab-05fc-496e-8861-57b1676a7f9e",
   "metadata": {},
   "outputs": [
    {
     "data": {
      "text/plain": [
       "<matplotlib.legend.Legend at 0x19f3c3460>"
      ]
     },
     "execution_count": 27,
     "metadata": {},
     "output_type": "execute_result"
    },
    {
     "data": {
      "image/png": "[encoded data removed]",
      "text/plain": [
       "<Figure size 576x432 with 1 Axes>"
      ]
     },
     "metadata": {
      "needs_background": "light"
     },
     "output_type": "display_data"
    }
   ],
   "source": [
    "figure(figsize=(8,6))\n",
    "plot(total_number_of_games,percentage_player1_wins,'-o',label=\"Player 1 Wins\")\n",
    "plot(total_number_of_games,percentage_player2_wins,'-x',label=\"Player 2 Wins\")\n",
    "plot(total_number_of_games,percentage_ties,'-s',label=\"Ties\")\n",
    "xlabel('Number of Games')\n",
    "ylabel('Percentage')\n",
    "legend()"
   ]
  },
  {
   "cell_type": "code",
   "execution_count": 28,
   "id": "10e78263-184e-4900-abb5-33fdf39ca6ef",
   "metadata": {},
   "outputs": [
    {
     "data": {
      "text/plain": [
       "{21: {1: -0.1596756968188014, 2: -0.49665289846241967, 3: -0.5008749297753496},\n",
       " 16: {1: 0.0, 2: 0.0, 3: 0.7155799681929008},\n",
       " 14: {1: 0.7253155712040121, 2: -0.23766625423856894, 3: -0.4618977839646117},\n",
       " 10: {1: 0.807083493783523, 2: -0.31501509936471206, 3: -0.08723700000000001},\n",
       " 5: {1: -0.9999937032335106, 2: -0.99999535881257, 3: -0.9816556844362134},\n",
       " 19: {1: -0.17150296178932078, 2: 0.613952175481383, 3: 0},\n",
       " 15: {1: 0.0, 2: 0.7128245445289363, 3: -0.3534009982745575},\n",
       " 8: {1: -0.1377, 2: -0.22462110000000002, 3: 0.899763124684687},\n",
       " 2: {1: 0.9999842224617965, 2: -0.3},\n",
       " 18: {1: 0.5675422483514815, 2: -0.37540138822618, 3: 0.0},\n",
       " 12: {1: 0.0, 2: -0.1047816428930761, 3: 0.8079284818544568},\n",
       " 9: {1: -0.7582647709496891, 2: -0.8988940786159029, 3: -0.8987859630079355},\n",
       " 7: {1: -0.3714466516452527, 2: 0.8999485281336058, 3: -0.51},\n",
       " 6: {1: 0.8999093234810719, 2: -0.3, 3: -0.335217},\n",
       " 17: {1: -0.17450024225188937, 2: -0.5691033888625615, 3: -0.6906959865230435},\n",
       " 11: {1: -0.1800737165895792, 2: 0.8095410887986247, 3: -0.3270145971747982},\n",
       " 3: {1: 0, 2: 0.9999945883043961, 3: -0.3},\n",
       " 4: {1: -0.657, 2: -0.7599, 3: 0.9999999999402317},\n",
       " 13: {1: -0.4809788352070797, 2: -0.8009000891438867, 3: -0.7528588831517217}}"
      ]
     },
     "execution_count": 28,
     "metadata": {},
     "output_type": "execute_result"
    }
   ],
   "source": [
    "Q1_agent.Q"
   ]
  },
  {
   "cell_type": "code",
   "execution_count": 30,
   "id": "a2e173ff-0d5b-4e54-a462-1170889a8141",
   "metadata": {},
   "outputs": [],
   "source": [
    "SaveTable(Q1_agent.Q,\"Q1 table.json\")\n",
    "SaveTable(Q2_agent.Q,\"Q2 table.json\")"
   ]
  },
  {
   "cell_type": "code",
   "execution_count": null,
   "id": "74f0b53c-d62b-41a4-b532-43c08eff884c",
   "metadata": {},
   "outputs": [],
   "source": []
  }
 ],
 "metadata": {
  "kernelspec": {
   "display_name": "Python 3",
   "language": "python",
   "name": "python3"
  },
  "language_info": {
   "codemirror_mode": {
    "name": "ipython",
    "version": 3
   },
   "file_extension": ".py",
   "mimetype": "text/x-python",
   "name": "python",
   "nbconvert_exporter": "python",
   "pygments_lexer": "ipython3",
   "version": "3.8.10"
  }
 },
 "nbformat": 4,
 "nbformat_minor": 5
}
