{
 "cells": [
  {
   "cell_type": "code",
   "execution_count": 1,
   "id": "90d315de-d356-4277-bfcd-b3c953d044e4",
   "metadata": {},
   "outputs": [
    {
     "name": "stdout",
     "output_type": "stream",
     "text": [
      "Version:  0.2.32\n"
     ]
    }
   ],
   "source": [
    "from Game import *"
   ]
  },
  {
   "cell_type": "markdown",
   "id": "d23bcbd9-2ffa-42ac-8584-47e3d2d29d0a",
   "metadata": {},
   "source": [
    "## Game functions"
   ]
  },
  {
   "cell_type": "code",
   "execution_count": 2,
   "id": "15420972-b911-4f92-9727-3791e0021b28",
   "metadata": {},
   "outputs": [],
   "source": [
    "def initial_state():\n",
    "    state=Board(3,3)\n",
    "    state.pieces=[\".\",\"X\",\"O\"]\n",
    "    \n",
    "    state.board=[1,0,2,1,0,2,0,0,0]\n",
    "    return state\n",
    "\n",
    "def show_state(state):\n",
    "    print(state)\n",
    "    \n",
    "def valid_moves(state,player):\n",
    "    # run through all the spots\n",
    "    # if it is empty, then append that\n",
    "    # location to the possible moves\n",
    "    \n",
    "    moves=[]\n",
    "    for location in range(9):\n",
    "        if state[location]==0:\n",
    "            moves.append(location)\n",
    "            \n",
    "    return moves  \n",
    "\n",
    "def update_state(state,player,move):\n",
    "    new_state=state\n",
    "    \n",
    "    new_state[move]=player\n",
    "    return new_state    \n",
    "    \n",
    "def win_status(state,player):\n",
    "    # the state is *after* the move for the player\n",
    "\n",
    "    #  0  1  2 \n",
    "    #  3  4  5 \n",
    "    #  6  7  8   \n",
    "    \n",
    "    for start,middle,end in [\n",
    "        [0,1,2],[3,4,5],[6,7,8],\n",
    "        [0,3,6],[1,4,7],[2,5,8],\n",
    "        [0,4,8],[2,4,6],\n",
    "                ]:\n",
    "        \n",
    "        if state[start]==player and state[middle]==player and state[end]==player:\n",
    "            return \"win\"\n",
    "        \n",
    "    if player==1:\n",
    "        other_player=2\n",
    "    else:\n",
    "        other_player=1\n",
    "    \n",
    "    if not valid_moves(state,other_player):\n",
    "        return \"stalemate\"\n",
    "    "
   ]
  },
  {
   "cell_type": "markdown",
   "id": "2b73f5f6-e774-4bde-94f3-db57480a8de9",
   "metadata": {},
   "source": [
    "## Agent Functions"
   ]
  },
  {
   "cell_type": "code",
   "execution_count": 3,
   "id": "9fc2bb6e-04ec-49b8-b665-cc6c7a0d8cf8",
   "metadata": {},
   "outputs": [],
   "source": [
    "def human_move(state,player):\n",
    "    \n",
    "    state.show_locations()\n",
    "    print(\"Player\",player)\n",
    "    move=int(input(\"which square to move?\"))\n",
    "    return move\n",
    "\n",
    "human_agent=Agent(human_move)     "
   ]
  },
  {
   "cell_type": "code",
   "execution_count": 4,
   "id": "84dda3ca-ea87-440f-a9fa-bbb5ead27e06",
   "metadata": {},
   "outputs": [],
   "source": [
    "def random_move(state,player):\n",
    "    \n",
    "    move=random.choice(valid_moves(state,player))\n",
    "    return move\n",
    "\n",
    "\n",
    "random_agent=Agent(random_move)"
   ]
  },
  {
   "cell_type": "code",
   "execution_count": 5,
   "id": "74454473-403a-4597-ada4-edd245cb5526",
   "metadata": {},
   "outputs": [],
   "source": [
    "from Game.minimax import *\n",
    "def minimax_move(state,player):\n",
    "\n",
    "    values,moves=minimax_values(state,player,display=True)\n",
    "    return top_choice(moves,values)\n",
    "\n",
    "\n",
    "minimax_agent=Agent(minimax_move)"
   ]
  },
  {
   "cell_type": "markdown",
   "id": "e3f47303-f2ca-45e2-973f-e4254478ac98",
   "metadata": {},
   "source": [
    "## Skittles Agent"
   ]
  },
  {
   "cell_type": "code",
   "execution_count": 6,
   "id": "213ef3b2-ca15-4ba0-ae39-13b63adaab19",
   "metadata": {},
   "outputs": [],
   "source": [
    "def skittles_move(state,player,info):\n",
    "    T=info.T\n",
    "    last_state=info.last_state\n",
    "    last_action=info.last_action\n",
    "    learning=info.learning\n",
    "    \n",
    "    if state not in T:\n",
    "        actions=valid_moves(state,player)\n",
    "        T[state]=Table()\n",
    "        for action in actions:\n",
    "            T[state][action]=2  # initial number of skittles\n",
    "    \n",
    "    move=weighted_choice(T[state])\n",
    "    \n",
    "    if move is None:  \n",
    "        \n",
    "        # learn\n",
    "        if learning:\n",
    "            if last_state:\n",
    "                T[last_state][last_action]-=1 # take away a skittle\n",
    "                if T[last_state][last_action]<0:\n",
    "                    T[last_state][last_action]=0\n",
    "    \n",
    "        return random_move(state,player)\n",
    "    else:\n",
    "        return move"
   ]
  },
  {
   "cell_type": "code",
   "execution_count": 7,
   "id": "4fb63acf-7843-447e-8ba1-2d97f3d22690",
   "metadata": {},
   "outputs": [],
   "source": [
    "def skittles_after(status,player,info):\n",
    "    # not return anything but...\n",
    "    # will adjust the skittles table if lost the game\n",
    "    T=info.T\n",
    "    last_state=info.last_state\n",
    "    last_action=info.last_action\n",
    "    learning=info.learning\n",
    "    \n",
    "    if learning:\n",
    "        if status=='lose':  # only learn when you lose\n",
    "            T[last_state][last_action]-=1 # take away a skittle\n",
    "            if T[last_state][last_action]<0:\n",
    "                T[last_state][last_action]=0"
   ]
  },
  {
   "cell_type": "code",
   "execution_count": 8,
   "id": "c7c67522-fbd6-4eb9-beca-71b88561edec",
   "metadata": {},
   "outputs": [],
   "source": [
    "skittles_agent=Agent(skittles_move)\n",
    "skittles_agent.post=skittles_after\n",
    "skittles_agent.T=Table()  # makes an empty table\n",
    "skittles_agent.learning=True"
   ]
  },
  {
   "cell_type": "markdown",
   "id": "f887d351-f175-4af5-9b22-5687792cb8d6",
   "metadata": {},
   "source": [
    "## Running the Game"
   ]
  },
  {
   "cell_type": "code",
   "execution_count": 9,
   "id": "cb34a25e-f5a0-4015-8663-d95a1ea6bc0b",
   "metadata": {},
   "outputs": [
    {
     "name": "stdout",
     "output_type": "stream",
     "text": [
      "====\n",
      "Game  1\n",
      " X  .  O \n",
      " X  .  O \n",
      " .  .  . \n",
      "\n",
      "Player 1 moves 8\n",
      " X  .  O \n",
      " X  .  O \n",
      " .  .  X \n",
      "\n",
      "Player 2 moves 4\n",
      " X  .  O \n",
      " X  O  O \n",
      " .  .  X \n",
      "\n",
      "Player 1 moves 7\n",
      " X  .  O \n",
      " X  O  O \n",
      " .  X  X \n",
      "\n",
      "Player 2 moves 1\n",
      " X  O  O \n",
      " X  O  O \n",
      " .  X  X \n",
      "\n",
      "Player 1 moves 6\n",
      " X  O  O \n",
      " X  O  O \n",
      " X  X  X \n",
      "\n",
      "Player  1 won.\n"
     ]
    },
    {
     "data": {
      "text/plain": [
       "[1]"
      ]
     },
     "execution_count": 9,
     "metadata": {},
     "output_type": "execute_result"
    }
   ],
   "source": [
    "g=Game()\n",
    "g.run(random_agent,skittles_agent)"
   ]
  },
  {
   "cell_type": "code",
   "execution_count": 11,
   "id": "3e25cfd3-73d2-4395-9e8b-d65bba2e1cac",
   "metadata": {},
   "outputs": [
    {
     "data": {
      "text/plain": [
       "{(1, 0, 2, 1, 0, 2, 0, 0, 1): {1: 2, 4: 2, 6: 2, 7: 2},\n",
       " (1, 0, 2, 1, 2, 2, 0, 1, 1): {1: 1, 6: 2}}"
      ]
     },
     "execution_count": 11,
     "metadata": {},
     "output_type": "execute_result"
    }
   ],
   "source": [
    "skittles_agent.T"
   ]
  },
  {
   "cell_type": "code",
   "execution_count": 13,
   "id": "dd49b6c7-b4bb-4954-b2e6-51d3c2f87313",
   "metadata": {},
   "outputs": [],
   "source": [
    "SaveTable(skittles_agent.T,\"skittles TTT endgame1.json\")"
   ]
  },
  {
   "cell_type": "code",
   "execution_count": 14,
   "id": "f187115d-69a5-49c8-be59-779be794ddf1",
   "metadata": {},
   "outputs": [
    {
     "name": "stdout",
     "output_type": "stream",
     "text": [
      "====\n",
      "Game  1\n",
      " X  .  O \n",
      " X  .  O \n",
      " .  .  . \n",
      "\n",
      "Player 1 moves 4\n",
      " X  .  O \n",
      " X  X  O \n",
      " .  .  . \n",
      "\n",
      "Player 2 moves 1\n",
      " X  O  O \n",
      " X  X  O \n",
      " .  .  . \n",
      "\n",
      "Player 1 moves 8\n",
      " X  O  O \n",
      " X  X  O \n",
      " .  .  X \n",
      "\n",
      "Player  1 won.\n"
     ]
    },
    {
     "data": {
      "text/plain": [
       "[1]"
      ]
     },
     "execution_count": 14,
     "metadata": {},
     "output_type": "execute_result"
    }
   ],
   "source": [
    "g.run(random_agent,skittles_agent)"
   ]
  },
  {
   "cell_type": "code",
   "execution_count": 15,
   "id": "bde41c35-2daf-4e0b-b1b9-b1d738497ee5",
   "metadata": {},
   "outputs": [
    {
     "data": {
      "text/plain": [
       "{(1, 0, 2, 1, 0, 2, 0, 0, 1): {1: 2, 4: 2, 6: 2, 7: 2},\n",
       " (1, 0, 2, 1, 2, 2, 0, 1, 1): {1: 1, 6: 2},\n",
       " (1, 0, 2, 1, 1, 2, 0, 0, 0): {1: 1, 6: 2, 7: 2, 8: 2}}"
      ]
     },
     "execution_count": 15,
     "metadata": {},
     "output_type": "execute_result"
    }
   ],
   "source": [
    "skittles_agent.T"
   ]
  },
  {
   "cell_type": "code",
   "execution_count": 17,
   "id": "ef3007e8-2793-42c0-bc7b-965a0c1beac4",
   "metadata": {},
   "outputs": [],
   "source": [
    "SaveTable(skittles_agent.T,\"skittles TTT endgame2.json\")"
   ]
  },
  {
   "cell_type": "code",
   "execution_count": 18,
   "id": "d48d802c-0762-4426-a575-c4ea7aa56800",
   "metadata": {},
   "outputs": [
    {
     "data": {
      "text/plain": [
       "[1, 1, 1, 1, 1, 2, 1, 1, 1, 2]"
      ]
     },
     "execution_count": 18,
     "metadata": {},
     "output_type": "execute_result"
    }
   ],
   "source": [
    "g=Game(number_of_games=10)\n",
    "g.display=False\n",
    "g.run(random_agent,skittles_agent)"
   ]
  },
  {
   "cell_type": "code",
   "execution_count": 19,
   "id": "e915a986-b220-4902-a7b4-34b819352364",
   "metadata": {},
   "outputs": [
    {
     "data": {
      "text/plain": [
       "{(1, 0, 2, 1, 0, 2, 0, 0, 1): {1: 2, 4: 1, 6: 2, 7: 2},\n",
       " (1, 0, 2, 1, 2, 2, 0, 1, 1): {1: 1, 6: 2},\n",
       " (1, 0, 2, 1, 1, 2, 0, 0, 0): {1: 1, 6: 2, 7: 1, 8: 2},\n",
       " (1, 0, 2, 1, 0, 2, 2, 1, 1): {1: 1, 4: 2},\n",
       " (1, 1, 2, 1, 0, 2, 2, 0, 1): {4: 2, 7: 1},\n",
       " (1, 1, 2, 1, 0, 2, 0, 2, 1): {4: 2, 6: 1},\n",
       " (1, 1, 2, 1, 0, 2, 0, 0, 0): {4: 2, 6: 2, 7: 2, 8: 2},\n",
       " (1, 0, 2, 1, 0, 2, 0, 1, 0): {1: 2, 4: 1, 6: 2, 8: 2}}"
      ]
     },
     "execution_count": 19,
     "metadata": {},
     "output_type": "execute_result"
    }
   ],
   "source": [
    "skittles_agent.T"
   ]
  },
  {
   "cell_type": "code",
   "execution_count": 20,
   "id": "89d896e2-18d6-4c67-b44d-c32b49271a05",
   "metadata": {},
   "outputs": [],
   "source": [
    "SaveTable(skittles_agent.T,\"skittles TTT endgame12.json\")"
   ]
  },
  {
   "cell_type": "code",
   "execution_count": 21,
   "id": "6d0d7bf3-d074-4a3e-b21b-11d7559847ef",
   "metadata": {},
   "outputs": [
    {
     "data": {
      "text/plain": [
       "[1, 2, 2, 1, 1, 2, 1, 2, 1, 1, 1, 2, 1, 1, 2, 2, 1, 2, 1, 1]"
      ]
     },
     "execution_count": 21,
     "metadata": {},
     "output_type": "execute_result"
    }
   ],
   "source": [
    "g=Game(number_of_games=20)\n",
    "g.display=False\n",
    "g.run(random_agent,skittles_agent)"
   ]
  },
  {
   "cell_type": "code",
   "execution_count": 22,
   "id": "2661ec0b-a8c1-47fb-93ab-03dd7750f7c9",
   "metadata": {},
   "outputs": [
    {
     "data": {
      "text/plain": [
       "{(1, 0, 2, 1, 0, 2, 0, 0, 1): {1: 2, 4: 1, 6: 1, 7: 2},\n",
       " (1, 0, 2, 1, 2, 2, 0, 1, 1): {1: 1, 6: 2},\n",
       " (1, 0, 2, 1, 1, 2, 0, 0, 0): {1: 0, 6: 1, 7: 0, 8: 2},\n",
       " (1, 0, 2, 1, 0, 2, 2, 1, 1): {1: 1, 4: 2},\n",
       " (1, 1, 2, 1, 0, 2, 2, 0, 1): {4: 2, 7: 1},\n",
       " (1, 1, 2, 1, 0, 2, 0, 2, 1): {4: 1, 6: 1},\n",
       " (1, 1, 2, 1, 0, 2, 0, 0, 0): {4: 2, 6: 2, 7: 2, 8: 2},\n",
       " (1, 0, 2, 1, 0, 2, 0, 1, 0): {1: 2, 4: 0, 6: 2, 8: 2},\n",
       " (1, 1, 2, 1, 2, 2, 0, 0, 1): {6: 2, 7: 2},\n",
       " (1, 1, 2, 1, 1, 2, 2, 0, 0): {7: 2, 8: 2}}"
      ]
     },
     "execution_count": 22,
     "metadata": {},
     "output_type": "execute_result"
    }
   ],
   "source": [
    "skittles_agent.T"
   ]
  },
  {
   "cell_type": "code",
   "execution_count": 23,
   "id": "ef3a6f3f-d78a-4171-a693-0f5932a862a3",
   "metadata": {},
   "outputs": [],
   "source": [
    "SaveTable(skittles_agent.T,\"skittles TTT endgame32.json\")"
   ]
  },
  {
   "cell_type": "code",
   "execution_count": null,
   "id": "18ba8836-51ff-4af2-bba5-4be7392c592b",
   "metadata": {},
   "outputs": [],
   "source": []
  }
 ],
 "metadata": {
  "kernelspec": {
   "display_name": "Python 3",
   "language": "python",
   "name": "python3"
  },
  "language_info": {
   "codemirror_mode": {
    "name": "ipython",
    "version": 3
   },
   "file_extension": ".py",
   "mimetype": "text/x-python",
   "name": "python",
   "nbconvert_exporter": "python",
   "pygments_lexer": "ipython3",
   "version": "3.8.10"
  }
 },
 "nbformat": 4,
 "nbformat_minor": 5
}
