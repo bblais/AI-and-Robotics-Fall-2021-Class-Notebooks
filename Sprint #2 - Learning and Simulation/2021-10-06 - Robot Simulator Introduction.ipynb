{
 "cells": [
  {
   "cell_type": "code",
   "execution_count": 1,
   "id": "032ed368-b7b5-45b2-9243-c0d64269adca",
   "metadata": {},
   "outputs": [
    {
     "name": "stdout",
     "output_type": "stream",
     "text": [
      "Populating the interactive namespace from numpy and matplotlib\n"
     ]
    }
   ],
   "source": [
    "%pylab inline"
   ]
  },
  {
   "cell_type": "code",
   "execution_count": 2,
   "id": "76fef043-3442-4ac6-a528-c1b7d4cd9a47",
   "metadata": {},
   "outputs": [
    {
     "name": "stdout",
     "output_type": "stream",
     "text": [
      "Version:  0.0.26\n"
     ]
    }
   ],
   "source": [
    "from RobotSim373 import *"
   ]
  },
  {
   "cell_type": "markdown",
   "id": "bd5f280a-68fe-4656-8a4a-d9cdb915ae6b",
   "metadata": {},
   "source": [
    "* Physics is simulated in two dimensions\n",
    "* Everything is made up of rectangles (Box) or circular disks (Disk)\n",
    "* There are objects associated with the robot and objects which just exist in the world\n",
    "* Objects can be connected in different ways:\n",
    "    1. \"weld\" - objects are hard-connected together\n",
    "    2. \"distance\" - objects are constrained to be at a constant distance but can otherwise move independently\n",
    "    3. \"revolve\" - objects are kept at a constant relative position, but can spin freely\n",
    "* Robot objects can have a force applied to them, always in the direction they face\n",
    "* Gravity is assumed to be zero, unless otherwise specified"
   ]
  },
  {
   "cell_type": "markdown",
   "id": "fd8af527-fd8a-4600-a486-e22ea46d187b",
   "metadata": {},
   "source": [
    "## Minimum functions"
   ]
  },
  {
   "cell_type": "code",
   "execution_count": 3,
   "id": "81663855-149b-4ac1-894e-9e091af9f1f0",
   "metadata": {},
   "outputs": [],
   "source": [
    "def build(robot):\n",
    "    Box(robot,x=5,y=8,width=2,height=1,name=\"bob\")\n",
    "\n",
    "def act(t,robot):\n",
    "    robot['bob'].F=3"
   ]
  },
  {
   "cell_type": "markdown",
   "id": "8469c6db-748e-4d1b-88ec-0031dd8c889c",
   "metadata": {},
   "source": [
    "## Making an Environment and Running"
   ]
  },
  {
   "cell_type": "code",
   "execution_count": 5,
   "id": "3e8e7e51-7379-4934-97cc-c601f451d94f",
   "metadata": {},
   "outputs": [
    {
     "data": {
      "image/png": "[encoded data removed]",
      "text/plain": [
       "<Figure size 432x432 with 1 Axes>"
      ]
     },
     "metadata": {
      "needs_background": "light"
     },
     "output_type": "display_data"
    }
   ],
   "source": [
    "env=Environment(24,24)  # size of the environment\n",
    "robot=Robot(env)\n",
    "build(robot)\n",
    "\n",
    "run_sim(env,act,\n",
    "        figure_width=6,\n",
    "        total_time=20,  # seconds\n",
    "        dt_display=.1,  # make this larger for a faster display\n",
    "       )"
   ]
  },
  {
   "cell_type": "code",
   "execution_count": 9,
   "id": "cee83638-9a51-44d1-bfc4-d4ee9f1babf5",
   "metadata": {},
   "outputs": [],
   "source": [
    "def build(robot):\n",
    "    Box(robot,x=5,y=8,width=2,height=1,name=\"bob\")\n",
    "    Box(robot,x=5,y=15,width=1,height=1,name=\"sally\")\n",
    "\n",
    "def act(t,robot):\n",
    "    robot['bob'].F=1\n",
    "    robot['sally'].F=1"
   ]
  },
  {
   "cell_type": "code",
   "execution_count": 16,
   "id": "777859ed-ffbe-4e63-84b6-ac512a987218",
   "metadata": {},
   "outputs": [
    {
     "data": {
      "image/png": "[encoded data removed]",
      "text/plain": [
       "<Figure size 432x432 with 1 Axes>"
      ]
     },
     "metadata": {
      "needs_background": "light"
     },
     "output_type": "display_data"
    }
   ],
   "source": [
    "env=Environment(24,24)  # size of the environment\n",
    "robot=Robot(env)\n",
    "build(robot)\n",
    "\n",
    "\n",
    "Box(env,x=15,y=10,height=15,width=.1)\n",
    "\n",
    "run_sim(env,act,\n",
    "        figure_width=6,\n",
    "        total_time=20,  # seconds\n",
    "        dt_display=.1,  # make this larger for a faster display\n",
    "       )"
   ]
  },
  {
   "cell_type": "code",
   "execution_count": 30,
   "id": "d062d65a-f446-407f-89ab-7af10c84d6de",
   "metadata": {},
   "outputs": [],
   "source": [
    "def build(robot):\n",
    "    bob=Box(robot,x=5,y=8,width=2,height=1,name=\"bob\")\n",
    "    sally=Box(robot,x=5,y=15,width=1,height=1,name=\"sally\")\n",
    "    fred=Disk(robot,x=5,y=10,radius=.3,name=\"fred\")\n",
    "    #connect(bob,sally,\"weld\")\n",
    "    connect(bob,sally,\"distance\")\n",
    "    connect(fred,sally,\"weld\")\n",
    "    \n",
    "    \n",
    "def act(t,robot):\n",
    "    robot['bob'].F=1\n",
    "    robot['sally'].F=3\n",
    "    robot['fred'].F=-2"
   ]
  },
  {
   "cell_type": "code",
   "execution_count": 31,
   "id": "1dfc2d9a-fe52-4944-9182-f448c3691a9a",
   "metadata": {},
   "outputs": [
    {
     "data": {
      "image/png": "[encoded data removed]",
      "text/plain": [
       "<Figure size 432x432 with 1 Axes>"
      ]
     },
     "metadata": {
      "needs_background": "light"
     },
     "output_type": "display_data"
    }
   ],
   "source": [
    "env=Environment(24,24)  # size of the environment\n",
    "robot=Robot(env)\n",
    "build(robot)\n",
    "\n",
    "\n",
    "Box(env,x=15,y=10,height=15,width=.1)\n",
    "\n",
    "run_sim(env,act,\n",
    "        figure_width=6,\n",
    "        total_time=10,  # seconds\n",
    "        dt_display=.1,  # make this larger for a faster display\n",
    "       )"
   ]
  },
  {
   "cell_type": "code",
   "execution_count": 44,
   "id": "7a3c0a1f-f963-43d6-897e-6f56c289ace4",
   "metadata": {},
   "outputs": [],
   "source": [
    "def build(robot):\n",
    "    bob=Box(robot,x=5,y=8,width=2,height=1,name=\"bob\")\n",
    "    \n",
    "    \n",
    "def act(t,robot):\n",
    "    \n",
    "    if robot['bob'].x<11:\n",
    "        robot['bob'].F=1\n",
    "    else:\n",
    "        robot['bob'].F=-1\n",
    "\n",
    "    robot.message='%.2f' % robot['bob'].vx"
   ]
  },
  {
   "cell_type": "code",
   "execution_count": 45,
   "id": "f8b0306a-0348-463f-99b6-f422735e85fd",
   "metadata": {},
   "outputs": [
    {
     "data": {
      "image/png": "[encoded data removed]",
      "text/plain": [
       "<Figure size 432x432 with 1 Axes>"
      ]
     },
     "metadata": {
      "needs_background": "light"
     },
     "output_type": "display_data"
    }
   ],
   "source": [
    "env=Environment(24,24)  # size of the environment\n",
    "robot=Robot(env)\n",
    "build(robot)\n",
    "\n",
    "\n",
    "#Box(env,x=15,y=10,height=15,width=.1)\n",
    "\n",
    "run_sim(env,act,\n",
    "        figure_width=6,\n",
    "        total_time=60,  # seconds\n",
    "        dt_display=.1,  # make this larger for a faster display\n",
    "       )"
   ]
  },
  {
   "cell_type": "markdown",
   "id": "e384b4f3-abcc-4646-b2c0-58cc5f08fce6",
   "metadata": {},
   "source": [
    "## \".F\" is a force - linear motion, \".τ\" is a torque - rotational motion\n",
    "\n",
    "- type \\tau and hit TAB"
   ]
  },
  {
   "cell_type": "code",
   "execution_count": 48,
   "id": "7ef74b42-fa92-4fcb-abab-2923ecf25ac6",
   "metadata": {},
   "outputs": [],
   "source": [
    "def build(robot):\n",
    "    bob=Box(robot,x=5,y=8,width=2,height=1,name=\"bob\")\n",
    "    \n",
    "    \n",
    "def act(t,robot):\n",
    "    \n",
    "    robot['bob'].τ=.1\n",
    "\n",
    "    robot.message='%.2f' % robot['bob'].vx"
   ]
  },
  {
   "cell_type": "code",
   "execution_count": 49,
   "id": "edcc56ff-61ef-41ec-b075-14625e2598f5",
   "metadata": {},
   "outputs": [
    {
     "data": {
      "image/png": "[encoded data removed]",
      "text/plain": [
       "<Figure size 432x432 with 1 Axes>"
      ]
     },
     "metadata": {
      "needs_background": "light"
     },
     "output_type": "display_data"
    }
   ],
   "source": [
    "env=Environment(24,24)  # size of the environment\n",
    "robot=Robot(env)\n",
    "build(robot)\n",
    "\n",
    "\n",
    "#Box(env,x=15,y=10,height=15,width=.1)\n",
    "\n",
    "run_sim(env,act,\n",
    "        figure_width=6,\n",
    "        total_time=60,  # seconds\n",
    "        dt_display=.1,  # make this larger for a faster display\n",
    "       )"
   ]
  },
  {
   "cell_type": "code",
   "execution_count": 50,
   "id": "da1a8063-8610-4133-8621-49f6fc919057",
   "metadata": {},
   "outputs": [],
   "source": [
    "def build(robot):\n",
    "    bob=Box(robot,x=5,y=8,width=2,height=1,name=\"bob\")\n",
    "    \n",
    "    \n",
    "def act(t,robot):\n",
    "    \n",
    "    bob=robot['bob']\n",
    "    \n",
    "    bob.F=.1\n",
    "\n",
    "    distance=bob.read_distance()\n",
    "    robot.message='%.2f' % distance"
   ]
  },
  {
   "cell_type": "code",
   "execution_count": 52,
   "id": "d4e04320-d7cf-4aa8-a07f-f3462e2ebed6",
   "metadata": {},
   "outputs": [
    {
     "data": {
      "image/png": "[encoded data removed]",
      "text/plain": [
       "<Figure size 432x432 with 1 Axes>"
      ]
     },
     "metadata": {
      "needs_background": "light"
     },
     "output_type": "display_data"
    }
   ],
   "source": [
    "env=Environment(24,24)  # size of the environment\n",
    "robot=Robot(env)\n",
    "build(robot)\n",
    "\n",
    "\n",
    "Box(env,x=15,y=10,height=15,width=.1)\n",
    "\n",
    "run_sim(env,act,\n",
    "        figure_width=6,\n",
    "        total_time=60,  # seconds\n",
    "        dt_display=.1,  # make this larger for a faster display\n",
    "       )"
   ]
  },
  {
   "cell_type": "code",
   "execution_count": 55,
   "id": "a27fe890-f5a3-4ca5-99a5-41d31bc1569e",
   "metadata": {},
   "outputs": [],
   "source": [
    "def build(robot):\n",
    "    bob=Box(robot,x=5,y=8,width=2,height=1,name=\"bob\")\n",
    "    \n",
    "    \n",
    "def act(t,robot):\n",
    "    \n",
    "    bob=robot['bob']\n",
    "    \n",
    "    bob.F=.1\n",
    "\n",
    "    distance=bob.read_distance()\n",
    "    \n",
    "    if distance<2:\n",
    "        bob.F=-4\n",
    "    \n",
    "    robot.message='%.2f' % distance"
   ]
  },
  {
   "cell_type": "code",
   "execution_count": 56,
   "id": "f1676279-aa45-4a3a-acd5-795445df35bc",
   "metadata": {},
   "outputs": [
    {
     "data": {
      "image/png": "[encoded data removed]",
      "text/plain": [
       "<Figure size 432x432 with 1 Axes>"
      ]
     },
     "metadata": {
      "needs_background": "light"
     },
     "output_type": "display_data"
    }
   ],
   "source": [
    "env=Environment(24,24)  # size of the environment\n",
    "robot=Robot(env)\n",
    "build(robot)\n",
    "\n",
    "\n",
    "Box(env,x=15,y=10,height=15,width=.1)\n",
    "\n",
    "run_sim(env,act,\n",
    "        figure_width=6,\n",
    "        total_time=60,  # seconds\n",
    "        dt_display=.1,  # make this larger for a faster display\n",
    "       )"
   ]
  },
  {
   "cell_type": "code",
   "execution_count": null,
   "id": "30cadb2b-7f10-4852-af4f-ed3b850f90db",
   "metadata": {},
   "outputs": [],
   "source": []
  }
 ],
 "metadata": {
  "kernelspec": {
   "display_name": "Python 3",
   "language": "python",
   "name": "python3"
  },
  "language_info": {
   "codemirror_mode": {
    "name": "ipython",
    "version": 3
   },
   "file_extension": ".py",
   "mimetype": "text/x-python",
   "name": "python",
   "nbconvert_exporter": "python",
   "pygments_lexer": "ipython3",
   "version": "3.8.10"
  }
 },
 "nbformat": 4,
 "nbformat_minor": 5
}
