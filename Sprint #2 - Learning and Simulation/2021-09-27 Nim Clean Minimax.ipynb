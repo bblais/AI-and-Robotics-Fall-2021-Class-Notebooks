{
 "cells": [
  {
   "cell_type": "code",
   "execution_count": 1,
   "id": "90d315de-d356-4277-bfcd-b3c953d044e4",
   "metadata": {},
   "outputs": [
    {
     "name": "stdout",
     "output_type": "stream",
     "text": [
      "Version:  0.2.28\n"
     ]
    }
   ],
   "source": [
    "from Game import *"
   ]
  },
  {
   "cell_type": "markdown",
   "id": "d23bcbd9-2ffa-42ac-8584-47e3d2d29d0a",
   "metadata": {},
   "source": [
    "## Game functions"
   ]
  },
  {
   "cell_type": "code",
   "execution_count": 2,
   "id": "15420972-b911-4f92-9727-3791e0021b28",
   "metadata": {},
   "outputs": [],
   "source": [
    "def initial_state(N=21):\n",
    "    return N\n",
    "\n",
    "def show_state(state):\n",
    "    print(\"There are \",state,\"sticks\")\n",
    "    \n",
    "def valid_moves(state,player):\n",
    "    if state==2:\n",
    "        return [1,2]\n",
    "    elif state==1:\n",
    "        return [1]\n",
    "    else:\n",
    "        return [1,2,3]\n",
    "    \n",
    "def update_state(state,player,move):\n",
    "    new_state=state-move\n",
    "    return new_state\n",
    "\n",
    "def win_status(state,player):\n",
    "    # the state is *after* the move for the player\n",
    "    if state==1:\n",
    "        return \"win\"\n",
    "    \n",
    "    if state==0:\n",
    "        return \"lose\"\n",
    "    \n",
    "    return None # mid-game"
   ]
  },
  {
   "cell_type": "markdown",
   "id": "2b73f5f6-e774-4bde-94f3-db57480a8de9",
   "metadata": {},
   "source": [
    "## Agent Functions"
   ]
  },
  {
   "cell_type": "code",
   "execution_count": 3,
   "id": "9fc2bb6e-04ec-49b8-b665-cc6c7a0d8cf8",
   "metadata": {},
   "outputs": [],
   "source": [
    "def human_move(state,player):\n",
    "    move=int(input(\"how many sticks to take (1,2, or 3?\"))\n",
    "    return move\n",
    "human_agent=Agent(human_move)    "
   ]
  },
  {
   "cell_type": "code",
   "execution_count": 4,
   "id": "84dda3ca-ea87-440f-a9fa-bbb5ead27e06",
   "metadata": {},
   "outputs": [],
   "source": [
    "def random_move(state,player):\n",
    "    \n",
    "    move=random.choice(valid_moves(state,player))\n",
    "    return move\n",
    "\n",
    "\n",
    "random_agent=Agent(random_move)"
   ]
  },
  {
   "cell_type": "code",
   "execution_count": 5,
   "id": "74454473-403a-4597-ada4-edd245cb5526",
   "metadata": {},
   "outputs": [],
   "source": [
    "from Game.minimax import *\n",
    "def minimax_move(state,player):\n",
    "\n",
    "    values,moves=minimax_values(state,player,display=True)\n",
    "    return top_choice(moves,values)\n",
    "\n",
    "\n",
    "minimax_agent=Agent(minimax_move)"
   ]
  },
  {
   "cell_type": "markdown",
   "id": "f887d351-f175-4af5-9b22-5687792cb8d6",
   "metadata": {},
   "source": [
    "## Running the Game"
   ]
  },
  {
   "cell_type": "code",
   "execution_count": 6,
   "id": "b2316296-c292-4118-849f-9b9817f9cd8e",
   "metadata": {},
   "outputs": [
    {
     "name": "stdout",
     "output_type": "stream",
     "text": [
      "====\n",
      "Game  1\n",
      "There are  31 sticks\n",
      "Player 1 moves 2\n",
      "There are  29 sticks\n",
      "  Choice Time: 6.437425851821899 seconds \n",
      "Player 2 moves 1\n",
      "There are  28 sticks\n",
      "Player 1 moves 1\n",
      "There are  27 sticks\n",
      "  Choice Time: 2.437016010284424 seconds \n",
      "Player 2 moves 2\n",
      "There are  25 sticks\n",
      "Player 1 moves 2\n",
      "There are  23 sticks\n",
      "  Choice Time: 0.37583374977111816 seconds \n",
      "Player 2 moves 2\n",
      "There are  21 sticks\n",
      "Player 1 moves 2\n",
      "There are  19 sticks\n",
      "  Choice Time: 0.0630030632019043 seconds \n",
      "Player 2 moves 2\n",
      "There are  17 sticks\n",
      "Player 1 moves 3\n",
      "There are  14 sticks\n",
      "  Choice Time: 0.005990028381347656 seconds \n",
      "Player 2 moves 1\n",
      "There are  13 sticks\n",
      "Player 1 moves 2\n",
      "There are  11 sticks\n",
      "  Choice Time: 0.0011119842529296875 seconds \n",
      "Player 2 moves 2\n",
      "There are  9 sticks\n",
      "Player 1 moves 2\n",
      "There are  7 sticks\n",
      "  Choice Time: 0.00013589859008789062 seconds \n",
      "Player 2 moves 2\n",
      "There are  5 sticks\n",
      "Player 1 moves 2\n",
      "There are  3 sticks\n",
      "  Choice Time: 1.5974044799804688e-05 seconds \n",
      "Player 2 moves 2\n",
      "There are  3 sticks\n",
      "Player  2 won.\n"
     ]
    },
    {
     "data": {
      "text/plain": [
       "[2]"
      ]
     },
     "execution_count": 6,
     "metadata": {},
     "output_type": "execute_result"
    }
   ],
   "source": [
    "g=Game(N=31)\n",
    "g.run(random_agent,minimax_agent)"
   ]
  },
  {
   "cell_type": "markdown",
   "id": "ddbd3254-68f7-4cd8-a2f4-db0348c56a4d",
   "metadata": {},
   "source": [
    "## Long games -- set maxdepth and use heuristic"
   ]
  },
  {
   "cell_type": "code",
   "execution_count": 7,
   "id": "2e8a2ee7-7eb8-4ee2-8332-108f18384ec2",
   "metadata": {},
   "outputs": [],
   "source": [
    "from Game.minimax import *\n",
    "def minimax_move(state,player):\n",
    "\n",
    "    values,moves=minimax_values(state,player,maxdepth=4,display=True)\n",
    "    return top_choice(moves,values)\n",
    "\n",
    "\n",
    "minimax_agent=Agent(minimax_move)"
   ]
  },
  {
   "cell_type": "code",
   "execution_count": 8,
   "id": "a6a09b41-0928-4f25-aa94-411dd1fccf34",
   "metadata": {},
   "outputs": [],
   "source": [
    "def heuristic(state,player):\n",
    "    \n",
    "    # return a value between -1 and 1 (not inclusive)\n",
    "    # which is approximate value of the state\n",
    "    # positive = good for player\n",
    "    # negative = bad for player\n",
    "    \n",
    "    # odd numbers are generally bad for them\n",
    "    \n",
    "    if state%2 == 0:\n",
    "        value=-0.3\n",
    "    else:\n",
    "        value=0.3\n",
    "    \n",
    "    return value"
   ]
  },
  {
   "cell_type": "code",
   "execution_count": 9,
   "id": "609a9397-34ae-4b61-856c-cad9b337b61d",
   "metadata": {},
   "outputs": [
    {
     "name": "stdout",
     "output_type": "stream",
     "text": [
      "====\n",
      "Game  1\n",
      "There are  31 sticks\n",
      "Player 1 moves 1\n",
      "There are  30 sticks\n",
      "  Choice Time: 0.009810209274291992 seconds \n",
      "Player 2 moves 1\n",
      "There are  29 sticks\n",
      "Player 1 moves 1\n",
      "There are  28 sticks\n",
      "  Choice Time: 0.0008349418640136719 seconds \n",
      "Player 2 moves 3\n",
      "There are  25 sticks\n",
      "Player 1 moves 1\n",
      "There are  24 sticks\n",
      "  Choice Time: 0.0008242130279541016 seconds \n",
      "Player 2 moves 2\n",
      "There are  22 sticks\n",
      "Player 1 moves 3\n",
      "There are  19 sticks\n",
      "  Choice Time: 0.0009598731994628906 seconds \n",
      "Player 2 moves 1\n",
      "There are  18 sticks\n",
      "Player 1 moves 1\n",
      "There are  17 sticks\n",
      "  Choice Time: 0.0008249282836914062 seconds \n",
      "Player 2 moves 1\n",
      "There are  16 sticks\n",
      "Player 1 moves 2\n",
      "There are  14 sticks\n",
      "  Choice Time: 0.000823974609375 seconds \n",
      "Player 2 moves 1\n",
      "There are  13 sticks\n",
      "Player 1 moves 3\n",
      "There are  10 sticks\n",
      "  Choice Time: 0.0007898807525634766 seconds \n",
      "Player 2 moves 1\n",
      "There are  9 sticks\n",
      "Player 1 moves 1\n",
      "There are  8 sticks\n",
      "  Choice Time: 0.00035381317138671875 seconds \n",
      "Player 2 moves 3\n",
      "There are  5 sticks\n",
      "Player 1 moves 2\n",
      "There are  3 sticks\n",
      "  Choice Time: 3.0040740966796875e-05 seconds \n",
      "Player 2 moves 2\n",
      "There are  3 sticks\n",
      "Player  2 won.\n"
     ]
    },
    {
     "data": {
      "text/plain": [
       "[2]"
      ]
     },
     "execution_count": 9,
     "metadata": {},
     "output_type": "execute_result"
    }
   ],
   "source": [
    "g=Game(N=31)\n",
    "g.run(random_agent,minimax_agent)"
   ]
  },
  {
   "cell_type": "code",
   "execution_count": null,
   "id": "3bd934cf-a1c4-4775-bd1f-2cfdffa4c642",
   "metadata": {},
   "outputs": [],
   "source": []
  }
 ],
 "metadata": {
  "kernelspec": {
   "display_name": "Python 3",
   "language": "python",
   "name": "python3"
  },
  "language_info": {
   "codemirror_mode": {
    "name": "ipython",
    "version": 3
   },
   "file_extension": ".py",
   "mimetype": "text/x-python",
   "name": "python",
   "nbconvert_exporter": "python",
   "pygments_lexer": "ipython3",
   "version": "3.8.10"
  }
 },
 "nbformat": 4,
 "nbformat_minor": 5
}
