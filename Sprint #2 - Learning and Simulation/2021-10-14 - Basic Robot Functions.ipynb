{
 "cells": [
  {
   "cell_type": "code",
   "execution_count": 1,
   "id": "1afd2e25-c5f8-4d1d-a389-e192734ab496",
   "metadata": {},
   "outputs": [
    {
     "name": "stdout",
     "output_type": "stream",
     "text": [
      "Populating the interactive namespace from numpy and matplotlib\n"
     ]
    }
   ],
   "source": [
    "%pylab inline"
   ]
  },
  {
   "cell_type": "code",
   "execution_count": 2,
   "id": "c219e8f8-8e4e-4c2b-80a5-b631837f0860",
   "metadata": {},
   "outputs": [
    {
     "name": "stdout",
     "output_type": "stream",
     "text": [
      "Version:  0.0.32\n"
     ]
    }
   ],
   "source": [
    "from RobotSim373 import *"
   ]
  },
  {
   "cell_type": "code",
   "execution_count": 3,
   "id": "ccabd6b6-5b90-4202-bbeb-661d54645d75",
   "metadata": {},
   "outputs": [],
   "source": [
    "def build(robot,x=5,y=10,angle=0):\n",
    "    R=.5\n",
    "    r=R/5\n",
    "    disk_center=Disk(robot,x=x,y=y,radius=R,angle=angle,name='center')\n",
    "\n",
    "    disks=[]\n",
    "    for angle in range(0,360,30):\n",
    "        disk=Disk(robot,\n",
    "                          x+(R+1.1*r)*cos(radians(angle)),\n",
    "                          y+(R+1.1*r)*sin(radians(angle)),\n",
    "                 angle=angle,radius=r,\n",
    "                 name='disk %d' % angle)\n",
    "        disks.append(disk)\n",
    "\n",
    "    connect(disk_center,disks,'weld')\n",
    "\n",
    "    robot.disks=disks\n",
    "    robot.angles=list(range(0,360,30))\n",
    "    robot.distances=[-1]*len(disks)\n",
    "\n",
    "    robot.S=Storage()"
   ]
  },
  {
   "cell_type": "code",
   "execution_count": 10,
   "id": "3d2a1592-e312-4252-bad6-e302912e7868",
   "metadata": {},
   "outputs": [],
   "source": [
    "def forward_horizontal_complex(distance):\n",
    "    \n",
    "    def _forward_horizontal(t,robot):\n",
    "    \n",
    "        if t==0:\n",
    "            robot['center'].start_location=robot['center'].x\n",
    "\n",
    "        robot['center'].F=10\n",
    "        robot['center'].τ=0\n",
    "        robot.message=\"forward\"\n",
    "\n",
    "        if robot['center'].x - robot['center'].start_location > distance:\n",
    "            return True\n",
    "\n",
    "    return _forward_horizontal\n",
    "\n",
    "def forward_horizontal_simple(t,robot):\n",
    "    distance=5\n",
    "    \n",
    "    if t==0:\n",
    "        robot['center'].start_location=robot['center'].x\n",
    "\n",
    "    robot['center'].F=10\n",
    "    robot['center'].τ=0\n",
    "    robot.message=\"forward\"\n",
    "\n",
    "    if robot['center'].x - robot['center'].start_location > distance:\n",
    "        return True\n",
    "\n"
   ]
  },
  {
   "cell_type": "code",
   "execution_count": 11,
   "id": "436af792-9d7d-4bca-8633-a0cac4bb01ae",
   "metadata": {},
   "outputs": [
    {
     "data": {
      "image/png": "[encoded data removed]",
      "text/plain": [
       "<Figure size 432x432 with 1 Axes>"
      ]
     },
     "metadata": {
      "needs_background": "light"
     },
     "output_type": "display_data"
    }
   ],
   "source": [
    "env=FrictionEnvironment(24,24)  # size of the environment\n",
    "robot=Robot(env)\n",
    "build(robot)\n",
    "\n",
    "\n",
    "run_sim(env,forward_horizontal_simple,\n",
    "        figure_width=6,\n",
    "        total_time=120,  # seconds\n",
    "        dt_display=.5,  # make this larger for a faster display\n",
    "       )"
   ]
  },
  {
   "cell_type": "code",
   "execution_count": 12,
   "id": "a57d88e0-18ea-4c60-9420-42317ef27bcd",
   "metadata": {},
   "outputs": [
    {
     "data": {
      "image/png": "[encoded data removed]",
      "text/plain": [
       "<Figure size 432x432 with 1 Axes>"
      ]
     },
     "metadata": {
      "needs_background": "light"
     },
     "output_type": "display_data"
    }
   ],
   "source": [
    "env=FrictionEnvironment(24,24)  # size of the environment\n",
    "robot=Robot(env)\n",
    "build(robot)\n",
    "\n",
    "\n",
    "run_sim(env,forward_horizontal_complex(5),\n",
    "        figure_width=6,\n",
    "        total_time=120,  # seconds\n",
    "        dt_display=.5,  # make this larger for a faster display\n",
    "       )"
   ]
  },
  {
   "cell_type": "code",
   "execution_count": null,
   "id": "bc43ea0f-3ee4-4176-825c-b7adbbe486eb",
   "metadata": {},
   "outputs": [],
   "source": []
  }
 ],
 "metadata": {
  "kernelspec": {
   "display_name": "Python 3",
   "language": "python",
   "name": "python3"
  },
  "language_info": {
   "codemirror_mode": {
    "name": "ipython",
    "version": 3
   },
   "file_extension": ".py",
   "mimetype": "text/x-python",
   "name": "python",
   "nbconvert_exporter": "python",
   "pygments_lexer": "ipython3",
   "version": "3.8.10"
  }
 },
 "nbformat": 4,
 "nbformat_minor": 5
}
