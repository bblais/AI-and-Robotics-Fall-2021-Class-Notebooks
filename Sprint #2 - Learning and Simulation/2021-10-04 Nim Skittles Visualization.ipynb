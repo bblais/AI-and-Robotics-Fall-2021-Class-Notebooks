{
 "cells": [
  {
   "cell_type": "code",
   "execution_count": 1,
   "id": "90d315de-d356-4277-bfcd-b3c953d044e4",
   "metadata": {},
   "outputs": [
    {
     "name": "stdout",
     "output_type": "stream",
     "text": [
      "Version:  0.2.30\n"
     ]
    }
   ],
   "source": [
    "from Game import *"
   ]
  },
  {
   "cell_type": "markdown",
   "id": "d23bcbd9-2ffa-42ac-8584-47e3d2d29d0a",
   "metadata": {},
   "source": [
    "## Game functions"
   ]
  },
  {
   "cell_type": "code",
   "execution_count": 2,
   "id": "15420972-b911-4f92-9727-3791e0021b28",
   "metadata": {},
   "outputs": [],
   "source": [
    "def initial_state(N=21):\n",
    "    return N\n",
    "\n",
    "def show_state(state):\n",
    "    print(\"There are \",state,\"sticks\")\n",
    "    \n",
    "def valid_moves(state,player):\n",
    "    if state==2:\n",
    "        return [1,2]\n",
    "    elif state==1:\n",
    "        return [1]\n",
    "    else:\n",
    "        return [1,2,3]\n",
    "    \n",
    "def update_state(state,player,move):\n",
    "    new_state=state-move\n",
    "    return new_state\n",
    "\n",
    "def win_status(state,player):\n",
    "    # the state is *after* the move for the player\n",
    "    if state==1:\n",
    "        return \"win\"\n",
    "    \n",
    "    if state==0:\n",
    "        return \"lose\"\n",
    "    \n",
    "    return None # mid-game"
   ]
  },
  {
   "cell_type": "markdown",
   "id": "2b73f5f6-e774-4bde-94f3-db57480a8de9",
   "metadata": {},
   "source": [
    "## Agent Functions"
   ]
  },
  {
   "cell_type": "code",
   "execution_count": 3,
   "id": "9fc2bb6e-04ec-49b8-b665-cc6c7a0d8cf8",
   "metadata": {},
   "outputs": [],
   "source": [
    "def human_move(state,player):\n",
    "    move=int(input(\"how many sticks to take (1,2, or 3?\"))\n",
    "    return move\n",
    "human_agent=Agent(human_move)    "
   ]
  },
  {
   "cell_type": "code",
   "execution_count": 4,
   "id": "84dda3ca-ea87-440f-a9fa-bbb5ead27e06",
   "metadata": {},
   "outputs": [],
   "source": [
    "def random_move(state,player):\n",
    "    \n",
    "    move=random.choice(valid_moves(state,player))\n",
    "    return move\n",
    "\n",
    "\n",
    "random_agent=Agent(random_move)"
   ]
  },
  {
   "cell_type": "code",
   "execution_count": 5,
   "id": "74454473-403a-4597-ada4-edd245cb5526",
   "metadata": {},
   "outputs": [],
   "source": [
    "from Game.minimax import *\n",
    "def minimax_move(state,player):\n",
    "\n",
    "    values,moves=minimax_values(state,player,display=True)\n",
    "    return top_choice(moves,values)\n",
    "\n",
    "\n",
    "minimax_agent=Agent(minimax_move)"
   ]
  },
  {
   "cell_type": "markdown",
   "id": "e3f47303-f2ca-45e2-973f-e4254478ac98",
   "metadata": {},
   "source": [
    "## Skittles Agent"
   ]
  },
  {
   "cell_type": "code",
   "execution_count": 18,
   "id": "213ef3b2-ca15-4ba0-ae39-13b63adaab19",
   "metadata": {},
   "outputs": [],
   "source": [
    "def skittles_move(state,player,info):\n",
    "    T=info.T\n",
    "    last_state=info.last_state\n",
    "    last_action=info.last_action\n",
    "    learning=info.learning\n",
    "    \n",
    "    if state not in T:\n",
    "        actions=valid_moves(state,player)\n",
    "        T[state]=Table()\n",
    "        for action in actions:\n",
    "            T[state][action]=2  # initial number of skittles\n",
    "    \n",
    "    move=weighted_choice(T[state])\n",
    "    \n",
    "    if move is None:  \n",
    "        \n",
    "        # learn\n",
    "        if learning:\n",
    "            if last_state:\n",
    "                T[last_state][last_action]-=1 # take away a skittle\n",
    "                if T[last_state][last_action]<0:\n",
    "                    T[last_state][last_action]=0\n",
    "    \n",
    "        return random_move(state,player)\n",
    "    else:\n",
    "        return move"
   ]
  },
  {
   "cell_type": "code",
   "execution_count": 19,
   "id": "4fb63acf-7843-447e-8ba1-2d97f3d22690",
   "metadata": {},
   "outputs": [],
   "source": [
    "def skittles_after(status,player,info):\n",
    "    # not return anything but...\n",
    "    # will adjust the skittles table if lost the game\n",
    "    T=info.T\n",
    "    last_state=info.last_state\n",
    "    last_action=info.last_action\n",
    "    learning=info.learning\n",
    "    \n",
    "    if learning:\n",
    "        if status=='lose':  # only learn when you lose\n",
    "            T[last_state][last_action]-=1 # take away a skittle\n",
    "            if T[last_state][last_action]<0:\n",
    "                T[last_state][last_action]=0"
   ]
  },
  {
   "cell_type": "code",
   "execution_count": 20,
   "id": "c7c67522-fbd6-4eb9-beca-71b88561edec",
   "metadata": {},
   "outputs": [],
   "source": [
    "skittles_agent=Agent(skittles_move)\n",
    "skittles_agent.post=skittles_after\n",
    "skittles_agent.T=Table()  # makes an empty table\n",
    "skittles_agent.learning=True"
   ]
  },
  {
   "cell_type": "markdown",
   "id": "f887d351-f175-4af5-9b22-5687792cb8d6",
   "metadata": {},
   "source": [
    "## Running the Game"
   ]
  },
  {
   "cell_type": "code",
   "execution_count": 21,
   "id": "b2316296-c292-4118-849f-9b9817f9cd8e",
   "metadata": {},
   "outputs": [
    {
     "data": {
      "text/plain": [
       "[1, 2, 1, 2, 1, 1, 1, 1, 2, 1, 1, 2, 2, 1, 2, 2, 1, 2, 2, 1]"
      ]
     },
     "execution_count": 21,
     "metadata": {},
     "output_type": "execute_result"
    }
   ],
   "source": [
    "g=Game(number_of_games=20)\n",
    "g.display=False\n",
    "g.run(random_agent,skittles_agent)"
   ]
  },
  {
   "cell_type": "code",
   "execution_count": 26,
   "id": "dc9030ab-05fc-496e-8861-57b1676a7f9e",
   "metadata": {},
   "outputs": [],
   "source": [
    "N_train=5\n",
    "N_test=100\n",
    "iteration_count=0\n",
    "\n",
    "skittles_agent.T=Table()  # makes an empty table\n",
    "\n",
    "percentage_won=[]\n",
    "number_of_iterations=[]\n",
    "\n",
    "for i in range(80):\n",
    "\n",
    "    skittles_agent.learning=True\n",
    "    g=Game(number_of_games=N_train)\n",
    "    g.display=False\n",
    "    result=g.run(random_agent,skittles_agent)\n",
    "\n",
    "\n",
    "    # turn learning off to test\n",
    "    skittles_agent.learning=False\n",
    "    g=Game(number_of_games=N_test)\n",
    "    g.display=False\n",
    "    result=g.run(random_agent,skittles_agent)\n",
    "    iteration_count+=N_train\n",
    "\n",
    "    percentage_won.append(result.count(2)/N_test*100)\n",
    "    number_of_iterations.append(iteration_count)\n"
   ]
  },
  {
   "cell_type": "code",
   "execution_count": 27,
   "id": "c30ff841-85b5-4509-b801-636310ff7eea",
   "metadata": {},
   "outputs": [],
   "source": [
    "%matplotlib inline\n",
    "from pylab import plot,xlabel,ylabel,legend"
   ]
  },
  {
   "cell_type": "code",
   "execution_count": 28,
   "id": "45cca6cb-a469-4260-9a54-3339ecd368ed",
   "metadata": {},
   "outputs": [
    {
     "data": {
      "text/plain": [
       "Text(0, 0.5, 'Percentage Won')"
      ]
     },
     "execution_count": 28,
     "metadata": {},
     "output_type": "execute_result"
    },
    {
     "data": {
      "image/png": "[encoded data removed]",
      "text/plain": [
       "<Figure size 432x288 with 1 Axes>"
      ]
     },
     "metadata": {
      "needs_background": "light"
     },
     "output_type": "display_data"
    }
   ],
   "source": [
    "plot(number_of_iterations,percentage_won,'-o')\n",
    "xlabel('Number of Games')\n",
    "ylabel('Percentage Won')"
   ]
  },
  {
   "cell_type": "code",
   "execution_count": null,
   "id": "757ab7c8-534b-4b2c-9ee7-034bb09d0210",
   "metadata": {},
   "outputs": [],
   "source": []
  }
 ],
 "metadata": {
  "kernelspec": {
   "display_name": "Python 3",
   "language": "python",
   "name": "python3"
  },
  "language_info": {
   "codemirror_mode": {
    "name": "ipython",
    "version": 3
   },
   "file_extension": ".py",
   "mimetype": "text/x-python",
   "name": "python",
   "nbconvert_exporter": "python",
   "pygments_lexer": "ipython3",
   "version": "3.8.10"
  }
 },
 "nbformat": 4,
 "nbformat_minor": 5
}
