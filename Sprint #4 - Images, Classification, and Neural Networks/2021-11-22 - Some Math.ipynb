{
 "cells": [
  {
   "cell_type": "markdown",
   "id": "9e2d498d-8a11-40a5-8447-4e2e9b260d73",
   "metadata": {},
   "source": [
    "$$\n",
    "y=x_1 w_1 + x_2 w_2\n",
    "$$"
   ]
  },
  {
   "cell_type": "markdown",
   "id": "f16edaa0-bc70-43dc-946d-f843906d890b",
   "metadata": {},
   "source": [
    "What the answer should look like:\n",
    "$$\n",
    "w_1 = 3\n",
    "$$\n",
    "\n",
    "$$\n",
    "w_2=5\n",
    "$$"
   ]
  },
  {
   "cell_type": "markdown",
   "id": "909d079a-de74-4586-94f6-f24203b7c64c",
   "metadata": {},
   "source": [
    "The actual problem...\n",
    "$$\n",
    "5 w_1 + 2 w_2=10\n",
    "$$"
   ]
  },
  {
   "cell_type": "markdown",
   "id": "e205785d-6a9d-47e7-9644-701163f7fe78",
   "metadata": {},
   "source": [
    "$$\n",
    "2 w_1 + 5 w_2 = 0\n",
    "$$"
   ]
  },
  {
   "cell_type": "markdown",
   "id": "e18dcf2c-c05c-4dbc-b434-156b39525b94",
   "metadata": {},
   "source": [
    "$$\n",
    "w_1 = 2.38\n",
    "$$\n",
    "\n",
    "$$\n",
    "w_2 = -0.95\n",
    "$$"
   ]
  },
  {
   "cell_type": "code",
   "execution_count": 4,
   "id": "d1065b1b-6e0f-479a-ab8c-601788746e65",
   "metadata": {},
   "outputs": [],
   "source": [
    "w1=2.38\n",
    "w2=-0.95"
   ]
  },
  {
   "cell_type": "code",
   "execution_count": 5,
   "id": "d7cdc3df-d0d6-4955-a00c-32e0de6e3ba5",
   "metadata": {},
   "outputs": [
    {
     "data": {
      "text/plain": [
       "9.999999999999998"
      ]
     },
     "execution_count": 5,
     "metadata": {},
     "output_type": "execute_result"
    }
   ],
   "source": [
    "5*w1+2*w2"
   ]
  },
  {
   "cell_type": "code",
   "execution_count": 6,
   "id": "da5815b9-24b3-4014-94da-6fd42368908a",
   "metadata": {},
   "outputs": [
    {
     "data": {
      "text/plain": [
       "0.009999999999999787"
      ]
     },
     "execution_count": 6,
     "metadata": {},
     "output_type": "execute_result"
    }
   ],
   "source": [
    "2*w1+5*w2"
   ]
  },
  {
   "cell_type": "code",
   "execution_count": null,
   "id": "156be0e2-2388-438c-b66a-e56fac2dec82",
   "metadata": {},
   "outputs": [],
   "source": []
  }
 ],
 "metadata": {
  "kernelspec": {
   "display_name": "Python 3",
   "language": "python",
   "name": "python3"
  },
  "language_info": {
   "codemirror_mode": {
    "name": "ipython",
    "version": 3
   },
   "file_extension": ".py",
   "mimetype": "text/x-python",
   "name": "python",
   "nbconvert_exporter": "python",
   "pygments_lexer": "ipython3",
   "version": "3.8.10"
  }
 },
 "nbformat": 4,
 "nbformat_minor": 5
}
