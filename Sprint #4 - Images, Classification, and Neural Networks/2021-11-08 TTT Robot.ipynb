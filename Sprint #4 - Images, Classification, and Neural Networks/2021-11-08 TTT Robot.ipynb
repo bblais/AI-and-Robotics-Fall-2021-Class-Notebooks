{
 "cells": [
  {
   "cell_type": "code",
   "execution_count": 1,
   "id": "27dc2962-073a-4715-9806-ce71d2b8524e",
   "metadata": {},
   "outputs": [
    {
     "name": "stdout",
     "output_type": "stream",
     "text": [
      "Populating the interactive namespace from numpy and matplotlib\n"
     ]
    }
   ],
   "source": [
    "%pylab inline"
   ]
  },
  {
   "cell_type": "code",
   "execution_count": 2,
   "id": "0dcec96b-e92f-4302-848b-a8d42384c9a6",
   "metadata": {},
   "outputs": [
    {
     "name": "stdout",
     "output_type": "stream",
     "text": [
      "Version:  0.2.35\n"
     ]
    }
   ],
   "source": [
    "from Game import *"
   ]
  },
  {
   "cell_type": "code",
   "execution_count": 3,
   "id": "532c8600-6996-472e-92bd-c3dc3c833db8",
   "metadata": {},
   "outputs": [],
   "source": [
    "def initial_state():\n",
    "    state=Board(3,3)\n",
    "    state.pieces=[\".\",\"X\",\"O\"]\n",
    "    return state\n",
    "\n",
    "def show_state(state):\n",
    "    print(state)\n",
    "    \n",
    "def valid_moves(state,player):\n",
    "    # run through all the spots\n",
    "    # if it is empty, then append that\n",
    "    # location to the possible moves\n",
    "    \n",
    "    moves=[]\n",
    "    for location in range(9):\n",
    "        if state[location]==0:\n",
    "            moves.append(location)\n",
    "            \n",
    "    return moves  \n",
    "\n",
    "def update_state(state,player,move):\n",
    "    new_state=state\n",
    "    \n",
    "    new_state[move]=player\n",
    "    return new_state    \n",
    "    \n",
    "def win_status(state,player):\n",
    "    # the state is *after* the move for the player\n",
    "\n",
    "    #  0  1  2 \n",
    "    #  3  4  5 \n",
    "    #  6  7  8   \n",
    "    \n",
    "    for start,middle,end in [\n",
    "        [0,1,2],[3,4,5],[6,7,8],\n",
    "        [0,3,6],[1,4,7],[2,5,8],\n",
    "        [0,4,8],[2,4,6],\n",
    "                ]:\n",
    "        \n",
    "        if state[start]==player and state[middle]==player and state[end]==player:\n",
    "            return \"win\"\n",
    "        \n",
    "    if player==1:\n",
    "        other_player=2\n",
    "    else:\n",
    "        other_player=1\n",
    "    \n",
    "    if not valid_moves(state,other_player):\n",
    "        return \"stalemate\"\n",
    "    "
   ]
  },
  {
   "cell_type": "code",
   "execution_count": 4,
   "id": "da7ea36e-031c-42fc-bc2f-31edecab17a3",
   "metadata": {},
   "outputs": [],
   "source": [
    "def human_move(state,player):\n",
    "    \n",
    "    state.show_locations()\n",
    "    print(\"Player\",player)\n",
    "    move=int(input(\"which square to move?\"))\n",
    "    return move\n",
    "\n",
    "human_agent=Agent(human_move) \n",
    "\n",
    "def random_move(state,player):\n",
    "    \n",
    "    move=random.choice(valid_moves(state,player))\n",
    "    return move\n",
    "\n",
    "\n",
    "random_agent=Agent(random_move)"
   ]
  },
  {
   "cell_type": "code",
   "execution_count": 5,
   "id": "462765cd-c440-448e-b6d6-b2a0f97291b4",
   "metadata": {},
   "outputs": [],
   "source": [
    "from Game.minimax import *\n",
    "def minimax_move(state,player):\n",
    "\n",
    "    values,moves=minimax_values(state,player,display=True)\n",
    "    return top_choice(moves,values)\n",
    "\n",
    "\n",
    "minimax_agent=Agent(minimax_move)"
   ]
  },
  {
   "cell_type": "code",
   "execution_count": 6,
   "id": "f015eafe-e925-4071-ab70-6fed83eb805a",
   "metadata": {},
   "outputs": [],
   "source": [
    "Q1=LoadTable(\"../Sprint #2 - Learning and Simulation/2021-10-18 TTT Q1.json\")\n",
    "Q2=LoadTable(\"../Sprint #2 - Learning and Simulation/2021-10-18 TTT Q2.json\")"
   ]
  },
  {
   "cell_type": "code",
   "execution_count": 7,
   "id": "3ae59457-be56-41a6-9d87-c850801ff8cc",
   "metadata": {},
   "outputs": [
    {
     "name": "stdout",
     "output_type": "stream",
     "text": [
      "Version:  0.0.44\n"
     ]
    }
   ],
   "source": [
    "from RobotSim373 import *"
   ]
  },
  {
   "cell_type": "code",
   "execution_count": 40,
   "id": "99f84362-2ecd-4ad5-b5e3-2358692db89a",
   "metadata": {},
   "outputs": [],
   "source": [
    "def build(robot,x=1,y=2,name=None):\n",
    "    R=.5\n",
    "    r=R/5\n",
    "    \n",
    "    angle=0\n",
    "    disk_center=Disk(robot,x,y,radius=R,angle=angle,name=f'center {round(x)} {round(y)}')\n",
    "\n",
    "    disks=[]\n",
    "    for angle in range(0,360,30):\n",
    "        disk=Disk(robot,\n",
    "                          x+(R+1.1*r)*cos(radians(angle)),\n",
    "                          y+(R+1.1*r)*sin(radians(angle)),\n",
    "                 angle=angle,radius=r,\n",
    "                 name='disk %d {round(x)} {round(y)}' % angle)\n",
    "        disks.append(disk)\n",
    "\n",
    "    connect(disk_center,disks,'weld')\n",
    "\n",
    "    robot.disks=disks\n",
    "    robot.angles=list(range(0,360,30))\n",
    "    robot.distances=[-1]*len(disks)\n",
    "    \n",
    "    \n",
    "      \n"
   ]
  },
  {
   "cell_type": "code",
   "execution_count": 41,
   "id": "8592904f-c1cd-4059-9b50-23ee2ea5e953",
   "metadata": {},
   "outputs": [],
   "source": [
    "def nothing(t,robot):\n",
    "    return True\n",
    "\n",
    "def monitor(t,robot):\n",
    "    robot.message=t   \n",
    "    \n",
    "def turn_green(t,robot):\n",
    "    robot.color='g'\n",
    "    return True\n",
    "\n",
    "def turn_blue(t,robot):\n",
    "    robot.color='cyan'\n",
    "    return True\n",
    "\n",
    "def turn_orange(t,robot):\n",
    "    robot.color='orange'\n",
    "    return True\n",
    "\n",
    "def turn_red(t,robot):\n",
    "    robot.color='r'\n",
    "    return True\n",
    "\n",
    "def turn_purple(t,robot):\n",
    "    robot.color='purple'\n",
    "    return True    "
   ]
  },
  {
   "cell_type": "markdown",
   "id": "73bef29e-d66d-4369-9d11-7c3852d7350d",
   "metadata": {},
   "source": [
    "## Set up board, size of pieces, location of pieces"
   ]
  },
  {
   "cell_type": "code",
   "execution_count": 42,
   "id": "e762d79e-e734-4771-844e-7565294ed432",
   "metadata": {},
   "outputs": [],
   "source": [
    "state_machine=StateMachine(\n",
    "    (nothing,\"_end_simulation\"),\n",
    ")\n",
    "\n",
    "\n",
    "def pieceX(env,x,y):\n",
    "    \n",
    "    boxes=[Box(env,x+.5,y+.5,width=1,height=.2,angle=45,color='blue'),\n",
    "        Box(env,x-.5,y-.5,width=1,height=.2,angle=45,color='blue'),\n",
    "        Box(env,x+.5,y-.5,width=1,height=.2,angle=135,color='blue'),\n",
    "        Box(env,x-.5,y+.5,width=1,height=.2,angle=135,color='blue')\n",
    "          ]\n",
    "    \n",
    "    connect(boxes[0],boxes[1:],\"weld\")\n",
    "    \n",
    "def pieceO(env,x,y):\n",
    "    \n",
    "    Disk(env,x=x,y=y,radius=1,color='red')\n",
    "    "
   ]
  },
  {
   "cell_type": "code",
   "execution_count": 43,
   "id": "d0d2e4c0-55c3-483a-a7e5-0746737777e1",
   "metadata": {},
   "outputs": [
    {
     "data": {
      "image/png": "[encoded data removed]",
      "text/plain": [
       "<Figure size 432x432 with 1 Axes>"
      ]
     },
     "metadata": {
      "needs_background": "light"
     },
     "output_type": "display_data"
    }
   ],
   "source": [
    "env=FrictionEnvironment(30,30,image='images/Tic Tac Toe Board With Border.png')\n",
    "robot=Robot(env)\n",
    "build(robot)\n",
    "robot.controller=Controller(state_machine)\n",
    "robot.controller.monitor=monitor\n",
    "\n",
    "pieceX(env,10.2,11)\n",
    "pieceX(env,15,11)\n",
    "pieceX(env,19.7,11)\n",
    "pieceX(env,19.7,15.5)\n",
    "pieceX(env,19.7,20)\n",
    "\n",
    "pieceO(env,15,20)\n",
    "\n",
    "run_sim(env,robot.controller, \n",
    "        figure_width=6,\n",
    "       total_time=100,\n",
    "       dt_display=0.1,  # make this larger for a faster display\n",
    "       )\n"
   ]
  },
  {
   "cell_type": "markdown",
   "id": "6e41028c-6e5d-44a2-b859-97e68b28fe7f",
   "metadata": {},
   "source": [
    "## Set up sensor array to detect pieces"
   ]
  },
  {
   "cell_type": "code",
   "execution_count": 44,
   "id": "32991a6f-811b-4fa7-b9ab-355f7427b6ec",
   "metadata": {},
   "outputs": [],
   "source": [
    "def build(robot,name=None):\n",
    "    R=.5\n",
    "    r=R/5\n",
    "    \n",
    "    \n",
    "    x=12.5\n",
    "    y=18\n",
    "    \n",
    "    robot.centers={}\n",
    "    robot.disks={}\n",
    "    angle=0\n",
    "    disk_center=Disk(robot,x,y,radius=R,angle=angle,name=f'center NW')\n",
    "\n",
    "    disks=[]\n",
    "    for angle in range(0,360,30):\n",
    "        disk=Disk(robot,\n",
    "                          x+(R+1.1*r)*cos(radians(angle)),\n",
    "                          y+(R+1.1*r)*sin(radians(angle)),\n",
    "                 angle=angle,radius=r,\n",
    "                 name='disk %d NW' % angle)\n",
    "        disks.append(disk)\n",
    "\n",
    "    connect(disk_center,disks,'weld')\n",
    "\n",
    "    #============\n",
    "    \n",
    "    x=17.2\n",
    "    y=18\n",
    "    \n",
    "    angle=0\n",
    "    disk_center=Disk(robot,x,y,radius=R,angle=angle,name=f'center NE')\n",
    "\n",
    "    disks=[]\n",
    "    for angle in range(0,360,30):\n",
    "        disk=Disk(robot,\n",
    "                          x+(R+1.1*r)*cos(radians(angle)),\n",
    "                          y+(R+1.1*r)*sin(radians(angle)),\n",
    "                 angle=angle,radius=r,\n",
    "                 name='disk %d NE' % angle)\n",
    "        disks.append(disk)\n",
    "\n",
    "    connect(disk_center,disks,'weld')\n",
    "\n",
    "    #============\n",
    "    \n",
    "    x=17.2\n",
    "    y=13.3\n",
    "    \n",
    "    angle=0\n",
    "    disk_center=Disk(robot,x,y,radius=R,angle=angle,name=f'center SE')\n",
    "\n",
    "    disks=[]\n",
    "    for angle in range(0,360,30):\n",
    "        disk=Disk(robot,\n",
    "                          x+(R+1.1*r)*cos(radians(angle)),\n",
    "                          y+(R+1.1*r)*sin(radians(angle)),\n",
    "                 angle=angle,radius=r,\n",
    "                 name='disk %d SE' % angle)\n",
    "        disks.append(disk)\n",
    "\n",
    "    connect(disk_center,disks,'weld')\n",
    "\n",
    "    #============\n",
    "    \n",
    "    x=12.5\n",
    "    y=13.3\n",
    "    \n",
    "    angle=0\n",
    "    disk_center=Disk(robot,x,y,radius=R,angle=angle,name=f'center SW')\n",
    "\n",
    "    disks=[]\n",
    "    for angle in range(0,360,30):\n",
    "        disk=Disk(robot,\n",
    "                          x+(R+1.1*r)*cos(radians(angle)),\n",
    "                          y+(R+1.1*r)*sin(radians(angle)),\n",
    "                 angle=angle,radius=r,\n",
    "                 name='disk %d SW' % angle)\n",
    "        disks.append(disk)\n",
    "\n",
    "    connect(disk_center,disks,'weld')\n",
    "\n",
    "    robot.angles=list(range(0,360,30))\n",
    "    \n",
    "     \n",
    "        "
   ]
  },
  {
   "cell_type": "code",
   "execution_count": 46,
   "id": "0ae4778d-46fd-4545-a6c8-a72b7d9d1e7a",
   "metadata": {},
   "outputs": [
    {
     "data": {
      "image/png": "[encoded data removed]",
      "text/plain": [
       "<Figure size 432x432 with 1 Axes>"
      ]
     },
     "metadata": {
      "needs_background": "light"
     },
     "output_type": "display_data"
    }
   ],
   "source": [
    "env=FrictionEnvironment(30,30,image='images/Tic Tac Toe Board With Border.png')\n",
    "robot=Robot(env)\n",
    "build(robot)\n",
    "robot.controller=Controller(state_machine)\n",
    "robot.controller.monitor=monitor\n",
    "\n",
    "pieceX(env,10.2,11)\n",
    "pieceX(env,15,11)\n",
    "pieceX(env,19.7,11)\n",
    "pieceX(env,19.7,15.5)\n",
    "pieceX(env,19.7,20)\n",
    "\n",
    "pieceO(env,15,20)\n",
    "\n",
    "run_sim(env,robot.controller, \n",
    "        figure_width=6,\n",
    "       total_time=100,\n",
    "       dt_display=0.1,  # make this larger for a faster display\n",
    "       )\n"
   ]
  },
  {
   "cell_type": "markdown",
   "id": "9ebd8d4e-edf4-493d-a77a-c0d904043f8a",
   "metadata": {},
   "source": [
    "## Read the distances in upper right square, as an example"
   ]
  },
  {
   "cell_type": "code",
   "execution_count": 50,
   "id": "2f112d57-a1c2-43d3-ad57-a4c42fbdcf3a",
   "metadata": {},
   "outputs": [],
   "source": [
    "def read_NE_distance(t,act):\n",
    "    \n",
    "    #angle in range(0,360,30):\n",
    "\n",
    "    robot.distances=[]\n",
    "    for angle in range(0,90,30):\n",
    "        name=f'disk {angle} NE'\n",
    "        robot.distances.append(robot[name].read_distance())\n",
    "        \n",
    "    return True\n",
    "        \n",
    "    \n",
    "    \n",
    "    \n",
    "    "
   ]
  },
  {
   "cell_type": "code",
   "execution_count": null,
   "id": "a7b166fe-7214-48be-ab8c-0634ef922fbe",
   "metadata": {},
   "outputs": [],
   "source": []
  },
  {
   "cell_type": "code",
   "execution_count": 51,
   "id": "cc834b9b-0f11-4ced-9b48-b8b753235b3a",
   "metadata": {},
   "outputs": [],
   "source": [
    "state_machine=StateMachine(\n",
    "    (read_NE_distance,\"_end_simulation\"),\n",
    ")\n"
   ]
  },
  {
   "cell_type": "code",
   "execution_count": 52,
   "id": "fa98cd3f-d534-4864-b2fa-09a2e0dd8de7",
   "metadata": {},
   "outputs": [
    {
     "data": {
      "image/png": "[encoded data removed]",
      "text/plain": [
       "<Figure size 432x432 with 1 Axes>"
      ]
     },
     "metadata": {
      "needs_background": "light"
     },
     "output_type": "display_data"
    }
   ],
   "source": [
    "env=FrictionEnvironment(30,30,image='images/Tic Tac Toe Board With Border.png')\n",
    "robot=Robot(env)\n",
    "build(robot)\n",
    "robot.controller=Controller(state_machine)\n",
    "robot.controller.monitor=monitor\n",
    "\n",
    "pieceX(env,10.2,11)\n",
    "pieceX(env,15,11)\n",
    "pieceX(env,19.7,11)\n",
    "pieceX(env,19.7,15.5)\n",
    "pieceX(env,19.7,20)\n",
    "\n",
    "pieceO(env,15,20)\n",
    "\n",
    "run_sim(env,robot.controller, \n",
    "        figure_width=6,\n",
    "       total_time=100,\n",
    "       dt_display=0.1,  # make this larger for a faster display\n",
    "       )\n"
   ]
  },
  {
   "cell_type": "code",
   "execution_count": 53,
   "id": "c23b5e74-650e-455c-8e45-cc8ca9a869e9",
   "metadata": {},
   "outputs": [
    {
     "data": {
      "text/plain": [
       "[12.190000534057617, 2.5807002927552176, 2.5807026427053543]"
      ]
     },
     "execution_count": 53,
     "metadata": {},
     "output_type": "execute_result"
    }
   ],
   "source": [
    "robot.distances"
   ]
  },
  {
   "cell_type": "markdown",
   "id": "f18af9d0-1560-472b-b6ca-bde5e9d28b8f",
   "metadata": {},
   "source": [
    "## now read the middle top square too"
   ]
  },
  {
   "cell_type": "code",
   "execution_count": 54,
   "id": "2cdf1a00-4ebf-46a4-b3c4-d1306006f602",
   "metadata": {},
   "outputs": [],
   "source": [
    "def read_distances(t,act):\n",
    "    \n",
    "    #angle in range(0,360,30):\n",
    "\n",
    "    robot.distances=[]\n",
    "    \n",
    "    distances=[]\n",
    "    for angle in range(0,90,30):\n",
    "        name=f'disk {angle} NE'\n",
    "        distances.append(robot[name].read_distance())\n",
    "\n",
    "    robot.distances.append(distances)\n",
    "\n",
    "    \n",
    "    distances=[]\n",
    "    for angle in range(90,180,30):\n",
    "        name=f'disk {angle} NE'\n",
    "        distances.append(robot[name].read_distance())\n",
    "\n",
    "    robot.distances.append(distances)\n",
    "    \n",
    "        \n",
    "    return True\n",
    "        \n",
    "    \n",
    "    \n",
    "    \n",
    "    "
   ]
  },
  {
   "cell_type": "code",
   "execution_count": 55,
   "id": "b0e03a24-6266-4bf3-8d52-a21752349729",
   "metadata": {},
   "outputs": [],
   "source": [
    "state_machine=StateMachine(\n",
    "    (read_distances,\"_end_simulation\"),\n",
    ")\n"
   ]
  },
  {
   "cell_type": "code",
   "execution_count": 56,
   "id": "3aafc99a-1f29-47ca-b29d-cff450978e8a",
   "metadata": {},
   "outputs": [
    {
     "data": {
      "image/png": "[encoded data removed]",
      "text/plain": [
       "<Figure size 432x432 with 1 Axes>"
      ]
     },
     "metadata": {
      "needs_background": "light"
     },
     "output_type": "display_data"
    }
   ],
   "source": [
    "env=FrictionEnvironment(30,30,image='images/Tic Tac Toe Board With Border.png')\n",
    "robot=Robot(env)\n",
    "build(robot)\n",
    "robot.controller=Controller(state_machine)\n",
    "robot.controller.monitor=monitor\n",
    "\n",
    "pieceX(env,10.2,11)\n",
    "pieceX(env,15,11)\n",
    "pieceX(env,19.7,11)\n",
    "pieceX(env,19.7,15.5)\n",
    "pieceX(env,19.7,20)\n",
    "\n",
    "pieceO(env,15,20)\n",
    "\n",
    "run_sim(env,robot.controller, \n",
    "        figure_width=6,\n",
    "       total_time=100,\n",
    "       dt_display=0.1,  # make this larger for a faster display\n",
    "       )\n"
   ]
  },
  {
   "cell_type": "code",
   "execution_count": 57,
   "id": "94afcddc-6f88-4b1b-bc79-a0238a6a150f",
   "metadata": {},
   "outputs": [
    {
     "data": {
      "text/plain": [
       "[[12.190000534057617, 2.5807002927552176, 2.5807026427053543],\n",
       " [11.389999389658659, 1.797179370049803, 1.5203315129923245]]"
      ]
     },
     "execution_count": 57,
     "metadata": {},
     "output_type": "execute_result"
    }
   ],
   "source": [
    "robot.distances"
   ]
  },
  {
   "cell_type": "markdown",
   "id": "e97018b2-eeb5-40de-bdc8-e919a1203401",
   "metadata": {},
   "source": [
    "looks like I might be able to distinguish X from O with distances between 0-2 for O, 2-3 for X and >3 for empty"
   ]
  },
  {
   "cell_type": "markdown",
   "id": "e0e9655e-677a-408d-8e51-bb6cc5f2eb2b",
   "metadata": {},
   "source": [
    "## do a read state"
   ]
  },
  {
   "cell_type": "code",
   "execution_count": 58,
   "id": "8d3a333c-cb7e-45c8-b796-22d99b938b91",
   "metadata": {},
   "outputs": [],
   "source": [
    "def read_state(t,act):\n",
    "    \n",
    "    #angle in range(0,360,30):\n",
    "\n",
    "    state=Board(3,3)\n",
    "    \n",
    "    for location in range(9):\n",
    "        \n",
    "        if location==0:\n",
    "            sensor='NW'\n",
    "            angles=range(90,180,30)\n",
    "        elif location==1:\n",
    "            sensor='NE'\n",
    "            angles=range(90,180,30)\n",
    "        elif location==2:\n",
    "            sensor='NE'\n",
    "            angles=range(0,90,30)\n",
    "        elif location==3:\n",
    "            sensor='NW'\n",
    "            angles=range(180,270,30)\n",
    "        elif location==4:\n",
    "            sensor='NW'\n",
    "            angles=range(270,360,30)\n",
    "        elif location==5:\n",
    "            sensor='NW'\n",
    "            angles=range(270,360,30)\n",
    "        elif location==6:\n",
    "            sensor='SW'\n",
    "            angles=range(180,270,30)\n",
    "        elif location==7:\n",
    "            sensor='SW'\n",
    "            angles=range(270,360,30)\n",
    "        elif location==8:\n",
    "            sensor='SE'\n",
    "            angles=range(270,360,30)\n",
    "        else:\n",
    "            raise ValueError(\"You can't get there from here.\")\n",
    "    \n",
    "        distances=[]\n",
    "        for angle in angles:\n",
    "            name=f'disk {angle} {sensor}'\n",
    "            distances.append(robot[name].read_distance())\n",
    "\n",
    "        piece=0\n",
    "        # check for X\n",
    "        for d in distances:\n",
    "            if d>=2 and d<=3:\n",
    "                piece=1\n",
    "\n",
    "        if not piece:  #still haven't found which piece\n",
    "            # check for O\n",
    "            for d in distances:\n",
    "                if d<2:\n",
    "                    piece=2\n",
    "        \n",
    "        state[location]=piece\n",
    "        \n",
    "    robot.state=state\n",
    "    \n",
    "    return True\n",
    "        \n",
    "    \n",
    "    \n",
    "state_machine=StateMachine(\n",
    "    (read_state,\"_end_simulation\"),\n",
    ")\n",
    "    \n",
    "    "
   ]
  },
  {
   "cell_type": "code",
   "execution_count": 59,
   "id": "e8558aa2-7785-4e55-9145-4b4f85c6ac3c",
   "metadata": {},
   "outputs": [
    {
     "data": {
      "image/png": "[encoded data removed]",
      "text/plain": [
       "<Figure size 432x432 with 1 Axes>"
      ]
     },
     "metadata": {
      "needs_background": "light"
     },
     "output_type": "display_data"
    }
   ],
   "source": [
    "env=FrictionEnvironment(30,30,image='images/Tic Tac Toe Board With Border.png')\n",
    "robot=Robot(env)\n",
    "build(robot)\n",
    "robot.controller=Controller(state_machine)\n",
    "robot.controller.monitor=monitor\n",
    "\n",
    "pieceX(env,10.2,11)\n",
    "pieceX(env,15,11)\n",
    "pieceX(env,19.7,11)\n",
    "pieceX(env,19.7,15.5)\n",
    "pieceX(env,19.7,20)\n",
    "\n",
    "pieceO(env,15,20)\n",
    "\n",
    "run_sim(env,robot.controller, \n",
    "        figure_width=6,\n",
    "       total_time=100,\n",
    "       dt_display=0.1,  # make this larger for a faster display\n",
    "       )\n"
   ]
  },
  {
   "cell_type": "code",
   "execution_count": 60,
   "id": "3b67ea15-c740-4658-8542-86506e19e3dc",
   "metadata": {},
   "outputs": [
    {
     "data": {
      "text/plain": [
       " 0  2  1 \n",
       " 0  0  0 \n",
       " 1  1  1 "
      ]
     },
     "execution_count": 60,
     "metadata": {},
     "output_type": "execute_result"
    }
   ],
   "source": [
    "robot.state"
   ]
  },
  {
   "cell_type": "markdown",
   "id": "a89e696b-77fe-4adb-99fb-4f9417b6a404",
   "metadata": {},
   "source": [
    "something is wrong with position 5"
   ]
  },
  {
   "cell_type": "code",
   "execution_count": 61,
   "id": "4601c854-2078-4ca3-93e1-fda47da77ace",
   "metadata": {},
   "outputs": [],
   "source": [
    "def read_state(t,act):\n",
    "    \n",
    "    #angle in range(0,360,30):\n",
    "\n",
    "    state=Board(3,3)\n",
    "    \n",
    "    for location in range(9):\n",
    "        \n",
    "        if location==0:\n",
    "            sensor='NW'\n",
    "            angles=range(90,180,30)\n",
    "        elif location==1:\n",
    "            sensor='NE'\n",
    "            angles=range(90,180,30)\n",
    "        elif location==2:\n",
    "            sensor='NE'\n",
    "            angles=range(0,90,30)\n",
    "        elif location==3:\n",
    "            sensor='NW'\n",
    "            angles=range(180,270,30)\n",
    "        elif location==4:\n",
    "            sensor='NW'\n",
    "            angles=range(270,360,30)\n",
    "        elif location==5:\n",
    "            sensor='NW'   #<========== should be NE!\n",
    "            angles=range(270,360,30)\n",
    "        elif location==6:\n",
    "            sensor='SW'\n",
    "            angles=range(180,270,30)\n",
    "        elif location==7:\n",
    "            sensor='SW'\n",
    "            angles=range(270,360,30)\n",
    "        elif location==8:\n",
    "            sensor='SE'\n",
    "            angles=range(270,360,30)\n",
    "        else:\n",
    "            raise ValueError(\"You can't get there from here.\")\n",
    "    \n",
    "        distances=[]\n",
    "        for angle in angles:\n",
    "            name=f'disk {angle} {sensor}'\n",
    "            distances.append(robot[name].read_distance())\n",
    "\n",
    "        piece=0\n",
    "        # check for X\n",
    "        for d in distances:\n",
    "            if d>=2 and d<=3:\n",
    "                piece=1\n",
    "\n",
    "        if not piece:  #still haven't found which piece\n",
    "            # check for O\n",
    "            for d in distances:\n",
    "                if d<2:\n",
    "                    piece=2\n",
    "        \n",
    "        if location==5:\n",
    "            print(distances)\n",
    "            raise ValueError # make it crash here\n",
    "        state[location]=piece\n",
    "        \n",
    "    robot.state=state\n",
    "    \n",
    "    return True\n",
    "        \n",
    "    \n",
    "state_machine=StateMachine(\n",
    "    (read_state,\"_end_simulation\"),\n",
    ")\n",
    "    \n",
    "        \n",
    "    \n",
    "    "
   ]
  },
  {
   "cell_type": "code",
   "execution_count": 62,
   "id": "c41daa47-0f61-4c71-a36e-79ee69227dfd",
   "metadata": {},
   "outputs": [
    {
     "name": "stdout",
     "output_type": "stream",
     "text": [
      "[17.389999389784, 20.174658701356464, 19.59720652351881]\n"
     ]
    },
    {
     "ename": "ValueError",
     "evalue": "",
     "output_type": "error",
     "traceback": [
      "\u001b[0;31m---------------------------------------------------------------------------\u001b[0m",
      "\u001b[0;31mValueError\u001b[0m                                Traceback (most recent call last)",
      "\u001b[0;32m<ipython-input-62-dfc32e520e1b>\u001b[0m in \u001b[0;36m<module>\u001b[0;34m\u001b[0m\n\u001b[1;32m     14\u001b[0m \u001b[0;34m\u001b[0m\u001b[0m\n\u001b[1;32m     15\u001b[0m \u001b[0;34m\u001b[0m\u001b[0m\n\u001b[0;32m---> 16\u001b[0;31m run_sim(env,robot.controller, \n\u001b[0m\u001b[1;32m     17\u001b[0m         \u001b[0mfigure_width\u001b[0m\u001b[0;34m=\u001b[0m\u001b[0;36m6\u001b[0m\u001b[0;34m,\u001b[0m\u001b[0;34m\u001b[0m\u001b[0;34m\u001b[0m\u001b[0m\n\u001b[1;32m     18\u001b[0m        \u001b[0mtotal_time\u001b[0m\u001b[0;34m=\u001b[0m\u001b[0;36m100\u001b[0m\u001b[0;34m,\u001b[0m\u001b[0;34m\u001b[0m\u001b[0;34m\u001b[0m\u001b[0m\n",
      "\u001b[0;32m~/opt/anaconda3/envs/py3/lib/python3.8/site-packages/RobotSim373/robotsim.py\u001b[0m in \u001b[0;36mrun_sim\u001b[0;34m(env, act, total_time, dt, dt_display, figure_width, plot_orientation, show_boundary)\u001b[0m\n\u001b[1;32m   1141\u001b[0m \u001b[0;34m\u001b[0m\u001b[0m\n\u001b[1;32m   1142\u001b[0m             \u001b[0;32melse\u001b[0m\u001b[0;34m:\u001b[0m\u001b[0;34m\u001b[0m\u001b[0;34m\u001b[0m\u001b[0m\n\u001b[0;32m-> 1143\u001b[0;31m                 \u001b[0mvalue\u001b[0m\u001b[0;34m=\u001b[0m\u001b[0mact\u001b[0m\u001b[0;34m(\u001b[0m\u001b[0menv\u001b[0m\u001b[0;34m.\u001b[0m\u001b[0mt\u001b[0m\u001b[0;34m,\u001b[0m\u001b[0mrobot\u001b[0m\u001b[0;34m)\u001b[0m\u001b[0;34m\u001b[0m\u001b[0;34m\u001b[0m\u001b[0m\n\u001b[0m\u001b[1;32m   1144\u001b[0m                 \u001b[0;32mif\u001b[0m \u001b[0mvalue\u001b[0m\u001b[0;34m:\u001b[0m\u001b[0;34m\u001b[0m\u001b[0;34m\u001b[0m\u001b[0m\n\u001b[1;32m   1145\u001b[0m                     \u001b[0mstop\u001b[0m\u001b[0;34m=\u001b[0m\u001b[0;32mTrue\u001b[0m\u001b[0;34m\u001b[0m\u001b[0;34m\u001b[0m\u001b[0m\n",
      "\u001b[0;32m~/opt/anaconda3/envs/py3/lib/python3.8/site-packages/RobotSim373/robotsim.py\u001b[0m in \u001b[0;36m__call__\u001b[0;34m(self, t, robot)\u001b[0m\n\u001b[1;32m    284\u001b[0m \u001b[0;34m\u001b[0m\u001b[0m\n\u001b[1;32m    285\u001b[0m     \u001b[0;32mdef\u001b[0m \u001b[0m__call__\u001b[0m\u001b[0;34m(\u001b[0m\u001b[0mself\u001b[0m\u001b[0;34m,\u001b[0m\u001b[0mt\u001b[0m\u001b[0;34m,\u001b[0m\u001b[0mrobot\u001b[0m\u001b[0;34m)\u001b[0m\u001b[0;34m:\u001b[0m\u001b[0;34m\u001b[0m\u001b[0;34m\u001b[0m\u001b[0m\n\u001b[0;32m--> 286\u001b[0;31m         \u001b[0;32mreturn\u001b[0m \u001b[0mself\u001b[0m\u001b[0;34m.\u001b[0m\u001b[0mact\u001b[0m\u001b[0;34m(\u001b[0m\u001b[0mt\u001b[0m\u001b[0;34m,\u001b[0m\u001b[0mrobot\u001b[0m\u001b[0;34m)\u001b[0m\u001b[0;34m\u001b[0m\u001b[0;34m\u001b[0m\u001b[0m\n\u001b[0m\u001b[1;32m    287\u001b[0m \u001b[0;34m\u001b[0m\u001b[0m\n\u001b[1;32m    288\u001b[0m     \u001b[0;32mdef\u001b[0m \u001b[0mact\u001b[0m\u001b[0;34m(\u001b[0m\u001b[0mself\u001b[0m\u001b[0;34m,\u001b[0m\u001b[0mt\u001b[0m\u001b[0;34m,\u001b[0m\u001b[0mrobot\u001b[0m\u001b[0;34m)\u001b[0m\u001b[0;34m:\u001b[0m\u001b[0;34m\u001b[0m\u001b[0;34m\u001b[0m\u001b[0m\n",
      "\u001b[0;32m~/opt/anaconda3/envs/py3/lib/python3.8/site-packages/RobotSim373/robotsim.py\u001b[0m in \u001b[0;36mact\u001b[0;34m(self, t, robot)\u001b[0m\n\u001b[1;32m    315\u001b[0m \u001b[0;34m\u001b[0m\u001b[0m\n\u001b[1;32m    316\u001b[0m \u001b[0;34m\u001b[0m\u001b[0m\n\u001b[0;32m--> 317\u001b[0;31m         \u001b[0mvalue\u001b[0m\u001b[0;34m=\u001b[0m\u001b[0maction\u001b[0m\u001b[0;34m(\u001b[0m\u001b[0mt\u001b[0m\u001b[0;34m-\u001b[0m\u001b[0mself\u001b[0m\u001b[0;34m.\u001b[0m\u001b[0mstart_time\u001b[0m\u001b[0;34m,\u001b[0m\u001b[0mrobot\u001b[0m\u001b[0;34m)\u001b[0m\u001b[0;34m\u001b[0m\u001b[0;34m\u001b[0m\u001b[0m\n\u001b[0m\u001b[1;32m    318\u001b[0m \u001b[0;34m\u001b[0m\u001b[0m\n\u001b[1;32m    319\u001b[0m \u001b[0;34m\u001b[0m\u001b[0m\n",
      "\u001b[0;32m<ipython-input-61-3d941a4885ce>\u001b[0m in \u001b[0;36mread_state\u001b[0;34m(t, act)\u001b[0m\n\u001b[1;32m     56\u001b[0m         \u001b[0;32mif\u001b[0m \u001b[0mlocation\u001b[0m\u001b[0;34m==\u001b[0m\u001b[0;36m5\u001b[0m\u001b[0;34m:\u001b[0m\u001b[0;34m\u001b[0m\u001b[0;34m\u001b[0m\u001b[0m\n\u001b[1;32m     57\u001b[0m             \u001b[0mprint\u001b[0m\u001b[0;34m(\u001b[0m\u001b[0mdistances\u001b[0m\u001b[0;34m)\u001b[0m\u001b[0;34m\u001b[0m\u001b[0;34m\u001b[0m\u001b[0m\n\u001b[0;32m---> 58\u001b[0;31m             \u001b[0;32mraise\u001b[0m \u001b[0mValueError\u001b[0m \u001b[0;31m# make it crash here\u001b[0m\u001b[0;34m\u001b[0m\u001b[0;34m\u001b[0m\u001b[0m\n\u001b[0m\u001b[1;32m     59\u001b[0m         \u001b[0mstate\u001b[0m\u001b[0;34m[\u001b[0m\u001b[0mlocation\u001b[0m\u001b[0;34m]\u001b[0m\u001b[0;34m=\u001b[0m\u001b[0mpiece\u001b[0m\u001b[0;34m\u001b[0m\u001b[0;34m\u001b[0m\u001b[0m\n\u001b[1;32m     60\u001b[0m \u001b[0;34m\u001b[0m\u001b[0m\n",
      "\u001b[0;31mValueError\u001b[0m: "
     ]
    }
   ],
   "source": [
    "env=FrictionEnvironment(30,30,image='images/Tic Tac Toe Board With Border.png')\n",
    "robot=Robot(env)\n",
    "build(robot)\n",
    "robot.controller=Controller(state_machine)\n",
    "robot.controller.monitor=monitor\n",
    "\n",
    "pieceX(env,10.2,11)\n",
    "pieceX(env,15,11)\n",
    "pieceX(env,19.7,11)\n",
    "pieceX(env,19.7,15.5)\n",
    "pieceX(env,19.7,20)\n",
    "\n",
    "pieceO(env,15,20)\n",
    "\n",
    "\n",
    "run_sim(env,robot.controller, \n",
    "        figure_width=6,\n",
    "       total_time=100,\n",
    "       dt_display=0.1,  # make this larger for a faster display\n",
    "       )\n"
   ]
  },
  {
   "cell_type": "markdown",
   "id": "f7b0b926-0405-4ceb-adbd-02a91bbab3d2",
   "metadata": {},
   "source": [
    "## now with a fixed read state"
   ]
  },
  {
   "cell_type": "code",
   "execution_count": 66,
   "id": "ede71dcb-998e-4b02-820d-35776ba89bab",
   "metadata": {},
   "outputs": [],
   "source": [
    "def read_state(t,act):\n",
    "    \n",
    "    #angle in range(0,360,30):\n",
    "\n",
    "    state=Board(3,3)\n",
    "    \n",
    "    robot.distances=[]  # for debugging\n",
    "    for location in range(9):\n",
    "        \n",
    "        if location==0:\n",
    "            sensor='NW'\n",
    "            angles=range(90,180,30)\n",
    "        elif location==1:\n",
    "            sensor='NE'\n",
    "            angles=range(90,180,30)\n",
    "        elif location==2:\n",
    "            sensor='NE'\n",
    "            angles=range(0,90,30)\n",
    "        elif location==3:\n",
    "            sensor='NW'\n",
    "            angles=range(180,270,30)\n",
    "        elif location==4:\n",
    "            sensor='NW'\n",
    "            angles=range(270,360,30)\n",
    "        elif location==5:\n",
    "            sensor='NE' \n",
    "            angles=range(270,360,30)\n",
    "        elif location==6:\n",
    "            sensor='SW'\n",
    "            angles=range(180,270,30)\n",
    "        elif location==7:\n",
    "            sensor='SW'\n",
    "            angles=range(270,360,30)\n",
    "        elif location==8:\n",
    "            sensor='SE'\n",
    "            angles=range(270,360,30)\n",
    "        else:\n",
    "            raise ValueError(\"You can't get there from here.\")\n",
    "    \n",
    "        distances=[]\n",
    "        for angle in angles:\n",
    "            name=f'disk {angle} {sensor}'\n",
    "            distances.append(robot[name].read_distance())\n",
    "\n",
    "        piece=0\n",
    "        # check for X\n",
    "        for d in distances:\n",
    "            if d>=2 and d<=3:  # any of them between 2 and 3\n",
    "                piece=1\n",
    "\n",
    "        if not piece:  #still haven't found which piece\n",
    "            # check for O\n",
    "            for d in distances:\n",
    "                if d<2:\n",
    "                    piece=2\n",
    "        \n",
    "        state[location]=piece\n",
    "        robot.distances.append(distances)\n",
    "        \n",
    "    robot.state=state\n",
    "    \n",
    "    return True\n",
    "        \n",
    "    \n",
    "state_machine=StateMachine(\n",
    "    (read_state,\"_end_simulation\"),\n",
    ")\n",
    "    \n",
    "        \n",
    "    \n",
    "    "
   ]
  },
  {
   "cell_type": "code",
   "execution_count": 67,
   "id": "5463a3e1-a48f-4955-bd25-aa723fbbc69e",
   "metadata": {},
   "outputs": [
    {
     "data": {
      "image/png": "[encoded data removed]",
      "text/plain": [
       "<Figure size 432x432 with 1 Axes>"
      ]
     },
     "metadata": {
      "needs_background": "light"
     },
     "output_type": "display_data"
    }
   ],
   "source": [
    "env=FrictionEnvironment(30,30,image='images/Tic Tac Toe Board With Border.png')\n",
    "robot=Robot(env)\n",
    "build(robot)\n",
    "robot.controller=Controller(state_machine)\n",
    "robot.controller.monitor=monitor\n",
    "\n",
    "pieceX(env,10.2,11)\n",
    "pieceX(env,15,11)\n",
    "pieceX(env,19.7,11)\n",
    "pieceX(env,19.7,15.5)\n",
    "pieceX(env,19.7,20)\n",
    "\n",
    "pieceO(env,15,20)\n",
    "\n",
    "run_sim(env,robot.controller, \n",
    "        figure_width=6,\n",
    "       total_time=100,\n",
    "       dt_display=0.1,  # make this larger for a faster display\n",
    "       )\n"
   ]
  },
  {
   "cell_type": "code",
   "execution_count": 68,
   "id": "31a5f781-987c-4ccb-a70c-388eaff6df96",
   "metadata": {},
   "outputs": [
    {
     "data": {
      "text/plain": [
       " 0  2  1 \n",
       " 0  0  1 \n",
       " 1  1  1 "
      ]
     },
     "execution_count": 68,
     "metadata": {},
     "output_type": "execute_result"
    }
   ],
   "source": [
    "robot.state"
   ]
  },
  {
   "cell_type": "markdown",
   "id": "acaeeef9-d901-4e50-a134-ed1eb49433b2",
   "metadata": {},
   "source": [
    "## works for this case, but can it work for other states?  try randomly generating boards!"
   ]
  },
  {
   "cell_type": "code",
   "execution_count": 69,
   "id": "2563855e-55de-4305-8697-3730d261e468",
   "metadata": {},
   "outputs": [
    {
     "data": {
      "text/plain": [
       " 0  1  0 \n",
       " 2  2  0 \n",
       " 1  1  2 "
      ]
     },
     "execution_count": 69,
     "metadata": {},
     "output_type": "execute_result"
    }
   ],
   "source": [
    "state=Board(3,3)\n",
    "for i in range(9):\n",
    "    state[i]=random.choice([0,1,2])\n",
    "state"
   ]
  },
  {
   "cell_type": "code",
   "execution_count": 70,
   "id": "22fefff4-7eb7-42a1-9b4e-765e63c9ec7f",
   "metadata": {},
   "outputs": [
    {
     "data": {
      "image/png": "[encoded data removed]",
      "text/plain": [
       "<Figure size 432x432 with 1 Axes>"
      ]
     },
     "metadata": {
      "needs_background": "light"
     },
     "output_type": "display_data"
    },
    {
     "name": "stdout",
     "output_type": "stream",
     "text": [
      " 0  1  0 \n",
      " 2  2  0 \n",
      " 1  1  2 \n",
      "\n",
      " 0  1  0 \n",
      " 1  1  0 \n",
      " 1  1  1 \n",
      "\n"
     ]
    }
   ],
   "source": [
    "env=FrictionEnvironment(30,30,image='images/Tic Tac Toe Board With Border.png')\n",
    "robot=Robot(env)\n",
    "build(robot)\n",
    "robot.controller=Controller(state_machine)\n",
    "robot.controller.monitor=monitor\n",
    "\n",
    "x=[10.2,15,19.7,10.2,15,19.7,10.2,15,19.7,]\n",
    "y=[20,20,20,15.5,15.5,15.5,11,11,11]\n",
    "\n",
    "\n",
    "\n",
    "for i in range(9):\n",
    "    if state[i]==1:\n",
    "        pieceX(env,x[i],y[i])\n",
    "    elif state[i]==2:\n",
    "        pieceO(env,x[i],y[i])\n",
    "    else:\n",
    "        pass\n",
    "\n",
    "run_sim(env,robot.controller, \n",
    "        figure_width=6,\n",
    "       total_time=100,\n",
    "       dt_display=.1,  # make this larger for a faster display\n",
    "       )\n",
    "\n",
    "print(state)\n",
    "print(robot.state)"
   ]
  },
  {
   "cell_type": "markdown",
   "id": "5ce682bd-ccbc-4be4-8fb8-755089e733f6",
   "metadata": {},
   "source": [
    "ooops!  what's going on?  def getting the blank squares, but making errors.  \n",
    "\n",
    "- maybe the distance is more like 2.1 rather than 2.\n",
    "- maybe make the piece0 bigger to make it easier to distinguish between"
   ]
  },
  {
   "cell_type": "code",
   "execution_count": 71,
   "id": "b629329c-4edb-48b2-90ab-11fe5e60e12c",
   "metadata": {},
   "outputs": [
    {
     "data": {
      "text/plain": [
       "[[11.389999389659977, 13.2464185385543, 13.823738726066747],\n",
       " [11.389999389658659, 2.361085140086037, 2.3610862808298774],\n",
       " [12.190000534057617, 14.170169006045327, 13.246398988215775],\n",
       " [11.890000343366966, 13.823780338698654, 2.03451526486447],\n",
       " [17.389999389784, 2.401731120536427, 2.4017785804957184],\n",
       " [17.389999389784, 20.174657747674953, 14.170128696342282],\n",
       " [11.890000343366966, 2.653904148914782, 2.6539095127255723],\n",
       " [12.68999862681348, 2.800313606574991, 2.800319762053704],\n",
       " [12.68999862681348, 14.747553438920862, 2.034516916680645]]"
      ]
     },
     "execution_count": 71,
     "metadata": {},
     "output_type": "execute_result"
    }
   ],
   "source": [
    "robot.distances"
   ]
  },
  {
   "cell_type": "code",
   "execution_count": 72,
   "id": "3ae227ca-6118-4def-8256-fce234d9005d",
   "metadata": {},
   "outputs": [],
   "source": [
    "def pieceX(env,x,y):\n",
    "    \n",
    "    boxes=[Box(env,x+.5,y+.5,width=1,height=.2,angle=45,color='blue'),\n",
    "        Box(env,x-.5,y-.5,width=1,height=.2,angle=45,color='blue'),\n",
    "        Box(env,x+.5,y-.5,width=1,height=.2,angle=135,color='blue'),\n",
    "        Box(env,x-.5,y+.5,width=1,height=.2,angle=135,color='blue')\n",
    "          ]\n",
    "    \n",
    "    connect(boxes[0],boxes[1:],\"weld\")\n",
    "    \n",
    "def pieceO(env,x,y):\n",
    "    \n",
    "    Disk(env,x=x,y=y,radius=1.5,color='red')\n",
    " "
   ]
  },
  {
   "cell_type": "code",
   "execution_count": 73,
   "id": "c7bf461b-cd5c-40a5-8f2c-8243705e3add",
   "metadata": {},
   "outputs": [],
   "source": [
    "def read_state(t,act):\n",
    "    \n",
    "    #angle in range(0,360,30):\n",
    "\n",
    "    state=Board(3,3)\n",
    "    \n",
    "    robot.distances=[]  # for debugging\n",
    "    for location in range(9):\n",
    "        \n",
    "        if location==0:\n",
    "            sensor='NW'\n",
    "            angles=range(90,180,30)\n",
    "        elif location==1:\n",
    "            sensor='NE'\n",
    "            angles=range(90,180,30)\n",
    "        elif location==2:\n",
    "            sensor='NE'\n",
    "            angles=range(0,90,30)\n",
    "        elif location==3:\n",
    "            sensor='NW'\n",
    "            angles=range(180,270,30)\n",
    "        elif location==4:\n",
    "            sensor='NW'\n",
    "            angles=range(270,360,30)\n",
    "        elif location==5:\n",
    "            sensor='NE' \n",
    "            angles=range(270,360,30)\n",
    "        elif location==6:\n",
    "            sensor='SW'\n",
    "            angles=range(180,270,30)\n",
    "        elif location==7:\n",
    "            sensor='SW'\n",
    "            angles=range(270,360,30)\n",
    "        elif location==8:\n",
    "            sensor='SE'\n",
    "            angles=range(270,360,30)\n",
    "        else:\n",
    "            raise ValueError(\"You can't get there from here.\")\n",
    "    \n",
    "        distances=[]\n",
    "        for angle in angles:\n",
    "            name=f'disk {angle} {sensor}'\n",
    "            distances.append(robot[name].read_distance())\n",
    "\n",
    "        piece=0\n",
    "        # check for X\n",
    "        for d in distances:\n",
    "            if d>=2.1 and d<=3:  # any of them between 2 and 3\n",
    "                piece=1\n",
    "\n",
    "        if not piece:  #still haven't found which piece\n",
    "            # check for O\n",
    "            for d in distances:\n",
    "                if d<2.1:\n",
    "                    piece=2\n",
    "        \n",
    "        state[location]=piece\n",
    "        robot.distances.append(distances)\n",
    "        \n",
    "    robot.state=state\n",
    "    \n",
    "    return True\n",
    "        \n",
    "    \n",
    "state_machine=StateMachine(\n",
    "    (read_state,\"_end_simulation\"),\n",
    ")\n",
    "    \n",
    "        \n",
    "    \n",
    "    "
   ]
  },
  {
   "cell_type": "code",
   "execution_count": 74,
   "id": "6f35f550-147c-4dde-83e6-1005c1ad6f7e",
   "metadata": {},
   "outputs": [
    {
     "data": {
      "image/png": "[encoded data removed]",
      "text/plain": [
       "<Figure size 432x432 with 1 Axes>"
      ]
     },
     "metadata": {
      "needs_background": "light"
     },
     "output_type": "display_data"
    },
    {
     "name": "stdout",
     "output_type": "stream",
     "text": [
      " 0  1  0 \n",
      " 2  2  0 \n",
      " 1  1  2 \n",
      "\n",
      " 0  1  0 \n",
      " 2  2  0 \n",
      " 1  1  2 \n",
      "\n"
     ]
    }
   ],
   "source": [
    "env=FrictionEnvironment(30,30,image='images/Tic Tac Toe Board With Border.png')\n",
    "robot=Robot(env)\n",
    "build(robot)\n",
    "robot.controller=Controller(state_machine)\n",
    "robot.controller.monitor=monitor\n",
    "\n",
    "x=[10.2,15,19.7,10.2,15,19.7,10.2,15,19.7,]\n",
    "y=[20,20,20,15.5,15.5,15.5,11,11,11]\n",
    "\n",
    "\n",
    "\n",
    "for i in range(9):\n",
    "    if state[i]==1:\n",
    "        pieceX(env,x[i],y[i])\n",
    "    elif state[i]==2:\n",
    "        pieceO(env,x[i],y[i])\n",
    "    else:\n",
    "        pass\n",
    "\n",
    "# for x in [8,16,24]:\n",
    "#     for y in [7,15,22]:\n",
    "#         Box(env,x=x,y=y,density=0.001)\n",
    "\n",
    "run_sim(env,robot.controller, \n",
    "        figure_width=6,\n",
    "       total_time=100,\n",
    "       dt_display=.1,  # make this larger for a faster display\n",
    "       )\n",
    "\n",
    "print(state)\n",
    "print(robot.state)"
   ]
  },
  {
   "cell_type": "code",
   "execution_count": 75,
   "id": "74e6c526-5523-460b-9653-89796aa3e6d2",
   "metadata": {},
   "outputs": [
    {
     "data": {
      "text/plain": [
       "[[11.389999389659977, 13.2464185385543, 13.823738726066747],\n",
       " [11.389999389658659, 2.361085140086037, 2.3610862808298774],\n",
       " [12.190000534057617, 14.170169006045327, 13.246398988215775],\n",
       " [11.890000343366966, 1.5274783872104123, 1.401359764147579],\n",
       " [17.389999389784, 1.6165047980239375, 1.616515849647983],\n",
       " [17.389999389784, 6.018159619048899, 14.170128696342282],\n",
       " [11.890000343366966, 2.653904148914782, 2.6539095127255723],\n",
       " [12.68999862681348, 2.800313606574991, 2.800319762053704],\n",
       " [12.68999862681348, 1.527479340892066, 1.4013630677797742]]"
      ]
     },
     "execution_count": 75,
     "metadata": {},
     "output_type": "execute_result"
    }
   ],
   "source": [
    "robot.distances"
   ]
  },
  {
   "cell_type": "code",
   "execution_count": 76,
   "id": "d0343b6e-25ba-4b7d-9743-2bfaad2f8386",
   "metadata": {},
   "outputs": [
    {
     "data": {
      "text/plain": [
       "True"
      ]
     },
     "execution_count": 76,
     "metadata": {},
     "output_type": "execute_result"
    }
   ],
   "source": [
    "state==robot.state"
   ]
  },
  {
   "cell_type": "markdown",
   "id": "3e9c2af7-3a7e-4157-a433-52024e58e7c8",
   "metadata": {},
   "source": [
    "### automate this process"
   ]
  },
  {
   "cell_type": "code",
   "execution_count": 77,
   "id": "f309f0e6-5b49-410a-ac38-7550e0d17935",
   "metadata": {},
   "outputs": [],
   "source": [
    "from tqdm import tqdm"
   ]
  },
  {
   "cell_type": "code",
   "execution_count": 78,
   "id": "1935ff44-a8f6-4e38-b260-2904f77bc35f",
   "metadata": {},
   "outputs": [
    {
     "name": "stderr",
     "output_type": "stream",
     "text": [
      "100%|██████████| 100/100 [00:04<00:00, 24.81it/s]\n"
     ]
    }
   ],
   "source": [
    "for i in tqdm(range(100)):\n",
    "\n",
    "    # generate random board\n",
    "    state=Board(3,3)\n",
    "    for i in range(9):\n",
    "        state[i]=random.choice([0,1,2])\n",
    "\n",
    "\n",
    "    # build robot and environment -- but turn off the display\n",
    "    \n",
    "    env=FrictionEnvironment(30,30,image='images/Tic Tac Toe Board With Border.png')\n",
    "    robot=Robot(env)\n",
    "    build(robot)\n",
    "    robot.controller=Controller(state_machine)\n",
    "    robot.controller.monitor=monitor\n",
    "\n",
    "    x=[10.2,15,19.7,10.2,15,19.7,10.2,15,19.7,]\n",
    "    y=[20,20,20,15.5,15.5,15.5,11,11,11]\n",
    "\n",
    "\n",
    "\n",
    "    for i in range(9):\n",
    "        if state[i]==1:\n",
    "            pieceX(env,x[i],y[i])\n",
    "        elif state[i]==2:\n",
    "            pieceO(env,x[i],y[i])\n",
    "        else:\n",
    "            pass\n",
    "\n",
    "    # for x in [8,16,24]:\n",
    "    #     for y in [7,15,22]:\n",
    "    #         Box(env,x=x,y=y,density=0.001)\n",
    "\n",
    "    run_sim(env,robot.controller, \n",
    "            figure_width=6,\n",
    "           total_time=100,\n",
    "           dt_display=None, # no plotting!\n",
    "           )\n",
    "\n",
    "    if not state==robot.state:\n",
    "        print(state,robot.state)\n",
    "        raise ValueError\n"
   ]
  },
  {
   "cell_type": "markdown",
   "id": "596cfcbd-d6a4-40b4-a2d4-2022e8d63d82",
   "metadata": {},
   "source": [
    "## Now that I have a working read state, let's see if I can get a make move working"
   ]
  },
  {
   "cell_type": "markdown",
   "id": "5aed5c00-607d-46ca-9763-87b8c068db43",
   "metadata": {},
   "source": [
    "### first step - get the moving part of the robot, and the pieces where I need them"
   ]
  },
  {
   "cell_type": "code",
   "execution_count": 79,
   "id": "c3271269-47a7-4fbc-a0dc-d36a8414563a",
   "metadata": {},
   "outputs": [],
   "source": [
    "def build(robot,name=None):\n",
    "    R=.5\n",
    "    r=R/5\n",
    "    \n",
    "    \n",
    "    x=12.5\n",
    "    y=18\n",
    "    \n",
    "    angle=0\n",
    "    disk_center=Disk(robot,x,y,radius=R,angle=angle,name=f'center NW')\n",
    "\n",
    "    disks=[]\n",
    "    for angle in range(0,360,30):\n",
    "        disk=Disk(robot,\n",
    "                          x+(R+1.1*r)*cos(radians(angle)),\n",
    "                          y+(R+1.1*r)*sin(radians(angle)),\n",
    "                 angle=angle,radius=r,\n",
    "                 name='disk %d NW' % angle)\n",
    "        disks.append(disk)\n",
    "\n",
    "    connect(disk_center,disks,'weld')\n",
    "\n",
    "    #============\n",
    "    \n",
    "    x=17.2\n",
    "    y=18\n",
    "    \n",
    "    angle=0\n",
    "    disk_center=Disk(robot,x,y,radius=R,angle=angle,name=f'center NE')\n",
    "\n",
    "    disks=[]\n",
    "    for angle in range(0,360,30):\n",
    "        disk=Disk(robot,\n",
    "                          x+(R+1.1*r)*cos(radians(angle)),\n",
    "                          y+(R+1.1*r)*sin(radians(angle)),\n",
    "                 angle=angle,radius=r,\n",
    "                 name='disk %d NE' % angle)\n",
    "        disks.append(disk)\n",
    "\n",
    "    connect(disk_center,disks,'weld')\n",
    "\n",
    "    #============\n",
    "    \n",
    "    x=17.2\n",
    "    y=13.3\n",
    "    \n",
    "    angle=0\n",
    "    disk_center=Disk(robot,x,y,radius=R,angle=angle,name=f'center SE')\n",
    "\n",
    "    disks=[]\n",
    "    for angle in range(0,360,30):\n",
    "        disk=Disk(robot,\n",
    "                          x+(R+1.1*r)*cos(radians(angle)),\n",
    "                          y+(R+1.1*r)*sin(radians(angle)),\n",
    "                 angle=angle,radius=r,\n",
    "                 name='disk %d SE' % angle)\n",
    "        disks.append(disk)\n",
    "\n",
    "    connect(disk_center,disks,'weld')\n",
    "\n",
    "    #============\n",
    "    \n",
    "    x=12.5\n",
    "    y=13.3\n",
    "    \n",
    "    angle=0\n",
    "    disk_center=Disk(robot,x,y,radius=R,angle=angle,name=f'center SW')\n",
    "\n",
    "    disks=[]\n",
    "    for angle in range(0,360,30):\n",
    "        disk=Disk(robot,\n",
    "                          x+(R+1.1*r)*cos(radians(angle)),\n",
    "                          y+(R+1.1*r)*sin(radians(angle)),\n",
    "                 angle=angle,radius=r,\n",
    "                 name='disk %d SW' % angle)\n",
    "        disks.append(disk)\n",
    "\n",
    "    connect(disk_center,disks,'weld')\n",
    "\n",
    "   \n",
    "    ##  home position\n",
    "    robot.home_x=3\n",
    "    robot.home_y=3\n",
    "\n",
    "    x=robot.home_x\n",
    "    y=robot.home_y\n",
    "    \n",
    "    angle=0\n",
    "    center=Disk(robot,x,y,radius=R,angle=angle,name=f'center')\n",
    "\n",
    "    disks=[]\n",
    "    for angle in range(0,360,30):\n",
    "        disk=Disk(robot,\n",
    "                          x+(R+1.1*r)*cos(radians(angle)),\n",
    "                          y+(R+1.1*r)*sin(radians(angle)),\n",
    "                 angle=angle,radius=r,\n",
    "                 name='disk %d' % angle)\n",
    "        disks.append(disk)\n",
    "\n",
    "    connect(disk_center,disks,'weld')\n",
    "\n",
    "    robot.disks=disks\n",
    "    robot.angles=list(range(0,360,30))\n",
    "    \n",
    "    robot.state=None\n",
    "        "
   ]
  },
  {
   "cell_type": "code",
   "execution_count": 80,
   "id": "6a60a1c9-64c6-4ad6-8d7e-88c1aed7d15b",
   "metadata": {},
   "outputs": [],
   "source": [
    "def place_pieces(env):\n",
    "    x=[10.2,15,19.7,10.2,15,19.7,10.2,15,19.7,]\n",
    "    y=[20,20,20,15.5,15.5,15.5,11,11,11]\n",
    "\n",
    "\n",
    "\n",
    "    offset=4\n",
    "    for i in range(9):\n",
    "        if i in [0,1,2]:\n",
    "            pieceX(env,x[i],y[i]+offset)\n",
    "        elif i in [6,7,8]:\n",
    "            pieceX(env,x[i],y[i]-offset)\n",
    "        elif i==3:\n",
    "            pieceX(env,x[i]-offset,y[i])\n",
    "        elif i==5:\n",
    "            pieceX(env,x[i]+offset,y[i])\n",
    "        elif i==4: # not sure how to deal with the center piece, but I'll solve it later\n",
    "            pass\n",
    "        else:\n",
    "            raise ValueError(\"You can't get there from here.\")\n"
   ]
  },
  {
   "cell_type": "code",
   "execution_count": 81,
   "id": "751337f6-f31c-4cce-aa6a-c732ca080c3f",
   "metadata": {},
   "outputs": [
    {
     "data": {
      "image/png": "[encoded data removed]",
      "text/plain": [
       "<Figure size 432x432 with 1 Axes>"
      ]
     },
     "metadata": {
      "needs_background": "light"
     },
     "output_type": "display_data"
    },
    {
     "name": "stdout",
     "output_type": "stream",
     "text": [
      " 0  0  0 \n",
      " 0  0  0 \n",
      " 0  0  0 \n",
      "\n"
     ]
    }
   ],
   "source": [
    "env=FrictionEnvironment(30,30,image='images/Tic Tac Toe Board With Border.png')\n",
    "robot=Robot(env)\n",
    "build(robot)\n",
    "robot.controller=Controller(state_machine)\n",
    "robot.controller.monitor=monitor\n",
    "\n",
    "place_pieces(env)\n",
    "\n",
    "run_sim(env,robot.controller, \n",
    "        figure_width=6,\n",
    "       total_time=100,\n",
    "       dt_display=.1,  # make this larger for a faster display\n",
    "       )\n",
    "\n",
    "\n",
    "print(robot.state)"
   ]
  },
  {
   "cell_type": "markdown",
   "id": "754e7141-e17e-4815-9581-1402dcfdfabe",
   "metadata": {},
   "source": [
    "the idea here is that, say, to move to position 0 I want to move north to about (3,27), then east to (10,27), then south to about (10,20) to push the piece into position.  Then reverse those steps to move back home."
   ]
  },
  {
   "cell_type": "code",
   "execution_count": 84,
   "id": "010049f3-ddf6-4a45-a1c3-938d6142d1d9",
   "metadata": {},
   "outputs": [],
   "source": [
    "def north(t,robot):\n",
    "    robot['disk 90'].F=10\n",
    "    return True\n",
    "\n",
    "def south(t,robot):\n",
    "    robot['disk 90'].F=-10\n",
    "    return True\n",
    "    \n",
    "def east(t,robot):\n",
    "    robot['disk 0'].F=10\n",
    "    return True\n",
    "\n",
    "def west(t,robot):\n",
    "    robot['disk 0'].F=-10\n",
    "    return True\n",
    "\n",
    "def off(t,robot):\n",
    "    for disk in robot.disks:\n",
    "        disk.F=0\n",
    "    return True\n",
    "\n",
    "def until_xy(x,y):\n",
    "    \n",
    "    def _until_xy(t,act):\n",
    "        try:\n",
    "            xx=robot.original_x\n",
    "        except AttributeError: \n",
    "            robot.original_x=robot['center'].x\n",
    "            robot.original_y=robot['center'].y\n",
    "            robot.original_distance2=(x-robot.original_x)**2+(y-robot.original_y)**2\n",
    "            robot.last_distance2=robot.original_distance2\n",
    "            \n",
    "        robot.current_distance2=(x-robot['center'].x)**2+(y-robot['center'].y)**2\n",
    "\n",
    "        if robot.current_distance2<1 and robot.current_distance2>robot.last_distance2:  # stop when getting farther away\n",
    "            del robot.original_x, robot.original_y,robot.last_distance2\n",
    "            return True\n",
    "        \n",
    "        robot.last_distance2=robot.current_distance2\n",
    "\n",
    "        \n",
    "    return _until_xy\n",
    "            \n",
    "        \n",
    "        \n",
    "        \n",
    "\n",
    "move0=StateMachine(\n",
    "    ([north,until_xy(3,27),turn_purple],\"_end_simulation\"),\n",
    ")\n"
   ]
  },
  {
   "cell_type": "code",
   "execution_count": 85,
   "id": "227fd9fd-a10e-4bc1-b875-05a4c042a47a",
   "metadata": {},
   "outputs": [
    {
     "data": {
      "image/png": "[encoded data removed]",
      "text/plain": [
       "<Figure size 432x432 with 1 Axes>"
      ]
     },
     "metadata": {
      "needs_background": "light"
     },
     "output_type": "display_data"
    },
    {
     "ename": "AssertionError",
     "evalue": "den > 0.0f",
     "output_type": "error",
     "traceback": [
      "\u001b[0;31m---------------------------------------------------------------------------\u001b[0m",
      "\u001b[0;31mAssertionError\u001b[0m                            Traceback (most recent call last)",
      "\u001b[0;32m<ipython-input-85-9e3b8961c4b5>\u001b[0m in \u001b[0;36m<module>\u001b[0;34m\u001b[0m\n\u001b[1;32m      7\u001b[0m \u001b[0mplace_pieces\u001b[0m\u001b[0;34m(\u001b[0m\u001b[0menv\u001b[0m\u001b[0;34m)\u001b[0m\u001b[0;34m\u001b[0m\u001b[0;34m\u001b[0m\u001b[0m\n\u001b[1;32m      8\u001b[0m \u001b[0;34m\u001b[0m\u001b[0m\n\u001b[0;32m----> 9\u001b[0;31m run_sim(env,robot.controller, \n\u001b[0m\u001b[1;32m     10\u001b[0m         \u001b[0mfigure_width\u001b[0m\u001b[0;34m=\u001b[0m\u001b[0;36m6\u001b[0m\u001b[0;34m,\u001b[0m\u001b[0;34m\u001b[0m\u001b[0;34m\u001b[0m\u001b[0m\n\u001b[1;32m     11\u001b[0m        \u001b[0mtotal_time\u001b[0m\u001b[0;34m=\u001b[0m\u001b[0;36m100\u001b[0m\u001b[0;34m,\u001b[0m\u001b[0;34m\u001b[0m\u001b[0;34m\u001b[0m\u001b[0m\n",
      "\u001b[0;32m~/opt/anaconda3/envs/py3/lib/python3.8/site-packages/RobotSim373/robotsim.py\u001b[0m in \u001b[0;36mrun_sim\u001b[0;34m(env, act, total_time, dt, dt_display, figure_width, plot_orientation, show_boundary)\u001b[0m\n\u001b[1;32m   1146\u001b[0m                     \u001b[0mnext_display_t\u001b[0m\u001b[0;34m=\u001b[0m\u001b[0menv\u001b[0m\u001b[0;34m.\u001b[0m\u001b[0mt\u001b[0m\u001b[0;34m-\u001b[0m\u001b[0;36m1\u001b[0m\u001b[0;34m\u001b[0m\u001b[0;34m\u001b[0m\u001b[0m\n\u001b[1;32m   1147\u001b[0m \u001b[0;34m\u001b[0m\u001b[0m\n\u001b[0;32m-> 1148\u001b[0;31m             \u001b[0menv\u001b[0m\u001b[0;34m.\u001b[0m\u001b[0mupdate\u001b[0m\u001b[0;34m(\u001b[0m\u001b[0mdt\u001b[0m\u001b[0;34m)\u001b[0m\u001b[0;34m\u001b[0m\u001b[0;34m\u001b[0m\u001b[0m\n\u001b[0m\u001b[1;32m   1149\u001b[0m \u001b[0;34m\u001b[0m\u001b[0m\n\u001b[1;32m   1150\u001b[0m             \u001b[0;32mif\u001b[0m \u001b[0menv\u001b[0m\u001b[0;34m.\u001b[0m\u001b[0mt\u001b[0m\u001b[0;34m>\u001b[0m\u001b[0mtotal_time\u001b[0m\u001b[0;34m:\u001b[0m\u001b[0;34m\u001b[0m\u001b[0;34m\u001b[0m\u001b[0m\n",
      "\u001b[0;32m~/opt/anaconda3/envs/py3/lib/python3.8/site-packages/RobotSim373/robotsim.py\u001b[0m in \u001b[0;36mupdate\u001b[0;34m(self, dt)\u001b[0m\n\u001b[1;32m    230\u001b[0m             \u001b[0mobj\u001b[0m\u001b[0;34m.\u001b[0m\u001b[0mupdate\u001b[0m\u001b[0;34m(\u001b[0m\u001b[0mdt\u001b[0m\u001b[0;34m)\u001b[0m\u001b[0;34m\u001b[0m\u001b[0;34m\u001b[0m\u001b[0m\n\u001b[1;32m    231\u001b[0m \u001b[0;34m\u001b[0m\u001b[0m\n\u001b[0;32m--> 232\u001b[0;31m         \u001b[0mself\u001b[0m\u001b[0;34m.\u001b[0m\u001b[0mworld\u001b[0m\u001b[0;34m.\u001b[0m\u001b[0mStep\u001b[0m\u001b[0;34m(\u001b[0m\u001b[0mdt\u001b[0m\u001b[0;34m,\u001b[0m \u001b[0;36m6\u001b[0m\u001b[0;34m,\u001b[0m \u001b[0;36m2\u001b[0m\u001b[0;34m)\u001b[0m\u001b[0;34m\u001b[0m\u001b[0;34m\u001b[0m\u001b[0m\n\u001b[0m\u001b[1;32m    233\u001b[0m         \u001b[0mself\u001b[0m\u001b[0;34m.\u001b[0m\u001b[0mworld\u001b[0m\u001b[0;34m.\u001b[0m\u001b[0mClearForces\u001b[0m\u001b[0;34m(\u001b[0m\u001b[0;34m)\u001b[0m\u001b[0;34m\u001b[0m\u001b[0;34m\u001b[0m\u001b[0m\n\u001b[1;32m    234\u001b[0m         \u001b[0mself\u001b[0m\u001b[0;34m.\u001b[0m\u001b[0mt\u001b[0m\u001b[0;34m+=\u001b[0m\u001b[0mdt\u001b[0m\u001b[0;34m\u001b[0m\u001b[0;34m\u001b[0m\u001b[0m\n",
      "\u001b[0;31mAssertionError\u001b[0m: den > 0.0f"
     ]
    }
   ],
   "source": [
    "env=FrictionEnvironment(30,30,image='images/Tic Tac Toe Board With Border.png')\n",
    "robot=Robot(env)\n",
    "build(robot)\n",
    "robot.controller=Controller(move0)\n",
    "robot.controller.monitor=monitor\n",
    "\n",
    "place_pieces(env)\n",
    "\n",
    "run_sim(env,robot.controller, \n",
    "        figure_width=6,\n",
    "       total_time=100,\n",
    "       dt_display=1,  # make this larger for a faster display\n",
    "       )\n",
    "\n",
    "\n",
    "print(robot.state)"
   ]
  },
  {
   "cell_type": "markdown",
   "id": "234d49c4-e25f-4d9e-b433-f92c4882e3ad",
   "metadata": {},
   "source": [
    "ok, that was a big mess-up.  I think I forgot a weld in the build.  "
   ]
  },
  {
   "cell_type": "markdown",
   "id": "003af6a1-0030-44af-ac98-239a0e36a74d",
   "metadata": {},
   "source": [
    "nope - I welded the little disks from the moving robot to the center of one of the pieces!  oops!\n",
    "\n",
    "while we're at it, let's monitor the distance to the target location."
   ]
  },
  {
   "cell_type": "code",
   "execution_count": 86,
   "id": "1a86d7ab-8e0d-4f67-9667-573900af8e64",
   "metadata": {},
   "outputs": [],
   "source": [
    "def monitor(t,robot):\n",
    "    try:\n",
    "        robot.message=t,robot.current_distance2,robot.controller.current_state\n",
    "    except AttributeError: \n",
    "        robot.message=t,None,robot.controller.current_state    \n"
   ]
  },
  {
   "cell_type": "code",
   "execution_count": 87,
   "id": "5f4828fb-69e6-4aa3-a4de-cd02a801c346",
   "metadata": {},
   "outputs": [],
   "source": [
    "def build(robot,name=None):\n",
    "    R=.5\n",
    "    r=R/5\n",
    "    \n",
    "    \n",
    "    x=12.5\n",
    "    y=18\n",
    "    \n",
    "    angle=0\n",
    "    disk_center=Disk(robot,x,y,radius=R,angle=angle,name=f'center NW')\n",
    "\n",
    "    disks=[]\n",
    "    for angle in range(0,360,30):\n",
    "        disk=Disk(robot,\n",
    "                          x+(R+1.1*r)*cos(radians(angle)),\n",
    "                          y+(R+1.1*r)*sin(radians(angle)),\n",
    "                 angle=angle,radius=r,\n",
    "                 name='disk %d NW' % angle)\n",
    "        disks.append(disk)\n",
    "\n",
    "    connect(disk_center,disks,'weld')\n",
    "\n",
    "    #============\n",
    "    \n",
    "    x=17.2\n",
    "    y=18\n",
    "    \n",
    "    angle=0\n",
    "    disk_center=Disk(robot,x,y,radius=R,angle=angle,name=f'center NE')\n",
    "\n",
    "    disks=[]\n",
    "    for angle in range(0,360,30):\n",
    "        disk=Disk(robot,\n",
    "                          x+(R+1.1*r)*cos(radians(angle)),\n",
    "                          y+(R+1.1*r)*sin(radians(angle)),\n",
    "                 angle=angle,radius=r,\n",
    "                 name='disk %d NE' % angle)\n",
    "        disks.append(disk)\n",
    "\n",
    "    connect(disk_center,disks,'weld')\n",
    "\n",
    "    #============\n",
    "    \n",
    "    x=17.2\n",
    "    y=13.3\n",
    "    \n",
    "    angle=0\n",
    "    disk_center=Disk(robot,x,y,radius=R,angle=angle,name=f'center SE')\n",
    "\n",
    "    disks=[]\n",
    "    for angle in range(0,360,30):\n",
    "        disk=Disk(robot,\n",
    "                          x+(R+1.1*r)*cos(radians(angle)),\n",
    "                          y+(R+1.1*r)*sin(radians(angle)),\n",
    "                 angle=angle,radius=r,\n",
    "                 name='disk %d SE' % angle)\n",
    "        disks.append(disk)\n",
    "\n",
    "    connect(disk_center,disks,'weld')\n",
    "\n",
    "    #============\n",
    "    \n",
    "    x=12.5\n",
    "    y=13.3\n",
    "    \n",
    "    angle=0\n",
    "    disk_center=Disk(robot,x,y,radius=R,angle=angle,name=f'center SW')\n",
    "\n",
    "    disks=[]\n",
    "    for angle in range(0,360,30):\n",
    "        disk=Disk(robot,\n",
    "                          x+(R+1.1*r)*cos(radians(angle)),\n",
    "                          y+(R+1.1*r)*sin(radians(angle)),\n",
    "                 angle=angle,radius=r,\n",
    "                 name='disk %d SW' % angle)\n",
    "        disks.append(disk)\n",
    "\n",
    "    connect(disk_center,disks,'weld')\n",
    "\n",
    "   \n",
    "    ##  home position\n",
    "    robot.home_x=3\n",
    "    robot.home_y=3\n",
    "\n",
    "    x=robot.home_x\n",
    "    y=robot.home_y\n",
    "    \n",
    "    angle=0\n",
    "    center=Disk(robot,x,y,radius=R,angle=angle,name=f'center')\n",
    "\n",
    "    disks=[]\n",
    "    for angle in range(0,360,30):\n",
    "        disk=Disk(robot,\n",
    "                          x+(R+1.1*r)*cos(radians(angle)),\n",
    "                          y+(R+1.1*r)*sin(radians(angle)),\n",
    "                 angle=angle,radius=r,\n",
    "                 name='disk %d' % angle)\n",
    "        disks.append(disk)\n",
    "\n",
    "    connect(center,disks,'weld')\n",
    "\n",
    "    robot.disks=disks\n",
    "    robot.angles=list(range(0,360,30))\n",
    "    \n",
    "    robot.state=None\n",
    "        "
   ]
  },
  {
   "cell_type": "code",
   "execution_count": 88,
   "id": "2d7f9eb8-a930-428b-998f-f06e25f9ad61",
   "metadata": {},
   "outputs": [
    {
     "data": {
      "image/png": "[encoded data removed]",
      "text/plain": [
       "<Figure size 432x432 with 1 Axes>"
      ]
     },
     "metadata": {
      "needs_background": "light"
     },
     "output_type": "display_data"
    },
    {
     "name": "stdout",
     "output_type": "stream",
     "text": [
      "None\n"
     ]
    }
   ],
   "source": [
    "env=FrictionEnvironment(30,30,image='images/Tic Tac Toe Board With Border.png')\n",
    "robot=Robot(env)\n",
    "build(robot)\n",
    "robot.controller=Controller(move0)\n",
    "robot.controller.monitor=monitor\n",
    "\n",
    "place_pieces(env)\n",
    "\n",
    "run_sim(env,robot.controller, \n",
    "        figure_width=6,\n",
    "       total_time=100,\n",
    "       dt_display=1,  # make this larger for a faster display\n",
    "       )\n",
    "\n",
    "\n",
    "print(robot.state)"
   ]
  },
  {
   "cell_type": "markdown",
   "id": "4002dafd-ea8f-45b0-8e93-ef7d8921acb8",
   "metadata": {},
   "source": [
    "### add one more step to the move"
   ]
  },
  {
   "cell_type": "code",
   "execution_count": 89,
   "id": "a87a368e-fc55-4fff-bad6-c5fa095a56d4",
   "metadata": {},
   "outputs": [],
   "source": [
    "        \n",
    "\n",
    "move0=StateMachine(\n",
    "    ([north,until_xy(3,27),turn_purple,off,east,until_xy(10,27),turn_red],\"_end_simulation\"),\n",
    ")\n"
   ]
  },
  {
   "cell_type": "code",
   "execution_count": 90,
   "id": "e8eba59a-7839-4b9a-858c-ca906cb41a32",
   "metadata": {},
   "outputs": [
    {
     "data": {
      "image/png": "[encoded data removed]",
      "text/plain": [
       "<Figure size 432x432 with 1 Axes>"
      ]
     },
     "metadata": {
      "needs_background": "light"
     },
     "output_type": "display_data"
    },
    {
     "name": "stdout",
     "output_type": "stream",
     "text": [
      "None\n"
     ]
    }
   ],
   "source": [
    "env=FrictionEnvironment(30,30,image='images/Tic Tac Toe Board With Border.png')\n",
    "robot=Robot(env)\n",
    "build(robot)\n",
    "robot.controller=Controller(move0)\n",
    "robot.controller.monitor=monitor\n",
    "\n",
    "place_pieces(env)\n",
    "\n",
    "run_sim(env,robot.controller, \n",
    "        figure_width=6,\n",
    "       total_time=100,\n",
    "       dt_display=1,  # make this larger for a faster display\n",
    "       )\n",
    "\n",
    "\n",
    "print(robot.state)"
   ]
  },
  {
   "cell_type": "markdown",
   "id": "51946262-14b3-4911-a232-9637cec834dc",
   "metadata": {},
   "source": [
    "### adding another step"
   ]
  },
  {
   "cell_type": "code",
   "execution_count": 91,
   "id": "518993bd-eea4-4f95-b6f0-01c79454deb8",
   "metadata": {},
   "outputs": [],
   "source": [
    "move0=StateMachine(\n",
    "    ([north,until_xy(3,27),turn_purple,off],\"east\"),\n",
    "    ([east,until_xy(10,27),turn_red,off],\"south\"),\n",
    "    ([south,until_xy(10,21.5),turn_purple,off],\"_end_simulation\"),\n",
    ")\n"
   ]
  },
  {
   "cell_type": "code",
   "execution_count": 92,
   "id": "0e319e28-3c70-4c87-94f4-b331c1b2955e",
   "metadata": {},
   "outputs": [
    {
     "data": {
      "image/png": "[encoded data removed]",
      "text/plain": [
       "<Figure size 432x432 with 1 Axes>"
      ]
     },
     "metadata": {
      "needs_background": "light"
     },
     "output_type": "display_data"
    },
    {
     "name": "stdout",
     "output_type": "stream",
     "text": [
      "None\n"
     ]
    }
   ],
   "source": [
    "env=FrictionEnvironment(30,30,image='images/Tic Tac Toe Board With Border.png')\n",
    "robot=Robot(env)\n",
    "build(robot)\n",
    "robot.controller=Controller(move0)\n",
    "robot.controller.monitor=monitor\n",
    "\n",
    "place_pieces(env)\n",
    "\n",
    "run_sim(env,robot.controller, \n",
    "        figure_width=6,\n",
    "       total_time=100,\n",
    "       dt_display=1,  # make this larger for a faster display\n",
    "       )\n",
    "\n",
    "\n",
    "print(robot.state)"
   ]
  },
  {
   "cell_type": "markdown",
   "id": "d7467ebf-50fd-4481-ba52-694e140087bd",
   "metadata": {},
   "source": [
    "### Now in reverse"
   ]
  },
  {
   "cell_type": "code",
   "execution_count": 93,
   "id": "e0827857-0d5c-45e2-9a07-6310d58fbe0c",
   "metadata": {},
   "outputs": [],
   "source": [
    "move0_reverse=StateMachine(\n",
    "    ([north,until_xy(10,27),turn_purple,off],\"west\"),\n",
    "    ([west,until_xy(3,27),turn_red,off],\"south\"),\n",
    "    ([south,until_xy(3,3),turn_purple,off],\"_end_simulation\"),\n",
    ")\n",
    "\n",
    "move0_forward=StateMachine(\n",
    "    ([north,until_xy(3,27),turn_purple,off],\"east\"),\n",
    "    ([east,until_xy(10,27),turn_red,off],\"south\"),\n",
    "    ([south,until_xy(10,21.5),turn_purple,off],move0_reverse),\n",
    ")\n",
    "\n"
   ]
  },
  {
   "cell_type": "code",
   "execution_count": 94,
   "id": "4751081b-b6ca-4647-a4eb-1e9a8536d9ac",
   "metadata": {},
   "outputs": [
    {
     "data": {
      "image/png": "[encoded data removed]",
      "text/plain": [
       "<Figure size 432x432 with 1 Axes>"
      ]
     },
     "metadata": {
      "needs_background": "light"
     },
     "output_type": "display_data"
    },
    {
     "name": "stdout",
     "output_type": "stream",
     "text": [
      "None\n"
     ]
    }
   ],
   "source": [
    "env=FrictionEnvironment(30,30,image='images/Tic Tac Toe Board With Border.png')\n",
    "robot=Robot(env)\n",
    "build(robot)\n",
    "robot.controller=Controller(move0_forward)\n",
    "robot.controller.monitor=monitor\n",
    "\n",
    "place_pieces(env)\n",
    "\n",
    "run_sim(env,robot.controller, \n",
    "        figure_width=6,\n",
    "       total_time=100,\n",
    "       dt_display=1,  # make this larger for a faster display\n",
    "       )\n",
    "\n",
    "\n",
    "print(robot.state)"
   ]
  },
  {
   "cell_type": "markdown",
   "id": "44e0fcc7-20e3-4960-9222-c64c65afaece",
   "metadata": {},
   "source": [
    "density of the pieces too high, some reason not going north"
   ]
  },
  {
   "cell_type": "markdown",
   "id": "945bf041-0d37-4e13-825e-e5a890365961",
   "metadata": {},
   "source": [
    "### fix these issues"
   ]
  },
  {
   "cell_type": "code",
   "execution_count": 95,
   "id": "bcc7226b-4c90-409c-90a5-97aed930008c",
   "metadata": {},
   "outputs": [],
   "source": [
    "def pieceX(env,x,y):\n",
    "    \n",
    "    boxes=[Box(env,x+.5,y+.5,width=1,height=.2,angle=45,color='blue',density=0.001),\n",
    "        Box(env,x-.5,y-.5,width=1,height=.2,angle=45,color='blue',density=0.001),\n",
    "        Box(env,x+.5,y-.5,width=1,height=.2,angle=135,color='blue',density=0.001),\n",
    "        Box(env,x-.5,y+.5,width=1,height=.2,angle=135,color='blue',density=0.001)\n",
    "          ]\n",
    "    \n",
    "    connect(boxes[0],boxes[1:],\"weld\")\n",
    "    \n",
    "def pieceO(env,x,y):\n",
    "    \n",
    "    Disk(env,x=x,y=y,radius=1.5,color='red',density=0.001)\n",
    " "
   ]
  },
  {
   "cell_type": "code",
   "execution_count": 96,
   "id": "6fbac864-188d-48ce-af83-0a493f94bbde",
   "metadata": {},
   "outputs": [],
   "source": [
    "move0_reverse=StateMachine(\n",
    "    ([north,until_xy(10,27),turn_purple,off],\"west\"),\n",
    "    ([west,until_xy(3,27),turn_red,off],\"south\"),\n",
    "    ([south,until_xy(3,3),turn_orange,off],\"_end_simulation\"),\n",
    ")\n",
    "\n",
    "move0_forward=StateMachine(\n",
    "    ([north,until_xy(3,27),turn_purple,off],\"east\"),\n",
    "    ([east,until_xy(10,27),turn_red,off],\"south\"),\n",
    "    ([south,until_xy(10,21.5),turn_orange,off],move0_reverse),\n",
    ")\n",
    "\n"
   ]
  },
  {
   "cell_type": "code",
   "execution_count": 97,
   "id": "489e37d7-39fb-4368-8883-8baa5964d540",
   "metadata": {},
   "outputs": [
    {
     "data": {
      "image/png": "[encoded data removed]",
      "text/plain": [
       "<Figure size 432x432 with 1 Axes>"
      ]
     },
     "metadata": {
      "needs_background": "light"
     },
     "output_type": "display_data"
    },
    {
     "name": "stdout",
     "output_type": "stream",
     "text": [
      "None\n"
     ]
    }
   ],
   "source": [
    "env=FrictionEnvironment(30,30,image='images/Tic Tac Toe Board With Border.png')\n",
    "robot=Robot(env)\n",
    "build(robot)\n",
    "robot.controller=Controller(move0_forward)\n",
    "robot.controller.monitor=monitor\n",
    "\n",
    "place_pieces(env)\n",
    "\n",
    "run_sim(env,robot.controller, \n",
    "        figure_width=6,\n",
    "       total_time=100,\n",
    "       dt_display=1,  # make this larger for a faster display\n",
    "       )\n",
    "\n",
    "\n",
    "print(robot.state)"
   ]
  },
  {
   "cell_type": "markdown",
   "id": "fc612d75-b026-4844-93d0-d6acec96284d",
   "metadata": {},
   "source": [
    "## Now extend to all the other moves\n",
    "\n",
    "I could copy/paste this, but I like to do loops.  I am still not sure how I'm going to handle the middle piece"
   ]
  },
  {
   "cell_type": "code",
   "execution_count": 98,
   "id": "117f3d17-9f67-4746-adaf-aa4abdf88327",
   "metadata": {},
   "outputs": [],
   "source": [
    "moves=[  \n",
    "    [(3,27),(10,27),(10,21.5)],  # for move 0\n",
    "    [(3,27),(14.7,27),(14.7,21.5)],  # for move 1\n",
    "    [(3,27),(19.5,27),(19.5,21.5)],  # for move 2\n",
    "]\n",
    "\n",
    "forward_state_machines=[]\n",
    "reverse_state_machines=[]\n",
    "\n",
    "# have to do the reverse ones first, because the forward ones call them\n",
    "\n",
    "for move in range(3):\n",
    "\n",
    "    coords=moves[move]\n",
    "    x0,y0=3,3 # home\n",
    "    x1,y1=coords[0]\n",
    "    x2,y2=coords[1]\n",
    "    x3,y3=coords[2]\n",
    "\n",
    "    move_reverse=StateMachine(\n",
    "        ([north,until_xy(x2,y2),turn_purple,off],\"west\"),\n",
    "        ([west,until_xy(x1,y2),turn_red,off],\"south\"),\n",
    "        ([south,until_xy(x0,x0),turn_orange,off],\"_end_simulation\"),\n",
    "    )    \n",
    "\n",
    "    move_forward=StateMachine(\n",
    "        ([north,until_xy(x1,y1),turn_purple,off],\"east\"),\n",
    "        ([east,until_xy(x2,y2),turn_red,off],\"south\"),\n",
    "        ([south,until_xy(x3,y3),turn_orange,off],move_reverse),\n",
    "    )\n",
    "\n",
    "    forward_state_machines.append(move_forward)\n",
    "    reverse_state_machines.append(move_reverse)\n",
    "\n",
    "\n",
    "move=3\n",
    "coords=[(3,15.3),(9,15.3)]\n",
    "x0,y0=3,3 # home\n",
    "x1,y1=coords[0]\n",
    "x2,y2=coords[1]\n",
    "\n",
    "move_reverse=StateMachine(\n",
    "    ([west,until_xy(x1,y2),turn_red,off],\"south\"),\n",
    "    ([south,until_xy(x0,x0),turn_orange,off],\"_end_simulation\"),\n",
    ")    \n",
    "\n",
    "move_forward=StateMachine(\n",
    "    ([north,until_xy(x1,y1),turn_purple,off],\"east\"),\n",
    "    ([east,until_xy(x2,y2),turn_red,off],move_reverse),\n",
    ")\n",
    "\n",
    "forward_state_machines.append(move_forward)\n",
    "reverse_state_machines.append(move_reverse)\n",
    "\n",
    "# move 4 is an exception\n",
    "move=4\n",
    "coords=[(3,15.3),(13.2,15.3)]\n",
    "x0,y0=3,3 # home\n",
    "x1,y1=coords[0]\n",
    "x2,y2=coords[1]\n",
    "\n",
    "move_reverse=StateMachine(\n",
    "    ([west,until_xy(x1,y1),turn_red,off],\"south\"),\n",
    "    ([south,until_xy(x0,x0),turn_orange,off],\"_end_simulation\"),\n",
    ")    \n",
    "\n",
    "move_forward=StateMachine(\n",
    "    ([north,until_xy(x1,y1),turn_purple,off],\"east\"),\n",
    "    ([east,until_xy(x2,y2),turn_red,off],move_reverse),\n",
    ")\n",
    "\n",
    "forward_state_machines.append(move_forward)\n",
    "reverse_state_machines.append(move_reverse)\n",
    "\n",
    "\n",
    "def make_block_at_4(t,robot):\n",
    "    pieceX(robot.env,x=15,y=15.5)\n",
    "    return True\n",
    "\n",
    "appear_at_4=StateMachine(\n",
    "    (make_block_at_4,\"_end_simulation\"),\n",
    ")\n",
    "\n",
    "\n",
    "move=5\n",
    "coords=[(27,3),(27,15.3),(21,15.3)]\n",
    "x0,y0=3,3 # home\n",
    "x1,y1=coords[0]\n",
    "x2,y2=coords[1]\n",
    "x3,y3=coords[2]\n",
    "\n",
    "move_reverse=StateMachine(\n",
    "    ([east,until_xy(x2,y2),turn_red,off],\"south\"),\n",
    "    ([south,until_xy(x1,y1),turn_blue,off],\"west\"),\n",
    "    ([west,until_xy(x0,y0),turn_orange,off],\"_end_simulation\"),\n",
    ")    \n",
    "\n",
    "move_forward=StateMachine(\n",
    "    ([east,until_xy(x1,y1),turn_purple,off],\"north\"),\n",
    "    ([north,until_xy(x2,y2),turn_red,off],\"west\"),\n",
    "    ([west,until_xy(x3,y3),turn_orange,off],move_reverse),\n",
    ")\n",
    "\n",
    "forward_state_machines.append(move_forward)\n",
    "reverse_state_machines.append(move_reverse)\n",
    "\n",
    "\n",
    "moves=[  [],[],[],[],[],[],\n",
    "    [(10,3),(10,9.7)],  # for move 6\n",
    "    [(14.7,3),(14.7,9.7)],  # for move 7\n",
    "    [(19.5,3),(19.5,9.7)],  # for move 8\n",
    "]\n",
    "\n",
    "for move in range(6,9):\n",
    "\n",
    "    coords=moves[move]\n",
    "    x0,y0=3,3 # home\n",
    "    x1,y1=coords[0]\n",
    "    x2,y2=coords[1]\n",
    "\n",
    "    move_reverse=StateMachine(\n",
    "        ([south,until_xy(x1,y1),turn_purple,off],\"west\"),\n",
    "        ([west,until_xy(x0,x0),turn_orange,off],\"_end_simulation\"),\n",
    "    )    \n",
    "\n",
    "    move_forward=StateMachine(\n",
    "        ([east,until_xy(x1,y1),turn_purple,off],\"north\"),\n",
    "        ([north,until_xy(x2,y2),turn_red,off],move_reverse),\n",
    "    )\n",
    "\n",
    "    forward_state_machines.append(move_forward)\n",
    "    reverse_state_machines.append(move_reverse)\n",
    "\n",
    "\n"
   ]
  },
  {
   "cell_type": "code",
   "execution_count": 99,
   "id": "6a1d92f5-02fe-46fe-a1dd-aacd3a68b31b",
   "metadata": {},
   "outputs": [
    {
     "data": {
      "image/png": "[encoded data removed]",
      "text/plain": [
       "<Figure size 432x432 with 1 Axes>"
      ]
     },
     "metadata": {
      "needs_background": "light"
     },
     "output_type": "display_data"
    },
    {
     "name": "stdout",
     "output_type": "stream",
     "text": [
      "None\n"
     ]
    }
   ],
   "source": [
    "env=FrictionEnvironment(30,30,image='images/Tic Tac Toe Board With Border.png')\n",
    "robot=Robot(env)\n",
    "build(robot)\n",
    "\n",
    "move=4\n",
    "robot.controller=Controller(forward_state_machines[move])\n",
    "robot.controller.monitor=monitor\n",
    "\n",
    "place_pieces(env)\n",
    "\n",
    "run_sim(env,robot.controller, \n",
    "        figure_width=6,\n",
    "       total_time=100,\n",
    "       dt_display=1,  # make this larger for a faster display\n",
    "       )\n",
    "\n",
    "\n",
    "print(robot.state)"
   ]
  },
  {
   "cell_type": "markdown",
   "id": "356d6d78-cc9a-4211-9435-210f05a87a9a",
   "metadata": {},
   "source": [
    "## Now that make move is working, let's see if we can put it together to make a move"
   ]
  },
  {
   "cell_type": "markdown",
   "id": "e57a94ad-b511-4909-a81e-6ef4799f0f73",
   "metadata": {},
   "source": [
    "the recipe is:\n",
    "\n",
    "In the robot simulator:\n",
    "- read state\n",
    "- from the state, get a move (from one of the game agents)\n",
    "- make the move\n",
    "\n",
    "\n",
    "\n",
    "Outside the robot simulator:\n",
    "- update the state\n",
    "- check for a win\n",
    "    - win, lose, stalemate - end the game\n",
    "    - otherwise continue the game\n",
    "- get a human move\n",
    "- update the state\n",
    "- check for a win\n",
    "    - win, lose, stalemate - end the game\n",
    "    - otherwise continue the game\n",
    "\n",
    "\n",
    "for debugging, \n",
    "\n",
    "- we'll want to start with some kind of random state\n",
    "- change the monitor a bit\n",
    "- make the move functions not end the simulation!\n"
   ]
  },
  {
   "cell_type": "code",
   "execution_count": 107,
   "id": "f8dffe2a-bf15-4715-a3ad-c26f5f46d502",
   "metadata": {},
   "outputs": [],
   "source": [
    "def get_move(t,robot):\n",
    "    state=robot.state\n",
    "    # assuming my robot is player 1\n",
    "    \n",
    "    #Q=LoadTable(\"../Sprint #2 - Learning and Simulation/2021-10-18 TTT Q1.json\")\n",
    "    #robot.move=top_choice(Q[state])\n",
    "    \n",
    "    robot.move=minimax_move(state,1)\n",
    "    \n",
    "    return True\n",
    "\n",
    "def make_move(t,robot):\n",
    "    move=robot.move\n",
    "    \n",
    "    if move==4 and robot.state[3]:  # something in location 3\n",
    "        return appear_at_4\n",
    "    else:\n",
    "        return forward_state_machines[move]\n",
    "\n",
    "def monitor(t,robot):\n",
    "    try:\n",
    "        robot.message=t,robot.move,robot.controller.current_state\n",
    "    except AttributeError: \n",
    "        robot.message=t,None,robot.controller.current_state    \n"
   ]
  },
  {
   "cell_type": "code",
   "execution_count": 108,
   "id": "a56e10c7-8da2-44f1-98ea-f9161f446ac9",
   "metadata": {},
   "outputs": [],
   "source": [
    "state_machine=StateMachine(\n",
    "    ([read_state,get_move],\"make_move\"),\n",
    "    (make_move,\"_end_simulation\"),\n",
    ")"
   ]
  },
  {
   "cell_type": "code",
   "execution_count": 109,
   "id": "6ae5364f-9946-43e4-a977-5d3236c75dcf",
   "metadata": {},
   "outputs": [
    {
     "name": "stdout",
     "output_type": "stream",
     "text": [
      " .  .  . \n",
      " .  .  . \n",
      " .  .  . \n",
      "\n"
     ]
    },
    {
     "name": "stdin",
     "output_type": "stream",
     "text": [
      "Pause....hit return to continue, any other key to break. \n"
     ]
    }
   ],
   "source": [
    "state=random.choice(list(Q1.keys()))\n",
    "state=initial_state()\n",
    "\n",
    "print(state)\n",
    "_=input(\"Pause....hit return to continue, any other key to break.\")\n",
    "if _:\n",
    "    raise ValueError\n"
   ]
  },
  {
   "cell_type": "code",
   "execution_count": 116,
   "id": "646243f1-0234-4805-8ab7-42b4c3ccbbd8",
   "metadata": {},
   "outputs": [
    {
     "data": {
      "image/png": "[encoded data removed]",
      "text/plain": [
       "<Figure size 432x432 with 1 Axes>"
      ]
     },
     "metadata": {
      "needs_background": "light"
     },
     "output_type": "display_data"
    },
    {
     "name": "stdout",
     "output_type": "stream",
     "text": [
      " 1  2  0 \n",
      " 1  1  2 \n",
      " 0  0  2 \n",
      "\n"
     ]
    }
   ],
   "source": [
    "env=FrictionEnvironment(30,30,image='images/Tic Tac Toe Board With Border.png')\n",
    "robot=Robot(env)\n",
    "build(robot)\n",
    "\n",
    "move=8\n",
    "robot.controller=Controller(state_machine)\n",
    "robot.controller.monitor=monitor\n",
    "\n",
    "place_pieces(env)\n",
    "\n",
    "\n",
    "x=[10.2,15,19.7,10.2,15,19.7,10.2,15,19.7,]\n",
    "y=[20,20,20,15.5,15.5,15.5,11,11,11]\n",
    "    \n",
    "for i in range(9):\n",
    "    if state[i]==1:\n",
    "        pieceX(env,x[i],y[i])\n",
    "    elif state[i]==2:\n",
    "        pieceO(env,x[i],y[i])\n",
    "    else:\n",
    "        pass\n",
    "\n",
    "\n",
    "\n",
    "run_sim(env,robot.controller, \n",
    "        figure_width=6,\n",
    "       total_time=100,\n",
    "       dt_display=1,  # make this larger for a faster display\n",
    "       )\n",
    "\n",
    "\n",
    "print(robot.state)"
   ]
  },
  {
   "cell_type": "code",
   "execution_count": 117,
   "id": "2fc44457-72de-4569-a704-b8b11cfcbfc2",
   "metadata": {},
   "outputs": [
    {
     "name": "stdout",
     "output_type": "stream",
     "text": [
      " 1  2  0 \n",
      " 1  1  2 \n",
      " 1  0  2 \n",
      "\n",
      "The robot won\n"
     ]
    }
   ],
   "source": [
    "state=update_state(robot.state,1,robot.move)\n",
    "show_state(state)\n",
    "\n",
    "status=win_status(state,1)\n",
    "if status=='win':\n",
    "    print(\"The robot won\")\n",
    "elif status=='lose':\n",
    "    print(\"The robot lost\")    \n",
    "elif status=='stalemate':\n",
    "    print(\"stalemate\")\n",
    "else:\n",
    "    pass\n",
    "    \n",
    "# human move\n",
    "\n",
    "if not status:\n",
    "\n",
    "    move=human_move(state,2)\n",
    "    state=update_state(state,2,move)\n",
    "\n",
    "    status=win_status(state,1)\n",
    "    if status=='win':\n",
    "        print(\"The human won\")\n",
    "    elif status=='lose':\n",
    "        print(\"The human lost\")    \n",
    "    elif status=='stalemate':\n",
    "        print(\"stalemate\")\n",
    "    else:\n",
    "        pass\n",
    "\n",
    "    show_state(state)    "
   ]
  },
  {
   "cell_type": "code",
   "execution_count": null,
   "id": "ce197f5c-e5e4-48fd-9a08-9e1ff0c256d1",
   "metadata": {},
   "outputs": [],
   "source": []
  }
 ],
 "metadata": {
  "kernelspec": {
   "display_name": "Python 3",
   "language": "python",
   "name": "python3"
  },
  "language_info": {
   "codemirror_mode": {
    "name": "ipython",
    "version": 3
   },
   "file_extension": ".py",
   "mimetype": "text/x-python",
   "name": "python",
   "nbconvert_exporter": "python",
   "pygments_lexer": "ipython3",
   "version": "3.8.10"
  }
 },
 "nbformat": 4,
 "nbformat_minor": 5
}
