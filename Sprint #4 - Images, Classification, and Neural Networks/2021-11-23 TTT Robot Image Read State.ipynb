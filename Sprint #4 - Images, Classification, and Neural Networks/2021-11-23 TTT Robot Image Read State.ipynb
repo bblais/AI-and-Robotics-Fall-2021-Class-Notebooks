{
 "cells": [
  {
   "cell_type": "code",
   "execution_count": 1,
   "id": "05d841dd-f99b-4e62-a83e-e7700ceedec1",
   "metadata": {},
   "outputs": [
    {
     "name": "stdout",
     "output_type": "stream",
     "text": [
      "Populating the interactive namespace from numpy and matplotlib\n"
     ]
    }
   ],
   "source": [
    "%pylab inline"
   ]
  },
  {
   "cell_type": "code",
   "execution_count": 2,
   "id": "423bb79f-02bd-48b6-8d7f-e1391b48e8a3",
   "metadata": {},
   "outputs": [
    {
     "name": "stdout",
     "output_type": "stream",
     "text": [
      "Version:  0.2.35\n",
      "Version:  0.0.46\n"
     ]
    }
   ],
   "source": [
    "from Game import *\n",
    "from RobotSim373 import *"
   ]
  },
  {
   "cell_type": "code",
   "execution_count": 3,
   "id": "035e0d4a-c3bc-420e-94ee-62c6f1ed7b8f",
   "metadata": {},
   "outputs": [
    {
     "name": "stdout",
     "output_type": "stream",
     "text": [
      "TTT Version: 0.0.3\n"
     ]
    }
   ],
   "source": [
    "from TTT import *"
   ]
  },
  {
   "cell_type": "code",
   "execution_count": 4,
   "id": "a693ae57-1a16-4acc-8807-812bb0fa5d74",
   "metadata": {},
   "outputs": [],
   "source": [
    "def train_classifier(t,robot):\n",
    "    from classy import image,  remap_targets,  NaiveBayes \n",
    "    \n",
    "    images=image.load_images('images/ttt pics/training pieces',verbose=False)\n",
    "    images=remap_targets(images,new_target_names=['_','X','O'])    \n",
    "    data=image.images_to_vectors(images)    \n",
    "    \n",
    "    C=NaiveBayes()\n",
    "    C.fit(data.vectors,data.targets)    \n",
    "\n",
    "    robot.C=C\n",
    "    \n",
    "    return True\n",
    "\n",
    "def board_square_image(im,r,c,randomize=False):\n",
    "    if isinstance(im,str):\n",
    "        im=imread(im)\n",
    "        \n",
    "    board_im=im[55:375,65:375]    \n",
    "    \n",
    "    \n",
    "    start_row=77\n",
    "    start_col=79\n",
    "    sub_image_rows=50\n",
    "    sub_image_cols=50\n",
    "\n",
    "    if randomize:\n",
    "        offset_r=randint(-20,20)\n",
    "        offset_c=randint(-20,20)\n",
    "    else:\n",
    "        offset_r=0\n",
    "        offset_c=0\n",
    "        \n",
    "    \n",
    "    \n",
    "    sub_image=board_im[ (start_row+offset_r+sub_image_rows*r):(start_row+offset_r+sub_image_rows*(r+1)) , \n",
    "                  (start_col+offset_c+sub_image_cols*c):(start_col+offset_c+sub_image_cols*(c+1))  ,\n",
    "                  :]  # all the channels\n",
    "    \n",
    "    \n",
    "    return sub_image\n",
    "\n",
    "def read_state(t,robot):\n",
    "    \n",
    "    image_filename=f'images/ttt pics/board.jpeg'\n",
    "    robot.take_picture(image_filename)\n",
    "    robot.image_filename=image_filename  # save the last name\n",
    "    \n",
    "    state=initial_state()\n",
    "    \n",
    "    im=imread(robot.image_filename)    \n",
    "\n",
    "    for r in range(3):\n",
    "        for c in range(3):\n",
    "            sub_image=board_square_image(im,r,c)\n",
    "            vector=atleast_2d(sub_image.ravel())\n",
    "            prediction=robot.C.predict(vector)[0]\n",
    "            \n",
    "            state[r,c]=prediction\n",
    "    \n",
    "    robot.state=state\n",
    "    \n",
    "    return True\n",
    "        \n",
    "\n"
   ]
  },
  {
   "cell_type": "code",
   "execution_count": 9,
   "id": "eae77a48-a346-46fe-9dec-be2c682974a8",
   "metadata": {},
   "outputs": [],
   "source": [
    "state_machine=StateMachine(\n",
    "    (train_classifier,\"read_state\"),\n",
    "    ([read_state,get_move],\"make_move\"),\n",
    "    (make_move,\"_end_simulation\"),\n",
    ")"
   ]
  },
  {
   "cell_type": "code",
   "execution_count": 10,
   "id": "ffe8dd74-7f60-435a-b73b-d24a6bcf6041",
   "metadata": {},
   "outputs": [
    {
     "name": "stdout",
     "output_type": "stream",
     "text": [
      " .  .  . \n",
      " .  .  . \n",
      " .  .  . \n",
      "\n"
     ]
    }
   ],
   "source": [
    "state=initial_state()\n",
    "\n",
    "print(state)"
   ]
  },
  {
   "cell_type": "code",
   "execution_count": 19,
   "id": "5305e104-4cc3-42f8-bc4e-01fec74b725b",
   "metadata": {},
   "outputs": [
    {
     "data": {
      "image/png": "[encoded data removed]",
      "text/plain": [
       "<Figure size 432x432 with 1 Axes>"
      ]
     },
     "metadata": {
      "needs_background": "light"
     },
     "output_type": "display_data"
    }
   ],
   "source": [
    "env=FrictionEnvironment(30,30,image='images/Tic Tac Toe Board With Border.png')\n",
    "robot=Robot(env)\n",
    "build(robot)\n",
    "\n",
    "robot.controller=Controller(state_machine)\n",
    "robot.controller.monitor=monitor\n",
    "\n",
    "set_up_board(env,state)\n",
    "\n",
    "\n",
    "run_sim(env,robot.controller, \n",
    "        figure_width=6,\n",
    "       total_time=100,\n",
    "       dt_display=1,  # make this larger for a faster display\n",
    "       )\n",
    "\n"
   ]
  },
  {
   "cell_type": "code",
   "execution_count": 18,
   "id": "ee6d2cf1-0565-420e-90bb-fa4a77e89c75",
   "metadata": {},
   "outputs": [
    {
     "name": "stdout",
     "output_type": "stream",
     "text": [
      " X  O  X \n",
      " O  .  X \n",
      " X  .  O \n",
      "\n",
      " 0  1  2 \n",
      " 3  4  5 \n",
      " 6  7  8 \n",
      "\n",
      "Player 2\n"
     ]
    },
    {
     "name": "stdin",
     "output_type": "stream",
     "text": [
      "which square to move? 7\n"
     ]
    },
    {
     "name": "stdout",
     "output_type": "stream",
     "text": [
      " X  O  X \n",
      " O  .  X \n",
      " X  O  O \n",
      "\n"
     ]
    }
   ],
   "source": [
    "state=update_state(robot.state,1,robot.move)\n",
    "show_state(state)\n",
    "\n",
    "status=win_status(state,1)\n",
    "if status=='win':\n",
    "    print(\"The robot won\")\n",
    "elif status=='lose':\n",
    "    print(\"The robot lost\")    \n",
    "elif status=='stalemate':\n",
    "    print(\"stalemate\")\n",
    "else:\n",
    "    pass\n",
    "    \n",
    "# human move\n",
    "\n",
    "if not status:\n",
    "\n",
    "    move=human_move(state,2)\n",
    "    state=update_state(state,2,move)\n",
    "\n",
    "    status=win_status(state,1)\n",
    "    if status=='win':\n",
    "        print(\"The human won\")\n",
    "    elif status=='lose':\n",
    "        print(\"The human lost\")    \n",
    "    elif status=='stalemate':\n",
    "        print(\"stalemate\")\n",
    "    else:\n",
    "        pass\n",
    "\n",
    "    show_state(state)    "
   ]
  },
  {
   "cell_type": "code",
   "execution_count": null,
   "id": "ccfcd7c7-4c4f-4846-90d9-6cac2f86aa72",
   "metadata": {},
   "outputs": [],
   "source": []
  }
 ],
 "metadata": {
  "kernelspec": {
   "display_name": "Python 3",
   "language": "python",
   "name": "python3"
  },
  "language_info": {
   "codemirror_mode": {
    "name": "ipython",
    "version": 3
   },
   "file_extension": ".py",
   "mimetype": "text/x-python",
   "name": "python",
   "nbconvert_exporter": "python",
   "pygments_lexer": "ipython3",
   "version": "3.8.10"
  }
 },
 "nbformat": 4,
 "nbformat_minor": 5
}
