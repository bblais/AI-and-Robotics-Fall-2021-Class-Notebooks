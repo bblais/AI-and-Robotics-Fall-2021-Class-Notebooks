{
 "cells": [
  {
   "cell_type": "code",
   "execution_count": 1,
   "id": "ce9b21cc-e43a-4ff0-81fa-7d1711bf131b",
   "metadata": {},
   "outputs": [
    {
     "name": "stdout",
     "output_type": "stream",
     "text": [
      "Populating the interactive namespace from numpy and matplotlib\n"
     ]
    }
   ],
   "source": [
    "%pylab inline"
   ]
  },
  {
   "cell_type": "code",
   "execution_count": 2,
   "id": "34f1385d-6a63-450d-a6b3-e897a3a90717",
   "metadata": {},
   "outputs": [
    {
     "name": "stdout",
     "output_type": "stream",
     "text": [
      "Version:  0.2.35\n"
     ]
    }
   ],
   "source": [
    "from Game import *"
   ]
  },
  {
   "cell_type": "code",
   "execution_count": 3,
   "id": "d6d6951a-22ec-43cd-9cf9-8be9450c3134",
   "metadata": {},
   "outputs": [
    {
     "data": {
      "text/plain": [
       " 1  0  1  1  0  1  1 \n",
       " 1  1  0  1  0  0  0 \n",
       " 1  0  1  0  1  0  0 \n",
       " 1  1  0  1  1  0  0 \n",
       " 0  0  1  1  0  0  1 "
      ]
     },
     "execution_count": 3,
     "metadata": {},
     "output_type": "execute_result"
    }
   ],
   "source": [
    "state=Board(5,7)\n",
    "for i in range(35):\n",
    "    if rand()<0.5:\n",
    "        state[i]=1\n",
    "        \n",
    "state"
   ]
  },
  {
   "cell_type": "code",
   "execution_count": 4,
   "id": "951d17b5-15af-4668-942f-45b7a5fb0071",
   "metadata": {},
   "outputs": [
    {
     "name": "stdout",
     "output_type": "stream",
     "text": [
      "Version:  0.0.44\n"
     ]
    }
   ],
   "source": [
    "from RobotSim373 import *"
   ]
  },
  {
   "cell_type": "code",
   "execution_count": 13,
   "id": "e177fe20-16e7-4bdf-bd95-095497109921",
   "metadata": {},
   "outputs": [],
   "source": [
    "def build(robot,x=1,y=2,name=None):\n",
    "    R=1\n",
    "    disk_center=Disk(robot,x,y,radius=R,name=f'center')\n",
    "    \n",
    "    \n",
    "def monitor(t,robot):\n",
    "    pass"
   ]
  },
  {
   "cell_type": "code",
   "execution_count": 38,
   "id": "4934db65-9d5a-487a-9a6a-f6e0aa311397",
   "metadata": {},
   "outputs": [],
   "source": [
    "def nothing(t,robot):\n",
    "    return True\n",
    "\n",
    "def take_picture(t,robot):\n",
    "    import os\n",
    "    \n",
    "    count=0\n",
    "    filename=f'images/misc_robot {count}.jpeg'\n",
    "    \n",
    "    while os.path.exists(filename):\n",
    "        count+=1\n",
    "        filename=f'images/misc_robot {count}.jpeg'\n",
    "    \n",
    "    \n",
    "    robot.take_picture(filename)\n",
    "    return True    "
   ]
  },
  {
   "cell_type": "code",
   "execution_count": 39,
   "id": "269d5dc0-0a77-4452-85ee-c4d056957f8f",
   "metadata": {},
   "outputs": [],
   "source": [
    "state_machine=StateMachine(\n",
    "    (take_picture,\"_end_simulation\"),\n",
    ")\n"
   ]
  },
  {
   "cell_type": "code",
   "execution_count": 55,
   "id": "36ab862e-beb6-433f-91c1-4a0923c7549e",
   "metadata": {},
   "outputs": [],
   "source": [
    "def random_game_state():\n",
    "    state=Board(5,7)\n",
    "    for i in range(35):\n",
    "        if rand()<0.5:\n",
    "            state[i]=1\n",
    "    return state"
   ]
  },
  {
   "cell_type": "code",
   "execution_count": 56,
   "id": "b23cb49c-7052-484f-80ef-a02cbfe4c92a",
   "metadata": {},
   "outputs": [],
   "source": [
    "def random_TTT_game_state():\n",
    "    Q=LoadTable('../Sprint #2 - Learning and Simulation/2021-10-18 TTT Q1.json')    \n",
    "    keys=list(Q.keys())\n",
    "    state=Board(3,3)\n",
    "    state.board=random.choice(keys)\n",
    "    return state"
   ]
  },
  {
   "cell_type": "code",
   "execution_count": 58,
   "id": "cd0650d2-4ae4-4d2e-b17e-dac6394f0156",
   "metadata": {},
   "outputs": [
    {
     "data": {
      "text/plain": [
       " 1  2  2 \n",
       " 2  1  0 \n",
       " 1  1  2 "
      ]
     },
     "execution_count": 58,
     "metadata": {},
     "output_type": "execute_result"
    }
   ],
   "source": [
    "random_TTT_game_state()"
   ]
  },
  {
   "cell_type": "code",
   "execution_count": null,
   "id": "ffdaced6-5e5e-4533-ba34-39565bcade0c",
   "metadata": {},
   "outputs": [],
   "source": []
  },
  {
   "cell_type": "code",
   "execution_count": 43,
   "id": "4a68c30e-92d3-43b7-a59f-6b1df7bc0eb9",
   "metadata": {},
   "outputs": [
    {
     "data": {
      "image/png": "[encoded data removed]",
      "text/plain": [
       "<Figure size 432x432 with 1 Axes>"
      ]
     },
     "metadata": {
      "needs_background": "light"
     },
     "output_type": "display_data"
    },
    {
     "name": "stdout",
     "output_type": "stream",
     "text": [
      " 1  0  1  1  0  1  0 \n",
      " 0  1  1  0  1  1  0 \n",
      " 1  0  0  1  0  0  0 \n",
      " 1  1  0  0  1  0  1 \n",
      " 0  0  0  1  0  0  0 \n",
      "\n"
     ]
    }
   ],
   "source": [
    "env=FrictionEnvironment(30,30)\n",
    "robot=Robot(env)\n",
    "build(robot)\n",
    "robot.controller=Controller(state_machine)\n",
    "robot.controller.monitor=monitor\n",
    "\n",
    "state=random_game_state()\n",
    "for row in range(5):\n",
    "    for col in range(7):\n",
    "        x=col*2.5+10\n",
    "        y=30-row*2.5-10\n",
    "        print(x,y)\n",
    "        if state[row,col]:\n",
    "            Box(env,x=x,y=y,width=1,height=1)\n",
    "\n",
    "\n",
    "run_sim(env,robot.controller, \n",
    "        figure_width=6,\n",
    "       total_time=100,\n",
    "       dt_display=.1,  # make this larger for a faster display\n",
    "       )\n",
    "\n",
    "print(state)"
   ]
  },
  {
   "cell_type": "code",
   "execution_count": null,
   "id": "3e614ed5-3ca5-4e49-9c57-5019f71bb9f2",
   "metadata": {},
   "outputs": [],
   "source": []
  }
 ],
 "metadata": {
  "kernelspec": {
   "display_name": "Python 3",
   "language": "python",
   "name": "python3"
  },
  "language_info": {
   "codemirror_mode": {
    "name": "ipython",
    "version": 3
   },
   "file_extension": ".py",
   "mimetype": "text/x-python",
   "name": "python",
   "nbconvert_exporter": "python",
   "pygments_lexer": "ipython3",
   "version": "3.8.10"
  }
 },
 "nbformat": 4,
 "nbformat_minor": 5
}
