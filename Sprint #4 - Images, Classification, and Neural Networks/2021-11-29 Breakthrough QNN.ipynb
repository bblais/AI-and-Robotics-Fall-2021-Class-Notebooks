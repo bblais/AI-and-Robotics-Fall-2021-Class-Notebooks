{
 "cells": [
  {
   "cell_type": "code",
   "execution_count": 1,
   "metadata": {},
   "outputs": [
    {
     "name": "stdout",
     "output_type": "stream",
     "text": [
      "Populating the interactive namespace from numpy and matplotlib\n"
     ]
    }
   ],
   "source": [
    "%pylab inline"
   ]
  },
  {
   "cell_type": "code",
   "execution_count": 2,
   "metadata": {},
   "outputs": [
    {
     "name": "stdout",
     "output_type": "stream",
     "text": [
      "Version:  0.2.35\n"
     ]
    }
   ],
   "source": [
    "from breakthrough import *\n",
    "from tqdm import tqdm"
   ]
  },
  {
   "cell_type": "code",
   "execution_count": 3,
   "metadata": {},
   "outputs": [
    {
     "name": "stdout",
     "output_type": "stream",
     "text": [
      "Version  1.0.6\n",
      "nn 0 0 2\n"
     ]
    }
   ],
   "source": [
    "from nn import NumpyNetTable"
   ]
  },
  {
   "cell_type": "code",
   "execution_count": 4,
   "metadata": {},
   "outputs": [],
   "source": [
    "def all_possible_moves():\n",
    "    all_moves=[]\n",
    "    for start in range(9):\n",
    "        for end in range(9):\n",
    "            move=[start,end]\n",
    "            all_moves.append(move)\n",
    "            \n",
    "    return all_moves\n",
    "\n",
    "def state_to_X(state):  \n",
    "    import numpy as np\n",
    "    N2=len(state)\n",
    "    arr=np.zeros((1,N2))  # number of samples, size\n",
    "    for i in range(N2):\n",
    "        if state[i]==0:\n",
    "            arr[0,i]=0\n",
    "        elif state[i]==1:\n",
    "            arr[0,i]=1\n",
    "        elif state[i]==2:\n",
    "            arr[0,i]=-1\n",
    "                     \n",
    "    return arr"
   ]
  },
  {
   "cell_type": "code",
   "execution_count": 5,
   "metadata": {},
   "outputs": [
    {
     "name": "stdout",
     "output_type": "stream",
     "text": [
      "[[0, 0], [0, 1], [0, 2], [0, 3], [0, 4], [0, 5], [0, 6], [0, 7], [0, 8], [1, 0], [1, 1], [1, 2], [1, 3], [1, 4], [1, 5], [1, 6], [1, 7], [1, 8], [2, 0], [2, 1], [2, 2], [2, 3], [2, 4], [2, 5], [2, 6], [2, 7], [2, 8], [3, 0], [3, 1], [3, 2], [3, 3], [3, 4], [3, 5], [3, 6], [3, 7], [3, 8], [4, 0], [4, 1], [4, 2], [4, 3], [4, 4], [4, 5], [4, 6], [4, 7], [4, 8], [5, 0], [5, 1], [5, 2], [5, 3], [5, 4], [5, 5], [5, 6], [5, 7], [5, 8], [6, 0], [6, 1], [6, 2], [6, 3], [6, 4], [6, 5], [6, 6], [6, 7], [6, 8], [7, 0], [7, 1], [7, 2], [7, 3], [7, 4], [7, 5], [7, 6], [7, 7], [7, 8], [8, 0], [8, 1], [8, 2], [8, 3], [8, 4], [8, 5], [8, 6], [8, 7], [8, 8]]\n"
     ]
    }
   ],
   "source": [
    "print(all_possible_moves())"
   ]
  },
  {
   "cell_type": "code",
   "execution_count": 6,
   "metadata": {},
   "outputs": [
    {
     "name": "stdout",
     "output_type": "stream",
     "text": [
      " v  v  v \n",
      " .  .  . \n",
      " ^  ^  ^ \n",
      "\n",
      "[[-1. -1. -1.  0.  0.  0.  1.  1.  1.]]\n"
     ]
    }
   ],
   "source": [
    "state=initial_state()\n",
    "initial_X=state_to_X(state)\n",
    "all_moves=all_possible_moves()\n",
    "\n",
    "print(state)\n",
    "print(initial_X)"
   ]
  },
  {
   "cell_type": "code",
   "execution_count": 7,
   "metadata": {},
   "outputs": [],
   "source": [
    "Q=NumpyNetTable(state_to_X,all_possible_moves(),\n",
    "                {\n",
    "                    'input':initial_X.shape[1],               # number of inputs\n",
    "                    'hidden':[(5,'logistic'),],\n",
    "                    'output':(len(all_moves),'tanh'),  # number of moves\n",
    "                    'cost':'mse',\n",
    "                })"
   ]
  },
  {
   "cell_type": "code",
   "execution_count": 8,
   "metadata": {},
   "outputs": [
    {
     "data": {
      "text/plain": [
       "[array([0.41986572, 0.58696492, 0.66837124, 0.49257394, 0.29440857]),\n",
       " array([-0.16430655, -0.63252637, -0.59104087,  0.17381606, -0.40590161,\n",
       "        -0.00149276,  0.5017437 ,  0.2824806 , -0.20180983, -0.29612639,\n",
       "        -0.11898948,  0.15256044, -0.35825319,  0.73680183, -0.32810702,\n",
       "        -0.01646231, -0.17610486,  0.42138866, -0.14548459,  0.05878362,\n",
       "         0.17854281, -0.0397141 ,  0.74338026, -0.23053706, -0.00512161,\n",
       "         0.42067294, -0.41487856,  0.50193527,  0.12590926, -0.56205114,\n",
       "         0.40454305, -0.4999789 ,  0.37135302,  0.04582591, -0.77020318,\n",
       "         0.71536764,  0.16917349, -0.55506164, -0.54056981, -0.09960199,\n",
       "         0.39407138,  0.37206139, -0.1231364 , -0.1863345 ,  0.16841521,\n",
       "        -0.00308719,  0.04741536,  0.4314324 , -0.2374478 ,  0.27207712,\n",
       "         0.6843663 ,  0.43299189, -0.20264091,  0.12469142,  0.40018155,\n",
       "        -0.01675017,  0.20943808, -0.44610134,  0.83798838, -0.10164665,\n",
       "         0.24001719,  0.28007763, -0.33645891, -0.58631004, -0.10051138,\n",
       "        -0.52586141,  0.06403064, -0.04632773,  0.49729096, -0.43137083,\n",
       "         0.61247249,  0.50941339, -0.27834765,  0.03701512, -0.04102731,\n",
       "        -0.02615627,  0.27465654, -0.59029856, -0.15563539,  0.32100668,\n",
       "        -0.61619873])]"
      ]
     },
     "execution_count": 8,
     "metadata": {},
     "output_type": "execute_result"
    }
   ],
   "source": [
    "Q.output(state)"
   ]
  },
  {
   "cell_type": "code",
   "execution_count": 11,
   "metadata": {},
   "outputs": [
    {
     "data": {
      "text/plain": [
       "{(0, 0): -0.1643065507005902,\n",
       " (0, 1): -0.6325263740742729,\n",
       " (0, 2): -0.5910408730770274,\n",
       " (0, 3): 0.1738160557156056,\n",
       " (0, 4): -0.405901611593633,\n",
       " (0, 5): -0.0014927628733813353,\n",
       " (0, 6): 0.5017436979157464,\n",
       " (0, 7): 0.28248060027550537,\n",
       " (0, 8): -0.20180983165593835,\n",
       " (1, 0): -0.29612638528001545,\n",
       " (1, 1): -0.11898947518466063,\n",
       " (1, 2): 0.1525604360786238,\n",
       " (1, 3): -0.3582531895426317,\n",
       " (1, 4): 0.7368018327678055,\n",
       " (1, 5): -0.3281070243610909,\n",
       " (1, 6): -0.01646230536397402,\n",
       " (1, 7): -0.1761048622420344,\n",
       " (1, 8): 0.4213886558292662,\n",
       " (2, 0): -0.14548458600299796,\n",
       " (2, 1): 0.058783623883819386,\n",
       " (2, 2): 0.1785428081697256,\n",
       " (2, 3): -0.03971410364997565,\n",
       " (2, 4): 0.7433802611211967,\n",
       " (2, 5): -0.2305370619175666,\n",
       " (2, 6): -0.005121608445161401,\n",
       " (2, 7): 0.42067293610946677,\n",
       " (2, 8): -0.41487855528562173,\n",
       " (3, 0): 0.5019352687581545,\n",
       " (3, 1): 0.1259092606422977,\n",
       " (3, 2): -0.5620511398122079,\n",
       " (3, 3): 0.40454305230560933,\n",
       " (3, 4): -0.4999789011741335,\n",
       " (3, 5): 0.37135302447090585,\n",
       " (3, 6): 0.04582590805617597,\n",
       " (3, 7): -0.7702031793297571,\n",
       " (3, 8): 0.7153676449446724,\n",
       " (4, 0): 0.16917348736648102,\n",
       " (4, 1): -0.55506164254416,\n",
       " (4, 2): -0.5405698113783076,\n",
       " (4, 3): -0.09960199436673213,\n",
       " (4, 4): 0.39407137785784824,\n",
       " (4, 5): 0.3720613928517399,\n",
       " (4, 6): -0.12313639669171983,\n",
       " (4, 7): -0.18633450038573993,\n",
       " (4, 8): 0.16841520754299735,\n",
       " (5, 0): -0.0030871946288600523,\n",
       " (5, 1): 0.04741536104937773,\n",
       " (5, 2): 0.43143239533691047,\n",
       " (5, 3): -0.23744780488914688,\n",
       " (5, 4): 0.2720771239096028,\n",
       " (5, 5): 0.6843662977375,\n",
       " (5, 6): 0.43299188536426353,\n",
       " (5, 7): -0.2026409050523211,\n",
       " (5, 8): 0.12469142423590815,\n",
       " (6, 0): 0.4001815494266626,\n",
       " (6, 1): -0.01675017070018204,\n",
       " (6, 2): 0.2094380833165176,\n",
       " (6, 3): -0.44610134131403584,\n",
       " (6, 4): 0.8379883848427077,\n",
       " (6, 5): -0.10164664510512116,\n",
       " (6, 6): 0.24001719262562973,\n",
       " (6, 7): 0.2800776336107807,\n",
       " (6, 8): -0.33645891108544185,\n",
       " (7, 0): -0.5863100422707049,\n",
       " (7, 1): -0.10051137581472094,\n",
       " (7, 2): -0.5258614055937555,\n",
       " (7, 3): 0.06403064328174554,\n",
       " (7, 4): -0.04632772739175141,\n",
       " (7, 5): 0.4972909595459145,\n",
       " (7, 6): -0.4313708276428924,\n",
       " (7, 7): 0.612472494228017,\n",
       " (7, 8): 0.5094133871416107,\n",
       " (8, 0): -0.2783476546914755,\n",
       " (8, 1): 0.03701512395506311,\n",
       " (8, 2): -0.04102730871068054,\n",
       " (8, 3): -0.026156265421830416,\n",
       " (8, 4): 0.27465653831801023,\n",
       " (8, 5): -0.5902985596661445,\n",
       " (8, 6): -0.15563539119187553,\n",
       " (8, 7): 0.3210066805741804,\n",
       " (8, 8): -0.6161987349363877}"
      ]
     },
     "execution_count": 11,
     "metadata": {},
     "output_type": "execute_result"
    }
   ],
   "source": [
    "Q[state]"
   ]
  },
  {
   "cell_type": "code",
   "execution_count": 13,
   "metadata": {},
   "outputs": [],
   "source": [
    "target=[]\n",
    "actual_moves=valid_moves(state,1)\n",
    "for i,move in enumerate(all_moves):\n",
    "    if move in actual_moves:  # keep the old values for valid moves\n",
    "        target.append(1)\n",
    "    else:\n",
    "        target.append(-1)  # lose with illegal move"
   ]
  },
  {
   "cell_type": "code",
   "execution_count": 23,
   "metadata": {},
   "outputs": [
    {
     "name": "stdout",
     "output_type": "stream",
     "text": [
      "[-1, -1, -1, -1, -1, -1, -1, -1, -1, -1, -1, -1, -1, -1, -1, -1, -1, -1, -1, -1, -1, -1, -1, -1, -1, -1, -1, -1, -1, -1, -1, -1, -1, -1, -1, -1, -1, -1, -1, -1, -1, -1, -1, -1, -1, -1, -1, -1, -1, -1, -1, -1, -1, -1, -1, -1, -1,    +1,    -1, -1, -1, -1, -1, -1, -1, -1, -1,    +1,    -1, -1, -1, -1, -1, -1, -1, -1, -1,    +1,    -1, -1, -1]\n"
     ]
    }
   ],
   "source": [
    "print(str(target).replace(\" 1,\",\"    +1,   \"))"
   ]
  },
  {
   "cell_type": "code",
   "execution_count": 24,
   "metadata": {},
   "outputs": [
    {
     "data": {
      "text/plain": [
       "array([-1, -1, -1, -1, -1, -1, -1, -1, -1, -1, -1, -1, -1, -1, -1, -1, -1,\n",
       "       -1, -1, -1, -1, -1, -1, -1, -1, -1, -1, -1, -1, -1, -1, -1, -1, -1,\n",
       "       -1, -1, -1, -1, -1, -1, -1, -1, -1, -1, -1, -1, -1, -1, -1, -1, -1,\n",
       "       -1, -1, -1, -1, -1, -1,  1, -1, -1, -1, -1, -1, -1, -1, -1, -1,  1,\n",
       "       -1, -1, -1, -1, -1, -1, -1, -1, -1,  1, -1, -1, -1])"
      ]
     },
     "execution_count": 24,
     "metadata": {},
     "output_type": "execute_result"
    }
   ],
   "source": [
    "np.array(target)"
   ]
  },
  {
   "cell_type": "code",
   "execution_count": 25,
   "metadata": {},
   "outputs": [],
   "source": [
    "Q[state]=target"
   ]
  },
  {
   "cell_type": "code",
   "execution_count": 26,
   "metadata": {},
   "outputs": [
    {
     "data": {
      "text/plain": [
       "{(0, 0): -0.1665158046824299,\n",
       " (0, 1): -0.630820049088227,\n",
       " (0, 2): -0.5896207688140241,\n",
       " (0, 3): 0.1703640458400222,\n",
       " (0, 4): -0.4051364012100454,\n",
       " (0, 5): -0.004611331369839413,\n",
       " (0, 6): 0.498302558223138,\n",
       " (0, 7): 0.27905253205765934,\n",
       " (0, 8): -0.20314803560670003,\n",
       " (1, 0): -0.29725180083243824,\n",
       " (1, 1): -0.12133675297433939,\n",
       " (1, 2): 0.14926471978575964,\n",
       " (1, 3): -0.35801178200977885,\n",
       " (1, 4): 0.734046986211278,\n",
       " (1, 5): -0.32801565844160346,\n",
       " (1, 6): -0.01828311817529124,\n",
       " (1, 7): -0.17737580584910909,\n",
       " (1, 8): 0.4175156633113665,\n",
       " (2, 0): -0.1474841665430453,\n",
       " (2, 1): 0.05605839267708497,\n",
       " (2, 2): 0.17526326122648653,\n",
       " (2, 3): -0.04258561297249023,\n",
       " (2, 4): 0.7408709278695342,\n",
       " (2, 5): -0.23140050903036372,\n",
       " (2, 6): -0.008124088397695838,\n",
       " (2, 7): 0.41732931673054996,\n",
       " (2, 8): -0.4145863625388464,\n",
       " (3, 0): 0.4980386572988196,\n",
       " (3, 1): 0.12286432988447529,\n",
       " (3, 2): -0.5610354152168423,\n",
       " (3, 3): 0.40117621870274994,\n",
       " (3, 4): -0.49882249780490867,\n",
       " (3, 5): 0.36798559971003536,\n",
       " (3, 6): 0.043150258541402545,\n",
       " (3, 7): -0.7683071227676241,\n",
       " (3, 8): 0.712598636813111,\n",
       " (4, 0): 0.16588794192300127,\n",
       " (4, 1): -0.5535525898654169,\n",
       " (4, 2): -0.5390751034210436,\n",
       " (4, 3): -0.10136013192009852,\n",
       " (4, 4): 0.39072773717350956,\n",
       " (4, 5): 0.3686669795814713,\n",
       " (4, 6): -0.1251766481540308,\n",
       " (4, 7): -0.18789381705518576,\n",
       " (4, 8): 0.16489804672107353,\n",
       " (5, 0): -0.005648784918835829,\n",
       " (5, 1): 0.04506285350596544,\n",
       " (5, 2): 0.42785409409055775,\n",
       " (5, 3): -0.23838654540874732,\n",
       " (5, 4): 0.26853767605462237,\n",
       " (5, 5): 0.6815079217747596,\n",
       " (5, 6): 0.42954868550862874,\n",
       " (5, 7): -0.2037871271071285,\n",
       " (5, 8): 0.12125464915862787,\n",
       " (6, 0): 0.3968406734150429,\n",
       " (6, 1): -0.019308125359248748,\n",
       " (6, 2): 0.2057947146451443,\n",
       " (6, 3): -0.44246024401182016,\n",
       " (6, 4): 0.8358820351242938,\n",
       " (6, 5): -0.10392469867203509,\n",
       " (6, 6): 0.23612522063602845,\n",
       " (6, 7): 0.2769430821615745,\n",
       " (6, 8): -0.3361643010007906,\n",
       " (7, 0): -0.5848535224559893,\n",
       " (7, 1): -0.10269578577132643,\n",
       " (7, 2): -0.5245011145859688,\n",
       " (7, 3): 0.06106304379013102,\n",
       " (7, 4): -0.04383217608679928,\n",
       " (7, 5): 0.49404529698578786,\n",
       " (7, 6): -0.4308719629741659,\n",
       " (7, 7): 0.6089142709438962,\n",
       " (7, 8): 0.5060923121603776,\n",
       " (8, 0): -0.27902733551933445,\n",
       " (8, 1): 0.03427262034934733,\n",
       " (8, 2): -0.043361719484689816,\n",
       " (8, 3): -0.02905380872316914,\n",
       " (8, 4): 0.27108533270438406,\n",
       " (8, 5): -0.5867571593832891,\n",
       " (8, 6): -0.15725065565853635,\n",
       " (8, 7): 0.31788090133663105,\n",
       " (8, 8): -0.614727076260812}"
      ]
     },
     "execution_count": 26,
     "metadata": {},
     "output_type": "execute_result"
    }
   ],
   "source": [
    "Q[state]"
   ]
  },
  {
   "cell_type": "code",
   "execution_count": null,
   "metadata": {},
   "outputs": [],
   "source": []
  },
  {
   "cell_type": "code",
   "execution_count": 27,
   "metadata": {},
   "outputs": [],
   "source": [
    "def QNN_move(state,player,info):\n",
    "    Q=info.Q\n",
    "    last_action=info.last_action\n",
    "    last_state=info.last_state\n",
    "    \n",
    "    alpha=info.alpha  # learning rate\n",
    "    gamma=info.gamma  # memory \n",
    "    epsilon=info.epsilon  # probability of doing random move\n",
    "    \n",
    "    new_state=state\n",
    "    new_actual_moves=valid_moves(new_state,player)\n",
    "    new_action_values=Q[new_state]\n",
    "    new_values=[new_action_values[move] for move in new_actual_moves] \n",
    "    \n",
    "    if random.random()<epsilon:  # random move\n",
    "        action=random_choice(new_actual_moves)\n",
    "    else:\n",
    "        action=top_choice(new_actual_moves,weights=new_values)\n",
    "            \n",
    "            \n",
    "#         # Ask the model for the Q values of the old state (inference)\n",
    "#         old_state_Q_values = self.get_Q(old_state)\n",
    "\n",
    "#         # Ask the model for the Q values of the new state (inference)\n",
    "#         new_state_Q_values = self.get_Q(new_state)\n",
    "\n",
    "#         # Real Q value for the action we took. This is what we will train towards.\n",
    "#         old_state_Q_values[action] = reward + self.discount * np.amax(new_state_Q_values)\n",
    "        \n",
    "    if alpha==0:  # no learning\n",
    "        return action\n",
    "\n",
    "    if not last_action is None:  # anything but the first move\n",
    "        r=0.0  # no reward middle of game\n",
    "        possible_moves=Q.all_moves\n",
    "        \n",
    "        old_state=last_state\n",
    "\n",
    "        old_actual_moves=valid_moves(old_state,player)\n",
    "        old_action_values=Q[old_state]\n",
    "        old_values=[old_action_values[move] for move in old_actual_moves] \n",
    "        \n",
    "        \n",
    "        target=[]\n",
    "        for i,move in enumerate(possible_moves):\n",
    "            if move==last_action:\n",
    "                target.append(r + gamma*max(new_values))  # max of actually available values\n",
    "            elif move in old_actual_moves:  # keep the old values for valid moves\n",
    "                target.append(old_action_values[move])\n",
    "            else:\n",
    "                target.append(-1)  # lose with illegal move\n",
    "\n",
    "        Q[old_state]=target\n",
    "        \n",
    "    return action\n",
    "\n",
    "def QNN_post(status,player,info):\n",
    "    Q=info.Q\n",
    "    last_action=info.last_action\n",
    "    last_state=info.last_state\n",
    "    \n",
    "    alpha=info.alpha  # learning rate\n",
    "    gamma=info.gamma  # memory \n",
    "    epsilon=info.epsilon  # probability of doing random move\n",
    "\n",
    "    if alpha==0.0:  # no update if not learning\n",
    "        return\n",
    "    \n",
    "    if status=='lose':\n",
    "        r=-1.0\n",
    "    elif status=='win':\n",
    "        r=1.0\n",
    "    elif status=='stalemate':\n",
    "        r=0.5\n",
    "    else:\n",
    "        r=0.0\n",
    "        \n",
    "    if not last_action is None:  # anything but the first move\n",
    "        possible_moves=Q.all_moves\n",
    "        old_state=last_state\n",
    "\n",
    "        old_actual_moves=valid_moves(old_state,player)\n",
    "        old_action_values=Q[old_state]\n",
    "        old_values=[old_action_values[move] for move in old_actual_moves] \n",
    "        \n",
    "        \n",
    "        target=[]\n",
    "        for i,move in enumerate(possible_moves):\n",
    "            if move==last_action:\n",
    "                target.append(r)  # just the reward\n",
    "            elif move in old_actual_moves:  # keep the old values for valid moves\n",
    "                target.append(old_action_values[move])\n",
    "            else:\n",
    "                target.append(-1)  # lose with illegal move\n",
    "\n",
    "        Q[old_state]=target\n"
   ]
  },
  {
   "cell_type": "code",
   "execution_count": 28,
   "metadata": {},
   "outputs": [],
   "source": [
    "Q1_agent=Agent(QNN_move)\n",
    "Q1_agent.post=QNN_post\n",
    "\n",
    "Q1_agent.alpha=0.03  # learning rate\n",
    "Q1_agent.gamma=0.9  # memory\n",
    "Q1_agent.epsilon=0.1  # chance of making a random move\n",
    "\n",
    "Q1_agent.original_alpha=Q1_agent.alpha\n",
    "\n",
    "Q2_agent=Agent(QNN_move)\n",
    "Q2_agent.post=QNN_post\n",
    "\n",
    "Q2_agent.alpha=0.03  # learning rate\n",
    "Q2_agent.gamma=0.9  # memory\n",
    "Q2_agent.epsilon=0.1  # chance of making a random move\n",
    "\n",
    "Q2_agent.original_alpha=Q2_agent.alpha\n"
   ]
  },
  {
   "cell_type": "markdown",
   "metadata": {},
   "source": [
    "### set the Q tables for the agents"
   ]
  },
  {
   "cell_type": "code",
   "execution_count": 29,
   "metadata": {},
   "outputs": [
    {
     "name": "stdout",
     "output_type": "stream",
     "text": [
      " v  v  v \n",
      " .  .  . \n",
      " ^  ^  ^ \n",
      "\n",
      "[[-1. -1. -1.  0.  0.  0.  1.  1.  1.]]\n"
     ]
    }
   ],
   "source": [
    "state=initial_state()\n",
    "initial_X=state_to_X(state)\n",
    "all_moves=all_possible_moves()\n",
    "\n",
    "print(state)\n",
    "print(initial_X)\n",
    "\n",
    "Q1_agent.Q=NumpyNetTable(state_to_X,all_possible_moves(),\n",
    "                {\n",
    "                    'input':initial_X.shape[1],               # number of inputs\n",
    "                    'hidden':[(5,'logistic'),],\n",
    "                    'output':(len(all_moves),'tanh'),  # number of moves\n",
    "                    'cost':'mse',\n",
    "                },\n",
    "                        verbose=False)\n",
    "\n",
    "Q2_agent.Q=NumpyNetTable(state_to_X,all_possible_moves(),\n",
    "                {\n",
    "                    'input':initial_X.shape[1],               # number of inputs\n",
    "                    'hidden':[(5,'logistic'),],\n",
    "                    'output':(len(all_moves),'tanh'),  # number of moves\n",
    "                    'cost':'mse',\n",
    "                },\n",
    "                        verbose=False)\n",
    "\n",
    "# initialize things\n",
    "Q1_agent.Q[state]=[0]*len(all_possible_moves())\n",
    "Q2_agent.Q[state]=[0]*len(all_possible_moves())\n"
   ]
  },
  {
   "cell_type": "code",
   "execution_count": 30,
   "metadata": {},
   "outputs": [
    {
     "name": "stderr",
     "output_type": "stream",
     "text": [
      "100%|██████████| 100/100 [03:00<00:00,  1.81s/it]\n"
     ]
    }
   ],
   "source": [
    "\n",
    "\n",
    "W=[]\n",
    "L=[]\n",
    "T=[]\n",
    "\n",
    "n=[]\n",
    "games_per_epoch=100\n",
    "number_of_epochs=100\n",
    "number_of_epochs_to_explore=50\n",
    "total_games=0\n",
    "\n",
    "for epoch in tqdm(range(number_of_epochs)):\n",
    "    \n",
    "    # ramp down the randomness over time\n",
    "    epsilon=1-epoch/number_of_epochs_to_explore\n",
    "    if epsilon<0:\n",
    "        epsilon=0\n",
    "    \n",
    "    \n",
    "    # train with learning\n",
    "    Q1_agent.epsilon=0.1\n",
    "    Q1_agent.alpha=0.03\n",
    "    Q2_agent.epsilon=0.1\n",
    "    Q2_agent.alpha=0.03\n",
    "    g=Game(number_of_games=games_per_epoch)\n",
    "    g.display=False\n",
    "    result=g.run(Q1_agent,Q2_agent)\n",
    "\n",
    "    # test with no learning\n",
    "    Q1_agent.epsilon=0.0\n",
    "    Q1_agent.alpha=0.0\n",
    "    Q2_agent.epsilon=0.0\n",
    "    Q2_agent.alpha=0.0\n",
    "    g=Game(number_of_games=100)\n",
    "    g.display=False\n",
    "    \n",
    "    result=g.run(random_agent,Q2_agent)    \n",
    "    percent_wins=sum([_==1 for _ in result])/len(result)*100\n",
    "    percent_losses=sum([_==2 for _ in result])/len(result)*100\n",
    "    percent_ties=sum([_==0 for _ in result])/len(result)*100\n",
    "    percent_broken=sum([_==3 for _ in result])/len(result)*100\n",
    "    \n",
    "    assert percent_broken==0.0\n",
    "\n",
    "    total_games+=games_per_epoch\n",
    "    \n",
    "    \n",
    "    n.append(total_games)\n",
    "    W.append(percent_wins)\n",
    "    L.append(percent_losses)\n",
    "    T.append(percent_ties)\n",
    "    \n",
    "    #print('%.2f' % percent_wins,\" \",end=\"\")"
   ]
  },
  {
   "cell_type": "code",
   "execution_count": 31,
   "metadata": {},
   "outputs": [
    {
     "data": {
      "text/plain": [
       "<matplotlib.legend.Legend at 0x1b1e3c880>"
      ]
     },
     "execution_count": 31,
     "metadata": {},
     "output_type": "execute_result"
    },
    {
     "data": {
      "image/png": "[encoded data removed]",
      "text/plain": [
       "<Figure size 720x576 with 1 Axes>"
      ]
     },
     "metadata": {
      "needs_background": "light"
     },
     "output_type": "display_data"
    }
   ],
   "source": [
    "figure(figsize=(10,8))\n",
    "plot(n,W,'-o',label='Player 1 Wins')\n",
    "plot(n,L,'-o',label='Player 2 Wins')\n",
    "plot(n,T,'-o',label='Ties')\n",
    "title('random vs Q')\n",
    "legend()"
   ]
  },
  {
   "cell_type": "code",
   "execution_count": null,
   "metadata": {},
   "outputs": [],
   "source": []
  }
 ],
 "metadata": {
  "kernelspec": {
   "display_name": "Python 3",
   "language": "python",
   "name": "python3"
  },
  "language_info": {
   "codemirror_mode": {
    "name": "ipython",
    "version": 3
   },
   "file_extension": ".py",
   "mimetype": "text/x-python",
   "name": "python",
   "nbconvert_exporter": "python",
   "pygments_lexer": "ipython3",
   "version": "3.8.10"
  }
 },
 "nbformat": 4,
 "nbformat_minor": 4
}
