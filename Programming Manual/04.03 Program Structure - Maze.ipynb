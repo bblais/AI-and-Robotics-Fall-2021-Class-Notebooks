{
 "cells": [
  {
   "cell_type": "markdown",
   "id": "2ba1f4db-3060-4d3a-a409-daa0398f1b0b",
   "metadata": {},
   "source": [
    "## Extended Example: Maze\n",
    "\n",
    "In this section we write a program to generate a random maze. We will\n",
    "use Aldous-Broder's algorithm, which goes as follows:\n",
    "\n",
    "> Start with a maze grid with all walls up (a bunch of individual,\n",
    "> walled cells). Pick a point, and move to a neighboring cell at random.\n",
    "> If the new cell has all of its walls still up, then knock the walls\n",
    "> down between the previous cell and the new cell. Keep moving to\n",
    "> neighboring cells until all cells have been visited.\n",
    "\n",
    "We will start with the recipe, and then break each piece down into\n",
    "pieces.\n",
    "\n",
    "then we expand those pieces\n",
    "\n",
    "then we structure the while-loop\n",
    "\n",
    "At this point we have to make some decisions about how to represent the\n",
    "maze itself. Pretty much we need to have a number of rows and columns\n",
    "for the maze, and know which walls are up for the particular cell. For\n",
    "example, say we have the following 3x3 maze, and a summary of the\n",
    "information to describe this maze:\n",
    "\n",
    "                       +--+--+--+\n",
    "                       |        |\n",
    "                       +--+  +--+\n",
    "                       |        |\n",
    "                       +--+  +  +\n",
    "                       |     |  |\n",
    "                       +--+--+--+\n",
    "\n",
    "The information in this maze is the following:\n"
   ]
  },
  {
   "cell_type": "code",
   "execution_count": null,
   "id": "c2bc37f5-a67f-4604-b408-140dfb39c63b",
   "metadata": {},
   "outputs": [],
   "source": []
  }
 ],
 "metadata": {
  "kernelspec": {
   "display_name": "Python 3",
   "language": "python",
   "name": "python3"
  },
  "language_info": {
   "codemirror_mode": {
    "name": "ipython",
    "version": 3
   },
   "file_extension": ".py",
   "mimetype": "text/x-python",
   "name": "python",
   "nbconvert_exporter": "python",
   "pygments_lexer": "ipython3",
   "version": "3.8.10"
  }
 },
 "nbformat": 4,
 "nbformat_minor": 5
}
