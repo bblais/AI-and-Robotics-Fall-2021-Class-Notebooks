{
 "cells": [
  {
   "cell_type": "code",
   "execution_count": 1,
   "id": "d2321782-64ad-4148-b7ba-1debd6c0509e",
   "metadata": {},
   "outputs": [
    {
     "name": "stdout",
     "output_type": "stream",
     "text": [
      "Populating the interactive namespace from numpy and matplotlib\n"
     ]
    }
   ],
   "source": [
    "%pylab inline"
   ]
  },
  {
   "cell_type": "code",
   "execution_count": 2,
   "id": "7dc87883-e1ce-4432-b198-219f8764e166",
   "metadata": {},
   "outputs": [
    {
     "name": "stdout",
     "output_type": "stream",
     "text": [
      "Version:  0.0.43\n"
     ]
    }
   ],
   "source": [
    "from RobotSim373 import *"
   ]
  },
  {
   "cell_type": "code",
   "execution_count": 3,
   "id": "5a409e42-eacc-4c94-9a22-42a8cab0d154",
   "metadata": {},
   "outputs": [],
   "source": [
    "def build(robot):\n",
    "    R=.5\n",
    "    r=R/5\n",
    "    \n",
    "    x=2\n",
    "    y=3\n",
    "    angle=0\n",
    "    disk_center=Disk(robot,x,y,radius=R,angle=angle,name='center')\n",
    "\n",
    "    disks=[]\n",
    "    for angle in range(0,360,30):\n",
    "        disk=Disk(robot,\n",
    "                          x+(R+1.1*r)*cos(radians(angle)),\n",
    "                          y+(R+1.1*r)*sin(radians(angle)),\n",
    "                 angle=angle,radius=r,\n",
    "                 name='disk %d' % angle)\n",
    "        disks.append(disk)\n",
    "\n",
    "    connect(disk_center,disks,'weld')\n",
    "\n",
    "    left=Box(robot,x=x-1,y=y,width=.1,height=3.5,name=\"left\")\n",
    "    right=Box(robot,x=x+1,y=y,width=.1,height=3.5,name=\"right\")\n",
    "    connect(disk_center,left,'weld')    \n",
    "    connect(disk_center,right,'weld')    \n",
    "    \n",
    "    robot.disks=disks\n",
    "    robot.angles=list(range(0,360,30))\n",
    "    robot.distances=[-1]*len(disks)"
   ]
  },
  {
   "cell_type": "code",
   "execution_count": 4,
   "id": "803b5060-30f8-4f0c-91fc-394a4e62ea2e",
   "metadata": {},
   "outputs": [],
   "source": [
    "def right(t,robot):\n",
    "    for disk in robot.disks:\n",
    "        disk.F=0\n",
    "        \n",
    "    robot['disk 0'].F=10\n",
    "    return True\n",
    "\n",
    "def up(t,robot):\n",
    "    for disk in robot.disks:\n",
    "        disk.F=0\n",
    "        \n",
    "    robot['disk 90'].F=10\n",
    "    return True\n",
    "\n",
    "def down(t,robot):\n",
    "    for disk in robot.disks:\n",
    "        disk.F=0\n",
    "        \n",
    "    robot['disk 270'].F=10\n",
    "    return True\n",
    "\n",
    "def left(t,robot):\n",
    "    for disk in robot.disks:\n",
    "        disk.F=0\n",
    "        \n",
    "    robot['disk 180'].F=10\n",
    "    return True\n"
   ]
  },
  {
   "cell_type": "code",
   "execution_count": 5,
   "id": "d0b47d8c-440e-4e52-b684-218fa5f3a24d",
   "metadata": {},
   "outputs": [],
   "source": [
    "def until_right_wall(t,robot):\n",
    "    distance=robot['disk 0'].read_distance()\n",
    "    \n",
    "    if distance<2:\n",
    "        return True\n",
    "    \n",
    "    \n",
    "def until_top_wall(t,robot):\n",
    "    distance=robot['disk 90'].read_distance()\n",
    "    \n",
    "    if distance<2:\n",
    "        return True\n",
    "    \n",
    "def until_bottom_wall(t,robot):\n",
    "    distance=robot['disk 270'].read_distance()\n",
    "    \n",
    "    if distance<2:\n",
    "        return True    \n",
    "    \n",
    "def until_left_wall(t,robot):\n",
    "    distance=robot['disk 180'].read_distance()\n",
    "    \n",
    "    if distance<2:\n",
    "        return True        "
   ]
  },
  {
   "cell_type": "code",
   "execution_count": null,
   "id": "be95dd7a-c01a-486b-853f-f2c161da9132",
   "metadata": {},
   "outputs": [],
   "source": []
  },
  {
   "cell_type": "code",
   "execution_count": 6,
   "id": "2f9c608a-ac55-479f-8aef-9de7f2f1de9f",
   "metadata": {},
   "outputs": [],
   "source": [
    "def monitor(t,robot):\n",
    "    robot.message=t"
   ]
  },
  {
   "cell_type": "code",
   "execution_count": 7,
   "id": "ecd3e915-5d57-4c7a-879b-67cc4384ddba",
   "metadata": {},
   "outputs": [],
   "source": [
    "state_machine=StateMachine(\n",
    "    (right,'until_right_wall'),\n",
    "    (until_right_wall,\"_end_simulation\")\n",
    ")\n",
    "\n",
    "\n"
   ]
  },
  {
   "cell_type": "code",
   "execution_count": 8,
   "id": "52c0e2ea-6ea5-45f2-ad53-301f3d2fbb91",
   "metadata": {},
   "outputs": [
    {
     "data": {
      "image/png": "[encoded data removed]",
      "text/plain": [
       "<Figure size 432x432 with 1 Axes>"
      ]
     },
     "metadata": {
      "needs_background": "light"
     },
     "output_type": "display_data"
    }
   ],
   "source": [
    "env=FrictionEnvironment(24,24)\n",
    "robot=Robot(env)\n",
    "build(robot)\n",
    "robot.controller=Controller(state_machine)\n",
    "robot.controller.monitor=monitor\n",
    "\n",
    "Box(env,x=10,y=10)\n",
    "\n",
    "run_sim(env,robot.controller, \n",
    "        figure_width=6,\n",
    "       total_time=30,\n",
    "       dt_display=0.3,  # make this larger for a faster display\n",
    "       )\n"
   ]
  },
  {
   "cell_type": "markdown",
   "id": "6b8d31d1-b97a-4e3d-a7c5-425fa7f68450",
   "metadata": {},
   "source": [
    "Let's say I want to start robot in lower left, take this piece that is at 10,10 and move it to 15,10 and then return to the lower left.\n",
    "\n",
    "- move to the right until aligned with the object (known location, or distance sensor) = move to the right until x=10\n",
    "- move up until y=8\n",
    "- move again to the right until x=15\n",
    "- move down to the ground\n",
    "- move back to the left wall\n",
    "\n"
   ]
  },
  {
   "cell_type": "code",
   "execution_count": 9,
   "id": "8dac91fb-9b09-4789-a773-42f79a1b92a0",
   "metadata": {},
   "outputs": [],
   "source": [
    "state_machine=StateMachine(\n",
    "    ([right,until_right_wall],'up'),\n",
    "    ([up,until_top_wall],'left'),\n",
    "    ([left,until_left_wall],'_end_simulation'),\n",
    ")\n",
    "\n",
    "\n"
   ]
  },
  {
   "cell_type": "code",
   "execution_count": 10,
   "id": "a0939cd5-c53f-457a-a201-17a3b267d21b",
   "metadata": {},
   "outputs": [
    {
     "data": {
      "image/png": "[encoded data removed]",
      "text/plain": [
       "<Figure size 432x432 with 1 Axes>"
      ]
     },
     "metadata": {
      "needs_background": "light"
     },
     "output_type": "display_data"
    }
   ],
   "source": [
    "env=FrictionEnvironment(24,24)\n",
    "robot=Robot(env)\n",
    "build(robot)\n",
    "robot.controller=Controller(state_machine)\n",
    "robot.controller.monitor=monitor\n",
    "\n",
    "Box(env,x=10,y=10)\n",
    "\n",
    "run_sim(env,robot.controller, \n",
    "        figure_width=6,\n",
    "       total_time=100,\n",
    "       dt_display=0.3,  # make this larger for a faster display\n",
    "       )\n"
   ]
  },
  {
   "cell_type": "code",
   "execution_count": 11,
   "id": "d30c0dd6-0e3a-4d16-8ada-8441f273ce6a",
   "metadata": {},
   "outputs": [],
   "source": [
    "def until_piece_up(t,robot):\n",
    "    distance=robot['disk 90'].read_distance()\n",
    "    \n",
    "    if distance<10:\n",
    "        return True    \n",
    "    \n",
    "def until_close_to_piece(t,robot):\n",
    "    distance=robot['disk 90'].read_distance()\n",
    "    \n",
    "    if distance<0.1:\n",
    "        return True        "
   ]
  },
  {
   "cell_type": "code",
   "execution_count": 12,
   "id": "acd3d920-5dff-4595-a5fb-2130eb43f034",
   "metadata": {},
   "outputs": [],
   "source": [
    "state_machine=StateMachine(\n",
    "    ([right,until_piece_up,wait(0.1)],'up'),\n",
    "    ([up,until_close_to_piece],'left'),\n",
    "    ([left,until_left_wall],'down'),\n",
    "    ([down,until_bottom_wall],'_end_simulation'),\n",
    ")\n",
    "\n",
    "\n"
   ]
  },
  {
   "cell_type": "code",
   "execution_count": 101,
   "id": "b0db1be2-64eb-41e5-99cf-40dcce286e6e",
   "metadata": {},
   "outputs": [
    {
     "data": {
      "image/png": "[encoded data removed]",
      "text/plain": [
       "<Figure size 432x432 with 1 Axes>"
      ]
     },
     "metadata": {
      "needs_background": "light"
     },
     "output_type": "display_data"
    }
   ],
   "source": [
    "env=FrictionEnvironment(24,24)\n",
    "robot=Robot(env)\n",
    "build(robot)\n",
    "robot.controller=Controller(state_machine)\n",
    "robot.controller.monitor=monitor\n",
    "\n",
    "Box(env,x=10,y=10,density=0.001)\n",
    "\n",
    "run_sim(env,robot.controller, \n",
    "        figure_width=6,\n",
    "       total_time=100,\n",
    "       dt_display=0.3,  # make this larger for a faster display\n",
    "       )\n"
   ]
  },
  {
   "cell_type": "markdown",
   "id": "c773eac3-e696-4320-a0db-dd1505c0f152",
   "metadata": {},
   "source": [
    "## Counting"
   ]
  },
  {
   "cell_type": "code",
   "execution_count": 13,
   "id": "8bdc6097-9239-43db-9b57-c95139811685",
   "metadata": {},
   "outputs": [],
   "source": [
    "def count(t,robot):\n",
    "    \n",
    "    right(t,robot)\n",
    "    distance=robot['disk 90'].read_distance()\n",
    "    \n",
    "    piece_up=distance<10\n",
    "    \n",
    "    if piece_up and not robot.seeing_piece:\n",
    "        robot.count+=1\n",
    "        robot.seeing_piece=True\n",
    "\n",
    "    if not piece_up:\n",
    "        robot.seeing_piece=False\n",
    "        \n",
    "    distance=robot['disk 0'].read_distance()\n",
    "    if distance<2:\n",
    "        return \"down\"\n",
    "        \n",
    "        \n",
    "        \n",
    "    \n"
   ]
  },
  {
   "cell_type": "code",
   "execution_count": 14,
   "id": "a3d12f14-f6ce-4deb-9c6e-cf9caca6f4aa",
   "metadata": {},
   "outputs": [],
   "source": [
    "counting_state_machine=StateMachine(\n",
    "    ([right,until_piece_up],'count'),\n",
    "    (count,'down'),\n",
    "    ([left,until_left_wall],'_end_simulation'),\n",
    "    ([down,until_bottom_wall],'left'),\n",
    ")\n",
    "\n"
   ]
  },
  {
   "cell_type": "code",
   "execution_count": 15,
   "id": "085856df-1c65-473f-b58f-c64657ea863e",
   "metadata": {},
   "outputs": [],
   "source": [
    "def monitor(t,robot):\n",
    "    robot.message=t,robot.count,robot.controller.current_state"
   ]
  },
  {
   "cell_type": "code",
   "execution_count": null,
   "id": "067dbe44-46a5-4a41-9408-3e8051fbcfa5",
   "metadata": {},
   "outputs": [],
   "source": []
  },
  {
   "cell_type": "code",
   "execution_count": 144,
   "id": "0e88d8ba-2bec-462d-a3c5-ff8274ec8a5e",
   "metadata": {},
   "outputs": [
    {
     "data": {
      "image/png": "[encoded data removed]",
      "text/plain": [
       "<Figure size 432x432 with 1 Axes>"
      ]
     },
     "metadata": {
      "needs_background": "light"
     },
     "output_type": "display_data"
    }
   ],
   "source": [
    "env=FrictionEnvironment(24,24)\n",
    "robot=Robot(env)\n",
    "build(robot)\n",
    "robot.controller=Controller(counting_state_machine)\n",
    "robot.controller.monitor=monitor\n",
    "\n",
    "robot.count=0\n",
    "robot.seeing_piece=False\n",
    "\n",
    "\n",
    "for i in range(randint(1,8)):\n",
    "    Box(env,x=5+i*1.6,y=10,density=0.001)\n",
    "\n",
    "run_sim(env,robot.controller, \n",
    "        figure_width=6,\n",
    "       total_time=100,\n",
    "       dt_display=0.3,  # make this larger for a faster display\n",
    "       )\n"
   ]
  },
  {
   "cell_type": "markdown",
   "id": "4655279d-b2d8-4b2e-91ba-650daa245dc8",
   "metadata": {},
   "source": [
    "## Counting then taking a piece"
   ]
  },
  {
   "cell_type": "code",
   "execution_count": 16,
   "id": "12bdf490-66cf-4f1d-b2ef-4ab8ca857e0f",
   "metadata": {},
   "outputs": [],
   "source": [
    "\n",
    "take_one_piece_state_machine=StateMachine(\n",
    "    ([right,until_piece_up,wait(0.1)],'up'),\n",
    "    ([up,until_close_to_piece],'left'),\n",
    "    ([left,until_left_wall],'down'),\n",
    "    ([down,until_bottom_wall],'_end_simulation'),\n",
    ")\n",
    "\n",
    "\n",
    "counting_state_machine=StateMachine(\n",
    "    ([right,until_piece_up],'count'),\n",
    "    (count,'down'),\n",
    "    ([left,until_left_wall],take_one_piece_state_machine),\n",
    "    ([down,until_bottom_wall],'left'),\n",
    ")\n"
   ]
  },
  {
   "cell_type": "code",
   "execution_count": 17,
   "id": "fce7beb5-5a6a-48a4-9fc6-98f42bd46501",
   "metadata": {},
   "outputs": [
    {
     "data": {
      "image/png": "[encoded data removed]",
      "text/plain": [
       "<Figure size 432x432 with 1 Axes>"
      ]
     },
     "metadata": {
      "needs_background": "light"
     },
     "output_type": "display_data"
    }
   ],
   "source": [
    "env=FrictionEnvironment(24,24)\n",
    "robot=Robot(env)\n",
    "build(robot)\n",
    "robot.controller=Controller(counting_state_machine)\n",
    "robot.controller.monitor=monitor\n",
    "\n",
    "robot.count=0\n",
    "robot.seeing_piece=False\n",
    "\n",
    "\n",
    "for i in range(randint(1,8)):\n",
    "    Box(env,x=10+i*1.6,y=10,density=0.001)\n",
    "\n",
    "run_sim(env,robot.controller, \n",
    "        figure_width=6,\n",
    "       total_time=100,\n",
    "       dt_display=0.3,  # make this larger for a faster display\n",
    "       )\n"
   ]
  },
  {
   "cell_type": "markdown",
   "id": "c2847e75-c55d-457d-bdd4-6b177e53d75e",
   "metadata": {},
   "source": [
    "## taking a few..this has a bug, because there isn't a good place for the pieces"
   ]
  },
  {
   "cell_type": "code",
   "execution_count": 18,
   "id": "7cf06980-4197-4c66-80e4-f0cf58c64a8d",
   "metadata": {},
   "outputs": [],
   "source": [
    "def turn_green(t,robot):\n",
    "    robot.color='g'\n",
    "    return True\n",
    "\n",
    "def turn_red(t,robot):\n",
    "    robot.color='r'\n",
    "    return True\n",
    "\n",
    "def turn_purple(t,robot):\n",
    "    robot.color='purple'\n",
    "    return True\n",
    "\n",
    "def set_move(t,robot):\n",
    "    count=robot.count\n",
    "    robot.move=(count-1)%4\n",
    "    if robot.move==0:\n",
    "        robot.move=1\n",
    "        \n",
    "    return True\n",
    "\n",
    "def until_turn_over(t,robot):\n",
    "    robot.move-=1\n",
    "    robot.color=f\"#{randint(0x1000000):06x}\"\n",
    "\n",
    "    if robot.move==0:\n",
    "        return \"_end_simulation\"\n",
    "    else:\n",
    "        return \"right\""
   ]
  },
  {
   "cell_type": "code",
   "execution_count": 19,
   "id": "921cbbdf-cce0-48e0-9dfa-77ed480a33c8",
   "metadata": {},
   "outputs": [],
   "source": [
    "\n",
    "take_pieces_state_machine=StateMachine(\n",
    "    (turn_purple,\"right\"),\n",
    "    ([right,until_piece_up,wait(0.1)],'up'),\n",
    "    ([up,until_close_to_piece],'left'),\n",
    "    ([left,until_left_wall],'down'),\n",
    "    ([down,until_bottom_wall],'until_turn_over'),\n",
    "     (until_turn_over,'turn_green'),\n",
    "    (turn_green,\"_end_simulation\"),\n",
    ")\n",
    "\n",
    "\n",
    "counting_state_machine=StateMachine(\n",
    "    (turn_green,\"right\"),\n",
    "    ([right,until_piece_up],'count'),\n",
    "    (count,'down'),\n",
    "    ([down,until_bottom_wall],'left'),\n",
    "    ([left,until_left_wall],\"set_move\"),\n",
    "    (set_move,take_pieces_state_machine),\n",
    ")"
   ]
  },
  {
   "cell_type": "code",
   "execution_count": 20,
   "id": "0206a2dd-c86b-4ddc-a9ea-a79d23d28f0f",
   "metadata": {},
   "outputs": [],
   "source": [
    "def monitor(t,robot):\n",
    "    robot.message=t,robot.count,robot.move,robot.controller.current_state"
   ]
  },
  {
   "cell_type": "code",
   "execution_count": 22,
   "id": "a62af257-6a47-49ea-aea6-af66bd6c0018",
   "metadata": {},
   "outputs": [
    {
     "data": {
      "image/png": "[encoded data removed]",
      "text/plain": [
       "<Figure size 432x432 with 1 Axes>"
      ]
     },
     "metadata": {
      "needs_background": "light"
     },
     "output_type": "display_data"
    }
   ],
   "source": [
    "env=FrictionEnvironment(24,24)\n",
    "robot=Robot(env)\n",
    "build(robot)\n",
    "robot.controller=Controller(counting_state_machine)\n",
    "robot.controller.monitor=monitor\n",
    "\n",
    "robot.count=0\n",
    "robot.seeing_piece=False\n",
    "robot.move=None\n",
    "\n",
    "\n",
    "for i in range(randint(1,8)):\n",
    "    Box(env,x=10+i*1.6,y=10,density=0.001)\n",
    "\n",
    "run_sim(env,robot.controller, \n",
    "        figure_width=6,\n",
    "       total_time=100,\n",
    "       dt_display=1,  # make this larger for a faster display\n",
    "       )\n"
   ]
  },
  {
   "cell_type": "markdown",
   "id": "d01f07ce-806c-4726-bcdf-cde2af764619",
   "metadata": {},
   "source": [
    "## taking a few -- pushing them up rather than to the left"
   ]
  },
  {
   "cell_type": "code",
   "execution_count": 23,
   "id": "1faf59d5-0db3-4b62-b69f-c2af793ee710",
   "metadata": {},
   "outputs": [],
   "source": [
    "\n",
    "    \n",
    "def up_some_more(t,robot):\n",
    "    up(t,robot)\n",
    "    \n",
    "    distance=robot['disk 270'].read_distance()\n",
    "    if distance>20:\n",
    "        return True\n",
    "        \n",
    "    \n",
    "    "
   ]
  },
  {
   "cell_type": "code",
   "execution_count": 24,
   "id": "1f3ce8ab-2439-4f52-b75f-3456d3504534",
   "metadata": {},
   "outputs": [],
   "source": [
    "\n",
    "take_pieces_state_machine=StateMachine(\n",
    "    (turn_purple,\"right\"),\n",
    "    ([right,until_piece_up,wait(0.1)],'up'),\n",
    "    ([up,until_close_to_piece],'up_some_more'),\n",
    "    (up_some_more,\"down\"),\n",
    "    ([down,until_bottom_wall],'left'),  # swapped the order or left and down\n",
    "    ([left,until_left_wall],'until_turn_over'),\n",
    "     (until_turn_over,'_end_simulation'),\n",
    ")\n",
    "\n",
    "\n",
    "counting_state_machine=StateMachine(\n",
    "    (turn_green,\"right\"),\n",
    "    ([right,until_piece_up],'count'),\n",
    "    (count,'down'),\n",
    "    ([down,until_bottom_wall],'left'),\n",
    "    ([left,until_left_wall],\"set_move\"),\n",
    "    (set_move,take_pieces_state_machine),\n",
    ")"
   ]
  },
  {
   "cell_type": "code",
   "execution_count": null,
   "id": "b66e0035-d105-4a4f-a179-fc35ce43a6d3",
   "metadata": {},
   "outputs": [],
   "source": []
  },
  {
   "cell_type": "code",
   "execution_count": null,
   "id": "9d0e770c-e3bf-495d-9630-47f68a807302",
   "metadata": {},
   "outputs": [],
   "source": []
  },
  {
   "cell_type": "code",
   "execution_count": null,
   "id": "ec7b069d-989e-4367-8a90-37b808eb75d1",
   "metadata": {},
   "outputs": [],
   "source": []
  },
  {
   "cell_type": "code",
   "execution_count": null,
   "id": "4b47d16a-14d6-4817-9735-b5bc3d0238df",
   "metadata": {},
   "outputs": [],
   "source": []
  },
  {
   "cell_type": "code",
   "execution_count": null,
   "id": "7206c186-31c0-4dd9-95d3-16c32e413070",
   "metadata": {},
   "outputs": [],
   "source": []
  },
  {
   "cell_type": "code",
   "execution_count": null,
   "id": "e69ca87b-6d00-4f34-bada-e89842b9e1cb",
   "metadata": {},
   "outputs": [],
   "source": []
  },
  {
   "cell_type": "code",
   "execution_count": null,
   "id": "75ba3389-e053-485d-8279-4cc503c9a613",
   "metadata": {},
   "outputs": [],
   "source": []
  },
  {
   "cell_type": "code",
   "execution_count": null,
   "id": "5cc183e4-8424-4bff-8268-84a5cf66e515",
   "metadata": {},
   "outputs": [],
   "source": []
  },
  {
   "cell_type": "code",
   "execution_count": null,
   "id": "6039a21a-0d5b-464a-953c-6ad96e300096",
   "metadata": {},
   "outputs": [],
   "source": []
  },
  {
   "cell_type": "code",
   "execution_count": null,
   "id": "e3e2413a-377a-41d5-b703-7487ddaa6389",
   "metadata": {},
   "outputs": [],
   "source": []
  },
  {
   "cell_type": "code",
   "execution_count": null,
   "id": "189ba0f2-29f9-456a-b0fe-41e442244f70",
   "metadata": {},
   "outputs": [],
   "source": []
  },
  {
   "cell_type": "code",
   "execution_count": null,
   "id": "17841392-0ecf-43bc-9a14-a437fec4e3bc",
   "metadata": {},
   "outputs": [],
   "source": []
  },
  {
   "cell_type": "code",
   "execution_count": null,
   "id": "8e8546bc-df84-4e6a-9cf4-d561b6556e53",
   "metadata": {},
   "outputs": [],
   "source": []
  },
  {
   "cell_type": "code",
   "execution_count": 30,
   "id": "017e771f-5ea7-4a45-83ff-51ba2de5f5a2",
   "metadata": {},
   "outputs": [
    {
     "data": {
      "image/png": "[encoded data removed]",
      "text/plain": [
       "<Figure size 432x432 with 1 Axes>"
      ]
     },
     "metadata": {
      "needs_background": "light"
     },
     "output_type": "display_data"
    }
   ],
   "source": [
    "env=FrictionEnvironment(24,24)\n",
    "robot=Robot(env)\n",
    "build(robot)\n",
    "robot.controller=Controller(counting_state_machine)\n",
    "robot.controller.monitor=monitor\n",
    "\n",
    "robot.count=0\n",
    "robot.seeing_piece=False\n",
    "robot.move=None\n",
    "\n",
    "\n",
    "for i in range(randint(1,8)):\n",
    "    Box(env,x=10+i*1.6,y=10,density=0.001)\n",
    "\n",
    "run_sim(env,robot.controller, \n",
    "        figure_width=6,\n",
    "       total_time=500,\n",
    "       dt_display=1,  # make this larger for a faster display\n",
    "       )\n"
   ]
  },
  {
   "cell_type": "code",
   "execution_count": null,
   "id": "c0447312-5602-4419-a859-0717b13a98bf",
   "metadata": {},
   "outputs": [],
   "source": []
  }
 ],
 "metadata": {
  "kernelspec": {
   "display_name": "Python 3",
   "language": "python",
   "name": "python3"
  },
  "language_info": {
   "codemirror_mode": {
    "name": "ipython",
    "version": 3
   },
   "file_extension": ".py",
   "mimetype": "text/x-python",
   "name": "python",
   "nbconvert_exporter": "python",
   "pygments_lexer": "ipython3",
   "version": "3.8.10"
  }
 },
 "nbformat": 4,
 "nbformat_minor": 5
}
