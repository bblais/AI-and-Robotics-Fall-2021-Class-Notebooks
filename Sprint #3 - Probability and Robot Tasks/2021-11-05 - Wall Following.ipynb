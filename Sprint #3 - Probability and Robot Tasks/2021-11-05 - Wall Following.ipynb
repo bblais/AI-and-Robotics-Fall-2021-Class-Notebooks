{
 "cells": [
  {
   "cell_type": "code",
   "execution_count": 1,
   "id": "ea927a53-d59d-4cec-a29c-b2153a67441a",
   "metadata": {},
   "outputs": [
    {
     "name": "stdout",
     "output_type": "stream",
     "text": [
      "Populating the interactive namespace from numpy and matplotlib\n"
     ]
    }
   ],
   "source": [
    "%pylab inline"
   ]
  },
  {
   "cell_type": "code",
   "execution_count": 2,
   "id": "8c49f7f9-1035-4bd9-a305-412b63fd4b59",
   "metadata": {},
   "outputs": [
    {
     "name": "stdout",
     "output_type": "stream",
     "text": [
      "Version:  0.0.43\n"
     ]
    }
   ],
   "source": [
    "from RobotSim373 import *"
   ]
  },
  {
   "cell_type": "code",
   "execution_count": 54,
   "id": "7ad61768-8d5a-41e2-bd92-91a8b343443d",
   "metadata": {},
   "outputs": [],
   "source": [
    "def build(robot):\n",
    "    R=.5\n",
    "    r=R/5\n",
    "    \n",
    "    x=10\n",
    "    y=15\n",
    "    angle=0\n",
    "    disk_center=Disk(robot,x,y,radius=R,angle=angle,name='center')\n",
    "\n",
    "    disks=[]\n",
    "    for angle in range(0,360,30):\n",
    "        disk=Disk(robot,\n",
    "                          x+(R+1.1*r)*cos(radians(angle)),\n",
    "                          y+(R+1.1*r)*sin(radians(angle)),\n",
    "                 angle=angle,radius=r,\n",
    "                 name='disk %d' % angle)\n",
    "        disks.append(disk)\n",
    "\n",
    "    connect(disk_center,disks,'weld')\n",
    "\n",
    "    robot.disks=disks\n",
    "    robot.angles=list(range(0,360,30))\n",
    "    robot.distances=[-1]*len(disks)"
   ]
  },
  {
   "cell_type": "code",
   "execution_count": 55,
   "id": "5aa3bfb5-9a15-485a-81ad-1d5a916b4931",
   "metadata": {},
   "outputs": [],
   "source": [
    "def right(t,robot):\n",
    "    for disk in robot.disks:\n",
    "        disk.F=0\n",
    "        \n",
    "    robot['disk 0'].F=10\n",
    "    return True\n",
    "\n",
    "def up(t,robot):\n",
    "    for disk in robot.disks:\n",
    "        disk.F=0\n",
    "        \n",
    "    robot['disk 90'].F=10\n",
    "    return True\n",
    "\n",
    "def down(t,robot):\n",
    "    for disk in robot.disks:\n",
    "        disk.F=0\n",
    "        \n",
    "    robot['disk 270'].F=10\n",
    "    return True\n",
    "\n",
    "def left(t,robot):\n",
    "    for disk in robot.disks:\n",
    "        disk.F=0\n",
    "        \n",
    "    robot['disk 180'].F=10\n",
    "    return True\n"
   ]
  },
  {
   "cell_type": "code",
   "execution_count": 56,
   "id": "4d8a1312-b86a-4bf8-b024-305b761067ec",
   "metadata": {},
   "outputs": [],
   "source": [
    "def monitor(t,robot):\n",
    "    robot.message=t,robot.controller.current_state"
   ]
  },
  {
   "cell_type": "code",
   "execution_count": 57,
   "id": "80894cea-c044-4c26-a873-b6e2bf4a88e3",
   "metadata": {},
   "outputs": [],
   "source": [
    "def keep_close(t,robot):\n",
    "    distance=robot['disk 0'].read_distance()\n",
    "    \n",
    "    if distance<3:\n",
    "        robot['disk 0'].F=-10\n",
    "    else:\n",
    "        robot['disk 0'].F=10\n",
    "        "
   ]
  },
  {
   "cell_type": "code",
   "execution_count": 58,
   "id": "47334f67-54e9-429c-b8c1-4ffe0820ef51",
   "metadata": {},
   "outputs": [],
   "source": [
    "def keep_close(t,robot):\n",
    "    distances=[disk.read_distance() for disk in robot.disks]\n",
    "    \n",
    "    for disk in robot.disks:\n",
    "        disk.F=0\n",
    "    \n",
    "    idx=argmin(distances)\n",
    "    distance=min(distances)\n",
    "    disk=robot.disks[idx]\n",
    "    \n",
    "    perpendicular_idx=(idx+len(robot.disks)//4) % len(robot.disks)\n",
    "    disk_perpendicular=robot.disks[perpendicular_idx]\n",
    "    \n",
    "    disk_perpendicular.F=10\n",
    "    \n",
    "    if distance<2:\n",
    "        disk.F=-10\n",
    "    else:\n",
    "        disk.F=10\n",
    "        "
   ]
  },
  {
   "cell_type": "code",
   "execution_count": 59,
   "id": "34f48f7f-17c3-4245-be94-4ec5b5a1ef58",
   "metadata": {},
   "outputs": [],
   "source": [
    "state_machine=StateMachine(\n",
    "    (up,'keep_close'),\n",
    "    (keep_close,\"_end_simulation\")\n",
    ")\n"
   ]
  },
  {
   "cell_type": "code",
   "execution_count": 63,
   "id": "e2752ff3-e4bd-4ec2-abac-c92193c8fe36",
   "metadata": {},
   "outputs": [
    {
     "data": {
      "image/png": "[encoded data removed]",
      "text/plain": [
       "<Figure size 432x432 with 1 Axes>"
      ]
     },
     "metadata": {
      "needs_background": "light"
     },
     "output_type": "display_data"
    }
   ],
   "source": [
    "env=FrictionEnvironment(35,35)\n",
    "robot=Robot(env)\n",
    "build(robot)\n",
    "robot.controller=Controller(state_machine)\n",
    "robot.controller.monitor=monitor\n",
    "\n",
    "Box(env,x=20,y=20,width=8,height=15)\n",
    "\n",
    "\n",
    "run_sim(env,robot.controller, \n",
    "        figure_width=6,\n",
    "       total_time=100,\n",
    "       dt_display=1,  # make this larger for a faster display\n",
    "       )\n"
   ]
  },
  {
   "cell_type": "code",
   "execution_count": null,
   "id": "0ddf9a43-c88f-4349-9d58-866c9e0a81d4",
   "metadata": {},
   "outputs": [],
   "source": []
  }
 ],
 "metadata": {
  "kernelspec": {
   "display_name": "Python 3",
   "language": "python",
   "name": "python3"
  },
  "language_info": {
   "codemirror_mode": {
    "name": "ipython",
    "version": 3
   },
   "file_extension": ".py",
   "mimetype": "text/x-python",
   "name": "python",
   "nbconvert_exporter": "python",
   "pygments_lexer": "ipython3",
   "version": "3.8.10"
  }
 },
 "nbformat": 4,
 "nbformat_minor": 5
}
