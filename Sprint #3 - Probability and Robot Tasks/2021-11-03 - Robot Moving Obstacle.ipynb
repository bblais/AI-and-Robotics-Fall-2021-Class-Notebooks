{
 "cells": [
  {
   "cell_type": "code",
   "execution_count": 2,
   "id": "d2321782-64ad-4148-b7ba-1debd6c0509e",
   "metadata": {},
   "outputs": [
    {
     "name": "stdout",
     "output_type": "stream",
     "text": [
      "Populating the interactive namespace from numpy and matplotlib\n"
     ]
    }
   ],
   "source": [
    "%pylab inline"
   ]
  },
  {
   "cell_type": "code",
   "execution_count": 3,
   "id": "7dc87883-e1ce-4432-b198-219f8764e166",
   "metadata": {},
   "outputs": [
    {
     "name": "stdout",
     "output_type": "stream",
     "text": [
      "Version:  0.0.41\n"
     ]
    }
   ],
   "source": [
    "from RobotSim373 import *"
   ]
  },
  {
   "cell_type": "code",
   "execution_count": 37,
   "id": "5a409e42-eacc-4c94-9a22-42a8cab0d154",
   "metadata": {},
   "outputs": [],
   "source": [
    "def build(robot):\n",
    "    R=.5\n",
    "    r=R/5\n",
    "    \n",
    "    x=15\n",
    "    y=17\n",
    "    angle=0\n",
    "    disk_center=Disk(robot,x,y,radius=R,angle=angle,name='center')\n",
    "\n",
    "    disks=[]\n",
    "    for angle in range(0,360,30):\n",
    "        disk=Disk(robot,\n",
    "                          x+(R+1.1*r)*cos(radians(angle)),\n",
    "                          y+(R+1.1*r)*sin(radians(angle)),\n",
    "                 angle=angle,radius=r,\n",
    "                 name='disk %d' % angle)\n",
    "        disks.append(disk)\n",
    "\n",
    "    connect(disk_center,disks,'weld')\n",
    "\n",
    "    left=Box(robot,x=x-2,y=y,width=.1,height=3,name=\"left\")\n",
    "    right=Box(robot,x=x+2,y=y,width=.1,height=3,name=\"right\")\n",
    "    connect(disk_center,left,'weld')    \n",
    "    connect(disk_center,right,'weld')    \n",
    "    \n",
    "    robot.disks=disks\n",
    "    robot.angles=list(range(0,360,30))\n",
    "    robot.distances=[-1]*len(disks)"
   ]
  },
  {
   "cell_type": "code",
   "execution_count": 38,
   "id": "803b5060-30f8-4f0c-91fc-394a4e62ea2e",
   "metadata": {},
   "outputs": [],
   "source": [
    "def forward(t,robot):\n",
    "    for disk in robot.disks:\n",
    "        disk.F=0\n",
    "        \n",
    "    robot['disk 0'].F=10\n",
    "    return True\n"
   ]
  },
  {
   "cell_type": "code",
   "execution_count": 39,
   "id": "be95dd7a-c01a-486b-853f-f2c161da9132",
   "metadata": {},
   "outputs": [],
   "source": [
    "def up(t,robot):\n",
    "    for disk in robot.disks:\n",
    "        disk.F=0\n",
    "        \n",
    "    robot['disk 90'].F=10\n",
    "    return True"
   ]
  },
  {
   "cell_type": "code",
   "execution_count": 40,
   "id": "2f9c608a-ac55-479f-8aef-9de7f2f1de9f",
   "metadata": {},
   "outputs": [],
   "source": [
    "def monitor(t,robot):\n",
    "    robot.message=t"
   ]
  },
  {
   "cell_type": "code",
   "execution_count": 41,
   "id": "ecd3e915-5d57-4c7a-879b-67cc4384ddba",
   "metadata": {},
   "outputs": [],
   "source": [
    "state_machine=StateMachine(\n",
    "    (forward,'forward'),\n",
    ")\n",
    "\n",
    "\n"
   ]
  },
  {
   "cell_type": "code",
   "execution_count": 44,
   "id": "52c0e2ea-6ea5-45f2-ad53-301f3d2fbb91",
   "metadata": {},
   "outputs": [
    {
     "data": {
      "image/png": "[encoded data removed]",
      "text/plain": [
       "<Figure size 432x432 with 1 Axes>"
      ]
     },
     "metadata": {
      "needs_background": "light"
     },
     "output_type": "display_data"
    }
   ],
   "source": [
    "env=FrictionEnvironment(24,24)\n",
    "robot=Robot(env)\n",
    "build(robot)\n",
    "robot.controller=Controller(state_machine)\n",
    "robot.controller.monitor=monitor\n",
    "\n",
    "Box(env,x=10,y=10)\n",
    "\n",
    "run_sim(env,robot.controller,\n",
    "        figure_width=6,\n",
    "       total_time=30,\n",
    "       dt_display=0.3,  # make this larger for a faster display\n",
    "       )\n"
   ]
  },
  {
   "cell_type": "markdown",
   "id": "6b8d31d1-b97a-4e3d-a7c5-425fa7f68450",
   "metadata": {},
   "source": [
    "Let's say I want to start robot in lower left, take this piece that is at 10,10 and move it to 15,10 and then return to the lower left.\n",
    "\n",
    "- move to the right until aligned with the object (known location, or distance sensor) = move to the right until x=10\n",
    "- move up until y=8\n",
    "- move again to the right until x=15\n",
    "- move down to the ground\n",
    "- move back to the left wall\n",
    "\n"
   ]
  },
  {
   "cell_type": "code",
   "execution_count": null,
   "id": "8dac91fb-9b09-4789-a773-42f79a1b92a0",
   "metadata": {},
   "outputs": [],
   "source": []
  }
 ],
 "metadata": {
  "kernelspec": {
   "display_name": "Python 3",
   "language": "python",
   "name": "python3"
  },
  "language_info": {
   "codemirror_mode": {
    "name": "ipython",
    "version": 3
   },
   "file_extension": ".py",
   "mimetype": "text/x-python",
   "name": "python",
   "nbconvert_exporter": "python",
   "pygments_lexer": "ipython3",
   "version": "3.8.10"
  }
 },
 "nbformat": 4,
 "nbformat_minor": 5
}
