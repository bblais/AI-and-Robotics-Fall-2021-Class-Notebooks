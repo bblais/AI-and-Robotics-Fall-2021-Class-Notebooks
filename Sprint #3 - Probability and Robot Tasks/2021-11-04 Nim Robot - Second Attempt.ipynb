{
 "cells": [
  {
   "cell_type": "code",
   "execution_count": 1,
   "id": "1862a4ac-44b4-49c2-90ad-26ada5649edf",
   "metadata": {},
   "outputs": [
    {
     "name": "stdout",
     "output_type": "stream",
     "text": [
      "Populating the interactive namespace from numpy and matplotlib\n"
     ]
    }
   ],
   "source": [
    "%pylab inline"
   ]
  },
  {
   "cell_type": "code",
   "execution_count": 2,
   "id": "5349e4d3-1593-46e2-a601-51fde9764b70",
   "metadata": {},
   "outputs": [
    {
     "name": "stdout",
     "output_type": "stream",
     "text": [
      "Version:  0.0.43\n"
     ]
    }
   ],
   "source": [
    "from RobotSim373 import *"
   ]
  },
  {
   "cell_type": "code",
   "execution_count": 3,
   "id": "9c9def8b-2c93-4540-804c-f42c34d702c7",
   "metadata": {},
   "outputs": [],
   "source": [
    "def build(robot):\n",
    "    R=.5\n",
    "    r=R/5\n",
    "    \n",
    "    x=1\n",
    "    y=2\n",
    "    angle=0\n",
    "    disk_center=Disk(robot,x,y,radius=R,angle=angle,name='center')\n",
    "\n",
    "    disks=[]\n",
    "    for angle in range(0,360,30):\n",
    "        disk=Disk(robot,\n",
    "                          x+(R+1.1*r)*cos(radians(angle)),\n",
    "                          y+(R+1.1*r)*sin(radians(angle)),\n",
    "                 angle=angle,radius=r,\n",
    "                 name='disk %d' % angle)\n",
    "        disks.append(disk)\n",
    "\n",
    "    connect(disk_center,disks,'weld')\n",
    "\n",
    "    robot.disks=disks\n",
    "    robot.angles=list(range(0,360,30))\n",
    "    robot.distances=[-1]*len(disks)\n",
    "    \n",
    "    \n",
    "    robot.boxes=[]\n",
    "    for i in range(11):\n",
    "        box=Box(robot,x=5+i*1.6,y=1,width=.2,height=1,angle=90,name=\"Box %d\" % i)\n",
    "        robot.boxes.append(box)\n"
   ]
  },
  {
   "cell_type": "code",
   "execution_count": 4,
   "id": "93b8de1e-3553-4125-a995-43aebf97fe65",
   "metadata": {},
   "outputs": [],
   "source": [
    "def forward(t,robot):\n",
    "    for disk in robot.disks:\n",
    "        disk.F=0\n",
    "        \n",
    "    robot['disk 0'].F=10\n",
    "    return True\n",
    "\n",
    "def wait2(t,robot):\n",
    "    if t>2:\n",
    "        return True\n",
    "\n",
    "def wait3(t,robot):\n",
    "    if t>3:\n",
    "        return True\n",
    "\n",
    "def up(t,robot):\n",
    "    for disk in robot.disks:\n",
    "        disk.F=0\n",
    "        \n",
    "    robot['disk 90'].F=10\n",
    "    return True"
   ]
  },
  {
   "cell_type": "code",
   "execution_count": 5,
   "id": "10622e53-86dc-4bc9-8ba2-f8ede06e8ad9",
   "metadata": {},
   "outputs": [],
   "source": [
    "def monitor(t,robot):\n",
    "    robot.message=t"
   ]
  },
  {
   "cell_type": "code",
   "execution_count": null,
   "id": "bae0accf-10ac-4f77-b3ef-eb6f67996963",
   "metadata": {},
   "outputs": [],
   "source": []
  },
  {
   "cell_type": "code",
   "execution_count": null,
   "id": "2081cc89-f3a4-44cf-a2be-22be7e6634d8",
   "metadata": {},
   "outputs": [],
   "source": [
    "def turn_green(t,robot):\n",
    "    robot.color='g'\n",
    "    return True\n",
    "\n",
    "def turn_red(t,robot):\n",
    "    robot.color='r'\n",
    "    return True\n",
    "\n",
    "def turn_purple(t,robot):\n",
    "    robot.color='purple'\n",
    "    return True"
   ]
  },
  {
   "cell_type": "code",
   "execution_count": null,
   "id": "1c498ba0-4ef1-4568-81aa-7ba236f49453",
   "metadata": {},
   "outputs": [],
   "source": []
  },
  {
   "cell_type": "code",
   "execution_count": null,
   "id": "2eec1ec7-75c3-4815-8d99-72b86bd378df",
   "metadata": {},
   "outputs": [],
   "source": []
  },
  {
   "cell_type": "code",
   "execution_count": null,
   "id": "be319878-51da-4d62-9f72-6ab05a3abcb7",
   "metadata": {},
   "outputs": [],
   "source": []
  },
  {
   "cell_type": "code",
   "execution_count": null,
   "id": "3f2853cb-df47-4592-b36a-fb403db03909",
   "metadata": {},
   "outputs": [],
   "source": []
  },
  {
   "cell_type": "code",
   "execution_count": null,
   "id": "d806920f-3e7a-4de8-a9fa-1072aa8108bd",
   "metadata": {},
   "outputs": [],
   "source": []
  },
  {
   "cell_type": "code",
   "execution_count": 6,
   "id": "f9595973-f826-466d-bf21-072d59da372f",
   "metadata": {},
   "outputs": [],
   "source": [
    "def read_distances(t,robot):\n",
    "    robot.distances=[disk.read_distance() for disk in robot.disks]\n",
    "    robot.box_distances=[box.read_distance() for box in robot.boxes]\n",
    "    return True\n",
    "\n",
    "\n",
    "\n",
    "def set_move(t,robot):\n",
    "    from Game import Board \n",
    "    \n",
    "    count=0\n",
    "    for distance in robot.box_distances:\n",
    "        if distance<20:\n",
    "            count+=1\n",
    "            \n",
    "            \n",
    "    state=Board(1,count)\n",
    "    print(state)\n",
    "            \n",
    "    robot.count=count\n",
    "    robot.move=(count-1)%4\n",
    "    if robot.move==0:\n",
    "        robot.move=1\n",
    "        \n",
    "    return True\n",
    "\n",
    "def until_piece_up(t,robot):\n",
    "    distance=robot['disk 90'].read_distance()\n",
    "    \n",
    "    if distance<10:\n",
    "        return True    \n",
    "\n",
    "def until_piece_up_or_wall(t,robot):\n",
    "    distance=robot['disk 90'].read_distance()\n",
    "    \n",
    "    if distance<10:\n",
    "        return True    \n",
    "    \n",
    "    distance=robot['disk 0'].read_distance()\n",
    "    \n",
    "    if distance<2:\n",
    "        return '_end_simulation'    \n",
    "    \n",
    "    \n",
    "def until_not_piece_up(t,robot):\n",
    "    distance=robot['disk 90'].read_distance()\n",
    "    \n",
    "    if distance>10:\n",
    "        return True    \n",
    "        \n",
    "def move_pt5(t,robot):\n",
    "    \n",
    "    try:\n",
    "        traveled=robot['center'].x-robot.move_pt5_x\n",
    "    except AttributeError:  \n",
    "        robot.move_pt5_x=robot['center'].x\n",
    "        traveled=0.0\n",
    "        \n",
    "    if traveled>0.5:\n",
    "        del robot.move_pt5_x\n",
    "        return True\n",
    "    \n",
    "    \n",
    "def launch(t,robot):\n",
    "    \n",
    "    disk=Box(robot,x=robot['center'].x,y=robot['center'].y+1,angle=90,width=0.5,height=0.5)\n",
    "    disk.F=10\n",
    "    \n",
    "    return True\n",
    "\n",
    "def forward_to_move(t,robot):\n",
    "    for disk in robot.disks:\n",
    "        disk.F=0\n",
    "        \n",
    "    robot['disk 0'].F=10\n",
    "\n",
    "    target_box=robot.count-robot.move\n",
    "    target_x=robot.boxes[target_box].x-.4\n",
    "    \n",
    "    if robot['center'].x>=target_x:\n",
    "        return True\n",
    "    \n",
    "    \n",
    "\n",
    "\n",
    "    \n",
    "def until_turn_over(t,robot):\n",
    "    robot.move-=1\n",
    "    robot.color=f\"#{randint(0x1000000):06x}\"\n",
    "\n",
    "    if robot.move==0:\n",
    "        return \"_end_simulation\"\n",
    "    else:\n",
    "        return \"right\""
   ]
  },
  {
   "cell_type": "code",
   "execution_count": 1,
   "id": "bc598f0d-e6f6-4b61-a50d-e67813ab381d",
   "metadata": {},
   "outputs": [
    {
     "name": "stdout",
     "output_type": "stream",
     "text": [
      "Version:  0.2.35\n"
     ]
    }
   ],
   "source": []
  },
  {
   "cell_type": "code",
   "execution_count": 7,
   "id": "c6d6a60f-6f0c-4b94-a903-4732eac8093b",
   "metadata": {},
   "outputs": [],
   "source": [
    "state_machine=StateMachine(\n",
    "    ([read_distances,set_move],\"forward_to_move\"),\n",
    "    ([forward_to_move,turn_purple],\"forward\"),\n",
    "    ([forward,until_piece_up,move_pt5],'launch'),\n",
    "     ([launch,until_not_piece_up,until_piece_up_or_wall,move_pt5],'launch'),\n",
    ")\n",
    "\n",
    "\n"
   ]
  },
  {
   "cell_type": "code",
   "execution_count": null,
   "id": "fe4dfc6f-cc39-40d6-aaec-30f0357324e7",
   "metadata": {},
   "outputs": [],
   "source": [
    "def get_human_input(t,robot):\n",
    "    move=input(\"give me a move\")\n",
    "    robot.move=move\n",
    "    return True"
   ]
  },
  {
   "cell_type": "code",
   "execution_count": null,
   "id": "04a0e0b4-e84b-4001-9387-09811b776462",
   "metadata": {},
   "outputs": [],
   "source": []
  },
  {
   "cell_type": "code",
   "execution_count": null,
   "id": "5e7c1120-a0d3-4f5f-861d-1b11ce01cc39",
   "metadata": {},
   "outputs": [],
   "source": []
  },
  {
   "cell_type": "code",
   "execution_count": null,
   "id": "3f0adb23-adef-4cf2-a7e9-873306473570",
   "metadata": {},
   "outputs": [],
   "source": []
  },
  {
   "cell_type": "code",
   "execution_count": null,
   "id": "cc08ff03-c7d3-442a-84b2-a7c3665fa9a5",
   "metadata": {},
   "outputs": [],
   "source": []
  },
  {
   "cell_type": "code",
   "execution_count": null,
   "id": "c63af916-8fb2-473d-8e5a-b4836d4aa2d4",
   "metadata": {},
   "outputs": [],
   "source": []
  },
  {
   "cell_type": "code",
   "execution_count": null,
   "id": "90b8da03-7c4f-4108-8b11-57c3a7a26b4d",
   "metadata": {},
   "outputs": [],
   "source": []
  },
  {
   "cell_type": "code",
   "execution_count": null,
   "id": "529ccaef-5a43-4952-ab08-dcd824805097",
   "metadata": {},
   "outputs": [],
   "source": []
  },
  {
   "cell_type": "code",
   "execution_count": null,
   "id": "0ca75a2f-b103-4b56-a1a4-7cb4965205df",
   "metadata": {},
   "outputs": [],
   "source": []
  },
  {
   "cell_type": "code",
   "execution_count": null,
   "id": "db2ffcbe-6687-4583-9023-c4fe464c5de8",
   "metadata": {},
   "outputs": [],
   "source": []
  },
  {
   "cell_type": "markdown",
   "id": "698a3dc4-041a-474e-b64a-fd867c84e7db",
   "metadata": {},
   "source": [
    "Set move code:\n",
    "```python\n",
    "def set_move(t,robot):\n",
    "    count=0\n",
    "    for distance in robot.box_distances:\n",
    "        if distance<20:\n",
    "            count+=1\n",
    "            \n",
    "    robot.count=count\n",
    "    robot.move=(count-1)%4\n",
    "    if robot.move==0:\n",
    "        robot.move=1\n",
    "        \n",
    "    return True\n",
    "```"
   ]
  },
  {
   "cell_type": "code",
   "execution_count": 13,
   "id": "b4ef9c6b-d1db-44d0-8188-ee524c0d478a",
   "metadata": {},
   "outputs": [
    {
     "data": {
      "image/png": "[encoded data removed]",
      "text/plain": [
       "<Figure size 432x432 with 1 Axes>"
      ]
     },
     "metadata": {
      "needs_background": "light"
     },
     "output_type": "display_data"
    }
   ],
   "source": [
    "env=FrictionEnvironment(24,24)\n",
    "robot=Robot(env)\n",
    "build(robot)\n",
    "robot.controller=Controller(state_machine)\n",
    "robot.controller.monitor=monitor\n",
    "\n",
    "robot.count=0\n",
    "robot.seeing_piece=False\n",
    "\n",
    "N=randint(1,11)\n",
    "N=8\n",
    "for i in range(N):\n",
    "    Box(env,x=5+i*1.6,y=10,density=0.001)\n",
    "\n",
    "run_sim(env,robot.controller, \n",
    "        figure_width=6,\n",
    "       total_time=100,\n",
    "       dt_display=0.1,  # make this larger for a faster display\n",
    "       )\n"
   ]
  },
  {
   "cell_type": "code",
   "execution_count": null,
   "id": "9d441400-86ea-411b-857c-7b5e0b4fadd5",
   "metadata": {},
   "outputs": [],
   "source": []
  }
 ],
 "metadata": {
  "kernelspec": {
   "display_name": "Python 3",
   "language": "python",
   "name": "python3"
  },
  "language_info": {
   "codemirror_mode": {
    "name": "ipython",
    "version": 3
   },
   "file_extension": ".py",
   "mimetype": "text/x-python",
   "name": "python",
   "nbconvert_exporter": "python",
   "pygments_lexer": "ipython3",
   "version": "3.8.10"
  }
 },
 "nbformat": 4,
 "nbformat_minor": 5
}
