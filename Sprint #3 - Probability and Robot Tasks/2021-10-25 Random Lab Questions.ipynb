{
 "cells": [
  {
   "cell_type": "code",
   "execution_count": 1,
   "id": "740c3719-fda4-490b-a959-b2fee2db4c38",
   "metadata": {},
   "outputs": [
    {
     "name": "stdout",
     "output_type": "stream",
     "text": [
      "Version:  0.2.32\n"
     ]
    }
   ],
   "source": [
    "from Game import *"
   ]
  },
  {
   "cell_type": "code",
   "execution_count": 3,
   "id": "013f40b3-e35e-421c-8418-83ea5387676d",
   "metadata": {},
   "outputs": [
    {
     "data": {
      "text/plain": [
       " 0  0  1  3 \n",
       " 1  2  0  3 \n",
       " 0  0  2  4 \n",
       " 4  0  0  0 "
      ]
     },
     "execution_count": 3,
     "metadata": {},
     "output_type": "execute_result"
    }
   ],
   "source": [
    "state=Board(4,4)\n",
    "state[2]=state[4]=1\n",
    "state[5]=state[10]=2\n",
    "state[3]=state[7]=3\n",
    "state[11]=state[12]=4\n",
    "state"
   ]
  },
  {
   "cell_type": "code",
   "execution_count": 4,
   "id": "8d1055c0-bb54-45ce-b541-e80c8746b846",
   "metadata": {},
   "outputs": [],
   "source": [
    "state.pieces=['.','X','O','K','R']"
   ]
  },
  {
   "cell_type": "code",
   "execution_count": 5,
   "id": "159d72f2-efee-45ed-80fe-96ff8b05ac86",
   "metadata": {},
   "outputs": [
    {
     "data": {
      "text/plain": [
       " .  .  X  K \n",
       " X  O  .  K \n",
       " .  .  O  R \n",
       " R  .  .  . "
      ]
     },
     "execution_count": 5,
     "metadata": {},
     "output_type": "execute_result"
    }
   ],
   "source": [
    "state"
   ]
  },
  {
   "cell_type": "code",
   "execution_count": 7,
   "id": "d6cf1f75-5143-41db-a71f-72209b0b68b4",
   "metadata": {},
   "outputs": [
    {
     "data": {
      "text/plain": [
       "(1, 3)"
      ]
     },
     "execution_count": 7,
     "metadata": {},
     "output_type": "execute_result"
    }
   ],
   "source": [
    "r,c=state.rc_from_index(7)\n",
    "r,c"
   ]
  },
  {
   "cell_type": "code",
   "execution_count": 8,
   "id": "c392fd4a-8573-4a48-9e9f-320e68233206",
   "metadata": {},
   "outputs": [
    {
     "data": {
      "text/plain": [
       "7"
      ]
     },
     "execution_count": 8,
     "metadata": {},
     "output_type": "execute_result"
    }
   ],
   "source": [
    "idx=state.index_from_rc(1,3)\n",
    "idx"
   ]
  },
  {
   "cell_type": "code",
   "execution_count": null,
   "id": "b7b80d82-9300-4554-bd6a-bdadad04ed17",
   "metadata": {},
   "outputs": [],
   "source": []
  }
 ],
 "metadata": {
  "kernelspec": {
   "display_name": "Python 3",
   "language": "python",
   "name": "python3"
  },
  "language_info": {
   "codemirror_mode": {
    "name": "ipython",
    "version": 3
   },
   "file_extension": ".py",
   "mimetype": "text/x-python",
   "name": "python",
   "nbconvert_exporter": "python",
   "pygments_lexer": "ipython3",
   "version": "3.8.10"
  }
 },
 "nbformat": 4,
 "nbformat_minor": 5
}
