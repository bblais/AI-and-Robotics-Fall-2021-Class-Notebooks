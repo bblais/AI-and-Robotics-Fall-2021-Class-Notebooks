{
 "cells": [
  {
   "cell_type": "code",
   "execution_count": 1,
   "id": "bb1aff12-5447-4dd3-ac34-d9614ed55f36",
   "metadata": {},
   "outputs": [
    {
     "name": "stdout",
     "output_type": "stream",
     "text": [
      "Version:  0.2.33\n"
     ]
    }
   ],
   "source": [
    "from Game import *"
   ]
  },
  {
   "cell_type": "code",
   "execution_count": 2,
   "id": "405f83b2-0576-43cb-ad5f-ba2b4544ac0e",
   "metadata": {},
   "outputs": [
    {
     "data": {
      "text/plain": [
       "'AH'"
      ]
     },
     "execution_count": 2,
     "metadata": {},
     "output_type": "execute_result"
    }
   ],
   "source": [
    "Card(1,'h')"
   ]
  },
  {
   "cell_type": "code",
   "execution_count": 3,
   "id": "8c2607f5-1847-49f3-b1e7-37898e36b8ef",
   "metadata": {},
   "outputs": [
    {
     "data": {
      "text/plain": [
       "'KH'"
      ]
     },
     "execution_count": 3,
     "metadata": {},
     "output_type": "execute_result"
    }
   ],
   "source": [
    "Card(13,'h')"
   ]
  },
  {
   "cell_type": "code",
   "execution_count": 4,
   "id": "3f83a0ea-495f-4e2e-bfae-02c28201e5b5",
   "metadata": {},
   "outputs": [],
   "source": [
    "c=Card(13,'h')"
   ]
  },
  {
   "cell_type": "code",
   "execution_count": 5,
   "id": "827d5f61-f916-4e6d-b077-4e3681a0b4a2",
   "metadata": {},
   "outputs": [
    {
     "data": {
      "text/plain": [
       "13"
      ]
     },
     "execution_count": 5,
     "metadata": {},
     "output_type": "execute_result"
    }
   ],
   "source": [
    "c.rank"
   ]
  },
  {
   "cell_type": "code",
   "execution_count": 6,
   "id": "71a06e93-a9b8-4395-88d7-c3ec1bef97cc",
   "metadata": {},
   "outputs": [
    {
     "data": {
      "text/plain": [
       "'H'"
      ]
     },
     "execution_count": 6,
     "metadata": {},
     "output_type": "execute_result"
    }
   ],
   "source": [
    "c.suit"
   ]
  },
  {
   "cell_type": "code",
   "execution_count": 7,
   "id": "d7afa3cf-122c-4205-ad7f-4b607e471115",
   "metadata": {},
   "outputs": [
    {
     "data": {
      "text/plain": [
       "['5S',\n",
       " '7C',\n",
       " '10H',\n",
       " 'KD',\n",
       " 'JD',\n",
       " '6H',\n",
       " '6S',\n",
       " '2H',\n",
       " '3C',\n",
       " 'AC',\n",
       " 'KH',\n",
       " '5C',\n",
       " 'JH',\n",
       " 'AD',\n",
       " '10S',\n",
       " '4C',\n",
       " '6D',\n",
       " '3H',\n",
       " 'QC',\n",
       " '2C',\n",
       " '8H',\n",
       " '7H',\n",
       " '9C',\n",
       " 'KS',\n",
       " '2D',\n",
       " '7S',\n",
       " '9H',\n",
       " '6C',\n",
       " '7D',\n",
       " '3S',\n",
       " '4H',\n",
       " '4S',\n",
       " 'JS',\n",
       " '3D',\n",
       " '9S',\n",
       " 'AS',\n",
       " 'JC',\n",
       " '9D',\n",
       " '2S',\n",
       " '10D',\n",
       " '5H',\n",
       " '8C',\n",
       " '5D',\n",
       " 'QD',\n",
       " 'QS',\n",
       " 'KC',\n",
       " '8D',\n",
       " '4D',\n",
       " '10C',\n",
       " 'AH',\n",
       " 'QH',\n",
       " '8S']"
      ]
     },
     "execution_count": 7,
     "metadata": {},
     "output_type": "execute_result"
    }
   ],
   "source": [
    "deck=makedeck()\n",
    "deck"
   ]
  },
  {
   "cell_type": "code",
   "execution_count": 8,
   "id": "929157ae-be45-4f21-8c3b-c48d7fae2d7b",
   "metadata": {},
   "outputs": [
    {
     "name": "stdout",
     "output_type": "stream",
     "text": [
      "['5S', '7C']\n",
      "50 ['10H', 'KD', 'JD', '6H', '6S', '2H', '3C', 'AC', 'KH', '5C', 'JH', 'AD', '10S', '4C', '6D', '3H', 'QC', '2C', '8H', '7H', '9C', 'KS', '2D', '7S', '9H', '6C', '7D', '3S', '4H', '4S', 'JS', '3D', '9S', 'AS', 'JC', '9D', '2S', '10D', '5H', '8C', '5D', 'QD', 'QS', 'KC', '8D', '4D', '10C', 'AH', 'QH', '8S']\n"
     ]
    }
   ],
   "source": [
    "cards=deal(deck,2)\n",
    "print(cards)\n",
    "print(len(deck),deck)"
   ]
  },
  {
   "cell_type": "code",
   "execution_count": 11,
   "id": "1ff04426-88a3-4108-8e9f-ff5991cccc73",
   "metadata": {},
   "outputs": [
    {
     "data": {
      "text/plain": [
       "['KH', '9S']"
      ]
     },
     "execution_count": 11,
     "metadata": {},
     "output_type": "execute_result"
    }
   ],
   "source": [
    "cards=[Card(13,'h'),Card(9,'s')]\n",
    "cards"
   ]
  },
  {
   "cell_type": "code",
   "execution_count": 14,
   "id": "701c957d-d1e1-4cb6-a727-79873ad1cffd",
   "metadata": {},
   "outputs": [],
   "source": [
    "def score(cards):\n",
    "    \n",
    "    total=0\n",
    "    for card in cards:\n",
    "        \n",
    "        if card.rank==13:\n",
    "            total+=10\n",
    "        else:\n",
    "            total+=card.rank\n",
    "        \n",
    "    return total"
   ]
  },
  {
   "cell_type": "code",
   "execution_count": 15,
   "id": "883c337d-6202-4cc5-a973-0a5b7e597a5d",
   "metadata": {},
   "outputs": [
    {
     "data": {
      "text/plain": [
       "19"
      ]
     },
     "execution_count": 15,
     "metadata": {},
     "output_type": "execute_result"
    }
   ],
   "source": [
    "score(cards)"
   ]
  },
  {
   "cell_type": "code",
   "execution_count": 22,
   "id": "fe753eb4-5d48-404b-8c48-f678ee38839c",
   "metadata": {},
   "outputs": [
    {
     "name": "stdout",
     "output_type": "stream",
     "text": [
      "5\n",
      "1\n",
      "5\n",
      "4\n",
      "3\n"
     ]
    }
   ],
   "source": [
    "for r in range(5):\n",
    "    dice=random.randint(1,6)\n",
    "    print(dice)"
   ]
  },
  {
   "cell_type": "code",
   "execution_count": 23,
   "id": "4e969434-d410-4486-b29a-8a1cde471362",
   "metadata": {},
   "outputs": [
    {
     "data": {
      "text/plain": [
       "3"
      ]
     },
     "execution_count": 23,
     "metadata": {},
     "output_type": "execute_result"
    }
   ],
   "source": [
    "dice"
   ]
  },
  {
   "cell_type": "markdown",
   "id": "062dab7d-df54-46eb-a215-85000330febe",
   "metadata": {},
   "source": [
    "if I want to sum them all up"
   ]
  },
  {
   "cell_type": "code",
   "execution_count": 35,
   "id": "43522abd-bfd7-4a38-97fb-c5cfe9e3b741",
   "metadata": {},
   "outputs": [
    {
     "name": "stdout",
     "output_type": "stream",
     "text": [
      "6 6\n",
      "5 11\n",
      "2 13\n",
      "6 19\n",
      "5 24\n",
      "24\n"
     ]
    }
   ],
   "source": [
    "total=0\n",
    "for r in range(5):\n",
    "    dice=random.randint(1,6)\n",
    "    total+=dice\n",
    "    print(dice,total)\n",
    "    if dice==1:\n",
    "        total=0\n",
    "        break\n",
    "\n",
    "print(total)        "
   ]
  },
  {
   "cell_type": "code",
   "execution_count": 40,
   "id": "8795e5e7-8a6a-413b-ae08-a0ee21f76b9a",
   "metadata": {},
   "outputs": [
    {
     "data": {
      "text/plain": [
       "[5, 5, 4, 6, 3]"
      ]
     },
     "execution_count": 40,
     "metadata": {},
     "output_type": "execute_result"
    }
   ],
   "source": [
    "dice=[random.randint(1,6) for i in range(5)]\n",
    "\n",
    "dice"
   ]
  },
  {
   "cell_type": "code",
   "execution_count": 41,
   "id": "051545bf-8a1d-4307-bc36-8df11f142ac6",
   "metadata": {},
   "outputs": [],
   "source": [
    "if 1 in dice:\n",
    "    total=0\n",
    "else:\n",
    "    total=sum(dice)"
   ]
  },
  {
   "cell_type": "code",
   "execution_count": 42,
   "id": "0e131414-1194-48c7-8a26-22bfe3335f64",
   "metadata": {},
   "outputs": [
    {
     "data": {
      "text/plain": [
       "23"
      ]
     },
     "execution_count": 42,
     "metadata": {},
     "output_type": "execute_result"
    }
   ],
   "source": [
    "total"
   ]
  },
  {
   "cell_type": "code",
   "execution_count": 39,
   "id": "3940d5d1-f7cc-4b68-8949-17e1b63222ea",
   "metadata": {},
   "outputs": [
    {
     "name": "stdout",
     "output_type": "stream",
     "text": [
      "3\n",
      "1\n"
     ]
    }
   ],
   "source": [
    "repeat=True\n",
    "while repeat:\n",
    "\n",
    "    repeat=False\n",
    "    dice=random.randint(1,6)\n",
    "    print(dice)\n",
    "    if dice==1:\n",
    "        pass\n",
    "    elif dice==2:\n",
    "        pass\n",
    "    elif dice==3:\n",
    "        repeat=True\n",
    "        \n",
    "    else:\n",
    "        pass\n",
    "    "
   ]
  },
  {
   "cell_type": "code",
   "execution_count": null,
   "id": "a64c3ab1-f927-417b-81a9-9487bb7eb9bf",
   "metadata": {},
   "outputs": [],
   "source": []
  },
  {
   "cell_type": "code",
   "execution_count": null,
   "id": "b6975990-35d8-4bf2-a0b7-893595956bb7",
   "metadata": {},
   "outputs": [],
   "source": []
  }
 ],
 "metadata": {
  "kernelspec": {
   "display_name": "Python 3",
   "language": "python",
   "name": "python3"
  },
  "language_info": {
   "codemirror_mode": {
    "name": "ipython",
    "version": 3
   },
   "file_extension": ".py",
   "mimetype": "text/x-python",
   "name": "python",
   "nbconvert_exporter": "python",
   "pygments_lexer": "ipython3",
   "version": "3.8.10"
  }
 },
 "nbformat": 4,
 "nbformat_minor": 5
}
