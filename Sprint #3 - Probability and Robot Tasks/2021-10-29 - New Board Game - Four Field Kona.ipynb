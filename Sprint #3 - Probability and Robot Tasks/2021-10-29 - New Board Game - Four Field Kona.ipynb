{
 "cells": [
  {
   "cell_type": "code",
   "execution_count": 1,
   "id": "51a4de01-02d6-4e46-8977-5bc2e318aad2",
   "metadata": {},
   "outputs": [
    {
     "name": "stdout",
     "output_type": "stream",
     "text": [
      "Version:  0.2.32\n"
     ]
    }
   ],
   "source": [
    "from Game import *"
   ]
  },
  {
   "cell_type": "markdown",
   "id": "6afd5b3e-5314-41de-a871-57b65a30c616",
   "metadata": {},
   "source": [
    "https://en.wikipedia.org/wiki/Four_Field_Kono\n",
    "\n",
    "The goal of each player is to capture the other player's pieces and reduce it to one. This is because with only one piece, a player can no longer execute a capture. Another way to win is for a player to immobilize the other player's pieces so that they cannot move or capture.\n",
    "\n",
    "The game is played according to these rules.[1]\n",
    "\n",
    "1. Players decide what color marbles to play, and who goes first.\n",
    "2. The board is completely filled with the 16 marbles in the beginning. Each player's marbles are set up on their half of the board.\n",
    "3. Since the board is filled up in the beginning and hence no vacant holes, the first move by the first player will be a capturing move.\n",
    "4. A capturing move requires a player's marble to jump over one of his own adjacent marbles orthogonally (not diagonally), and to land onto an enemy marble which is then removed from the board and replaced with the player's marble. Only one marble can be used to capture or move per turn. Multiple captures are not allowed. Once a marble has captured one enemy marble, the turn is completed. Captures are not compulsory.\n",
    "5. A marble can move orthogonally (not diagonally) one space per turn onto a vacant hole.\n",
    "6. Players alternate their turns throughout the game.\n",
    "\n",
    "\n",
    "\n",
    "<img src=\"images/2019-09-24 07.21.03 am.png\" width=100>\n",
    "\n",
    "\n",
    "<img src=\"images/2019-09-24 07.24.27 am.png\" width=400>\n"
   ]
  },
  {
   "cell_type": "markdown",
   "id": "a3de4929-4f2d-4ee2-9944-d8d89b722107",
   "metadata": {},
   "source": [
    "## Game functions"
   ]
  },
  {
   "cell_type": "code",
   "execution_count": 2,
   "id": "feb06ed2-f810-491a-9799-d13c80aa6877",
   "metadata": {},
   "outputs": [],
   "source": [
    "def initial_state():\n",
    "    state=Board(4,4)\n",
    "    \n",
    "    for r in range(4):\n",
    "        for c in range(2):\n",
    "            state[r,c]=1\n",
    "            state[r,c+2]=2\n",
    "    return state"
   ]
  },
  {
   "cell_type": "code",
   "execution_count": 3,
   "id": "c8af1d17-028e-41f9-abe4-6a659048c8dd",
   "metadata": {},
   "outputs": [
    {
     "name": "stdout",
     "output_type": "stream",
     "text": [
      " 0  1  2  3 \n",
      " 4  5  6  7 \n",
      " 8  9 10 11 \n",
      "12 13 14 15 \n",
      "\n"
     ]
    },
    {
     "data": {
      "text/plain": [
       " 1  1  2  2 \n",
       " 1  1  2  2 \n",
       " 1  1  2  2 \n",
       " 1  1  2  2 "
      ]
     },
     "execution_count": 3,
     "metadata": {},
     "output_type": "execute_result"
    }
   ],
   "source": [
    "state=initial_state()\n",
    "state.show_locations()\n",
    "state"
   ]
  },
  {
   "cell_type": "code",
   "execution_count": 4,
   "id": "941b86a2-f9f1-43cc-8a25-46713ee11811",
   "metadata": {},
   "outputs": [],
   "source": [
    "def show_state(state):\n",
    "    print(state)\n",
    "    \n",
    "def update_state(state,player,move):\n",
    "    # a move is a start and an end\n",
    "    start,end=move\n",
    "    new_state=state\n",
    "    new_state[start]=0\n",
    "    new_state[end]=player\n",
    "    return new_state"
   ]
  },
  {
   "cell_type": "code",
   "execution_count": 5,
   "id": "1f3d402f-c7db-4e72-8d60-c97eb971d0dd",
   "metadata": {},
   "outputs": [],
   "source": [
    "def win_status(state,player):\n",
    "    if player==1:\n",
    "        other_player=2\n",
    "    else:\n",
    "        other_player=1\n",
    "        \n",
    "    if not valid_moves(state,other_player):\n",
    "        return 'win'\n",
    "    \n",
    "    # count the pieces of the other player\n",
    "    count=0\n",
    "    for i in range(16):\n",
    "        if state[i]==other_player:\n",
    "            count+=1\n",
    "    if count==1:\n",
    "        return 'win'\n",
    "    \n",
    "    return None  # middle of the game"
   ]
  },
  {
   "cell_type": "code",
   "execution_count": 6,
   "id": "b166ed6b-a301-45f6-94d2-ce643cfac77f",
   "metadata": {},
   "outputs": [],
   "source": [
    "def valid_moves(state,player):\n",
    "    \n",
    "    #  0  1  2  3 \n",
    "    #  4  5  6  7 \n",
    "    #  8  9 10 11 \n",
    "    # 12 13 14 15     \n",
    "    if player==1:\n",
    "        other_player=2\n",
    "    else:\n",
    "        other_player=1\n",
    "    \n",
    "    moves=[]\n",
    "    # right/left-moving capture\n",
    "    for start in [0,1,4,5,8,9,12,13]:\n",
    "        middle=start+1\n",
    "        end=start+2\n",
    "        \n",
    "        # right jump\n",
    "        if state[start]==player and state[middle]==player and state[end]==other_player:\n",
    "            moves.append([start,end])\n",
    "        # left jump\n",
    "        if state[end]==player and state[middle]==player and state[start]==other_player:\n",
    "            moves.append([start,end])\n",
    "    \n",
    "    # up/down-moving capture\n",
    "    for start in [0,1,2,3,4,5,6,7]:\n",
    "        middle=start+4\n",
    "        end=start+8\n",
    "        \n",
    "        # down jump\n",
    "        if state[start]==player and state[middle]==player and state[end]==other_player:\n",
    "            moves.append([start,end])\n",
    "        # up jump\n",
    "        if state[end]==player and state[middle]==player and state[start]==other_player:\n",
    "            moves.append([start,end])\n",
    "        \n",
    "    # right/left moves\n",
    "    for r in range(4):\n",
    "        # right\n",
    "        for c in range(3):\n",
    "            if state[r,c]==player and state[r,c+1]==0:\n",
    "                moves.append([\n",
    "                        state.index_from_rc(r,c),\n",
    "                        state.index_from_rc(r,c+1)\n",
    "                ])\n",
    "                \n",
    "        for c in range(1,4):\n",
    "            if state[r,c]==player and state[r,c-1]==0:\n",
    "                moves.append([state.index_from_rc(r,c),state.index_from_rc(r,c-1)])                \n",
    "                \n",
    "    # up/down moves\n",
    "    for c in range(4):\n",
    "        # up\n",
    "        for r in range(3):\n",
    "            if state[r,c]==player and state[r+1,c]==0:\n",
    "                moves.append([state.index_from_rc(r,c),state.index_from_rc(r+1,c)])\n",
    "        # down     \n",
    "        for r in range(1,4):\n",
    "            if state[r,c]==player and state[r-1,c]==0:\n",
    "                moves.append([state.index_from_rc(r,c),state.index_from_rc(r-1,c)])                \n",
    "\n",
    "    return moves"
   ]
  },
  {
   "cell_type": "code",
   "execution_count": 7,
   "id": "3b1885ee-408c-4214-a3f0-7d34cc556ace",
   "metadata": {},
   "outputs": [
    {
     "name": "stdout",
     "output_type": "stream",
     "text": [
      " 1  1  2  2 \n",
      " 1  1  2  2 \n",
      " 1  1  2  2 \n",
      " 1  1  2  2 \n",
      "\n",
      " 0  1  2  3 \n",
      " 4  5  6  7 \n",
      " 8  9 10 11 \n",
      "12 13 14 15 \n",
      "\n",
      "[[0, 2], [4, 6], [8, 10], [12, 14]]\n"
     ]
    }
   ],
   "source": [
    "state=initial_state()\n",
    "show_state(state)\n",
    "state.show_locations()\n",
    "\n",
    "print(valid_moves(state,1))"
   ]
  },
  {
   "cell_type": "code",
   "execution_count": 8,
   "id": "a24c2d1c-ea5f-443c-9bf7-c6c7f8cd9917",
   "metadata": {},
   "outputs": [
    {
     "name": "stdout",
     "output_type": "stream",
     "text": [
      " 1  1  2  2 \n",
      " 0  1  2  2 \n",
      " 1  1  2  2 \n",
      " 1  1  2  2 \n",
      "\n",
      " 0  1  2  3 \n",
      " 4  5  6  7 \n",
      " 8  9 10 11 \n",
      "12 13 14 15 \n",
      "\n",
      "[[0, 2], [8, 10], [12, 14], [5, 4], [0, 4], [8, 4]]\n"
     ]
    }
   ],
   "source": [
    "state=initial_state()\n",
    "state[4]=0\n",
    "show_state(state)\n",
    "state.show_locations()\n",
    "\n",
    "print(valid_moves(state,1))"
   ]
  },
  {
   "cell_type": "markdown",
   "id": "8bad10a6-3d22-4039-a04a-2cf000330612",
   "metadata": {},
   "source": [
    "## Agents"
   ]
  },
  {
   "cell_type": "code",
   "execution_count": 9,
   "id": "fe4ef3a0-d135-4287-8145-2de8a6046077",
   "metadata": {},
   "outputs": [],
   "source": [
    "def human_move(state,player):\n",
    "    print(\"Player \",player)\n",
    "    state.show_locations()\n",
    "    \n",
    "    start=int(input(\"What location to start?\"))\n",
    "    end=int(input(\"What location to end?\"))\n",
    "    move=[start,end]\n",
    "    \n",
    "    return move\n",
    "\n",
    "human_agent=Agent(human_move)"
   ]
  },
  {
   "cell_type": "code",
   "execution_count": 10,
   "id": "9453dba7-e99e-4de4-8305-393a99f6b7a2",
   "metadata": {},
   "outputs": [],
   "source": [
    "def random_move(state,player):\n",
    "    \n",
    "    move=random.choice(valid_moves(state,player))\n",
    "    return move\n",
    "\n",
    "\n",
    "random_agent=Agent(random_move)"
   ]
  },
  {
   "cell_type": "code",
   "execution_count": 11,
   "id": "9ce2a998-e5e0-4166-be41-393cc540e2d9",
   "metadata": {},
   "outputs": [],
   "source": [
    "from Game.minimax import *\n",
    "def minimax_move(state,player):\n",
    "\n",
    "    values,moves=minimax_values(state,player,display=True)\n",
    "    return top_choice(moves,values)\n",
    "\n",
    "\n",
    "minimax_agent=Agent(minimax_move)"
   ]
  },
  {
   "cell_type": "code",
   "execution_count": 12,
   "id": "8275cb60-a547-4c32-abb1-a1d2f75e115b",
   "metadata": {},
   "outputs": [],
   "source": [
    "def skittles_move(state,player,info):\n",
    "    T=info.T\n",
    "    last_state=info.last_state\n",
    "    last_action=info.last_action\n",
    "    learning=info.learning\n",
    "    \n",
    "    if state not in T:\n",
    "        actions=valid_moves(state,player)\n",
    "        T[state]=Table()\n",
    "        for action in actions:\n",
    "            T[state][action]=2  # initial number of skittles\n",
    "    \n",
    "    move=weighted_choice(T[state])\n",
    "    \n",
    "    if move is None:  \n",
    "        \n",
    "        # learn\n",
    "        if learning:\n",
    "            if last_state:\n",
    "                T[last_state][last_action]-=1 # take away a skittle\n",
    "                if T[last_state][last_action]<0:\n",
    "                    T[last_state][last_action]=0\n",
    "    \n",
    "        return random_move(state,player)\n",
    "    else:\n",
    "        return move"
   ]
  },
  {
   "cell_type": "code",
   "execution_count": 13,
   "id": "a251175f-cc2e-48f3-8d6c-aa9cec9e6f2a",
   "metadata": {},
   "outputs": [],
   "source": [
    "def skittles_after(status,player,info):\n",
    "    # not return anything but...\n",
    "    # will adjust the skittles table if lost the game\n",
    "    T=info.T\n",
    "    last_state=info.last_state\n",
    "    last_action=info.last_action\n",
    "    learning=info.learning\n",
    "    \n",
    "    if learning:\n",
    "        if status=='lose':  # only learn when you lose\n",
    "            T[last_state][last_action]-=1 # take away a skittle\n",
    "            if T[last_state][last_action]<0:\n",
    "                T[last_state][last_action]=0"
   ]
  },
  {
   "cell_type": "code",
   "execution_count": 14,
   "id": "5588a41c-37c8-4dc5-b531-3cb78703780c",
   "metadata": {},
   "outputs": [],
   "source": [
    "skittles1_agent=Agent(skittles_move)\n",
    "skittles1_agent.post=skittles_after\n",
    "skittles1_agent.T=Table()  # makes an empty table\n",
    "skittles1_agent.learning=True\n",
    "\n",
    "skittles2_agent=Agent(skittles_move)\n",
    "skittles2_agent.post=skittles_after\n",
    "skittles2_agent.T=Table()  # makes an empty table\n",
    "skittles2_agent.learning=True"
   ]
  },
  {
   "cell_type": "code",
   "execution_count": 15,
   "id": "d14949bd-4069-46a1-a910-2602d36d5d3a",
   "metadata": {},
   "outputs": [],
   "source": [
    "def Q_move(state,player,info):\n",
    "    Q=info.Q\n",
    "    last_state=info.last_state\n",
    "    last_action=info.last_action\n",
    "    learning=info.learning\n",
    "    \n",
    "    α=info.α  # learning rate\n",
    "    ϵ=info.ϵ  # how often to take a random move\n",
    "    γ=info.γ  # memory constant -- how quickly does the table update back in time (earlier in the game)\n",
    "    \n",
    "    # \\alpha <hit tab>    α\n",
    "    # \\epsilon <hit tab>  ϵ\n",
    "    # \\gamma <hit tab>    γ\n",
    "    \n",
    "    if state not in Q:\n",
    "        actions=valid_moves(state,player)\n",
    "        Q[state]=Table()\n",
    "        for action in actions:\n",
    "            Q[state][action]=0  # initial value of table\n",
    "    \n",
    "    \n",
    "    if random.random()<ϵ:  # take a random move occasionally to explore the environment\n",
    "        move=random_move(state,player)\n",
    "    else:\n",
    "        move=top_choice(Q[state])\n",
    "    \n",
    "    if not last_action is None:  # not the first move\n",
    "        reward=0\n",
    "        \n",
    "        # learn\n",
    "        if learning:\n",
    "            Q[last_state][last_action]+=α*(reward +\n",
    "                        γ*max([Q[state][a] for a in Q[state]]) - Q[last_state][last_action])\n",
    "    \n",
    "    return move"
   ]
  },
  {
   "cell_type": "code",
   "execution_count": 16,
   "id": "917f9c17-9e58-4a56-ad3b-4ccbc9950188",
   "metadata": {},
   "outputs": [],
   "source": [
    "def Q_after(status,player,info):\n",
    "    Q=info.Q\n",
    "    last_state=info.last_state\n",
    "    last_action=info.last_action\n",
    "    learning=info.learning\n",
    "    \n",
    "    α=info.α  # learning rate\n",
    "    ϵ=info.ϵ  # how often to take a random move\n",
    "    γ=info.γ  # memory constant -- how quickly does the table update back in time (earlier in the game)\n",
    "    \n",
    "    # \\alpha <hit tab>    α\n",
    "    # \\epsilon <hit tab>  ϵ\n",
    "    # \\gamma <hit tab>    γ\n",
    "\n",
    "    if status=='lose':\n",
    "        reward=-1\n",
    "    elif status=='win':\n",
    "        reward=1\n",
    "    elif status=='stalemate':\n",
    "        reward=.5 # value stalemate a little closer to a win\n",
    "    else:\n",
    "        reward=0\n",
    "    \n",
    "    \n",
    "    if learning:\n",
    "        Q[last_state][last_action]+=α*(reward - Q[last_state][last_action])\n",
    "        \n"
   ]
  },
  {
   "cell_type": "code",
   "execution_count": 17,
   "id": "f22c649b-6640-4477-a658-1a5860da1155",
   "metadata": {},
   "outputs": [],
   "source": [
    "Q1_agent=Agent(Q_move)\n",
    "Q1_agent.post=Q_after\n",
    "Q1_agent.Q=Table()  # makes an empty table\n",
    "Q1_agent.learning=True\n",
    "\n",
    "Q1_agent.α=0.3  # learning rate\n",
    "Q1_agent.ϵ=0.1  # how often to take a random move\n",
    "Q1_agent.γ=0.9  # memory constant -- how quickly does the table update back in time (earlier in the game)\n",
    "\n",
    "Q2_agent=Agent(Q_move)\n",
    "Q2_agent.post=Q_after\n",
    "Q2_agent.Q=Table()  # makes an empty table\n",
    "Q2_agent.learning=True\n",
    "\n",
    "Q2_agent.α=0.3  # learning rate\n",
    "Q2_agent.ϵ=0.1  # how often to take a random move\n",
    "Q2_agent.γ=0.9  # memory constant -- how quickly does the table update back in time (earlier in the game)\n",
    "\n"
   ]
  },
  {
   "cell_type": "markdown",
   "id": "98aa6ca4-fd56-4269-99ef-11509ed20c7e",
   "metadata": {},
   "source": [
    "## Running the Game"
   ]
  },
  {
   "cell_type": "markdown",
   "id": "341d3192-1de0-4db2-9e08-66d7b75525b5",
   "metadata": {},
   "source": [
    "super slow game...not sure why but I think the game tree is pretty big."
   ]
  },
  {
   "cell_type": "code",
   "execution_count": 33,
   "id": "0664c840-e0f4-4732-a8b1-456ad34278a5",
   "metadata": {},
   "outputs": [],
   "source": [
    "%matplotlib inline\n",
    "import matplotlib.pyplot as plt"
   ]
  },
  {
   "cell_type": "code",
   "execution_count": 34,
   "id": "13d02c44-6f6c-4da9-9d46-e340c66812e2",
   "metadata": {},
   "outputs": [],
   "source": [
    "from IPython.display import clear_output"
   ]
  },
  {
   "cell_type": "code",
   "execution_count": 35,
   "id": "6c6b665f-30bb-45c3-83e7-52e0bf06c64b",
   "metadata": {},
   "outputs": [],
   "source": [
    "agent1=skittles1_agent\n",
    "agent2=random_agent"
   ]
  },
  {
   "cell_type": "code",
   "execution_count": 36,
   "id": "709eabe4-4ed3-448f-957b-9780c5c3bc36",
   "metadata": {},
   "outputs": [],
   "source": [
    "N_train=2\n",
    "N_test=100\n",
    "number_of_epochs=200\n",
    "agent1_test=None\n",
    "agent2_test=None"
   ]
  },
  {
   "cell_type": "code",
   "execution_count": 37,
   "id": "c85c1249-97c1-49c3-bd94-9c32564a6dfa",
   "metadata": {},
   "outputs": [
    {
     "ename": "KeyboardInterrupt",
     "evalue": "",
     "output_type": "error",
     "traceback": [
      "\u001b[0;31m---------------------------------------------------------------------------\u001b[0m",
      "\u001b[0;31mKeyboardInterrupt\u001b[0m                         Traceback (most recent call last)",
      "\u001b[0;32m<ipython-input-37-270278cda823>\u001b[0m in \u001b[0;36m<module>\u001b[0;34m\u001b[0m\n\u001b[1;32m     30\u001b[0m     \u001b[0mg\u001b[0m\u001b[0;34m=\u001b[0m\u001b[0mGame\u001b[0m\u001b[0;34m(\u001b[0m\u001b[0mnumber_of_games\u001b[0m\u001b[0;34m=\u001b[0m\u001b[0mN_test\u001b[0m\u001b[0;34m)\u001b[0m\u001b[0;34m\u001b[0m\u001b[0;34m\u001b[0m\u001b[0m\n\u001b[1;32m     31\u001b[0m     \u001b[0mg\u001b[0m\u001b[0;34m.\u001b[0m\u001b[0mdisplay\u001b[0m\u001b[0;34m=\u001b[0m\u001b[0;32mFalse\u001b[0m\u001b[0;34m\u001b[0m\u001b[0;34m\u001b[0m\u001b[0m\n\u001b[0;32m---> 32\u001b[0;31m     \u001b[0mresult\u001b[0m\u001b[0;34m=\u001b[0m\u001b[0mg\u001b[0m\u001b[0;34m.\u001b[0m\u001b[0mrun\u001b[0m\u001b[0;34m(\u001b[0m\u001b[0magent1_test\u001b[0m\u001b[0;34m,\u001b[0m\u001b[0magent2_test\u001b[0m\u001b[0;34m)\u001b[0m\u001b[0;34m\u001b[0m\u001b[0;34m\u001b[0m\u001b[0m\n\u001b[0m\u001b[1;32m     33\u001b[0m     \u001b[0miteration_count\u001b[0m\u001b[0;34m+=\u001b[0m\u001b[0mN_train\u001b[0m\u001b[0;34m\u001b[0m\u001b[0;34m\u001b[0m\u001b[0m\n\u001b[1;32m     34\u001b[0m \u001b[0;34m\u001b[0m\u001b[0m\n",
      "\u001b[0;32m~/opt/anaconda3/envs/py3/lib/python3.8/site-packages/Game/game.py\u001b[0m in \u001b[0;36mrun\u001b[0;34m(self, agent1, agent2)\u001b[0m\n\u001b[1;32m    333\u001b[0m                         \u001b[0m_print\u001b[0m\u001b[0;34m(\u001b[0m\u001b[0;34m\"Player %d moves %s\"\u001b[0m \u001b[0;34m%\u001b[0m \u001b[0;34m(\u001b[0m\u001b[0mplayer\u001b[0m\u001b[0;34m,\u001b[0m\u001b[0mstr\u001b[0m\u001b[0;34m(\u001b[0m\u001b[0mmove\u001b[0m\u001b[0;34m)\u001b[0m\u001b[0;34m)\u001b[0m\u001b[0;34m)\u001b[0m\u001b[0;34m\u001b[0m\u001b[0;34m\u001b[0m\u001b[0m\n\u001b[1;32m    334\u001b[0m \u001b[0;34m\u001b[0m\u001b[0m\n\u001b[0;32m--> 335\u001b[0;31m                     \u001b[0mvalid_move\u001b[0m\u001b[0;34m=\u001b[0m\u001b[0mself\u001b[0m\u001b[0;34m.\u001b[0m\u001b[0mis_valid_move\u001b[0m\u001b[0;34m(\u001b[0m\u001b[0mplayer\u001b[0m\u001b[0;34m,\u001b[0m\u001b[0mmove\u001b[0m\u001b[0;34m)\u001b[0m\u001b[0;34m\u001b[0m\u001b[0;34m\u001b[0m\u001b[0m\n\u001b[0m\u001b[1;32m    336\u001b[0m                     \u001b[0;32mif\u001b[0m \u001b[0;32mnot\u001b[0m \u001b[0mvalid_move\u001b[0m\u001b[0;34m:\u001b[0m\u001b[0;34m\u001b[0m\u001b[0;34m\u001b[0m\u001b[0m\n\u001b[1;32m    337\u001b[0m                         \u001b[0;32mif\u001b[0m \u001b[0mself\u001b[0m\u001b[0;34m.\u001b[0m\u001b[0mdisplay\u001b[0m\u001b[0;34m:\u001b[0m\u001b[0;34m\u001b[0m\u001b[0;34m\u001b[0m\u001b[0m\n",
      "\u001b[0;32m~/opt/anaconda3/envs/py3/lib/python3.8/site-packages/Game/game.py\u001b[0m in \u001b[0;36mis_valid_move\u001b[0;34m(self, player, move)\u001b[0m\n\u001b[1;32m    228\u001b[0m     \u001b[0;32mdef\u001b[0m \u001b[0mis_valid_move\u001b[0m\u001b[0;34m(\u001b[0m\u001b[0mself\u001b[0m\u001b[0;34m,\u001b[0m\u001b[0mplayer\u001b[0m\u001b[0;34m,\u001b[0m\u001b[0mmove\u001b[0m\u001b[0;34m)\u001b[0m\u001b[0;34m:\u001b[0m\u001b[0;34m\u001b[0m\u001b[0;34m\u001b[0m\u001b[0m\n\u001b[1;32m    229\u001b[0m         \u001b[0mobservation\u001b[0m\u001b[0;34m=\u001b[0m\u001b[0mself\u001b[0m\u001b[0;34m.\u001b[0m\u001b[0mstate_to_observation\u001b[0m\u001b[0;34m(\u001b[0m\u001b[0mself\u001b[0m\u001b[0;34m.\u001b[0m\u001b[0mstate\u001b[0m\u001b[0;34m,\u001b[0m\u001b[0mplayer\u001b[0m\u001b[0;34m)\u001b[0m\u001b[0;34m\u001b[0m\u001b[0;34m\u001b[0m\u001b[0m\n\u001b[0;32m--> 230\u001b[0;31m         \u001b[0mmoves\u001b[0m\u001b[0;34m=\u001b[0m\u001b[0mself\u001b[0m\u001b[0;34m.\u001b[0m\u001b[0mvalid_moves\u001b[0m\u001b[0;34m(\u001b[0m\u001b[0mobservation\u001b[0m\u001b[0;34m,\u001b[0m\u001b[0mplayer\u001b[0m\u001b[0;34m)\u001b[0m\u001b[0;34m\u001b[0m\u001b[0;34m\u001b[0m\u001b[0m\n\u001b[0m\u001b[1;32m    231\u001b[0m         \u001b[0;32mtry\u001b[0m\u001b[0;34m:\u001b[0m\u001b[0;34m\u001b[0m\u001b[0;34m\u001b[0m\u001b[0m\n\u001b[1;32m    232\u001b[0m             \u001b[0mlist_move\u001b[0m\u001b[0;34m=\u001b[0m\u001b[0mtuple2list\u001b[0m\u001b[0;34m(\u001b[0m\u001b[0mmove\u001b[0m\u001b[0;34m)\u001b[0m\u001b[0;34m\u001b[0m\u001b[0;34m\u001b[0m\u001b[0m\n",
      "\u001b[0;32m<ipython-input-6-efb0024fcf48>\u001b[0m in \u001b[0;36mvalid_moves\u001b[0;34m(state, player)\u001b[0m\n\u001b[1;32m     39\u001b[0m         \u001b[0;31m# right\u001b[0m\u001b[0;34m\u001b[0m\u001b[0;34m\u001b[0m\u001b[0;34m\u001b[0m\u001b[0m\n\u001b[1;32m     40\u001b[0m         \u001b[0;32mfor\u001b[0m \u001b[0mc\u001b[0m \u001b[0;32min\u001b[0m \u001b[0mrange\u001b[0m\u001b[0;34m(\u001b[0m\u001b[0;36m3\u001b[0m\u001b[0;34m)\u001b[0m\u001b[0;34m:\u001b[0m\u001b[0;34m\u001b[0m\u001b[0;34m\u001b[0m\u001b[0m\n\u001b[0;32m---> 41\u001b[0;31m             \u001b[0;32mif\u001b[0m \u001b[0mstate\u001b[0m\u001b[0;34m[\u001b[0m\u001b[0mr\u001b[0m\u001b[0;34m,\u001b[0m\u001b[0mc\u001b[0m\u001b[0;34m]\u001b[0m\u001b[0;34m==\u001b[0m\u001b[0mplayer\u001b[0m \u001b[0;32mand\u001b[0m \u001b[0mstate\u001b[0m\u001b[0;34m[\u001b[0m\u001b[0mr\u001b[0m\u001b[0;34m,\u001b[0m\u001b[0mc\u001b[0m\u001b[0;34m+\u001b[0m\u001b[0;36m1\u001b[0m\u001b[0;34m]\u001b[0m\u001b[0;34m==\u001b[0m\u001b[0;36m0\u001b[0m\u001b[0;34m:\u001b[0m\u001b[0;34m\u001b[0m\u001b[0;34m\u001b[0m\u001b[0m\n\u001b[0m\u001b[1;32m     42\u001b[0m                 moves.append([\n\u001b[1;32m     43\u001b[0m                         \u001b[0mstate\u001b[0m\u001b[0;34m.\u001b[0m\u001b[0mindex_from_rc\u001b[0m\u001b[0;34m(\u001b[0m\u001b[0mr\u001b[0m\u001b[0;34m,\u001b[0m\u001b[0mc\u001b[0m\u001b[0;34m)\u001b[0m\u001b[0;34m,\u001b[0m\u001b[0;34m\u001b[0m\u001b[0;34m\u001b[0m\u001b[0m\n",
      "\u001b[0;32m~/opt/anaconda3/envs/py3/lib/python3.8/site-packages/Game/board.py\u001b[0m in \u001b[0;36m__getitem__\u001b[0;34m(self, key)\u001b[0m\n\u001b[1;32m    116\u001b[0m \u001b[0;34m\u001b[0m\u001b[0m\n\u001b[1;32m    117\u001b[0m     \u001b[0;32mdef\u001b[0m \u001b[0m__getitem__\u001b[0m\u001b[0;34m(\u001b[0m\u001b[0mself\u001b[0m\u001b[0;34m,\u001b[0m\u001b[0mkey\u001b[0m\u001b[0;34m)\u001b[0m\u001b[0;34m:\u001b[0m\u001b[0;34m\u001b[0m\u001b[0;34m\u001b[0m\u001b[0m\n\u001b[0;32m--> 118\u001b[0;31m         \u001b[0mindex\u001b[0m\u001b[0;34m=\u001b[0m\u001b[0mself\u001b[0m\u001b[0;34m.\u001b[0m\u001b[0mindex_from_rc\u001b[0m\u001b[0;34m(\u001b[0m\u001b[0mkey\u001b[0m\u001b[0;34m)\u001b[0m\u001b[0;34m\u001b[0m\u001b[0;34m\u001b[0m\u001b[0m\n\u001b[0m\u001b[1;32m    119\u001b[0m         \u001b[0;32mreturn\u001b[0m \u001b[0mself\u001b[0m\u001b[0;34m.\u001b[0m\u001b[0mboard\u001b[0m\u001b[0;34m[\u001b[0m\u001b[0mindex\u001b[0m\u001b[0;34m]\u001b[0m\u001b[0;34m\u001b[0m\u001b[0;34m\u001b[0m\u001b[0m\n\u001b[1;32m    120\u001b[0m     \u001b[0;32mdef\u001b[0m \u001b[0m__setitem__\u001b[0m\u001b[0;34m(\u001b[0m\u001b[0mself\u001b[0m\u001b[0;34m,\u001b[0m\u001b[0mkey\u001b[0m\u001b[0;34m,\u001b[0m\u001b[0mval\u001b[0m\u001b[0;34m)\u001b[0m\u001b[0;34m:\u001b[0m\u001b[0;34m\u001b[0m\u001b[0;34m\u001b[0m\u001b[0m\n",
      "\u001b[0;32m~/opt/anaconda3/envs/py3/lib/python3.8/site-packages/Game/board.py\u001b[0m in \u001b[0;36mindex_from_rc\u001b[0;34m(self, rc, c)\u001b[0m\n\u001b[1;32m     67\u001b[0m             \u001b[0mr\u001b[0m\u001b[0;34m,\u001b[0m\u001b[0mc\u001b[0m\u001b[0;34m=\u001b[0m\u001b[0mrc\u001b[0m\u001b[0;34m\u001b[0m\u001b[0;34m\u001b[0m\u001b[0m\n\u001b[1;32m     68\u001b[0m \u001b[0;34m\u001b[0m\u001b[0m\n\u001b[0;32m---> 69\u001b[0;31m             \u001b[0;32mif\u001b[0m \u001b[0mr\u001b[0m\u001b[0;34m>=\u001b[0m\u001b[0mself\u001b[0m\u001b[0;34m.\u001b[0m\u001b[0mshape\u001b[0m\u001b[0;34m[\u001b[0m\u001b[0;36m0\u001b[0m\u001b[0;34m]\u001b[0m \u001b[0;32mor\u001b[0m \u001b[0mr\u001b[0m\u001b[0;34m<\u001b[0m\u001b[0;36m0\u001b[0m\u001b[0;34m:\u001b[0m\u001b[0;34m\u001b[0m\u001b[0;34m\u001b[0m\u001b[0m\n\u001b[0m\u001b[1;32m     70\u001b[0m                 \u001b[0;32mraise\u001b[0m \u001b[0mIndexError\u001b[0m\u001b[0;34m(\u001b[0m\u001b[0;34m\"Illegal row\"\u001b[0m\u001b[0;34m)\u001b[0m\u001b[0;34m\u001b[0m\u001b[0;34m\u001b[0m\u001b[0m\n\u001b[1;32m     71\u001b[0m             \u001b[0;32mif\u001b[0m \u001b[0mc\u001b[0m\u001b[0;34m>=\u001b[0m\u001b[0mself\u001b[0m\u001b[0;34m.\u001b[0m\u001b[0mshape\u001b[0m\u001b[0;34m[\u001b[0m\u001b[0;36m1\u001b[0m\u001b[0;34m]\u001b[0m \u001b[0;32mor\u001b[0m \u001b[0mc\u001b[0m\u001b[0;34m<\u001b[0m\u001b[0;36m0\u001b[0m\u001b[0;34m:\u001b[0m\u001b[0;34m\u001b[0m\u001b[0;34m\u001b[0m\u001b[0m\n",
      "\u001b[0;31mKeyboardInterrupt\u001b[0m: "
     ]
    }
   ],
   "source": [
    "\n",
    "iteration_count=0\n",
    "percentage_won_player1=[]\n",
    "percentage_won_player2=[]\n",
    "percentage_tie=[]\n",
    "number_of_iterations=[]\n",
    "\n",
    "\n",
    "\n",
    "fig=plt.figure(figsize=(12,10))\n",
    "for i in range(number_of_epochs):\n",
    "    clear_output(wait=True)\n",
    "    \n",
    "    agent1.learning=True\n",
    "    agent2.learning=True\n",
    "\n",
    "    g=Game(number_of_games=N_train)\n",
    "    g.display=False\n",
    "    result=g.run(agent1,agent2)\n",
    "\n",
    "\n",
    "    if agent1_test is None:\n",
    "        agent1_test=agent1\n",
    "    if agent2_test is None:\n",
    "        agent2_test=agent2\n",
    "\n",
    "    # turn learning off to test\n",
    "    agent1.learning=False\n",
    "    agent2.learning=False\n",
    "\n",
    "    g=Game(number_of_games=N_test)\n",
    "    g.display=False\n",
    "    result=g.run(agent1_test,agent2_test)\n",
    "    iteration_count+=N_train\n",
    "\n",
    "    percentage_won_player1.append(result.count(1)/N_test*100)\n",
    "    percentage_won_player2.append(result.count(2)/N_test*100)\n",
    "    percentage_tie.append(result.count(0)/N_test*100)\n",
    "    number_of_iterations.append(iteration_count)\n",
    "\n",
    "    h1=plt.plot(number_of_iterations,percentage_won_player1,'-o',label='Player 1')\n",
    "    h2=plt.plot(number_of_iterations,percentage_won_player2,'-x',label='Player 2')\n",
    "    h3=plt.plot(number_of_iterations,percentage_tie,'-s',label='Tie')\n",
    "    plt.legend()\n",
    "    plt.xlabel('Number of Games')\n",
    "    plt.ylabel('Percentage Won')    \n",
    "    plt.show()\n"
   ]
  },
  {
   "cell_type": "code",
   "execution_count": null,
   "id": "0a922271-dee8-4707-8d0b-5d6049259ff6",
   "metadata": {},
   "outputs": [],
   "source": []
  }
 ],
 "metadata": {
  "kernelspec": {
   "display_name": "Python 3",
   "language": "python",
   "name": "python3"
  },
  "language_info": {
   "codemirror_mode": {
    "name": "ipython",
    "version": 3
   },
   "file_extension": ".py",
   "mimetype": "text/x-python",
   "name": "python",
   "nbconvert_exporter": "python",
   "pygments_lexer": "ipython3",
   "version": "3.8.10"
  }
 },
 "nbformat": 4,
 "nbformat_minor": 5
}
