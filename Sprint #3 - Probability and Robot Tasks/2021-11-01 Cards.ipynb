{
 "cells": [
  {
   "cell_type": "code",
   "execution_count": 1,
   "id": "bb1aff12-5447-4dd3-ac34-d9614ed55f36",
   "metadata": {},
   "outputs": [
    {
     "name": "stdout",
     "output_type": "stream",
     "text": [
      "Version:  0.2.33\n"
     ]
    }
   ],
   "source": [
    "from Game import *"
   ]
  },
  {
   "cell_type": "code",
   "execution_count": 3,
   "id": "239e59fe-974e-45e5-962e-0542dc6dacad",
   "metadata": {},
   "outputs": [
    {
     "data": {
      "text/plain": [
       "\u001b[0;31mInit signature:\u001b[0m \u001b[0mCard\u001b[0m\u001b[0;34m(\u001b[0m\u001b[0mrank\u001b[0m\u001b[0;34m,\u001b[0m \u001b[0msuit\u001b[0m\u001b[0;34m)\u001b[0m\u001b[0;34m\u001b[0m\u001b[0;34m\u001b[0m\u001b[0m\n",
       "\u001b[0;31mDocstring:\u001b[0m      <no docstring>\n",
       "\u001b[0;31mFile:\u001b[0m           ~/opt/anaconda3/envs/py3/lib/python3.8/site-packages/Game/cards.py\n",
       "\u001b[0;31mType:\u001b[0m           type\n",
       "\u001b[0;31mSubclasses:\u001b[0m     \n"
      ]
     },
     "metadata": {},
     "output_type": "display_data"
    }
   ],
   "source": [
    "Card?"
   ]
  },
  {
   "cell_type": "code",
   "execution_count": 10,
   "id": "405f83b2-0576-43cb-ad5f-ba2b4544ac0e",
   "metadata": {},
   "outputs": [
    {
     "data": {
      "text/plain": [
       "'AH'"
      ]
     },
     "execution_count": 10,
     "metadata": {},
     "output_type": "execute_result"
    }
   ],
   "source": [
    "Card(1,'h')"
   ]
  },
  {
   "cell_type": "code",
   "execution_count": 11,
   "id": "8c2607f5-1847-49f3-b1e7-37898e36b8ef",
   "metadata": {},
   "outputs": [
    {
     "data": {
      "text/plain": [
       "'KH'"
      ]
     },
     "execution_count": 11,
     "metadata": {},
     "output_type": "execute_result"
    }
   ],
   "source": [
    "Card(13,'h')"
   ]
  },
  {
   "cell_type": "code",
   "execution_count": 12,
   "id": "3f83a0ea-495f-4e2e-bfae-02c28201e5b5",
   "metadata": {},
   "outputs": [],
   "source": [
    "c=Card(13,'h')"
   ]
  },
  {
   "cell_type": "code",
   "execution_count": 13,
   "id": "827d5f61-f916-4e6d-b077-4e3681a0b4a2",
   "metadata": {},
   "outputs": [
    {
     "data": {
      "text/plain": [
       "13"
      ]
     },
     "execution_count": 13,
     "metadata": {},
     "output_type": "execute_result"
    }
   ],
   "source": [
    "c.rank"
   ]
  },
  {
   "cell_type": "code",
   "execution_count": 14,
   "id": "71a06e93-a9b8-4395-88d7-c3ec1bef97cc",
   "metadata": {},
   "outputs": [
    {
     "data": {
      "text/plain": [
       "'H'"
      ]
     },
     "execution_count": 14,
     "metadata": {},
     "output_type": "execute_result"
    }
   ],
   "source": [
    "c.suit"
   ]
  },
  {
   "cell_type": "code",
   "execution_count": 16,
   "id": "d7afa3cf-122c-4205-ad7f-4b607e471115",
   "metadata": {},
   "outputs": [
    {
     "data": {
      "text/plain": [
       "['6D',\n",
       " '4H',\n",
       " 'JH',\n",
       " '7S',\n",
       " 'AD',\n",
       " '4C',\n",
       " 'AS',\n",
       " '7D',\n",
       " '8D',\n",
       " '4D',\n",
       " '6H',\n",
       " '3H',\n",
       " '8S',\n",
       " '3S',\n",
       " 'KS',\n",
       " '3D',\n",
       " 'QD',\n",
       " '8C',\n",
       " '8H',\n",
       " '9C',\n",
       " '4S',\n",
       " 'JD',\n",
       " '9H',\n",
       " '5S',\n",
       " '2D',\n",
       " '2S',\n",
       " '7H',\n",
       " '2C',\n",
       " 'KC',\n",
       " 'KD',\n",
       " 'QC',\n",
       " '9S',\n",
       " '10H',\n",
       " '5C',\n",
       " 'QS',\n",
       " '9D',\n",
       " '5D',\n",
       " '6C',\n",
       " 'KH',\n",
       " '10S',\n",
       " '3C',\n",
       " 'AH',\n",
       " '7C',\n",
       " 'AC',\n",
       " 'JC',\n",
       " '10D',\n",
       " 'QH',\n",
       " 'JS',\n",
       " '2H',\n",
       " '5H',\n",
       " '10C',\n",
       " '6S']"
      ]
     },
     "execution_count": 16,
     "metadata": {},
     "output_type": "execute_result"
    }
   ],
   "source": [
    "deck=makedeck()\n",
    "deck"
   ]
  },
  {
   "cell_type": "code",
   "execution_count": 17,
   "id": "929157ae-be45-4f21-8c3b-c48d7fae2d7b",
   "metadata": {},
   "outputs": [
    {
     "name": "stdout",
     "output_type": "stream",
     "text": [
      "['6D', '4H']\n",
      "50 ['JH', '7S', 'AD', '4C', 'AS', '7D', '8D', '4D', '6H', '3H', '8S', '3S', 'KS', '3D', 'QD', '8C', '8H', '9C', '4S', 'JD', '9H', '5S', '2D', '2S', '7H', '2C', 'KC', 'KD', 'QC', '9S', '10H', '5C', 'QS', '9D', '5D', '6C', 'KH', '10S', '3C', 'AH', '7C', 'AC', 'JC', '10D', 'QH', 'JS', '2H', '5H', '10C', '6S']\n"
     ]
    }
   ],
   "source": [
    "cards=deal(deck,2)\n",
    "print(cards)\n",
    "print(len(deck),deck)"
   ]
  },
  {
   "cell_type": "code",
   "execution_count": 18,
   "id": "701c957d-d1e1-4cb6-a727-79873ad1cffd",
   "metadata": {},
   "outputs": [],
   "source": [
    "def score(cards):\n",
    "    \n",
    "    total=0\n",
    "    for card in cards:\n",
    "        total+=card.rank\n",
    "        \n",
    "    return total"
   ]
  },
  {
   "cell_type": "code",
   "execution_count": 19,
   "id": "883c337d-6202-4cc5-a973-0a5b7e597a5d",
   "metadata": {},
   "outputs": [
    {
     "data": {
      "text/plain": [
       "10"
      ]
     },
     "execution_count": 19,
     "metadata": {},
     "output_type": "execute_result"
    }
   ],
   "source": [
    "score(cards)"
   ]
  },
  {
   "cell_type": "code",
   "execution_count": null,
   "id": "fe753eb4-5d48-404b-8c48-f678ee38839c",
   "metadata": {},
   "outputs": [],
   "source": []
  }
 ],
 "metadata": {
  "kernelspec": {
   "display_name": "Python 3",
   "language": "python",
   "name": "python3"
  },
  "language_info": {
   "codemirror_mode": {
    "name": "ipython",
    "version": 3
   },
   "file_extension": ".py",
   "mimetype": "text/x-python",
   "name": "python",
   "nbconvert_exporter": "python",
   "pygments_lexer": "ipython3",
   "version": "3.8.10"
  }
 },
 "nbformat": 4,
 "nbformat_minor": 5
}
