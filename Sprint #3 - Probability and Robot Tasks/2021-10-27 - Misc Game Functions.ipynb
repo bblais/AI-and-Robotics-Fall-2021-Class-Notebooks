{
 "cells": [
  {
   "cell_type": "code",
   "execution_count": 1,
   "id": "7c7d5a6a-596b-48de-a7fd-c0f5028e6ec7",
   "metadata": {},
   "outputs": [
    {
     "name": "stdout",
     "output_type": "stream",
     "text": [
      "Version:  0.2.32\n"
     ]
    }
   ],
   "source": [
    "from Game import *"
   ]
  },
  {
   "cell_type": "code",
   "execution_count": 10,
   "id": "373c8a01-27e2-43b4-963e-5c7c7d90cc07",
   "metadata": {},
   "outputs": [],
   "source": [
    "state=Board(5,5)\n",
    "state[1]=state[3]=2\n",
    "state[21]=state[23]=1\n",
    "state[17]=2"
   ]
  },
  {
   "cell_type": "code",
   "execution_count": 11,
   "id": "8a7416ca-8378-4b4a-92b9-bb851cd00a07",
   "metadata": {},
   "outputs": [
    {
     "name": "stdout",
     "output_type": "stream",
     "text": [
      " 0  1  2  3  4 \n",
      " 5  6  7  8  9 \n",
      "10 11 12 13 14 \n",
      "15 16 17 18 19 \n",
      "20 21 22 23 24 \n",
      "\n"
     ]
    }
   ],
   "source": [
    "state.show_locations()"
   ]
  },
  {
   "cell_type": "code",
   "execution_count": 12,
   "id": "2636092c-4c8d-4eb2-b5cc-27e7ea3d62ab",
   "metadata": {},
   "outputs": [
    {
     "data": {
      "text/plain": [
       " 0  2  0  2  0 \n",
       " 0  0  0  0  0 \n",
       " 0  0  0  0  0 \n",
       " 0  0  2  0  0 \n",
       " 0  1  0  1  0 "
      ]
     },
     "execution_count": 12,
     "metadata": {},
     "output_type": "execute_result"
    }
   ],
   "source": [
    "state"
   ]
  },
  {
   "cell_type": "code",
   "execution_count": 13,
   "id": "0e1390d3-21bf-476c-a1bb-b214c00f3cf0",
   "metadata": {},
   "outputs": [
    {
     "data": {
      "text/plain": [
       "[[23, 19], [21, 15]]"
      ]
     },
     "execution_count": 13,
     "metadata": {},
     "output_type": "execute_result"
    }
   ],
   "source": [
    "state.moves(1,'ne','nw')"
   ]
  },
  {
   "cell_type": "code",
   "execution_count": 15,
   "id": "02cbd22a-5a35-4132-9395-f892ed7ebf20",
   "metadata": {},
   "outputs": [
    {
     "data": {
      "text/plain": [
       "[[23, 19], [21, 15], [21, 13], [23, 11]]"
      ]
     },
     "execution_count": 15,
     "metadata": {},
     "output_type": "execute_result"
    }
   ],
   "source": [
    "state.moves(1,'ne','nw','jne','jnw')"
   ]
  },
  {
   "cell_type": "code",
   "execution_count": 16,
   "id": "b4b7e37d-9028-4a61-aaa8-6b1781ad7616",
   "metadata": {},
   "outputs": [
    {
     "data": {
      "text/plain": [
       "[]"
      ]
     },
     "execution_count": 16,
     "metadata": {},
     "output_type": "execute_result"
    }
   ],
   "source": [
    "state.moves(3,'se','ne','nw','jne','jnw')"
   ]
  },
  {
   "cell_type": "code",
   "execution_count": null,
   "id": "a624e6d4-fafb-4449-9402-5f6f11984939",
   "metadata": {},
   "outputs": [],
   "source": []
  }
 ],
 "metadata": {
  "kernelspec": {
   "display_name": "Python 3",
   "language": "python",
   "name": "python3"
  },
  "language_info": {
   "codemirror_mode": {
    "name": "ipython",
    "version": 3
   },
   "file_extension": ".py",
   "mimetype": "text/x-python",
   "name": "python",
   "nbconvert_exporter": "python",
   "pygments_lexer": "ipython3",
   "version": "3.8.10"
  }
 },
 "nbformat": 4,
 "nbformat_minor": 5
}
