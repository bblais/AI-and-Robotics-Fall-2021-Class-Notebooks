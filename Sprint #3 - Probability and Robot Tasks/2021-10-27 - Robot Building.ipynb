{
 "cells": [
  {
   "cell_type": "code",
   "execution_count": null,
   "id": "32de74c1-52b2-4c1f-b0ac-0d4e25433186",
   "metadata": {},
   "outputs": [],
   "source": [
    "%pylab inline"
   ]
  },
  {
   "cell_type": "code",
   "execution_count": null,
   "id": "1030ce7f-527b-4061-aa6c-f6a3b26826f2",
   "metadata": {},
   "outputs": [],
   "source": [
    "from RobotSim373 import *"
   ]
  },
  {
   "cell_type": "code",
   "execution_count": null,
   "id": "ffdbaa2d-575a-4ddb-a3da-f9ca06d7f414",
   "metadata": {},
   "outputs": [],
   "source": [
    "from RobotSim373.utils import pptx2build"
   ]
  },
  {
   "cell_type": "code",
   "execution_count": 58,
   "id": "cc847104-8e19-4acc-aa37-3b5c9b3f2caf",
   "metadata": {},
   "outputs": [
    {
     "name": "stdout",
     "output_type": "stream",
     "text": [
      "def build(robot):\n",
      "    box1=Box(robot,x=2.90,y=8.57,angle=311.24,width=1.29,height=3.28,name=\"box1\")\n",
      "    disk2=Disk(robot,x=4.06,y=6.40,angle=0.00,radius=0.86,name=\"disk2\")\n",
      "    box3=Box(robot,x=7.32,y=10.14,angle=311.24,width=1.29,height=3.28,name=\"box3\")\n",
      "    box4=Box(robot,x=5.72,y=4.91,angle=311.24,width=1.29,height=3.28,name=\"box4\")\n",
      "\n",
      "    connect(disk2,box3,'weld')\n"
     ]
    }
   ],
   "source": [
    "pptx2build('test robot drawing.pptx')"
   ]
  },
  {
   "cell_type": "code",
   "execution_count": 55,
   "id": "245987bd-17fb-4aad-a890-20b706eb8f0a",
   "metadata": {},
   "outputs": [],
   "source": [
    "def build(robot):\n",
    "    box1=Box(robot,x=2.90,y=8.57,angle=311.24,width=1.29,height=3.28,name=\"box1\")\n",
    "    disk2=Disk(robot,x=4.06,y=6.40,angle=0.00,radius=0.86,name=\"disk2\")\n",
    "    box3=Box(robot,x=7.32,y=10.14,angle=311.24,width=1.29,height=3.28,name=\"box3\")\n",
    "    box4=Box(robot,x=5.72,y=4.91,angle=311.24,width=1.29,height=3.28,name=\"box4\")\n",
    "\n",
    "    connect(disk2,box3,'weld')"
   ]
  },
  {
   "cell_type": "code",
   "execution_count": 59,
   "id": "68781a95-cc02-4598-a473-7c46e0731bbc",
   "metadata": {},
   "outputs": [],
   "source": [
    "def act(t,robot):\n",
    "    robot['box1'].F=.1"
   ]
  },
  {
   "cell_type": "code",
   "execution_count": null,
   "id": "60a63a92-7781-43c6-8eff-39b53a1173d9",
   "metadata": {},
   "outputs": [],
   "source": []
  },
  {
   "cell_type": "code",
   "execution_count": 60,
   "id": "183398fa-31b9-4773-b718-8a281f824052",
   "metadata": {},
   "outputs": [],
   "source": [
    "env=Environment(24,24)\n",
    "robot=Robot(env)\n",
    "build(robot)"
   ]
  },
  {
   "cell_type": "code",
   "execution_count": 61,
   "id": "ac40f238-56a8-40f6-b410-9adfeb0680b6",
   "metadata": {},
   "outputs": [
    {
     "data": {
      "image/png": "[encoded data removed]",
      "text/plain": [
       "<Figure size 720x720 with 1 Axes>"
      ]
     },
     "metadata": {
      "needs_background": "light"
     },
     "output_type": "display_data"
    }
   ],
   "source": [
    "run_sim(env,act,\n",
    "        total_time=1000,  # seconds\n",
    "        dt=1/60,\n",
    "        dt_display=1,  # make this larger for a faster display\n",
    "       )\n"
   ]
  },
  {
   "cell_type": "code",
   "execution_count": null,
   "id": "29b790b0-a39c-4276-9b19-d33b3671f686",
   "metadata": {},
   "outputs": [],
   "source": []
  }
 ],
 "metadata": {
  "kernelspec": {
   "display_name": "Python 3",
   "language": "python",
   "name": "python3"
  },
  "language_info": {
   "codemirror_mode": {
    "name": "ipython",
    "version": 3
   },
   "file_extension": ".py",
   "mimetype": "text/x-python",
   "name": "python",
   "nbconvert_exporter": "python",
   "pygments_lexer": "ipython3",
   "version": "3.8.10"
  }
 },
 "nbformat": 4,
 "nbformat_minor": 5
}
