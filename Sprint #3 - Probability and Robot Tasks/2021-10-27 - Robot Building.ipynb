{
 "cells": [
  {
   "cell_type": "code",
   "execution_count": null,
   "id": "32de74c1-52b2-4c1f-b0ac-0d4e25433186",
   "metadata": {},
   "outputs": [],
   "source": [
    "%pylab inline"
   ]
  },
  {
   "cell_type": "code",
   "execution_count": null,
   "id": "1030ce7f-527b-4061-aa6c-f6a3b26826f2",
   "metadata": {},
   "outputs": [],
   "source": [
    "from RobotSim373 import *"
   ]
  },
  {
   "cell_type": "code",
   "execution_count": null,
   "id": "ffdbaa2d-575a-4ddb-a3da-f9ca06d7f414",
   "metadata": {},
   "outputs": [],
   "source": [
    "from RobotSim373.utils import pptx2build"
   ]
  },
  {
   "cell_type": "code",
   "execution_count": 58,
   "id": "cc847104-8e19-4acc-aa37-3b5c9b3f2caf",
   "metadata": {},
   "outputs": [
    {
     "name": "stdout",
     "output_type": "stream",
     "text": [
      "def build(robot):\n",
      "    box1=Box(robot,x=2.90,y=8.57,angle=311.24,width=1.29,height=3.28,name=\"box1\")\n",
      "    disk2=Disk(robot,x=4.06,y=6.40,angle=0.00,radius=0.86,name=\"disk2\")\n",
      "    box3=Box(robot,x=7.32,y=10.14,angle=311.24,width=1.29,height=3.28,name=\"box3\")\n",
      "    box4=Box(robot,x=5.72,y=4.91,angle=311.24,width=1.29,height=3.28,name=\"box4\")\n",
      "\n",
      "    connect(disk2,box3,'weld')\n"
     ]
    }
   ],
   "source": [
    "pptx2build('test robot drawing.pptx')"
   ]
  },
  {
   "cell_type": "code",
   "execution_count": 68,
   "id": "2b98f683-21c4-41c4-98ad-d65b1334eb78",
   "metadata": {},
   "outputs": [
    {
     "ename": "AssertionError",
     "evalue": "Only Rectangle and Circle Shapes Allowed: Found Rectangle:",
     "output_type": "error",
     "traceback": [
      "\u001b[0;31m---------------------------------------------------------------------------\u001b[0m",
      "\u001b[0;31mAssertionError\u001b[0m                            Traceback (most recent call last)",
      "\u001b[0;32m<ipython-input-68-4497fd03991a>\u001b[0m in \u001b[0;36m<module>\u001b[0;34m\u001b[0m\n\u001b[0;32m----> 1\u001b[0;31m \u001b[0mpptx2build\u001b[0m\u001b[0;34m(\u001b[0m\u001b[0;34m'/Users/bblais/Downloads/Robot Drawing.pptx'\u001b[0m\u001b[0;34m)\u001b[0m\u001b[0;34m\u001b[0m\u001b[0;34m\u001b[0m\u001b[0m\n\u001b[0m",
      "\u001b[0;32m~/opt/anaconda3/envs/py3/lib/python3.8/site-packages/RobotSim373/utils.py\u001b[0m in \u001b[0;36mpptx2build\u001b[0;34m(fname)\u001b[0m\n\u001b[1;32m     67\u001b[0m             \u001b[0;32mcontinue\u001b[0m\u001b[0;34m\u001b[0m\u001b[0;34m\u001b[0m\u001b[0m\n\u001b[1;32m     68\u001b[0m \u001b[0;34m\u001b[0m\u001b[0m\n\u001b[0;32m---> 69\u001b[0;31m         \u001b[0;32massert\u001b[0m \u001b[0mshape_type\u001b[0m \u001b[0;32min\u001b[0m \u001b[0;34m[\u001b[0m\u001b[0;34m'Rectangle'\u001b[0m\u001b[0;34m,\u001b[0m\u001b[0;34m'Oval'\u001b[0m\u001b[0;34m,\u001b[0m\u001b[0;34m'Straight'\u001b[0m\u001b[0;34m]\u001b[0m\u001b[0;34m,\u001b[0m \u001b[0;34mf\"Only Rectangle and Circle Shapes Allowed: Found {shape_type}\"\u001b[0m\u001b[0;34m\u001b[0m\u001b[0;34m\u001b[0m\u001b[0m\n\u001b[0m\u001b[1;32m     70\u001b[0m \u001b[0;34m\u001b[0m\u001b[0m\n\u001b[1;32m     71\u001b[0m         \u001b[0;32mif\u001b[0m \u001b[0mshape_type\u001b[0m\u001b[0;34m==\u001b[0m\u001b[0;34m'Oval'\u001b[0m\u001b[0;34m:\u001b[0m\u001b[0;34m\u001b[0m\u001b[0;34m\u001b[0m\u001b[0m\n",
      "\u001b[0;31mAssertionError\u001b[0m: Only Rectangle and Circle Shapes Allowed: Found Rectangle:"
     ]
    }
   ],
   "source": [
    "pptx2build('/Users/bblais/Downloads/Robot Drawing.pptx')"
   ]
  },
  {
   "cell_type": "code",
   "execution_count": 63,
   "id": "245987bd-17fb-4aad-a890-20b706eb8f0a",
   "metadata": {},
   "outputs": [],
   "source": [
    "def build(ro/Users/bblais/Downloads/Robot Drawing.pptx2.90,y=8.57,angle=311.24,width=1.29,height=3.28,name=\"box1\")\n",
    "    disk2=Disk(robot,x=4.06,y=6.40,angle=0.00,radius=0.86,name=\"disk2\")\n",
    "    box3=Box(robot,x=7.32,y=10.14,angle=311.24,width=1.29,height=3.28,name=\"box3\")\n",
    "    box4=Box(robot,x=5.72,y=4.91,angle=311.24,width=1.29,height=3.28,name=\"box4\")\n",
    "\n",
    "    connect(disk2,box3,'weld')"
   ]
  },
  {
   "cell_type": "code",
   "execution_count": 64,
   "id": "68781a95-cc02-4598-a473-7c46e0731bbc",
   "metadata": {},
   "outputs": [],
   "source": [
    "def act(t,robot):\n",
    "    robot['box1'].F=.1"
   ]
  },
  {
   "cell_type": "code",
   "execution_count": null,
   "id": "60a63a92-7781-43c6-8eff-39b53a1173d9",
   "metadata": {},
   "outputs": [],
   "source": []
  },
  {
   "cell_type": "code",
   "execution_count": 65,
   "id": "183398fa-31b9-4773-b718-8a281f824052",
   "metadata": {},
   "outputs": [],
   "source": [
    "env=Environment(24,24)\n",
    "robot=Robot(env)\n",
    "build(robot)"
   ]
  },
  {
   "cell_type": "code",
   "execution_count": 66,
   "id": "ac40f238-56a8-40f6-b410-9adfeb0680b6",
   "metadata": {},
   "outputs": [
    {
     "data": {
      "image/png": "[encoded data removed]",
      "text/plain": [
       "<Figure size 720x720 with 1 Axes>"
      ]
     },
     "metadata": {
      "needs_background": "light"
     },
     "output_type": "display_data"
    }
   ],
   "source": [
    "run_sim(env,act,\n",
    "        total_time=1000,  # seconds\n",
    "        dt=1/60,\n",
    "        dt_display=1,  # make this larger for a faster display\n",
    "       )\n"
   ]
  },
  {
   "cell_type": "code",
   "execution_count": null,
   "id": "29b790b0-a39c-4276-9b19-d33b3671f686",
   "metadata": {},
   "outputs": [],
   "source": []
  }
 ],
 "metadata": {
  "kernelspec": {
   "display_name": "Python 3",
   "language": "python",
   "name": "python3"
  },
  "language_info": {
   "codemirror_mode": {
    "name": "ipython",
    "version": 3
   },
   "file_extension": ".py",
   "mimetype": "text/x-python",
   "name": "python",
   "nbconvert_exporter": "python",
   "pygments_lexer": "ipython3",
   "version": "3.8.10"
  }
 },
 "nbformat": 4,
 "nbformat_minor": 5
}
