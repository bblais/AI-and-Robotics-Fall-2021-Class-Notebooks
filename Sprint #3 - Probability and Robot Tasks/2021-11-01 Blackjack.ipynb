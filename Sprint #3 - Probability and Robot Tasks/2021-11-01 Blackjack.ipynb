{
 "cells": [
  {
   "cell_type": "code",
   "execution_count": 1,
   "id": "8e05e598-5444-495d-a679-d165738d1111",
   "metadata": {},
   "outputs": [
    {
     "name": "stdout",
     "output_type": "stream",
     "text": [
      "Version:  0.2.33\n"
     ]
    }
   ],
   "source": [
    "from Game import *"
   ]
  },
  {
   "cell_type": "code",
   "execution_count": 81,
   "id": "25a4dccc-3adb-4f0b-9663-b75234ea3f07",
   "metadata": {},
   "outputs": [],
   "source": [
    "def initial_state():\n",
    "    \n",
    "    deck=makedeck()\n",
    "    \n",
    "    player1_hand=deal(deck,1)\n",
    "    player2_hand=deal(deck,1)\n",
    "    player1_stay=player2_stay=False\n",
    "    \n",
    "    return [player1_hand,player2_hand,deck,player1_stay,player2_stay]\n",
    "    "
   ]
  },
  {
   "cell_type": "code",
   "execution_count": 82,
   "id": "dbf22470-7d77-47de-a419-f8a4d1562390",
   "metadata": {},
   "outputs": [],
   "source": [
    "def score(hand):\n",
    "    total=0\n",
    "    has_ace=False\n",
    "    for card in hand:\n",
    "        if card.rank>10:\n",
    "            total+=10\n",
    "        else:\n",
    "            total+=card.rank\n",
    "        if card.rank==1:\n",
    "            has_ace=True\n",
    "            \n",
    "    if has_ace and total+10<=21:\n",
    "        return total+10\n",
    "    else:\n",
    "        return total\n",
    "    "
   ]
  },
  {
   "cell_type": "code",
   "execution_count": 83,
   "id": "93000b1b-8f3f-4594-8fd4-28cb100afcd3",
   "metadata": {},
   "outputs": [],
   "source": [
    "def show_state(state):\n",
    "    hand1,hand2,deck,p1_stay,p2_stay=state\n",
    "    \n",
    "    player=1\n",
    "    if player==1:\n",
    "        other_player=2\n",
    "    else:\n",
    "        other_player=1\n",
    "        \n",
    "    print(f\"Player {player} hand is {hand1} (score {score(hand1)})\",end=\"\")\n",
    "    if p1_stay:\n",
    "        print(\"-- Staying.\")\n",
    "    else:\n",
    "        print()\n",
    "    \n",
    "    print(f\"Player {other_player} hand is {hand2} (score {score(hand2)})\")\n",
    "    if p2_stay:\n",
    "        print(\"-- Staying.\")\n",
    "    else:\n",
    "        print()\n",
    "    "
   ]
  },
  {
   "cell_type": "code",
   "execution_count": 84,
   "id": "b3e29b30-a565-4af4-a1dd-71009bf83025",
   "metadata": {},
   "outputs": [
    {
     "name": "stdout",
     "output_type": "stream",
     "text": [
      "Player 1 hand is ['8S'] (score 8)\n",
      "Player 2 hand is ['QH'] (score 10)\n",
      "\n"
     ]
    }
   ],
   "source": [
    "show_state(initial_state())"
   ]
  },
  {
   "cell_type": "code",
   "execution_count": 85,
   "id": "155599b6-1937-4c5f-8381-88babbe3de3b",
   "metadata": {},
   "outputs": [],
   "source": [
    "def valid_moves(state,player):\n",
    "    return [\"hit\",\"stay\"]"
   ]
  },
  {
   "cell_type": "code",
   "execution_count": 86,
   "id": "f2373c5f-57fc-40c3-a3d4-3104b089baf6",
   "metadata": {},
   "outputs": [],
   "source": [
    "def update_state(state,player,move):\n",
    "    new_state=state\n",
    "    hand1,hand2,deck,p1_stay,p2_stay=state\n",
    "    \n",
    "    if move==\"stay\":\n",
    "        if player==1:\n",
    "            new_state[3]=True\n",
    "        else:\n",
    "            new_state[4]=True            \n",
    "        \n",
    "        return state\n",
    "    \n",
    "    assert move=='hit',f\"You can't get there from here: {move}\"\n",
    "    \n",
    "    # hit\n",
    "    \n",
    "    if player==1:\n",
    "        hand1+=deal(deck,1)\n",
    "    else:\n",
    "        hand2+=deal(deck,1)\n",
    "        \n",
    "    new_state=[hand1,hand2,deck,p1_stay,p2_stay]\n",
    "    return new_state\n",
    "    "
   ]
  },
  {
   "cell_type": "code",
   "execution_count": 87,
   "id": "dfa89d16-11ca-4839-814a-cd74ce7f53a7",
   "metadata": {},
   "outputs": [],
   "source": [
    "def win_status(state,player):\n",
    "    hand1,hand2,deck,p1_stay,p2_stay=state\n",
    "    \n",
    "    score1=score(hand1)\n",
    "    score2=score(hand2)\n",
    "    \n",
    "    if p1_stay and p2_stay:\n",
    "        if player==1:\n",
    "            if score1>score2:\n",
    "                return \"win\"\n",
    "            elif score1==score2:\n",
    "                return \"stalemate\"\n",
    "            else:\n",
    "                return \"lose\"\n",
    "        else:\n",
    "            if score2>score1:\n",
    "                return \"win\"\n",
    "            elif score1==score2:\n",
    "                return \"stalemate\"\n",
    "            else:\n",
    "                return \"lose\"\n",
    "            \n",
    "    if player==1 and score1>21:\n",
    "        return \"lose\"\n",
    "\n",
    "    if player==2 and score2>21:\n",
    "        return \"lose\"\n",
    "    \n",
    "    if p2_stay and score1>score2:\n",
    "        if player==1:\n",
    "            return \"win\"\n",
    "        else:\n",
    "            return \"lose\"\n",
    "    \n",
    "    if p1_stay and score2>score1:\n",
    "        if player==1:\n",
    "            return \"lose\"\n",
    "        else:\n",
    "            return \"win\"\n",
    "    "
   ]
  },
  {
   "cell_type": "code",
   "execution_count": 88,
   "id": "0f7dd63f-57d8-4f4d-95a2-fbff2910165b",
   "metadata": {},
   "outputs": [],
   "source": [
    "def repeat_move(state,player,move):\n",
    "    hand1,hand2,deck,p1_stay,p2_stay=state\n",
    "    \n",
    "    if player==1 and p2_stay:\n",
    "        return True\n",
    "    \n",
    "    if player==2 and p1_stay:\n",
    "        return True\n",
    "    \n",
    "    return False # all other cases"
   ]
  },
  {
   "cell_type": "code",
   "execution_count": 89,
   "id": "b28a4b0e-c090-4583-bc30-388626c6022d",
   "metadata": {},
   "outputs": [],
   "source": [
    "def human_move(state,player):\n",
    "    while True:\n",
    "        move=input(f\"Player {player}: Hit or stay?\").lower()\n",
    "\n",
    "        if move[0]=='h':\n",
    "            return \"hit\"\n",
    "        elif move[0]=='s':\n",
    "            return \"stay\"\n",
    "\n",
    "        print(\"Bad Move\")\n",
    "        \n",
    "human_agent=Agent(human_move)"
   ]
  },
  {
   "cell_type": "code",
   "execution_count": 91,
   "id": "48d75986-b8fe-4634-b87d-a0363383cfa0",
   "metadata": {},
   "outputs": [
    {
     "name": "stdout",
     "output_type": "stream",
     "text": [
      "====\n",
      "Game  1\n",
      "Player 1 hand is ['3S'] (score 3)\n",
      "Player 2 hand is ['9S'] (score 9)\n",
      "\n"
     ]
    },
    {
     "name": "stdin",
     "output_type": "stream",
     "text": [
      "Player 1: Hit or stay? s\n"
     ]
    },
    {
     "name": "stdout",
     "output_type": "stream",
     "text": [
      "Player 1 moves stay\n",
      "Player 1 hand is ['3S'] (score 3)-- Staying.\n",
      "Player 2 hand is ['9S'] (score 9)\n",
      "\n",
      "Player  2 won.\n"
     ]
    },
    {
     "data": {
      "text/plain": [
       "[2]"
      ]
     },
     "execution_count": 91,
     "metadata": {},
     "output_type": "execute_result"
    }
   ],
   "source": [
    "g=Game()\n",
    "g.run(human_agent,human_agent)"
   ]
  },
  {
   "cell_type": "code",
   "execution_count": null,
   "id": "7f2c7620-ee80-44f2-b329-1b6fe521bae0",
   "metadata": {},
   "outputs": [],
   "source": []
  }
 ],
 "metadata": {
  "kernelspec": {
   "display_name": "Python 3",
   "language": "python",
   "name": "python3"
  },
  "language_info": {
   "codemirror_mode": {
    "name": "ipython",
    "version": 3
   },
   "file_extension": ".py",
   "mimetype": "text/x-python",
   "name": "python",
   "nbconvert_exporter": "python",
   "pygments_lexer": "ipython3",
   "version": "3.8.10"
  }
 },
 "nbformat": 4,
 "nbformat_minor": 5
}
