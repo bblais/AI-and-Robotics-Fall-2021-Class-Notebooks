{
 "cells": [
  {
   "cell_type": "code",
   "execution_count": 1,
   "id": "7044e10a-0495-4dbb-9182-439cc3391696",
   "metadata": {},
   "outputs": [
    {
     "name": "stdout",
     "output_type": "stream",
     "text": [
      "Populating the interactive namespace from numpy and matplotlib\n"
     ]
    }
   ],
   "source": [
    "%pylab inline"
   ]
  },
  {
   "cell_type": "code",
   "execution_count": 2,
   "id": "964ea604-1798-4dff-bff0-afb064d40497",
   "metadata": {},
   "outputs": [
    {
     "name": "stdout",
     "output_type": "stream",
     "text": [
      "Version:  0.0.42\n"
     ]
    }
   ],
   "source": [
    "from RobotSim373 import *"
   ]
  },
  {
   "cell_type": "code",
   "execution_count": 3,
   "id": "e3e34487-d8f2-4f38-9fa9-a5f9fe0eed00",
   "metadata": {},
   "outputs": [],
   "source": [
    "def build(robot):\n",
    "    R=.5\n",
    "    r=R/5\n",
    "    \n",
    "    x=2\n",
    "    y=3\n",
    "    angle=0\n",
    "    disk_center=Disk(robot,x,y,radius=R,angle=angle,name='center')\n",
    "\n",
    "    disks=[]\n",
    "    for angle in range(0,360,30):\n",
    "        disk=Disk(robot,\n",
    "                          x+(R+1.1*r)*cos(radians(angle)),\n",
    "                          y+(R+1.1*r)*sin(radians(angle)),\n",
    "                 angle=angle,radius=r,\n",
    "                 name='disk %d' % angle)\n",
    "        disks.append(disk)\n",
    "\n",
    "    connect(disk_center,disks,'weld')\n",
    "\n",
    "    robot.disks=disks\n",
    "    robot.angles=list(range(0,360,30))\n",
    "    robot.distances=[-1]*len(disks)"
   ]
  },
  {
   "cell_type": "code",
   "execution_count": 5,
   "id": "bee9c63c-ab30-4bdf-8115-9c4a68bf08f9",
   "metadata": {},
   "outputs": [],
   "source": [
    "def right(t,robot):\n",
    "    for disk in robot.disks:\n",
    "        disk.F=0\n",
    "        \n",
    "    robot['disk 0'].F=10\n",
    "    return True\n",
    "\n",
    "def up(t,robot):\n",
    "    for disk in robot.disks:\n",
    "        disk.F=0\n",
    "        \n",
    "    robot['disk 90'].F=10\n",
    "    return True\n",
    "\n",
    "def down(t,robot):\n",
    "    for disk in robot.disks:\n",
    "        disk.F=0\n",
    "        \n",
    "    robot['disk 270'].F=10\n",
    "    return True\n",
    "\n",
    "def left(t,robot):\n",
    "    for disk in robot.disks:\n",
    "        disk.F=0\n",
    "        \n",
    "    robot['disk 180'].F=10\n",
    "    return True\n"
   ]
  },
  {
   "cell_type": "code",
   "execution_count": 6,
   "id": "5bea3996-3aa3-4d4a-8b6d-0d03bc3aadf2",
   "metadata": {},
   "outputs": [],
   "source": [
    "def until_right_wall(t,robot):\n",
    "    distance=robot['disk 0'].read_distance()\n",
    "    \n",
    "    if distance<2:\n",
    "        return True\n",
    "    \n",
    "    \n",
    "def until_top_wall(t,robot):\n",
    "    distance=robot['disk 90'].read_distance()\n",
    "    \n",
    "    if distance<2:\n",
    "        return True\n",
    "    \n",
    "def until_bottom_wall(t,robot):\n",
    "    distance=robot['disk 270'].read_distance()\n",
    "    \n",
    "    if distance<2:\n",
    "        return True    \n",
    "    \n",
    "def until_left_wall(t,robot):\n",
    "    distance=robot['disk 180'].read_distance()\n",
    "    \n",
    "    if distance<2:\n",
    "        return True        "
   ]
  },
  {
   "cell_type": "code",
   "execution_count": 15,
   "id": "3cca3082-7787-4dea-9c77-3cf2825af1d4",
   "metadata": {},
   "outputs": [],
   "source": [
    "def until_target_x(t,robot):\n",
    "    \n",
    "    if abs(robot['center'].x-robot.target_x)<0.01:\n",
    "        return True    \n",
    "\n",
    "def until_target_y(t,robot):\n",
    "    \n",
    "    if abs(robot['center'].y-robot.target_y)<0.01:\n",
    "        return True    \n"
   ]
  },
  {
   "cell_type": "code",
   "execution_count": null,
   "id": "4254f5e5-423f-41d8-b9c6-7d466dddfdf0",
   "metadata": {},
   "outputs": [],
   "source": []
  },
  {
   "cell_type": "code",
   "execution_count": 16,
   "id": "22bd2b98-93d6-4707-9717-8a090340af16",
   "metadata": {},
   "outputs": [],
   "source": [
    "def monitor(t,robot):\n",
    "    robot.message=t,robot.controller.current_state"
   ]
  },
  {
   "cell_type": "code",
   "execution_count": 17,
   "id": "8b6b00f5-90ed-4b93-86aa-099d8e327de1",
   "metadata": {},
   "outputs": [],
   "source": [
    "state_machine=StateMachine(\n",
    "    (right,'until_target_x'),\n",
    "    (until_target_x,\"up\"),\n",
    "    (up,'until_target_y'),\n",
    "    (until_target_y,\"_end_simulation\")\n",
    ")\n"
   ]
  },
  {
   "cell_type": "code",
   "execution_count": 18,
   "id": "e328c869-141d-4755-b8aa-215ffa4c4bf2",
   "metadata": {},
   "outputs": [
    {
     "data": {
      "image/png": "[encoded data removed]",
      "text/plain": [
       "<Figure size 432x432 with 1 Axes>"
      ]
     },
     "metadata": {
      "needs_background": "light"
     },
     "output_type": "display_data"
    }
   ],
   "source": [
    "env=FrictionEnvironment(24,24)\n",
    "robot=Robot(env)\n",
    "build(robot)\n",
    "robot.controller=Controller(state_machine)\n",
    "robot.controller.monitor=monitor\n",
    "\n",
    "Box(env,x=10,y=10)\n",
    "\n",
    "robot.target_x=15\n",
    "robot.target_y=17\n",
    "\n",
    "run_sim(env,robot.controller, \n",
    "        figure_width=6,\n",
    "       total_time=30,\n",
    "       dt_display=0.3,  # make this larger for a faster display\n",
    "       )\n"
   ]
  },
  {
   "cell_type": "code",
   "execution_count": null,
   "id": "6595c4c3-82fb-4b8c-9790-2d6341560848",
   "metadata": {},
   "outputs": [],
   "source": []
  }
 ],
 "metadata": {
  "kernelspec": {
   "display_name": "Python 3",
   "language": "python",
   "name": "python3"
  },
  "language_info": {
   "codemirror_mode": {
    "name": "ipython",
    "version": 3
   },
   "file_extension": ".py",
   "mimetype": "text/x-python",
   "name": "python",
   "nbconvert_exporter": "python",
   "pygments_lexer": "ipython3",
   "version": "3.8.10"
  }
 },
 "nbformat": 4,
 "nbformat_minor": 5
}
