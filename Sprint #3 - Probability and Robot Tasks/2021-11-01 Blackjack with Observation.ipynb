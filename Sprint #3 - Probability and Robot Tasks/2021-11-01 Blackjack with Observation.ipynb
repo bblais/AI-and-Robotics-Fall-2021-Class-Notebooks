{
 "cells": [
  {
   "cell_type": "code",
   "execution_count": 1,
   "id": "8e05e598-5444-495d-a679-d165738d1111",
   "metadata": {},
   "outputs": [
    {
     "name": "stdout",
     "output_type": "stream",
     "text": [
      "Version:  0.2.33\n"
     ]
    }
   ],
   "source": [
    "from Game import *"
   ]
  },
  {
   "cell_type": "code",
   "execution_count": 20,
   "id": "25a4dccc-3adb-4f0b-9663-b75234ea3f07",
   "metadata": {},
   "outputs": [],
   "source": [
    "def initial_state():\n",
    "    \n",
    "    deck=makedeck()\n",
    "    \n",
    "    player1_hand=deal(deck,2)\n",
    "    player2_hand=deal(deck,2)\n",
    "    player1_stay=player2_stay=False\n",
    "    \n",
    "    return [player1_hand,player2_hand,deck,player1_stay,player2_stay,None,None]\n",
    "    "
   ]
  },
  {
   "cell_type": "code",
   "execution_count": 21,
   "id": "dbf22470-7d77-47de-a419-f8a4d1562390",
   "metadata": {},
   "outputs": [],
   "source": [
    "def score(hand):\n",
    "    total=0\n",
    "    has_ace=False\n",
    "    for card in hand:\n",
    "        if card is None:\n",
    "            continue\n",
    "        \n",
    "        if card.rank>10:\n",
    "            total+=10\n",
    "        else:\n",
    "            total+=card.rank\n",
    "        if card.rank==1:\n",
    "            has_ace=True\n",
    "            \n",
    "    if has_ace and total+10<=21:\n",
    "        return total+10\n",
    "    else:\n",
    "        return total\n",
    "    "
   ]
  },
  {
   "cell_type": "code",
   "execution_count": 22,
   "id": "0e0a4dfa-a6fe-451b-babb-d22f2456e250",
   "metadata": {},
   "outputs": [],
   "source": [
    "def state_to_observation(state,player):\n",
    "    hand1,hand2,deck,p1_stay,p2_stay,last_card1,last_card2=state\n",
    "    \n",
    "    if player==1:\n",
    "        observation=hand1,hand2[1:],p1_stay,p2_stay,last_card1,last_card2 # only the 2nd and further card\n",
    "    else:\n",
    "        observation=hand2,hand1[1:],p2_stay,p1_stay,last_card2,last_card1  # only the 2nd and further card\n",
    "        \n",
    "    return observation"
   ]
  },
  {
   "cell_type": "code",
   "execution_count": 23,
   "id": "93000b1b-8f3f-4594-8fd4-28cb100afcd3",
   "metadata": {},
   "outputs": [],
   "source": [
    "def show_state(observation):\n",
    "    hand1,hand2,player_stay,opponent_stay,last_card1,last_card2=observation\n",
    "\n",
    "    if last_card1:\n",
    "        print(f\"Player last card dealt: {last_card1}\")\n",
    "    print(f\"Player hand is {hand1} (score {score(hand1)})\",end=\"\")\n",
    "    if player_stay:\n",
    "        print(\"-- Staying.\")\n",
    "    else:\n",
    "        print()\n",
    "    \n",
    "    if last_card2:\n",
    "        print(f\"Opponent last card dealt: {last_card2}\")\n",
    "    print(f\"Opponent hand showing is {hand2} (showing score {score(hand2)})\")\n",
    "    if opponent_stay:\n",
    "        print(\"-- Staying.\")\n",
    "    else:\n",
    "        print()\n",
    "    "
   ]
  },
  {
   "cell_type": "code",
   "execution_count": 24,
   "id": "b3e29b30-a565-4af4-a1dd-71009bf83025",
   "metadata": {},
   "outputs": [
    {
     "name": "stdout",
     "output_type": "stream",
     "text": [
      "Player hand is ['8D', 'JD'] (score 18)\n",
      "Opponent hand showing is ['KS'] (showing score 10)\n",
      "\n"
     ]
    }
   ],
   "source": [
    "show_state(state_to_observation(initial_state(),1))"
   ]
  },
  {
   "cell_type": "code",
   "execution_count": 25,
   "id": "155599b6-1937-4c5f-8381-88babbe3de3b",
   "metadata": {},
   "outputs": [],
   "source": [
    "def valid_moves(state,player):\n",
    "    return [\"hit\",\"stay\"]"
   ]
  },
  {
   "cell_type": "code",
   "execution_count": 26,
   "id": "f2373c5f-57fc-40c3-a3d4-3104b089baf6",
   "metadata": {},
   "outputs": [],
   "source": [
    "def update_state(state,player,move):\n",
    "    new_state=state\n",
    "    hand1,hand2,deck,p1_stay,p2_stay,last_card1,last_card2=state\n",
    "    \n",
    "    if move==\"stay\":\n",
    "        if player==1:\n",
    "            new_state[3]=True\n",
    "        else:\n",
    "            new_state[4]=True            \n",
    "        \n",
    "        return state\n",
    "    \n",
    "    assert move=='hit',f\"You can't get there from here: {move}\"\n",
    "    \n",
    "    # hit\n",
    "    \n",
    "    if player==1:\n",
    "        last_card1=deck.deal(1)[0]\n",
    "        hand1+=[last_card1]\n",
    "    else:\n",
    "        last_card2=deck.deal(1)[0]\n",
    "        hand2+=[last_card2]\n",
    "        \n",
    "    new_state=[hand1,hand2,deck,p1_stay,p2_stay,last_card1,last_card2]\n",
    "    return new_state\n",
    "    "
   ]
  },
  {
   "cell_type": "code",
   "execution_count": 31,
   "id": "dfa89d16-11ca-4839-814a-cd74ce7f53a7",
   "metadata": {},
   "outputs": [],
   "source": [
    "def win_status(state,player):\n",
    "    hand1,hand2,deck,p1_stay,p2_stay,last_card1,last_card2=state\n",
    "    \n",
    "    score1=score(hand1)\n",
    "    score2=score(hand2)\n",
    "    \n",
    "    if p1_stay and p2_stay:\n",
    "        if player==1:\n",
    "            if score1>score2:\n",
    "                return \"win\"\n",
    "            elif score1==score2:\n",
    "                return \"stalemate\"\n",
    "            else:\n",
    "                return \"lose\"\n",
    "        else:\n",
    "            if score2>score1:\n",
    "                return \"win\"\n",
    "            elif score1==score2:\n",
    "                return \"stalemate\"\n",
    "            else:\n",
    "                return \"lose\"\n",
    "            \n",
    "    if player==1 and score1>21:\n",
    "        return \"lose\"\n",
    "\n",
    "    if player==2 and score2>21:\n",
    "        return \"lose\"\n",
    "    \n",
    "    # when there are cards not shown, then you don't want this extra logic to the game\n",
    "#     if p2_stay and score1>score2:\n",
    "#         if player==1:\n",
    "#             return \"win\"\n",
    "#         else:\n",
    "#             return \"lose\"\n",
    "    \n",
    "#     if p1_stay and score2>score1:\n",
    "#         if player==1:\n",
    "#             return \"lose\"\n",
    "#         else:\n",
    "#             return \"win\"\n",
    "    "
   ]
  },
  {
   "cell_type": "code",
   "execution_count": 32,
   "id": "0f7dd63f-57d8-4f4d-95a2-fbff2910165b",
   "metadata": {},
   "outputs": [],
   "source": [
    "def repeat_move(state,player,move):\n",
    "    hand1,hand2,deck,p1_stay,p2_stay,last_card1,last_card2=state\n",
    "    \n",
    "    if player==1 and p2_stay:\n",
    "        return True\n",
    "    \n",
    "    if player==2 and p1_stay:\n",
    "        return True\n",
    "    \n",
    "    return False # all other cases"
   ]
  },
  {
   "cell_type": "code",
   "execution_count": 33,
   "id": "b28a4b0e-c090-4583-bc30-388626c6022d",
   "metadata": {},
   "outputs": [],
   "source": [
    "def human_move(observation,player):\n",
    "    while True:\n",
    "        move=input(f\"Player {player}: Hit or stay?\").lower()\n",
    "\n",
    "        if move[0]=='h':\n",
    "            return \"hit\"\n",
    "        elif move[0]=='s':\n",
    "            return \"stay\"\n",
    "\n",
    "        print(\"Bad Move\")\n",
    "        \n",
    "human_agent=Agent(human_move)"
   ]
  },
  {
   "cell_type": "code",
   "execution_count": 36,
   "id": "48d75986-b8fe-4634-b87d-a0363383cfa0",
   "metadata": {},
   "outputs": [
    {
     "name": "stdout",
     "output_type": "stream",
     "text": [
      "====\n",
      "Game  1\n",
      "Player hand is ['QH', '8S'] (score 18)\n",
      "Opponent hand showing is ['QC'] (showing score 10)\n",
      "\n"
     ]
    },
    {
     "name": "stdin",
     "output_type": "stream",
     "text": [
      "Player 1: Hit or stay? s\n"
     ]
    },
    {
     "name": "stdout",
     "output_type": "stream",
     "text": [
      "Player 1 moves stay\n",
      "Player hand is ['4D', 'QC'] (score 14)\n",
      "Opponent hand showing is ['8S'] (showing score 8)\n",
      "-- Staying.\n"
     ]
    },
    {
     "name": "stdin",
     "output_type": "stream",
     "text": [
      "Player 2: Hit or stay? s\n"
     ]
    },
    {
     "name": "stdout",
     "output_type": "stream",
     "text": [
      "Player 2 moves stay\n",
      "Player hand is ['4D', 'QC'] (score 14)-- Staying.\n",
      "Opponent hand showing is ['8S'] (showing score 8)\n",
      "-- Staying.\n",
      "Player  1 won.\n"
     ]
    },
    {
     "data": {
      "text/plain": [
       "[1]"
      ]
     },
     "execution_count": 36,
     "metadata": {},
     "output_type": "execute_result"
    }
   ],
   "source": [
    "g=Game()\n",
    "g.run(human_agent,human_agent)"
   ]
  },
  {
   "cell_type": "code",
   "execution_count": 19,
   "id": "7f2c7620-ee80-44f2-b329-1b6fe521bae0",
   "metadata": {},
   "outputs": [
    {
     "data": {
      "text/plain": [
       "[(['3S', 'KC'], ['3D'], False, False),\n",
       " (['2H', '3D'], ['KC', '7S'], False, False)]"
      ]
     },
     "execution_count": 19,
     "metadata": {},
     "output_type": "execute_result"
    }
   ],
   "source": [
    "human_agent.states"
   ]
  },
  {
   "cell_type": "code",
   "execution_count": null,
   "id": "3ada8ade-fef3-49bc-8d19-d035e9ad546d",
   "metadata": {},
   "outputs": [],
   "source": []
  }
 ],
 "metadata": {
  "kernelspec": {
   "display_name": "Python 3",
   "language": "python",
   "name": "python3"
  },
  "language_info": {
   "codemirror_mode": {
    "name": "ipython",
    "version": 3
   },
   "file_extension": ".py",
   "mimetype": "text/x-python",
   "name": "python",
   "nbconvert_exporter": "python",
   "pygments_lexer": "ipython3",
   "version": "3.8.10"
  }
 },
 "nbformat": 4,
 "nbformat_minor": 5
}
