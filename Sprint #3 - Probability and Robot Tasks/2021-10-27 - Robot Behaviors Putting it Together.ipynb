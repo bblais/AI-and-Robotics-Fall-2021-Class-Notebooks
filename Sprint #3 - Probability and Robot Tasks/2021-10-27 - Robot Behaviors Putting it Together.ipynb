{
 "cells": [
  {
   "cell_type": "code",
   "execution_count": 1,
   "id": "257d09f2-7e8d-495b-98d8-d3d66047a3b3",
   "metadata": {},
   "outputs": [
    {
     "name": "stdout",
     "output_type": "stream",
     "text": [
      "Populating the interactive namespace from numpy and matplotlib\n"
     ]
    }
   ],
   "source": [
    "%pylab inline"
   ]
  },
  {
   "cell_type": "code",
   "execution_count": 2,
   "id": "6d9798ce-1ace-45da-8d30-19dd250b6860",
   "metadata": {},
   "outputs": [
    {
     "name": "stdout",
     "output_type": "stream",
     "text": [
      "Version:  0.0.41\n"
     ]
    }
   ],
   "source": [
    "from RobotSim373 import *"
   ]
  },
  {
   "cell_type": "markdown",
   "id": "77b99ac3-c930-46db-97b9-7a3c8b2ded2e",
   "metadata": {},
   "source": [
    "Let's say we have a track like:\n",
    "\n",
    "<img src=\"images/track.png\" width=30%>\n",
    "\n",
    "and I want to start by moving until I am inside, and then once inside stay inside.  I can think of this in terms of two behaviors:\n",
    "\n",
    "1. approach to get inside the track\n",
    "2. wander, but keep in the track\n",
    "\n",
    "But these can br broken up into smaller pieces\n",
    "\n",
    "1. approach to get inside the track\n",
    "    1. go forward\n",
    "    2. look for black\n",
    "    3. once I see black switch to looking for white\n",
    "    4. once I see white I'm inside, so do the wander task\n",
    "2. wander, but keep in the track\n",
    "    1. go forward\n",
    "    2. look for black\n",
    "    3. once I see black, do avoidance behavior, then back to go forward\n",
    "    \n",
    "where the avoidance behavior might be:\n",
    "\n",
    "1. switch to moving back for a short time/distance\n",
    "2. rotate randomly for a short time/distance\n",
    "\n"
   ]
  },
  {
   "cell_type": "code",
   "execution_count": 3,
   "id": "72c45806-1809-4187-8785-2495a097fe96",
   "metadata": {},
   "outputs": [],
   "source": [
    "def forward(t,robot):\n",
    "    robot['sally'].F=10\n",
    "    return True"
   ]
  },
  {
   "cell_type": "code",
   "execution_count": 4,
   "id": "a8fe11a5-e6c5-42f5-8a49-7c636ea28e53",
   "metadata": {},
   "outputs": [],
   "source": [
    "def until_black(t,robot):\n",
    "    color=robot['sally'].read_color()\n",
    "    \n",
    "    r,g,b,a=color\n",
    "    \n",
    "    if r<0.2 and g<0.2 and b<0.2:\n",
    "        return True\n",
    "    else:\n",
    "        return False"
   ]
  },
  {
   "cell_type": "code",
   "execution_count": 5,
   "id": "3e76dc79-be30-47d3-a962-e31b65ea7933",
   "metadata": {},
   "outputs": [],
   "source": [
    "def monitor(t,robot):\n",
    "    r,g,b,a=robot['sally'].read_color()\n",
    "    robot.message='%.2f %.2f %.2f %.2f %s' % (r,g,b,a,robot.controller.current_state)"
   ]
  },
  {
   "cell_type": "code",
   "execution_count": 6,
   "id": "5ecdef7e-7eeb-495f-a66f-8c9355c96f11",
   "metadata": {},
   "outputs": [],
   "source": [
    "def until_white(t,robot):\n",
    "    color=robot['sally'].read_color()\n",
    "    \n",
    "    try:\n",
    "        r,g,b,a=color\n",
    "    except ValueError:\n",
    "        r,g,b=color\n",
    "        a=255\n",
    "    \n",
    "    if r>0.5 and g>0.5 and b>0.5:\n",
    "        return True\n",
    "    else:\n",
    "        return False"
   ]
  },
  {
   "cell_type": "code",
   "execution_count": 7,
   "id": "274a9189-9189-4114-8934-1fa623378cd2",
   "metadata": {},
   "outputs": [],
   "source": [
    "def reverse_for_a_bit(t,robot):\n",
    "    robot['sally'].F=-5\n",
    "    if t>1:\n",
    "        robot['sally'].F=0\n",
    "        return True\n",
    "    \n",
    "def turn_for_a_bit(t,robot):\n",
    "    if robot['sally'].τ==0:\n",
    "        robot['sally'].τ=random.choice([-1.0,1.0])\n",
    "        \n",
    "    if t>1:\n",
    "        robot['sally'].τ=0\n",
    "        return True    "
   ]
  },
  {
   "cell_type": "code",
   "execution_count": 8,
   "id": "ac224d32-c952-49b9-99d4-0265c674a80c",
   "metadata": {},
   "outputs": [],
   "source": [
    "def build(robot):\n",
    "    box=Box(robot,x=3,y=12,name=\"sally\")"
   ]
  },
  {
   "cell_type": "code",
   "execution_count": 9,
   "id": "05772f4c-86f5-4552-85f5-d2831e3843bf",
   "metadata": {},
   "outputs": [],
   "source": [
    "state_machine_wander=StateMachine(\n",
    "    (forward,'until_black'),\n",
    "    (until_black,'reverse_for_a_bit'),\n",
    "    (reverse_for_a_bit,'turn_for_a_bit'),\n",
    "    (turn_for_a_bit,'forward'),\n",
    ")\n",
    "\n",
    "\n",
    "\n",
    "state_machine_approach=StateMachine(\n",
    "    (forward,'until_black'),\n",
    "    (until_black,'until_white'),\n",
    "    (until_white,state_machine_wander),\n",
    ")\n",
    "\n"
   ]
  },
  {
   "cell_type": "code",
   "execution_count": 10,
   "id": "f19aa26b-e59e-4b8a-ab9b-e945a11c2b71",
   "metadata": {},
   "outputs": [
    {
     "data": {
      "image/png": "[encoded data removed]",
      "text/plain": [
       "<Figure size 432x414 with 1 Axes>"
      ]
     },
     "metadata": {
      "needs_background": "light"
     },
     "output_type": "display_data"
    }
   ],
   "source": [
    "env=FrictionEnvironment(image=\"images/track.png\")\n",
    "robot=Robot(env)\n",
    "build(robot)\n",
    "robot.controller=Controller(state_machine_approach)\n",
    "robot.controller.monitor=monitor\n",
    "\n",
    "\n",
    "run_sim(env,robot.controller,\n",
    "        figure_width=6,\n",
    "       total_time=30,\n",
    "       dt_display=0.3,  # make this larger for a faster display\n",
    "       )\n"
   ]
  },
  {
   "cell_type": "code",
   "execution_count": 38,
   "id": "ddc71d2a-9dea-4a44-93e2-e70ce1c9b59c",
   "metadata": {},
   "outputs": [
    {
     "data": {
      "text/plain": [
       "-1"
      ]
     },
     "execution_count": 38,
     "metadata": {},
     "output_type": "execute_result"
    }
   ],
   "source": [
    "random.choice([-1,1])"
   ]
  },
  {
   "cell_type": "code",
   "execution_count": null,
   "id": "d998a144-c816-4361-a366-e26a6d730879",
   "metadata": {},
   "outputs": [],
   "source": []
  }
 ],
 "metadata": {
  "kernelspec": {
   "display_name": "Python 3",
   "language": "python",
   "name": "python3"
  },
  "language_info": {
   "codemirror_mode": {
    "name": "ipython",
    "version": 3
   },
   "file_extension": ".py",
   "mimetype": "text/x-python",
   "name": "python",
   "nbconvert_exporter": "python",
   "pygments_lexer": "ipython3",
   "version": "3.8.10"
  }
 },
 "nbformat": 4,
 "nbformat_minor": 5
}
