{
 "cells": [
  {
   "cell_type": "markdown",
   "metadata": {},
   "source": [
    "## Sprint #1"
   ]
  },
  {
   "cell_type": "code",
   "execution_count": 1,
   "metadata": {},
   "outputs": [
    {
     "name": "stdout",
     "output_type": "stream",
     "text": [
      "Collecting git+git://github.com/bblais/Game\n",
      "  Cloning git://github.com/bblais/Game to /Users/bblais/tmp/pip-req-build-6g8mv6t9\n",
      "  Running command git clone -q git://github.com/bblais/Game /Users/bblais/tmp/pip-req-build-6g8mv6t9\n",
      "Building wheels for collected packages: Game\n",
      "  Building wheel for Game (setup.py) ... \u001b[?25ldone\n",
      "\u001b[?25h  Created wheel for Game: filename=Game-0.2.27-py3-none-any.whl size=15683 sha256=a66a8b5867ad09c45cf60ae4bc17c112005848fee49fefe028756fa6f948bb9a\n",
      "  Stored in directory: /Users/bblais/tmp/pip-ephem-wheel-cache-pcpw7lnr/wheels/98/db/88/b0c4a888c49d8cae118c916c09b4157935368ed67866a4e450\n",
      "Successfully built Game\n",
      "Installing collected packages: Game\n",
      "Successfully installed Game-0.2.27\n"
     ]
    }
   ],
   "source": [
    "!pip install \"git+git://github.com/bblais/Game\" --upgrade"
   ]
  },
  {
   "cell_type": "code",
   "execution_count": 2,
   "metadata": {},
   "outputs": [
    {
     "name": "stdout",
     "output_type": "stream",
     "text": [
      "Version:  0.2.27\n"
     ]
    }
   ],
   "source": [
    "import Game"
   ]
  },
  {
   "cell_type": "markdown",
   "metadata": {},
   "source": [
    "## Sprint #2"
   ]
  },
  {
   "cell_type": "code",
   "execution_count": 4,
   "metadata": {},
   "outputs": [
    {
     "name": "stdout",
     "output_type": "stream",
     "text": [
      "Requirement already satisfied: box2d in /Users/bblais/opt/anaconda3/envs/py3/lib/python3.7/site-packages (2.3.10)\n"
     ]
    }
   ],
   "source": [
    "!pip install box2d"
   ]
  },
  {
   "cell_type": "code",
   "execution_count": 5,
   "metadata": {},
   "outputs": [
    {
     "name": "stdout",
     "output_type": "stream",
     "text": [
      "Collecting git+git://github.com/bblais/RobotSim373\n",
      "  Cloning git://github.com/bblais/RobotSim373 to /Users/bblais/tmp/pip-req-build-2ukl2h6n\n",
      "Requirement already satisfied, skipping upgrade: box2d in /Users/bblais/opt/anaconda3/envs/py3/lib/python3.7/site-packages (from RobotSim373==0.0.17) (2.3.10)\n",
      "Requirement already satisfied, skipping upgrade: matplotlib in /Users/bblais/opt/anaconda3/envs/py3/lib/python3.7/site-packages (from RobotSim373==0.0.17) (3.3.1)\n",
      "Requirement already satisfied, skipping upgrade: pyglet in /Users/bblais/opt/anaconda3/envs/py3/lib/python3.7/site-packages (from RobotSim373==0.0.17) (1.5.7)\n",
      "Requirement already satisfied, skipping upgrade: numpy>=1.15 in /Users/bblais/opt/anaconda3/envs/py3/lib/python3.7/site-packages (from matplotlib->RobotSim373==0.0.17) (1.19.1)\n",
      "Requirement already satisfied, skipping upgrade: cycler>=0.10 in /Users/bblais/opt/anaconda3/envs/py3/lib/python3.7/site-packages (from matplotlib->RobotSim373==0.0.17) (0.10.0)\n",
      "Requirement already satisfied, skipping upgrade: python-dateutil>=2.1 in /Users/bblais/opt/anaconda3/envs/py3/lib/python3.7/site-packages (from matplotlib->RobotSim373==0.0.17) (2.8.1)\n",
      "Requirement already satisfied, skipping upgrade: pyparsing!=2.0.4,!=2.1.2,!=2.1.6,>=2.0.3 in /Users/bblais/opt/anaconda3/envs/py3/lib/python3.7/site-packages (from matplotlib->RobotSim373==0.0.17) (2.4.7)\n",
      "Requirement already satisfied, skipping upgrade: pillow>=6.2.0 in /Users/bblais/opt/anaconda3/envs/py3/lib/python3.7/site-packages (from matplotlib->RobotSim373==0.0.17) (7.2.0)\n",
      "Requirement already satisfied, skipping upgrade: certifi>=2020.06.20 in /Users/bblais/opt/anaconda3/envs/py3/lib/python3.7/site-packages (from matplotlib->RobotSim373==0.0.17) (2020.6.20)\n",
      "Requirement already satisfied, skipping upgrade: kiwisolver>=1.0.1 in /Users/bblais/opt/anaconda3/envs/py3/lib/python3.7/site-packages (from matplotlib->RobotSim373==0.0.17) (1.2.0)\n",
      "Requirement already satisfied, skipping upgrade: six in /Users/bblais/opt/anaconda3/envs/py3/lib/python3.7/site-packages (from cycler>=0.10->matplotlib->RobotSim373==0.0.17) (1.15.0)\n",
      "Building wheels for collected packages: RobotSim373\n",
      "  Building wheel for RobotSim373 (setup.py) ... \u001b[?25ldone\n",
      "\u001b[?25h  Created wheel for RobotSim373: filename=RobotSim373-0.0.17-py3-none-any.whl size=6807 sha256=4ced603ee756fd74840fd95985e334f78092469f2caa108559b5c411c328754e\n",
      "  Stored in directory: /Users/bblais/tmp/pip-ephem-wheel-cache-20uk1tqk/wheels/1c/1d/7d/43a5af78343b50185cfd2a310afad23387e47c127bc41defb0\n",
      "Successfully built RobotSim373\n",
      "Installing collected packages: RobotSim373\n",
      "  Attempting uninstall: RobotSim373\n",
      "    Found existing installation: RobotSim373 0.0.17\n",
      "    Uninstalling RobotSim373-0.0.17:\n",
      "      Successfully uninstalled RobotSim373-0.0.17\n",
      "Successfully installed RobotSim373-0.0.17\n"
     ]
    }
   ],
   "source": [
    "!pip install \"git+git://github.com/bblais/RobotSim373\" --upgrade"
   ]
  },
  {
   "cell_type": "markdown",
   "metadata": {},
   "source": [
    "## Sprint #3"
   ]
  },
  {
   "cell_type": "code",
   "execution_count": null,
   "metadata": {},
   "outputs": [],
   "source": []
  },
  {
   "cell_type": "markdown",
   "metadata": {},
   "source": [
    "## Sprint #4"
   ]
  },
  {
   "cell_type": "code",
   "execution_count": 1,
   "metadata": {},
   "outputs": [
    {
     "name": "stdout",
     "output_type": "stream",
     "text": [
      "Requirement already satisfied: scikit-learn in /Users/bblais/opt/anaconda3/envs/py3/lib/python3.7/site-packages (0.23.2)\n",
      "Requirement already satisfied: numpy>=1.13.3 in /Users/bblais/opt/anaconda3/envs/py3/lib/python3.7/site-packages (from scikit-learn) (1.19.1)\n",
      "Requirement already satisfied: joblib>=0.11 in /Users/bblais/opt/anaconda3/envs/py3/lib/python3.7/site-packages (from scikit-learn) (0.17.0)\n",
      "Requirement already satisfied: threadpoolctl>=2.0.0 in /Users/bblais/opt/anaconda3/envs/py3/lib/python3.7/site-packages (from scikit-learn) (2.1.0)\n",
      "Requirement already satisfied: scipy>=0.19.1 in /Users/bblais/opt/anaconda3/envs/py3/lib/python3.7/site-packages (from scikit-learn) (1.5.2)\n"
     ]
    }
   ],
   "source": [
    "!pip install scikit-learn"
   ]
  },
  {
   "cell_type": "code",
   "execution_count": 1,
   "metadata": {},
   "outputs": [
    {
     "name": "stdout",
     "output_type": "stream",
     "text": [
      "Collecting git+git://github.com/bblais/classy\n",
      "  Cloning git://github.com/bblais/classy to /Users/bblais/tmp/pip-req-build-5qyjm2e7\n",
      "Building wheels for collected packages: classy\n",
      "  Building wheel for classy (setup.py) ... \u001b[?25ldone\n",
      "\u001b[?25h  Created wheel for classy: filename=classy-0.0.22-py3-none-any.whl size=43710 sha256=b7dee517897ebebd2a5b03351a2f850a317f3f9c013e167fce0526e2d9ba229e\n",
      "  Stored in directory: /Users/bblais/tmp/pip-ephem-wheel-cache-8wd3al6o/wheels/99/fd/d3/5aeb58829f98c3b1843867767d5c74ab2c21bd1f93e973ade9\n",
      "Successfully built classy\n",
      "Installing collected packages: classy\n",
      "  Attempting uninstall: classy\n",
      "    Found existing installation: classy 0.0.22\n",
      "    Uninstalling classy-0.0.22:\n",
      "      Successfully uninstalled classy-0.0.22\n",
      "Successfully installed classy-0.0.22\n"
     ]
    }
   ],
   "source": [
    "!pip install \"git+git://github.com/bblais/classy\" --upgrade"
   ]
  },
  {
   "cell_type": "markdown",
   "metadata": {},
   "source": [
    "## Sprint #5"
   ]
  },
  {
   "cell_type": "code",
   "execution_count": 2,
   "metadata": {},
   "outputs": [
    {
     "name": "stdout",
     "output_type": "stream",
     "text": [
      "Collecting git+git://github.com/bblais/NumpyNet\n",
      "  Cloning git://github.com/bblais/NumpyNet to /Users/bblais/tmp/pip-req-build-fv2gj_zw\n",
      "Requirement already satisfied, skipping upgrade: opencv-python<=4.1.2.30 in /Users/bblais/opt/anaconda3/envs/py3/lib/python3.7/site-packages (from NumPyNet==1.0.2) (4.1.2.30)\n",
      "Requirement already satisfied, skipping upgrade: numpy>=1.15 in /Users/bblais/opt/anaconda3/envs/py3/lib/python3.7/site-packages (from NumPyNet==1.0.2) (1.19.1)\n",
      "Requirement already satisfied, skipping upgrade: pillow in /Users/bblais/opt/anaconda3/envs/py3/lib/python3.7/site-packages (from NumPyNet==1.0.2) (7.2.0)\n",
      "Requirement already satisfied, skipping upgrade: pytest in /Users/bblais/opt/anaconda3/envs/py3/lib/python3.7/site-packages (from NumPyNet==1.0.2) (0.0.0)\n",
      "Requirement already satisfied, skipping upgrade: enum34 in /Users/bblais/opt/anaconda3/envs/py3/lib/python3.7/site-packages (from NumPyNet==1.0.2) (1.1.10)\n",
      "Requirement already satisfied, skipping upgrade: configparser in /Users/bblais/opt/anaconda3/envs/py3/lib/python3.7/site-packages (from NumPyNet==1.0.2) (5.0.1)\n",
      "Requirement already satisfied, skipping upgrade: tqdm in /Users/bblais/opt/anaconda3/envs/py3/lib/python3.7/site-packages (from NumPyNet==1.0.2) (4.50.0)\n",
      "Requirement already satisfied, skipping upgrade: attrs>=17.4.0 in /Users/bblais/opt/anaconda3/envs/py3/lib/python3.7/site-packages (from pytest->NumPyNet==1.0.2) (20.2.0)\n",
      "Requirement already satisfied, skipping upgrade: iniconfig in /Users/bblais/opt/anaconda3/envs/py3/lib/python3.7/site-packages (from pytest->NumPyNet==1.0.2) (0.0.0)\n",
      "Requirement already satisfied, skipping upgrade: packaging in /Users/bblais/opt/anaconda3/envs/py3/lib/python3.7/site-packages (from pytest->NumPyNet==1.0.2) (20.4)\n",
      "Requirement already satisfied, skipping upgrade: pluggy<1.0,>=0.12 in /Users/bblais/opt/anaconda3/envs/py3/lib/python3.7/site-packages (from pytest->NumPyNet==1.0.2) (0.13.1)\n",
      "Requirement already satisfied, skipping upgrade: py>=1.8.2 in /Users/bblais/opt/anaconda3/envs/py3/lib/python3.7/site-packages (from pytest->NumPyNet==1.0.2) (1.9.0)\n",
      "Requirement already satisfied, skipping upgrade: toml in /Users/bblais/opt/anaconda3/envs/py3/lib/python3.7/site-packages (from pytest->NumPyNet==1.0.2) (0.10.1)\n",
      "Requirement already satisfied, skipping upgrade: importlib-metadata>=0.12 in /Users/bblais/opt/anaconda3/envs/py3/lib/python3.7/site-packages (from pytest->NumPyNet==1.0.2) (1.7.0)\n",
      "Requirement already satisfied, skipping upgrade: pyparsing>=2.0.2 in /Users/bblais/opt/anaconda3/envs/py3/lib/python3.7/site-packages (from packaging->pytest->NumPyNet==1.0.2) (2.4.7)\n",
      "Requirement already satisfied, skipping upgrade: six in /Users/bblais/opt/anaconda3/envs/py3/lib/python3.7/site-packages (from packaging->pytest->NumPyNet==1.0.2) (1.15.0)\n",
      "Requirement already satisfied, skipping upgrade: zipp>=0.5 in /Users/bblais/opt/anaconda3/envs/py3/lib/python3.7/site-packages (from importlib-metadata>=0.12->pytest->NumPyNet==1.0.2) (3.1.0)\n",
      "Building wheels for collected packages: NumPyNet\n",
      "  Building wheel for NumPyNet (setup.py) ... \u001b[?25ldone\n",
      "\u001b[?25h  Created wheel for NumPyNet: filename=NumPyNet-1.0.2-py3-none-any.whl size=95896 sha256=fabe3109e5f5b7831b91032ec82b2eeabb48edd1d418b870016ce8775b1508eb\n",
      "  Stored in directory: /Users/bblais/tmp/pip-ephem-wheel-cache-69ik83m0/wheels/dc/47/b5/450fa87c90b4147d8ed13dd2055b77887ad31ea5c86c4f0cb8\n",
      "Successfully built NumPyNet\n",
      "Installing collected packages: NumPyNet\n",
      "  Attempting uninstall: NumPyNet\n",
      "    Found existing installation: NumPyNet 1.0.2\n",
      "    Uninstalling NumPyNet-1.0.2:\n",
      "      Successfully uninstalled NumPyNet-1.0.2\n",
      "Successfully installed NumPyNet-1.0.2\n"
     ]
    }
   ],
   "source": [
    "!pip install \"git+git://github.com/bblais/NumpyNet\" --upgrade"
   ]
  },
  {
   "cell_type": "code",
   "execution_count": 3,
   "metadata": {},
   "outputs": [
    {
     "name": "stdout",
     "output_type": "stream",
     "text": [
      "Requirement already satisfied: tqdm in /Users/bblais/opt/anaconda3/envs/py3/lib/python3.7/site-packages (4.50.0)\n"
     ]
    }
   ],
   "source": [
    "!pip install tqdm"
   ]
  },
  {
   "cell_type": "code",
   "execution_count": null,
   "metadata": {},
   "outputs": [],
   "source": []
  }
 ],
 "metadata": {
  "kernelspec": {
   "display_name": "Python 3",
   "language": "python",
   "name": "python3"
  },
  "language_info": {
   "codemirror_mode": {
    "name": "ipython",
    "version": 3
   },
   "file_extension": ".py",
   "mimetype": "text/x-python",
   "name": "python",
   "nbconvert_exporter": "python",
   "pygments_lexer": "ipython3",
   "version": "3.8.10"
  }
 },
 "nbformat": 4,
 "nbformat_minor": 4
}
